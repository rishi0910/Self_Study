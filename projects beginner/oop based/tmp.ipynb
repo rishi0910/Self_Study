{
 "cells": [
  {
   "cell_type": "code",
   "execution_count": 15,
   "metadata": {},
   "outputs": [
    {
     "ename": "TypeError",
     "evalue": "Xyz.Add() takes 3 positional arguments but 4 were given",
     "output_type": "error",
     "traceback": [
      "\u001b[0;31m---------------------------------------------------------------------------\u001b[0m",
      "\u001b[0;31mTypeError\u001b[0m                                 Traceback (most recent call last)",
      "Cell \u001b[0;32mIn[15], line 13\u001b[0m\n\u001b[1;32m     11\u001b[0m         \u001b[38;5;28;01mreturn\u001b[39;00m a \u001b[38;5;241m+\u001b[39m b\n\u001b[1;32m     12\u001b[0m obj \u001b[38;5;241m=\u001b[39m Xyz()\n\u001b[0;32m---> 13\u001b[0m out \u001b[38;5;241m=\u001b[39m obj\u001b[38;5;241m.\u001b[39mAdd(\u001b[38;5;241m3\u001b[39m, \u001b[38;5;241m5\u001b[39m, \u001b[38;5;241m4\u001b[39m)\n\u001b[1;32m     14\u001b[0m \u001b[38;5;28mprint\u001b[39m(out)\n",
      "\u001b[0;31mTypeError\u001b[0m: Xyz.Add() takes 3 positional arguments but 4 were given"
     ]
    }
   ],
   "source": [
    "# polymorphism \n",
    "class Abc:\n",
    "    def Add(self, a, b, c=0):\n",
    "        return a + b + c\n",
    "    def sub(self, a, b):\n",
    "        return a - b\n",
    "    def __add__(self, other):\n",
    "        return 'this is addition'\n",
    "class Xyz(Abc):\n",
    "    def Add(self, a, b):\n",
    "        return a + b\n",
    "obj = Xyz()\n",
    "out = obj.Add(3, 5, 4)\n",
    "print(out)"
   ]
  },
  {
   "cell_type": "code",
   "execution_count": 11,
   "metadata": {},
   "outputs": [
    {
     "data": {
      "text/plain": [
       "'this is addition'"
      ]
     },
     "execution_count": 11,
     "metadata": {},
     "output_type": "execute_result"
    }
   ],
   "source": []
  },
  {
   "cell_type": "code",
   "execution_count": null,
   "metadata": {},
   "outputs": [],
   "source": [
    "\n",
    "4 $ 5\n",
    "\n",
    "len('hello')"
   ]
  },
  {
   "cell_type": "code",
   "execution_count": 28,
   "metadata": {},
   "outputs": [
    {
     "name": "stdout",
     "output_type": "stream",
     "text": [
      "Addition of 2 and 4 is 6\n",
      "1\n"
     ]
    }
   ],
   "source": [
    "from abc import ABC, abstractmethod\n",
    "class Sample(ABC):\n",
    "    @abstractmethod\n",
    "    def add(self, a, b):\n",
    "        return a + b\n",
    "\n",
    "    def sub(self, a, b):\n",
    "        return a - b\n",
    "\n",
    "class Test(Sample):\n",
    "    def add(self, a, b):\n",
    "        return f'Addition of {a} and {b} is {a+b}'\n",
    "    def sub(self, a, b):\n",
    "        return super().sub(a, b)\n",
    "obj = Test()\n",
    "print(obj.add(2, 4))\n",
    "print(obj.sub(4, 3))\n",
    "\n"
   ]
  },
  {
   "cell_type": "code",
   "execution_count": 10,
   "metadata": {},
   "outputs": [
    {
     "name": "stdout",
     "output_type": "stream",
     "text": [
      "Addition of 2 and 4 is 6\n",
      "1\n"
     ]
    }
   ],
   "source": [
    "from abc import ABC, abstractmethod\n",
    "class Test(ABC):\n",
    "    @abstractmethod\n",
    "    def add(self, a, b):\n",
    "        return a + b\n",
    "    @abstractmethod\n",
    "    def sub(self, a, b):\n",
    "        return a - b\n",
    "\n",
    "class Sample(Test):\n",
    "    def add(self, a, b):\n",
    "        return f'Addition of {a} and {b} is {a + b}'\n",
    "    def sub(self, a, b):\n",
    "        return super().sub(a, b)\n",
    "obj = Sample()\n",
    "print(obj.add(2, 4))\n",
    "print(obj.sub(4, 3))\n"
   ]
  },
  {
   "cell_type": "code",
   "execution_count": 23,
   "metadata": {},
   "outputs": [
    {
     "name": "stdout",
     "output_type": "stream",
     "text": [
      "this is addition\n"
     ]
    }
   ],
   "source": [
    "# polymorphism \n",
    "# compile-time polymorphism \n",
    "# 1. Method Overloading   2. Operator Overloading \n",
    "\n",
    "\n",
    "class Abc:    \n",
    "    def add(self, *c):\n",
    "        return sum(c)\n",
    "    def __add__(self, other):\n",
    "        return 'this is addition'\n",
    "\n",
    "obj1 = Abc()\n",
    "obj2 = Abc()\n",
    "\n",
    "print(obj1 > obj2)\n"
   ]
  },
  {
   "cell_type": "code",
   "execution_count": 26,
   "metadata": {},
   "outputs": [
    {
     "name": "stdout",
     "output_type": "stream",
     "text": [
      "Addition of 3 and 5 is 8\n"
     ]
    }
   ],
   "source": [
    "# run time ploymorphism \n",
    "# 1. method overriding \n",
    "\n",
    "class abc:\n",
    "    def add(self, a, b):\n",
    "        return a + b\n",
    "    def sub(self, a, b):\n",
    "        return a - b\n",
    "    \n",
    "class xyz(abc, hyu):\n",
    "    def add(self, a, b):\n",
    "        return f'Addition of {a} and {b} is {a + b}'\n",
    "    def div(self, a, b):\n",
    "        return a / b\n",
    "    \n",
    "obj = xyz()\n",
    "print(obj.add(3, 5))"
   ]
  },
  {
   "cell_type": "code",
   "execution_count": 20,
   "metadata": {},
   "outputs": [
    {
     "data": {
      "text/plain": [
       "0.6666666666666666"
      ]
     },
     "execution_count": 20,
     "metadata": {},
     "output_type": "execute_result"
    }
   ],
   "source": [
    "2 / 3"
   ]
  },
  {
   "cell_type": "code",
   "execution_count": 3,
   "metadata": {},
   "outputs": [
    {
     "name": "stdout",
     "output_type": "stream",
     "text": [
      "['hello']\n"
     ]
    }
   ],
   "source": [
    "# polymorphism \n",
    "\n",
    "'''\n",
    "1. compilr time polymorphism : method overloading and operator overloading \n",
    "2. Run time Ploymorphism: method overriding \n",
    "'''\n"
   ]
  },
  {
   "cell_type": "code",
   "execution_count": 14,
   "metadata": {},
   "outputs": [
    {
     "name": "stdout",
     "output_type": "stream",
     "text": [
      "Addition of 2 and 4 is 6\n"
     ]
    }
   ],
   "source": [
    "class Test:\n",
    "    def add(self, *vrh):\n",
    "        return sum(vrh)\n",
    "    \n",
    "    def __add__(self, other):\n",
    "        return 'this is addition'\n",
    "class Sample(Test, list):\n",
    "    def sub(self, a, b):\n",
    "        return a - b\n",
    "    def add(self, a, b):\n",
    "        super().add(a, b)\n",
    "        return f'Addition of {a} and {b} is {a+b}'\n",
    "obj = Sample()\n",
    "print(obj.add(2, 4))  \n"
   ]
  },
  {
   "cell_type": "code",
   "execution_count": 25,
   "metadata": {},
   "outputs": [
    {
     "name": "stdout",
     "output_type": "stream",
     "text": [
      "0.6\n"
     ]
    }
   ],
   "source": [
    "from abc import ABC, abstractmethod\n",
    "class Sample(ABC):\n",
    "    @abstractmethod\n",
    "    def sub(self, a, b):\n",
    "        return a - b\n",
    "    @abstractmethod\n",
    "    def add(self, a, b):\n",
    "        return f'Addition of {a} and {b} is {a+b}'\n",
    "    \n",
    "class hdfc(Sample):\n",
    "    def sub(self, a, b):\n",
    "        pass\n",
    "    def add(self, a, b):\n",
    "        return super().add(a, b)\n",
    "    @staticmethod\n",
    "    def div(s):\n",
    "        return a / b\n",
    "obj = hdfc()\n",
    "print(obj.div(3, 5))"
   ]
  },
  {
   "cell_type": "code",
   "execution_count": null,
   "metadata": {},
   "outputs": [],
   "source": []
  },
  {
   "cell_type": "code",
   "execution_count": 11,
   "metadata": {},
   "outputs": [
    {
     "data": {
      "text/plain": [
       "'this is addition'"
      ]
     },
     "execution_count": 11,
     "metadata": {},
     "output_type": "execute_result"
    }
   ],
   "source": [
    "\n",
    "\n",
    "\n"
   ]
  }
 ],
 "metadata": {
  "kernelspec": {
   "display_name": "base",
   "language": "python",
   "name": "python3"
  },
  "language_info": {
   "codemirror_mode": {
    "name": "ipython",
    "version": 3
   },
   "file_extension": ".py",
   "mimetype": "text/x-python",
   "name": "python",
   "nbconvert_exporter": "python",
   "pygments_lexer": "ipython3",
   "version": "3.11.5"
  }
 },
 "nbformat": 4,
 "nbformat_minor": 2
}
