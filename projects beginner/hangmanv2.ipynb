{
 "cells": [
  {
   "cell_type": "code",
   "execution_count": 3,
   "metadata": {},
   "outputs": [
    {
     "name": "stdout",
     "output_type": "stream",
     "text": [
      "Welcome to hangman game\n",
      "_ _ t h _ n\n",
      "guess the missing letters (attempts left 5) \n",
      "guess the missing letters (attempts left 4) \n",
      "p _ t h _ n\n",
      "guess the missing letters (attempts left 4) \n",
      "p _ t h o n\n",
      "guess the missing letters (attempts left 4) \n",
      "p _ t h o n\n",
      "guess the missing letters (attempts left 4) \n",
      "p y t h o n\n",
      "You Won\n"
     ]
    }
   ],
   "source": [
    "# hangman \n",
    "word = 'python'\n",
    "target = '_ _ t h _ n'\n",
    "print('Welcome to hangman game')\n",
    "print(target)\n",
    "p = False\n",
    "y = False\n",
    "o = False\n",
    "att = 5\n",
    "while att > 0:\n",
    "\n",
    "    print(f'guess the missing letters (attempts left {att}) ')\n",
    "    guess = input()\n",
    "    if guess == 'p':\n",
    "        p = True\n",
    "    elif guess == 'y':\n",
    "        y = True\n",
    "    elif guess == 'o':\n",
    "        o = True\n",
    "    else:\n",
    "        att -= 1\n",
    "    if y and o and p:\n",
    "        print('p y t h o n')\n",
    "        print('You Won')\n",
    "        break\n",
    "    elif y and o:\n",
    "        print('_ y t h o n')\n",
    "    elif y and p:\n",
    "        print('p y t h _ n')\n",
    "    elif p and o:\n",
    "        print('p _ t h o n')\n",
    "\n",
    "    elif p:\n",
    "        print('p _ t h _ n')\n",
    "    elif y:\n",
    "        print('_ y t h _ n')\n",
    "    elif o:\n",
    "        print('_ _ t h o n')    \n",
    "else:\n",
    "    print('You lost')\n",
    "    print('Good bye')\n"
   ]
  },
  {
   "cell_type": "code",
   "execution_count": null,
   "metadata": {},
   "outputs": [],
   "source": [
    "\"\"\"\n",
    "1. function: udf and built-in\n",
    "2. modules : math, random, numpy, time...\n",
    "3. file handling\n",
    "4. exceptional Handling \n",
    "5. regex\n",
    "\n",
    "\n",
    "\"\"\""
   ]
  }
 ],
 "metadata": {
  "interpreter": {
   "hash": "ac63e7d2902d829a95718f514f583b39cb52f10e7c5524becb094a341f2ea3ca"
  },
  "kernelspec": {
   "display_name": "Python 3.10.0 64-bit (windows store)",
   "language": "python",
   "name": "python3"
  },
  "language_info": {
   "codemirror_mode": {
    "name": "ipython",
    "version": 3
   },
   "file_extension": ".py",
   "mimetype": "text/x-python",
   "name": "python",
   "nbconvert_exporter": "python",
   "pygments_lexer": "ipython3",
   "version": "3.10.0"
  },
  "orig_nbformat": 4
 },
 "nbformat": 4,
 "nbformat_minor": 2
}
