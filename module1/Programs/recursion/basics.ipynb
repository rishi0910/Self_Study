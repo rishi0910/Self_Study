{
 "cells": [
  {
   "cell_type": "code",
   "execution_count": null,
   "metadata": {},
   "outputs": [],
   "source": [
    "# recusion\n",
    "'''To start recursion in a Java program, you typically define a method that calls itself within its own body, \n",
    "usually to solve a smaller or simpler instance of the problem until a base case is reached. \n",
    "Here's a basic outline of how you can start recursion: \n",
    "\n",
    "Define a Recursive Method: Create a method that calls itself within its body. \n",
    "\n",
    "Identify Base Case(s): Define the stopping condition(s) for the recursion to prevent infinite recursion. \n",
    "\n",
    "Invoke the Method: Call the recursive method with appropriate arguments to start the recursion process. \n",
    "\n",
    "Here's a simple example of a recursive function'''"
   ]
  },
  {
   "cell_type": "code",
   "execution_count": 1,
   "metadata": {},
   "outputs": [
    {
     "ename": "TypeError",
     "evalue": "sequence item 0: expected str instance, int found",
     "output_type": "error",
     "traceback": [
      "\u001b[0;31m---------------------------------------------------------------------------\u001b[0m",
      "\u001b[0;31mTypeError\u001b[0m                                 Traceback (most recent call last)",
      "Cell \u001b[0;32mIn[1], line 17\u001b[0m\n\u001b[1;32m     15\u001b[0m \u001b[38;5;66;03m# Test the function\u001b[39;00m\n\u001b[1;32m     16\u001b[0m n \u001b[38;5;241m=\u001b[39m \u001b[38;5;241m1234\u001b[39m\n\u001b[0;32m---> 17\u001b[0m \u001b[38;5;28mprint\u001b[39m(\u001b[43mcount_steps_to_magical_key\u001b[49m\u001b[43m(\u001b[49m\u001b[43mn\u001b[49m\u001b[43m)\u001b[49m)  \u001b[38;5;66;03m# Output: 3\u001b[39;00m\n",
      "Cell \u001b[0;32mIn[1], line 8\u001b[0m, in \u001b[0;36mcount_steps_to_magical_key\u001b[0;34m(n)\u001b[0m\n\u001b[1;32m      6\u001b[0m \u001b[38;5;28;01mwhile\u001b[39;00m n \u001b[38;5;241m!=\u001b[39m \u001b[38;5;241m6174\u001b[39m:\n\u001b[1;32m      7\u001b[0m     digits \u001b[38;5;241m=\u001b[39m [\u001b[38;5;28mint\u001b[39m(x) \u001b[38;5;28;01mfor\u001b[39;00m x \u001b[38;5;129;01min\u001b[39;00m \u001b[38;5;28mstr\u001b[39m(n)]\n\u001b[0;32m----> 8\u001b[0m     ascending \u001b[38;5;241m=\u001b[39m \u001b[38;5;28mint\u001b[39m(\u001b[38;5;124;43m'\u001b[39;49m\u001b[38;5;124;43m'\u001b[39;49m\u001b[38;5;241;43m.\u001b[39;49m\u001b[43mjoin\u001b[49m\u001b[43m(\u001b[49m\u001b[38;5;28;43msorted\u001b[39;49m\u001b[43m(\u001b[49m\u001b[43mdigits\u001b[49m\u001b[43m)\u001b[49m\u001b[43m)\u001b[49m)\n\u001b[1;32m      9\u001b[0m     descending \u001b[38;5;241m=\u001b[39m \u001b[38;5;28mint\u001b[39m(\u001b[38;5;124m'\u001b[39m\u001b[38;5;124m'\u001b[39m\u001b[38;5;241m.\u001b[39mjoin(\u001b[38;5;28msorted\u001b[39m(digits, reverse\u001b[38;5;241m=\u001b[39m\u001b[38;5;28;01mTrue\u001b[39;00m)))\n\u001b[1;32m     10\u001b[0m     n \u001b[38;5;241m=\u001b[39m descending \u001b[38;5;241m-\u001b[39m ascending\n",
      "\u001b[0;31mTypeError\u001b[0m: sequence item 0: expected str instance, int found"
     ]
    }
   ],
   "source": [
    "def count_steps_to_magical_key(n):\n",
    "    if len(set(str(n))) == 1:\n",
    "        return 0\n",
    "    \n",
    "    steps = 0\n",
    "    while n != 6174:\n",
    "        digits = [int(x) for x in str(n)]\n",
    "        ascending = int(''.join(sorted(digits)))\n",
    "        descending = int(''.join(sorted(digits, reverse=True)))\n",
    "        n = descending - ascending\n",
    "        steps += 1\n",
    "    \n",
    "    return steps\n",
    "\n",
    "# Test the function\n",
    "n = 1234\n",
    "print(count_steps_to_magical_key(n))  # Output: 3\n"
   ]
  }
 ],
 "metadata": {
  "kernelspec": {
   "display_name": "Python 3",
   "language": "python",
   "name": "python3"
  },
  "language_info": {
   "codemirror_mode": {
    "name": "ipython",
    "version": 3
   },
   "file_extension": ".py",
   "mimetype": "text/x-python",
   "name": "python",
   "nbconvert_exporter": "python",
   "pygments_lexer": "ipython3",
   "version": "3.12.1"
  }
 },
 "nbformat": 4,
 "nbformat_minor": 2
}
