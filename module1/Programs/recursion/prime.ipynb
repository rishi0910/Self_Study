{
 "cells": [
  {
   "cell_type": "code",
   "execution_count": null,
   "metadata": {},
   "outputs": [],
   "source": [
    "# check weather given number is prime or not (recursion)"
   ]
  },
  {
   "cell_type": "code",
   "execution_count": 12,
   "metadata": {},
   "outputs": [
    {
     "name": "stdout",
     "output_type": "stream",
     "text": [
      "False\n"
     ]
    }
   ],
   "source": [
    "def isprime(num, i=2):\n",
    "    if num < 2:\n",
    "        return False\n",
    "    elif num == 2:\n",
    "        return True\n",
    "    elif num % i == 0:\n",
    "        return False\n",
    "    elif i * i > num:\n",
    "        return True\n",
    "    else: return isprime(num, i+1)\n",
    "\n",
    "number = 18\n",
    "out = isprime(number)\n",
    "print(out)"
   ]
  },
  {
   "cell_type": "code",
   "execution_count": 26,
   "metadata": {},
   "outputs": [
    {
     "name": "stdout",
     "output_type": "stream",
     "text": [
      "Display from B\n",
      "Display from A\n",
      "Display from X\n",
      "[<class '__main__.C'>, <class '__main__.B'>, <class '__main__.A'>, <class '__main__.X'>, <class 'object'>]\n"
     ]
    }
   ],
   "source": [
    "# MRO\n",
    "class X:\n",
    "    def disp(self):\n",
    "        print('Display from X')\n",
    "class A(X):\n",
    "    def disp(self):\n",
    "        print('Display from A')\n",
    "        super().disp()\n",
    "        \n",
    "class B(X):\n",
    "    def disp(self):\n",
    "        print('Display from B')\n",
    "        super().disp()\n",
    "\n",
    "class C(B, A):\n",
    "    pass\n",
    "\n",
    "c_ob = C()\n",
    "c_ob.disp()\n",
    "print(C.mro())"
   ]
  }
 ],
 "metadata": {
  "kernelspec": {
   "display_name": "Python 3",
   "language": "python",
   "name": "python3"
  },
  "language_info": {
   "codemirror_mode": {
    "name": "ipython",
    "version": 3
   },
   "file_extension": ".py",
   "mimetype": "text/x-python",
   "name": "python",
   "nbconvert_exporter": "python",
   "pygments_lexer": "ipython3",
   "version": "3.12.1"
  }
 },
 "nbformat": 4,
 "nbformat_minor": 2
}
