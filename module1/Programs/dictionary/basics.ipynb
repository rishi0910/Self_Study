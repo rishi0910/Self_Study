{
 "cells": [
  {
   "cell_type": "code",
   "execution_count": 6,
   "metadata": {},
   "outputs": [
    {
     "name": "stdout",
     "output_type": "stream",
     "text": [
      "{'name': 'abhay', 'rolln': 34, 'contact': '0958485475', 'cpi': 8.5, 'college': 'gla university'}\n"
     ]
    }
   ],
   "source": [
    "# dictionary in Python \n",
    "info = {'name':'abhay', 'rolln':34, 'contact':'0958485475', \n",
    "        'cpi':8.5, 'college':'gla university'}\n",
    "print(info)\n"
   ]
  },
  {
   "cell_type": "code",
   "execution_count": 10,
   "metadata": {},
   "outputs": [
    {
     "data": {
      "text/plain": [
       "34"
      ]
     },
     "execution_count": 10,
     "metadata": {},
     "output_type": "execute_result"
    }
   ],
   "source": [
    "info['rolln']"
   ]
  },
  {
   "cell_type": "code",
   "execution_count": 12,
   "metadata": {},
   "outputs": [
    {
     "name": "stdout",
     "output_type": "stream",
     "text": [
      "{} <class 'dict'>\n"
     ]
    }
   ],
   "source": [
    "# initialization of dict object\n",
    "dct = {}  # dictionary format\n",
    "# dct = dict()  # dict function call (class constructor)\n",
    "print(dct, type(dct))"
   ]
  },
  {
   "cell_type": "code",
   "execution_count": 30,
   "metadata": {},
   "outputs": [
    {
     "name": "stdout",
     "output_type": "stream",
     "text": [
      "{1: 'one', 2: 'two', 3: 'three', 4: 'ONE'}\n"
     ]
    }
   ],
   "source": [
    "dct = {1: 'one', 2: 'two', 3:'three', 4:'four', 4:'ONE'}\n",
    "data = dct\n",
    "print(data)"
   ]
  },
  {
   "cell_type": "code",
   "execution_count": 34,
   "metadata": {},
   "outputs": [
    {
     "name": "stdout",
     "output_type": "stream",
     "text": [
      "{'name': 'atul', 'section': 'CA', 'college': 'GLA University'}\n"
     ]
    }
   ],
   "source": [
    "# mutability check \n",
    "# item assignment \n",
    "dct = {'name': 'atul', 'section': 'CA'}\n",
    "dct['college'] = 'GLA University'\n",
    "print(dct)"
   ]
  },
  {
   "cell_type": "code",
   "execution_count": 33,
   "metadata": {},
   "outputs": [
    {
     "name": "stdout",
     "output_type": "stream",
     "text": [
      "{'section': 'CA'}\n"
     ]
    }
   ],
   "source": [
    "# item deletion\n",
    "dct = {'name': 'atul', 'section': 'CA'}\n",
    "del dct['name']\n",
    "print(dct)"
   ]
  },
  {
   "cell_type": "code",
   "execution_count": 28,
   "metadata": {},
   "outputs": [
    {
     "name": "stdout",
     "output_type": "stream",
     "text": [
      "True\n"
     ]
    }
   ],
   "source": [
    "a = [23, 5, 6]\n",
    "b = [23, 5, 6]\n",
    "print(a == b)"
   ]
  },
  {
   "cell_type": "code",
   "execution_count": null,
   "metadata": {},
   "outputs": [],
   "source": [
    "# access the elements (values) from dict object\n",
    "info = {'name':'abhay', 'rolln':34, 'contact':'0958485475', \n",
    "        'cpi':8.5, 'college':'gla university'}\n",
    "print(info)"
   ]
  },
  {
   "cell_type": "code",
   "execution_count": 40,
   "metadata": {},
   "outputs": [],
   "source": [
    "info = {'name':'manish', 'rolln':23, 'section':'CB', 'college':'GLA University', 'subject':'Python'}"
   ]
  },
  {
   "cell_type": "code",
   "execution_count": 44,
   "metadata": {},
   "outputs": [
    {
     "data": {
      "text/plain": [
       "'CB'"
      ]
     },
     "execution_count": 44,
     "metadata": {},
     "output_type": "execute_result"
    }
   ],
   "source": [
    "info['section']"
   ]
  },
  {
   "cell_type": "code",
   "execution_count": 47,
   "metadata": {},
   "outputs": [
    {
     "name": "stdout",
     "output_type": "stream",
     "text": [
      "{} <class 'dict'>\n"
     ]
    }
   ],
   "source": [
    "# dictionary initialization\n",
    "dct = {}  # dict format\n",
    "# dct = dict()  # dictionary function (class constructor)\n",
    "print(dct, type(dct))"
   ]
  },
  {
   "cell_type": "code",
   "execution_count": 51,
   "metadata": {},
   "outputs": [
    {
     "name": "stdout",
     "output_type": "stream",
     "text": [
      "23\n"
     ]
    }
   ],
   "source": [
    "# how to access the value or info\n",
    "info = {'name':'manish', 'rolln':23, 'section':'CB', 'college':'GLA University', 'subject':'Python'}\n",
    "out = info['rolln']\n",
    "print(out)"
   ]
  },
  {
   "cell_type": "code",
   "execution_count": 53,
   "metadata": {},
   "outputs": [
    {
     "name": "stdout",
     "output_type": "stream",
     "text": [
      "{'name': 'Ravi', 'section': 'CB', 'rolln': 23}\n"
     ]
    }
   ],
   "source": [
    "# mutablity check \n",
    "# item assignment\n",
    "info = {'name':'Rajiv', 'section': 'CB'}\n",
    "info['name'] = 'Ravi'\n",
    "info['rolln'] = 23\n",
    "print(info)"
   ]
  },
  {
   "cell_type": "code",
   "execution_count": 55,
   "metadata": {},
   "outputs": [
    {
     "name": "stdout",
     "output_type": "stream",
     "text": [
      "{'rolln': 23, 'college': 'GLA University', 'subject': 'Python'}\n"
     ]
    }
   ],
   "source": [
    "# item deletion\n",
    "info = {'name':'manish', 'rolln':23, 'section':'CB', 'college':'GLA University', 'subject':'Python'}\n",
    "del info['name'], info['section']\n",
    "print(info)"
   ]
  },
  {
   "cell_type": "code",
   "execution_count": 56,
   "metadata": {},
   "outputs": [
    {
     "name": "stdout",
     "output_type": "stream",
     "text": [
      "{'name': 'Rajiv', 'rolln': 23, 'section': 'CB', 'college': 'GLA University', 'subject': 'Python'}\n"
     ]
    }
   ],
   "source": [
    "# keys properties \n",
    "info = {'name':'manish', \n",
    "        'rolln':23, \n",
    "        'section':'CB', \n",
    "        'college':'GLA University', \n",
    "        'subject':'Python',\n",
    "        'name': 'Rajiv'}\n",
    "print(info)\n"
   ]
  },
  {
   "cell_type": "code",
   "execution_count": 75,
   "metadata": {},
   "outputs": [
    {
     "name": "stdout",
     "output_type": "stream",
     "text": [
      "ONE\n"
     ]
    }
   ],
   "source": [
    "dct = {1: 'one', 2: 'two', 3:'three', 4:'four', 1.0: 'ONE'}\n",
    "print(dct[1])"
   ]
  },
  {
   "cell_type": "code",
   "execution_count": 96,
   "metadata": {},
   "outputs": [
    {
     "name": "stdout",
     "output_type": "stream",
     "text": [
      "list\n"
     ]
    }
   ],
   "source": [
    "dct = {1: 'one', 'two': 2, (23, 4): 'list'}\n",
    "print(dct[23, 4])"
   ]
  },
  {
   "cell_type": "code",
   "execution_count": 89,
   "metadata": {},
   "outputs": [
    {
     "name": "stdout",
     "output_type": "stream",
     "text": [
      "True\n"
     ]
    }
   ],
   "source": [
    "a = 'hello'\n",
    "b = 'hello'\n",
    "print(a is b)\n"
   ]
  },
  {
   "cell_type": "code",
   "execution_count": 102,
   "metadata": {},
   "outputs": [
    {
     "data": {
      "text/plain": [
       "False"
      ]
     },
     "execution_count": 102,
     "metadata": {},
     "output_type": "execute_result"
    }
   ],
   "source": [
    "a = (1,)\n",
    "b = (1,)\n",
    "a is b"
   ]
  },
  {
   "cell_type": "code",
   "execution_count": 109,
   "metadata": {},
   "outputs": [],
   "source": [
    "# dictionary in Python \n",
    "info = {'name':'Sameer', 'rolln':34, 'section':'CF', 'collegr': 'GLA University', 'subject': ['Math', 'English', 'Python']}\n"
   ]
  },
  {
   "cell_type": "code",
   "execution_count": 112,
   "metadata": {},
   "outputs": [
    {
     "name": "stdout",
     "output_type": "stream",
     "text": [
      "34\n"
     ]
    }
   ],
   "source": [
    "out = info['rolln']\n",
    "print(out)"
   ]
  },
  {
   "cell_type": "code",
   "execution_count": 115,
   "metadata": {},
   "outputs": [
    {
     "name": "stdout",
     "output_type": "stream",
     "text": [
      "{} <class 'dict'>\n"
     ]
    }
   ],
   "source": [
    "# dictionary initialization\n",
    "dct = {}  # dict format\n",
    "# dct = dict()  # dict function\n",
    "print(dct, type(dct))"
   ]
  },
  {
   "cell_type": "code",
   "execution_count": 117,
   "metadata": {},
   "outputs": [
    {
     "ename": "KeyError",
     "evalue": "'mobile'",
     "output_type": "error",
     "traceback": [
      "\u001b[1;31m---------------------------------------------------------------------------\u001b[0m",
      "\u001b[1;31mKeyError\u001b[0m                                  Traceback (most recent call last)",
      "\u001b[1;32mc:\\Users\\GLA\\Desktop\\Python\\Batch2023-24\\Programs\\dictionary\\basics.ipynb Cell 23\u001b[0m line \u001b[0;36m7\n\u001b[0;32m      <a href='vscode-notebook-cell:/c%3A/Users/GLA/Desktop/Python/Batch2023-24/Programs/dictionary/basics.ipynb#X31sZmlsZQ%3D%3D?line=0'>1</a>\u001b[0m \u001b[39m# access the values or elements in dict\u001b[39;00m\n\u001b[0;32m      <a href='vscode-notebook-cell:/c%3A/Users/GLA/Desktop/Python/Batch2023-24/Programs/dictionary/basics.ipynb#X31sZmlsZQ%3D%3D?line=1'>2</a>\u001b[0m info \u001b[39m=\u001b[39m {\u001b[39m'\u001b[39m\u001b[39mname\u001b[39m\u001b[39m'\u001b[39m:\u001b[39m'\u001b[39m\u001b[39mSameer\u001b[39m\u001b[39m'\u001b[39m, \n\u001b[0;32m      <a href='vscode-notebook-cell:/c%3A/Users/GLA/Desktop/Python/Batch2023-24/Programs/dictionary/basics.ipynb#X31sZmlsZQ%3D%3D?line=2'>3</a>\u001b[0m         \u001b[39m'\u001b[39m\u001b[39mrolln\u001b[39m\u001b[39m'\u001b[39m:\u001b[39m34\u001b[39m, \n\u001b[0;32m      <a href='vscode-notebook-cell:/c%3A/Users/GLA/Desktop/Python/Batch2023-24/Programs/dictionary/basics.ipynb#X31sZmlsZQ%3D%3D?line=3'>4</a>\u001b[0m         \u001b[39m'\u001b[39m\u001b[39msection\u001b[39m\u001b[39m'\u001b[39m:\u001b[39m'\u001b[39m\u001b[39mCF\u001b[39m\u001b[39m'\u001b[39m, \n\u001b[0;32m      <a href='vscode-notebook-cell:/c%3A/Users/GLA/Desktop/Python/Batch2023-24/Programs/dictionary/basics.ipynb#X31sZmlsZQ%3D%3D?line=4'>5</a>\u001b[0m         \u001b[39m'\u001b[39m\u001b[39mcollegr\u001b[39m\u001b[39m'\u001b[39m: \u001b[39m'\u001b[39m\u001b[39mGLA University\u001b[39m\u001b[39m'\u001b[39m, \n\u001b[0;32m      <a href='vscode-notebook-cell:/c%3A/Users/GLA/Desktop/Python/Batch2023-24/Programs/dictionary/basics.ipynb#X31sZmlsZQ%3D%3D?line=5'>6</a>\u001b[0m         \u001b[39m'\u001b[39m\u001b[39msubject\u001b[39m\u001b[39m'\u001b[39m: [\u001b[39m'\u001b[39m\u001b[39mMath\u001b[39m\u001b[39m'\u001b[39m, \u001b[39m'\u001b[39m\u001b[39mEnglish\u001b[39m\u001b[39m'\u001b[39m, \u001b[39m'\u001b[39m\u001b[39mPython\u001b[39m\u001b[39m'\u001b[39m]}\n\u001b[1;32m----> <a href='vscode-notebook-cell:/c%3A/Users/GLA/Desktop/Python/Batch2023-24/Programs/dictionary/basics.ipynb#X31sZmlsZQ%3D%3D?line=6'>7</a>\u001b[0m data \u001b[39m=\u001b[39m info[\u001b[39m'\u001b[39;49m\u001b[39mmobile\u001b[39;49m\u001b[39m'\u001b[39;49m]\n\u001b[0;32m      <a href='vscode-notebook-cell:/c%3A/Users/GLA/Desktop/Python/Batch2023-24/Programs/dictionary/basics.ipynb#X31sZmlsZQ%3D%3D?line=7'>8</a>\u001b[0m \u001b[39mprint\u001b[39m(data)\n",
      "\u001b[1;31mKeyError\u001b[0m: 'mobile'"
     ]
    }
   ],
   "source": [
    "# access the values or elements in dict\n",
    "info = {'name':'Sameer', \n",
    "        'rolln':34, \n",
    "        'section':'CF', \n",
    "        'collegr': 'GLA University', \n",
    "        'subject': ['Math', 'English', 'Python']}\n",
    "data = info['mobile']\n",
    "print(data)\n"
   ]
  },
  {
   "cell_type": "code",
   "execution_count": 124,
   "metadata": {},
   "outputs": [
    {
     "name": "stdout",
     "output_type": "stream",
     "text": [
      "{1: 'ONE', 2: 'two', 3: 'three', 4: 'four', 5: 'FIVE'}\n"
     ]
    }
   ],
   "source": [
    "# mutability check\n",
    "# 1. item assignment \n",
    "dct = {1: 'one', 2: 'two', 3: 'three', 4: 'four'}\n",
    "dct[1] = 'ONE'\n",
    "dct[5] = 'FIVE'\n",
    "print(dct)"
   ]
  },
  {
   "cell_type": "code",
   "execution_count": 126,
   "metadata": {},
   "outputs": [
    {
     "name": "stdout",
     "output_type": "stream",
     "text": [
      "{'rolln': 34, 'collegr': 'GLA University', 'subject': ['Math', 'English', 'Python']}\n"
     ]
    }
   ],
   "source": [
    "# item deletion\n",
    "info = {'name':'Sameer', 'rolln':34, 'section':'CF', 'college': 'GLA University', 'subject': ['Math', 'English', 'Python']}\n",
    "del info['name'], info['section']\n",
    "print(info)"
   ]
  },
  {
   "cell_type": "code",
   "execution_count": 144,
   "metadata": {},
   "outputs": [
    {
     "name": "stdout",
     "output_type": "stream",
     "text": [
      "{1.0: 'ONE', 2: 'two', 'other': 'TWO'}\n"
     ]
    }
   ],
   "source": [
    "# keys are unique and immutable \n",
    "dct = {1.0: 'one', 2: 'two', 1:'ONE', 'other': 'TWO'}\n",
    "print(dct)\n"
   ]
  },
  {
   "cell_type": "code",
   "execution_count": 148,
   "metadata": {},
   "outputs": [
    {
     "name": "stdout",
     "output_type": "stream",
     "text": [
      "{'name': 'Ravi', 2: 'two', (34, 2): 'list'}\n"
     ]
    }
   ],
   "source": [
    "# why keys are immutable \n",
    "dct = {'name': 'Ravi', 2: 'two', (34, 2): 'list'}\n",
    "print(dct)"
   ]
  },
  {
   "cell_type": "code",
   "execution_count": 137,
   "metadata": {},
   "outputs": [
    {
     "data": {
      "text/plain": [
       "True"
      ]
     },
     "execution_count": 137,
     "metadata": {},
     "output_type": "execute_result"
    }
   ],
   "source": [
    "a = [23, 5]\n",
    "b = a.copy()\n",
    "a == b"
   ]
  },
  {
   "cell_type": "code",
   "execution_count": 10,
   "metadata": {},
   "outputs": [
    {
     "name": "stdout",
     "output_type": "stream",
     "text": [
      "{'name': 'alok', 'rolln': 23, 'section': 'CD', 'college': 'GLA University', 'marks': [20, 40, 50, 70]} <class 'dict'>\n"
     ]
    }
   ],
   "source": [
    "info = {'name':'alok', \n",
    "        'rolln':23, \n",
    "        'section':'CD', \n",
    "        'college':'GLA University', \n",
    "        'marks':[20, 40, 50, 70]}\n",
    "print(info, type(info))"
   ]
  },
  {
   "cell_type": "code",
   "execution_count": 13,
   "metadata": {},
   "outputs": [
    {
     "name": "stdout",
     "output_type": "stream",
     "text": [
      "{} <class 'dict'>\n"
     ]
    }
   ],
   "source": [
    "# dct = {}\n",
    "dct = dict()  # class constructor\n",
    "print(dct, type(dct))"
   ]
  },
  {
   "cell_type": "code",
   "execution_count": null,
   "metadata": {},
   "outputs": [],
   "source": []
  },
  {
   "cell_type": "code",
   "execution_count": 9,
   "metadata": {},
   "outputs": [
    {
     "name": "stdout",
     "output_type": "stream",
     "text": [
      "GLA University\n"
     ]
    }
   ],
   "source": [
    "out = info['college']\n",
    "print(out)"
   ]
  },
  {
   "cell_type": "code",
   "execution_count": 16,
   "metadata": {},
   "outputs": [
    {
     "ename": "KeyError",
     "evalue": "4",
     "output_type": "error",
     "traceback": [
      "\u001b[1;31m---------------------------------------------------------------------------\u001b[0m",
      "\u001b[1;31mKeyError\u001b[0m                                  Traceback (most recent call last)",
      "\u001b[1;32mc:\\Users\\GLA\\Desktop\\Python\\Batch2023-24\\Programs\\dictionary\\basics.ipynb Cell 33\u001b[0m line \u001b[0;36m3\n\u001b[0;32m      <a href='vscode-notebook-cell:/c%3A/Users/GLA/Desktop/Python/Batch2023-24/Programs/dictionary/basics.ipynb#X42sZmlsZQ%3D%3D?line=0'>1</a>\u001b[0m \u001b[39m# access the item value \u001b[39;00m\n\u001b[0;32m      <a href='vscode-notebook-cell:/c%3A/Users/GLA/Desktop/Python/Batch2023-24/Programs/dictionary/basics.ipynb#X42sZmlsZQ%3D%3D?line=1'>2</a>\u001b[0m dct \u001b[39m=\u001b[39m {\u001b[39m1\u001b[39m: \u001b[39m'\u001b[39m\u001b[39mone\u001b[39m\u001b[39m'\u001b[39m, \u001b[39m2\u001b[39m: \u001b[39m'\u001b[39m\u001b[39mtwo\u001b[39m\u001b[39m'\u001b[39m, \u001b[39m3\u001b[39m: \u001b[39m'\u001b[39m\u001b[39mthree\u001b[39m\u001b[39m'\u001b[39m}\n\u001b[1;32m----> <a href='vscode-notebook-cell:/c%3A/Users/GLA/Desktop/Python/Batch2023-24/Programs/dictionary/basics.ipynb#X42sZmlsZQ%3D%3D?line=2'>3</a>\u001b[0m out \u001b[39m=\u001b[39m dct[\u001b[39m4\u001b[39;49m]\n\u001b[0;32m      <a href='vscode-notebook-cell:/c%3A/Users/GLA/Desktop/Python/Batch2023-24/Programs/dictionary/basics.ipynb#X42sZmlsZQ%3D%3D?line=3'>4</a>\u001b[0m \u001b[39mprint\u001b[39m(out)\n",
      "\u001b[1;31mKeyError\u001b[0m: 4"
     ]
    }
   ],
   "source": [
    "# access the item value \n",
    "dct = {1: 'one', 2: 'two', 3: 'three'}\n",
    "out = dct[4]\n",
    "print(out)"
   ]
  }
 ],
 "metadata": {
  "kernelspec": {
   "display_name": "Python 3",
   "language": "python",
   "name": "python3"
  },
  "language_info": {
   "codemirror_mode": {
    "name": "ipython",
    "version": 3
   },
   "file_extension": ".py",
   "mimetype": "text/x-python",
   "name": "python",
   "nbconvert_exporter": "python",
   "pygments_lexer": "ipython3",
   "version": "3.12.0"
  }
 },
 "nbformat": 4,
 "nbformat_minor": 2
}
