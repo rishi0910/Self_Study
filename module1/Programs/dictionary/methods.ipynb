{
 "cells": [
  {
   "cell_type": "code",
   "execution_count": 3,
   "metadata": {},
   "outputs": [
    {
     "name": "stdout",
     "output_type": "stream",
     "text": [
      "{}\n"
     ]
    }
   ],
   "source": [
    "# clear(): remove all the items\n",
    "dct = {1: 'one', 2: 'two'}\n",
    "dct.clear()\n",
    "print(dct)\n"
   ]
  },
  {
   "cell_type": "code",
   "execution_count": 5,
   "metadata": {},
   "outputs": [
    {
     "name": "stdout",
     "output_type": "stream",
     "text": [
      "{'name': 'rahul gautam', 'section': 'CA', 'rolln': 23}\n"
     ]
    }
   ],
   "source": [
    "info = {'name': 'rahul', 'section': 'CA'}\n",
    "new_data = {'name': 'rahul gautam', 'rolln': 23}\n",
    "info.update(new_data)\n",
    "print(info)"
   ]
  },
  {
   "cell_type": "code",
   "execution_count": 16,
   "metadata": {},
   "outputs": [
    {
     "name": "stdout",
     "output_type": "stream",
     "text": [
      "info={'name': 'rahul', 'section': 'CA', 'marks': [2, 5, 6, 7], 'new_key': 'other'}\n",
      "dct={'name': 'rahul', 'section': 'CA', 'marks': [2, 5, 6, 7], 'new_key': 'other'}\n"
     ]
    }
   ],
   "source": [
    "# copy(): return the shallow copy \n",
    "info = {'name': 'rahul', 'section': 'CA', 'marks': [2, 5, 6, 7]}\n",
    "dct = info.copy()\n",
    "dct['new_key'] = 'other'\n",
    "\n",
    "print(f'{info=}')\n",
    "print(f'{dct=}')"
   ]
  },
  {
   "cell_type": "code",
   "execution_count": 24,
   "metadata": {},
   "outputs": [
    {
     "name": "stdout",
     "output_type": "stream",
     "text": [
      "lst=[12, [3]]\n",
      "new_lst=[12, [3, 100], -1]\n"
     ]
    }
   ],
   "source": [
    "lst = [12, [3]]\n",
    "new_lst = eval(str(lst))\n",
    "\n",
    "new_lst.append(-1)\n",
    "new_lst[1].append(100)\n",
    "\n",
    "print(f'{lst=}')\n",
    "print(f'{new_lst=}')"
   ]
  },
  {
   "cell_type": "code",
   "execution_count": 46,
   "metadata": {},
   "outputs": [
    {
     "name": "stdout",
     "output_type": "stream",
     "text": [
      "{'name': 1, 'age': 1, 'status': 1}\n"
     ]
    }
   ],
   "source": [
    "# fromkeys(): create dict with given keys in a seq\n",
    "lst = ['name', 'age', 'status']\n",
    "out = {}.fromkeys(lst, lst.count('name'))\n",
    "print(out)"
   ]
  },
  {
   "cell_type": "code",
   "execution_count": 45,
   "metadata": {},
   "outputs": [
    {
     "name": "stdout",
     "output_type": "stream",
     "text": [
      "2\n"
     ]
    }
   ],
   "source": [
    "# get(): \n",
    "info = {'name': 'rahul', 'section': 'CA', (1, 2): 'tuple'}\n",
    "out = info.get(1, 2)\n",
    "print(out)"
   ]
  },
  {
   "cell_type": "code",
   "execution_count": null,
   "metadata": {},
   "outputs": [],
   "source": [
    "# 1. clear(): to remove the all the items of the dict\n"
   ]
  }
 ],
 "metadata": {
  "kernelspec": {
   "display_name": "Python 3",
   "language": "python",
   "name": "python3"
  },
  "language_info": {
   "codemirror_mode": {
    "name": "ipython",
    "version": 3
   },
   "file_extension": ".py",
   "mimetype": "text/x-python",
   "name": "python",
   "nbconvert_exporter": "python",
   "pygments_lexer": "ipython3",
   "version": "3.12.0"
  }
 },
 "nbformat": 4,
 "nbformat_minor": 2
}
