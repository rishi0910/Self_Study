{
 "cells": [
  {
   "cell_type": "code",
   "execution_count": 9,
   "metadata": {},
   "outputs": [
    {
     "name": "stdout",
     "output_type": "stream",
     "text": [
      "hello❣\n"
     ]
    }
   ],
   "source": [
    "# string in Python\n",
    "st = 'hello❣'\n",
    "print(st)"
   ]
  },
  {
   "cell_type": "code",
   "execution_count": 13,
   "metadata": {},
   "outputs": [
    {
     "name": "stdout",
     "output_type": "stream",
     "text": [
      "b'hello\\xe2\\x9d\\xa3'\n"
     ]
    }
   ],
   "source": [
    "st = 'hello❣'\n",
    "out = st.encode('utf')\n",
    "print(out)"
   ]
  },
  {
   "cell_type": "code",
   "execution_count": 17,
   "metadata": {},
   "outputs": [
    {
     "name": "stdout",
     "output_type": "stream",
     "text": [
      "hello❣\n"
     ]
    }
   ],
   "source": [
    "re = b'hello\\xe2\\x9d\\xa3'\n",
    "print(re.decode('utf', errors='replace'))"
   ]
  },
  {
   "cell_type": "code",
   "execution_count": 18,
   "metadata": {},
   "outputs": [
    {
     "name": "stdout",
     "output_type": "stream",
     "text": [
      "True\n"
     ]
    }
   ],
   "source": [
    "# string initialization\n",
    "st1 = 'hello'\n",
    "st2 = \"hello\"\n",
    "print(st1 == st2)"
   ]
  },
  {
   "cell_type": "code",
   "execution_count": 28,
   "metadata": {},
   "outputs": [
    {
     "name": "stdout",
     "output_type": "stream",
     "text": [
      "\n",
      "     hello\n",
      "     python Programming\n"
     ]
    }
   ],
   "source": [
    "'''\n",
    "     hello\n",
    "     python Programming\n",
    "'''\n",
    "print(st)"
   ]
  },
  {
   "cell_type": "code",
   "execution_count": 33,
   "metadata": {},
   "outputs": [
    {
     "name": "stdout",
     "output_type": "stream",
     "text": [
      "78\n",
      "hello\n",
      "\n",
      "\n"
     ]
    }
   ],
   "source": [
    "a = 33\n",
    "'''hello\n",
    "\n",
    "'''\n",
    "# b = 45\n",
    "# print(a + b)\n",
    "# print(s)"
   ]
  },
  {
   "cell_type": "code",
   "execution_count": 19,
   "metadata": {},
   "outputs": [
    {
     "data": {
      "text/plain": [
       "3"
      ]
     },
     "execution_count": 19,
     "metadata": {},
     "output_type": "execute_result"
    }
   ],
   "source": [
    "True + 2"
   ]
  },
  {
   "cell_type": "code",
   "execution_count": null,
   "metadata": {},
   "outputs": [],
   "source": []
  },
  {
   "cell_type": "code",
   "execution_count": 7,
   "metadata": {},
   "outputs": [
    {
     "data": {
      "text/plain": [
       "'❣'"
      ]
     },
     "execution_count": 7,
     "metadata": {},
     "output_type": "execute_result"
    }
   ],
   "source": [
    "chr(10083)"
   ]
  },
  {
   "cell_type": "code",
   "execution_count": 37,
   "metadata": {},
   "outputs": [
    {
     "name": "stdout",
     "output_type": "stream",
     "text": [
      "hello# world\n"
     ]
    }
   ],
   "source": [
    "# string operation\n",
    "# 1. String concatenation '+'\n",
    "st1 = 'hello#'\n",
    "st2 = 'world'\n",
    "st = st1 + ' ' + st2\n",
    "print(st)\n"
   ]
  },
  {
   "cell_type": "code",
   "execution_count": 45,
   "metadata": {},
   "outputs": [],
   "source": [
    "# string repetition '*'\n",
    "st = 'hello '\n",
    "out = st * 300000000\n",
    "print(out)"
   ]
  },
  {
   "cell_type": "code",
   "execution_count": 12,
   "metadata": {},
   "outputs": [
    {
     "name": "stdout",
     "output_type": "stream",
     "text": [
      " \n"
     ]
    }
   ],
   "source": [
    "# how to access the elements in string \n",
    "# indexing: get the element at position \n",
    "st = 'hello world'\n",
    "re = st[-6]\n",
    "print(re)"
   ]
  },
  {
   "cell_type": "code",
   "execution_count": 24,
   "metadata": {},
   "outputs": [
    {
     "name": "stdout",
     "output_type": "stream",
     "text": [
      "dlrow olleh\n"
     ]
    }
   ],
   "source": [
    "# how to access the elements in string \n",
    "# slicing range: get the elements with range \n",
    "# str [start:stop:step=1]\n",
    "st = 'hello world'\n",
    "re = st[::-1]\n",
    "print(re)"
   ]
  },
  {
   "cell_type": "code",
   "execution_count": 30,
   "metadata": {},
   "outputs": [
    {
     "name": "stdout",
     "output_type": "stream",
     "text": [
      "<class 'str'>\n"
     ]
    }
   ],
   "source": [
    "# string in Python\n",
    "st = 'hello'\n",
    "print(type(st))"
   ]
  },
  {
   "cell_type": "code",
   "execution_count": 31,
   "metadata": {},
   "outputs": [
    {
     "name": "stdout",
     "output_type": "stream",
     "text": [
      "True\n"
     ]
    }
   ],
   "source": [
    "# how to initialize the string\n",
    "st =  'ankit'\n",
    "st2 = \"ankit\"\n",
    "print(st == st2)"
   ]
  },
  {
   "cell_type": "code",
   "execution_count": 36,
   "metadata": {},
   "outputs": [
    {
     "name": "stdout",
     "output_type": "stream",
     "text": [
      "  1\n"
     ]
    }
   ],
   "source": [
    "# how to initialize the empty string\n",
    "st = ' '  # string format\n",
    "# st = str()   # str() built-in function\n",
    "\n",
    "print(st, len(st))"
   ]
  },
  {
   "cell_type": "code",
   "execution_count": 42,
   "metadata": {},
   "outputs": [
    {
     "data": {
      "text/plain": [
       "'h'"
      ]
     },
     "execution_count": 42,
     "metadata": {},
     "output_type": "execute_result"
    }
   ],
   "source": [
    "# multiline string \n",
    "st = '''\n",
    "hello\n",
    "python\n",
    "                    programming'''\n",
    "st[1]"
   ]
  },
  {
   "cell_type": "code",
   "execution_count": 47,
   "metadata": {},
   "outputs": [
    {
     "name": "stdout",
     "output_type": "stream",
     "text": [
      "57\n",
      "10\n",
      "   vgdf\n",
      "   vdf\n",
      "   vdf\n",
      "   vdf\n",
      "      \n"
     ]
    }
   ],
   "source": [
    "a = 23\n",
    "st = '''10\n",
    "   vgdf\n",
    "   vdf\n",
    "   vdf\n",
    "   vdf\n",
    "      '''\n",
    "b = 34\n",
    "print(a + b)\n",
    "print(st)\n"
   ]
  },
  {
   "cell_type": "code",
   "execution_count": 50,
   "metadata": {},
   "outputs": [
    {
     "name": "stdout",
     "output_type": "stream",
     "text": [
      "2 world\n"
     ]
    }
   ],
   "source": [
    "# string operation \n",
    "# 1. String concatenation '+'\n",
    "st1 = '2'\n",
    "st2 = 'world'\n",
    "st = st1 + ' '+ st2\n",
    "print(st)"
   ]
  },
  {
   "cell_type": "code",
   "execution_count": 56,
   "metadata": {},
   "outputs": [
    {
     "name": "stdout",
     "output_type": "stream",
     "text": [
      "hellohellohello\n"
     ]
    }
   ],
   "source": [
    "# string repetition '*'\n",
    "st = 'hello'\n",
    "out = st * 3\n",
    "print(out)"
   ]
  },
  {
   "cell_type": "code",
   "execution_count": 69,
   "metadata": {},
   "outputs": [
    {
     "data": {
      "text/plain": [
       "' '"
      ]
     },
     "execution_count": 69,
     "metadata": {},
     "output_type": "execute_result"
    }
   ],
   "source": [
    "# how to access the elements in String\n",
    "# 1. indexing: get the element at position\n",
    "st = 'hello wor\\nld'\n",
    "out =  st[5]\n",
    "out"
   ]
  },
  {
   "cell_type": "code",
   "execution_count": 77,
   "metadata": {},
   "outputs": [
    {
     "name": "stdout",
     "output_type": "stream",
     "text": [
      "hlowrd\n"
     ]
    }
   ],
   "source": [
    "# slicing range: get elements with range\n",
    "# str[start:stop:step=1]\n",
    "st = 'hello world'\n",
    "out = st[::2]\n",
    "print(out)"
   ]
  },
  {
   "cell_type": "code",
   "execution_count": 92,
   "metadata": {},
   "outputs": [
    {
     "name": "stdout",
     "output_type": "stream",
     "text": [
      "dlrow olleh\n"
     ]
    }
   ],
   "source": [
    "# 7705866000 orientation 30th sept 2023(Abacus society)\n",
    "st = 'hello world'\n",
    "out = st[::-1]\n",
    "print(out)"
   ]
  },
  {
   "cell_type": "code",
   "execution_count": null,
   "metadata": {},
   "outputs": [],
   "source": [
    "# methods in string \n",
    "# method in string which return string object \n"
   ]
  },
  {
   "cell_type": "code",
   "execution_count": 3,
   "metadata": {},
   "outputs": [
    {
     "name": "stdout",
     "output_type": "stream",
     "text": [
      "Hello python\n"
     ]
    }
   ],
   "source": [
    "# 1 capitalize(): convert first letter of string into upper case\n",
    "st = 'hello pytHon'\n",
    "out = st.capitalize()\n",
    "print(out)\n"
   ]
  },
  {
   "cell_type": "code",
   "execution_count": 8,
   "metadata": {},
   "outputs": [
    {
     "name": "stdout",
     "output_type": "stream",
     "text": [
      "23Hello 5G World\n"
     ]
    }
   ],
   "source": [
    "# 2 title(): convert first letter of each word into uppercase in a string\n",
    "st = '23hello 5g World'\n",
    "out = st.title()\n",
    "print(out)"
   ]
  },
  {
   "cell_type": "code",
   "execution_count": 13,
   "metadata": {},
   "outputs": [
    {
     "name": "stdout",
     "output_type": "stream",
     "text": [
      "hello world❤\n"
     ]
    }
   ],
   "source": [
    "# 3 lower()/casefold(): convert the string into lowercase\n",
    "st = 'helLo woRld❤'\n",
    "out = st.casefold()\n",
    "print(out)"
   ]
  },
  {
   "cell_type": "code",
   "execution_count": 15,
   "metadata": {},
   "outputs": [
    {
     "name": "stdout",
     "output_type": "stream",
     "text": [
      "HELLO PYTHON # 4%3\n"
     ]
    }
   ],
   "source": [
    "# upper(): \n",
    "st = 'hello Python # 4%3'\n",
    "out = st.upper()\n",
    "print(out)"
   ]
  },
  {
   "cell_type": "code",
   "execution_count": 24,
   "metadata": {},
   "outputs": [
    {
     "name": "stdout",
     "output_type": "stream",
     "text": [
      "hello\n"
     ]
    }
   ],
   "source": [
    "# center(): \n",
    "st = 'hello'\n",
    "out = st.center(4, '#')\n",
    "print(out)"
   ]
  },
  {
   "cell_type": "code",
   "execution_count": 36,
   "metadata": {},
   "outputs": [
    {
     "name": "stdout",
     "output_type": "stream",
     "text": [
      "   0\n",
      "   1\n",
      "  10\n",
      "  11\n",
      " 100\n",
      " 101\n",
      " 110\n",
      " 111\n",
      "1000\n",
      "1001\n",
      "1010\n"
     ]
    }
   ],
   "source": [
    "# ljust():\n",
    "n = 10\n",
    "w = len(bin(n)[2:])\n",
    "for i in range(n+1):\n",
    "    x = bin(i)[2:]\n",
    "    print(x.rjust(w, ' '))\n"
   ]
  },
  {
   "cell_type": "code",
   "execution_count": 41,
   "metadata": {},
   "outputs": [
    {
     "name": "stdout",
     "output_type": "stream",
     "text": [
      "welcome to GLA\n"
     ]
    }
   ],
   "source": [
    "# strip()/rstrip()/lstrip():\n",
    "st = input().strip()\n",
    "if st == 'ankit kumar':\n",
    "    print('welcome to GLA')\n",
    "else:\n",
    "    print('Not Match')    "
   ]
  },
  {
   "cell_type": "code",
   "execution_count": 46,
   "metadata": {},
   "outputs": [
    {
     "name": "stdout",
     "output_type": "stream",
     "text": [
      "b'hello\\xe2\\x9d\\xa4'\n"
     ]
    },
    {
     "ename": "NameError",
     "evalue": "name 'a' is not defined",
     "output_type": "error",
     "traceback": [
      "\u001b[1;31m---------------------------------------------------------------------------\u001b[0m",
      "\u001b[1;31mNameError\u001b[0m                                 Traceback (most recent call last)",
      "\u001b[1;32mf:\\Python310\\Session2023-24\\Btech2023-24\\Batch2023-24\\Programs\\string\\string_basics.ipynb Cell 32\u001b[0m line \u001b[0;36m5\n\u001b[0;32m      <a href='vscode-notebook-cell:/f%3A/Python310/Session2023-24/Btech2023-24/Batch2023-24/Programs/string/string_basics.ipynb#X44sZmlsZQ%3D%3D?line=1'>2</a>\u001b[0m out \u001b[39m=\u001b[39m st\u001b[39m.\u001b[39mencode(\u001b[39m'\u001b[39m\u001b[39mutf\u001b[39m\u001b[39m'\u001b[39m)\n\u001b[0;32m      <a href='vscode-notebook-cell:/f%3A/Python310/Session2023-24/Btech2023-24/Batch2023-24/Programs/string/string_basics.ipynb#X44sZmlsZQ%3D%3D?line=2'>3</a>\u001b[0m \u001b[39mprint\u001b[39m(out)\n\u001b[1;32m----> <a href='vscode-notebook-cell:/f%3A/Python310/Session2023-24/Btech2023-24/Batch2023-24/Programs/string/string_basics.ipynb#X44sZmlsZQ%3D%3D?line=4'>5</a>\u001b[0m aaaaaaaaa: a\n",
      "\u001b[1;31mNameError\u001b[0m: name 'a' is not defined"
     ]
    }
   ],
   "source": [
    "st = 'hello❤'\n",
    "out = st.encode('utf')\n",
    "print(out)\n",
    "\n",
    "aaaaaaaaa: a"
   ]
  },
  {
   "cell_type": "code",
   "execution_count": 62,
   "metadata": {},
   "outputs": [
    {
     "name": "stdout",
     "output_type": "stream",
     "text": [
      "hello❤\n"
     ]
    }
   ],
   "source": [
    "st = b'hello\\xe2\\x9d\\xa4'\n",
    "out = st.decode('utf', errors='replace')\n",
    "print(out)"
   ]
  },
  {
   "cell_type": "code",
   "execution_count": 58,
   "metadata": {},
   "outputs": [
    {
     "name": "stdout",
     "output_type": "stream",
     "text": [
      "b'hello'\n"
     ]
    }
   ],
   "source": [
    "h = b'hello'\n",
    "print(h)"
   ]
  },
  {
   "cell_type": "code",
   "execution_count": 64,
   "metadata": {},
   "outputs": [
    {
     "name": "stdout",
     "output_type": "stream",
     "text": [
      "True\n"
     ]
    }
   ],
   "source": [
    "# 1. isalpha():\n",
    "st = 'hellopython'\n",
    "out = st.isalpha()\n",
    "print(out)"
   ]
  },
  {
   "cell_type": "code",
   "execution_count": null,
   "metadata": {},
   "outputs": [],
   "source": []
  }
 ],
 "metadata": {
  "kernelspec": {
   "display_name": "Python 3",
   "language": "python",
   "name": "python3"
  },
  "language_info": {
   "codemirror_mode": {
    "name": "ipython",
    "version": 3
   },
   "file_extension": ".py",
   "mimetype": "text/x-python",
   "name": "python",
   "nbconvert_exporter": "python",
   "pygments_lexer": "ipython3",
   "version": "3.10.7"
  },
  "orig_nbformat": 4
 },
 "nbformat": 4,
 "nbformat_minor": 2
}
