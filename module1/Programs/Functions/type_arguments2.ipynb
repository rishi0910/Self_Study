{
 "cells": [
  {
   "cell_type": "code",
   "execution_count": 41,
   "metadata": {},
   "outputs": [],
   "source": [
    "# type of arguments\n",
    "\n",
    "def display_info(name, sec, rolln, college):\n",
    "    return f'''\n",
    "    Name: {name}\n",
    "    Section: {sec}\n",
    "    Roll number: {rolln}\n",
    "    College: {college}\n",
    "    '''"
   ]
  },
  {
   "cell_type": "code",
   "execution_count": 46,
   "metadata": {},
   "outputs": [
    {
     "name": "stdout",
     "output_type": "stream",
     "text": [
      "\n",
      "    Name: saket\n",
      "    Section: CC\n",
      "    Roll number: 45\n",
      "    College: ITR\n",
      "    \n"
     ]
    }
   ],
   "source": [
    "out = display_info( rolln=45, sec='CC', college='ITR', name='saket')\n",
    "print(out)"
   ]
  },
  {
   "cell_type": "code",
   "execution_count": 40,
   "metadata": {},
   "outputs": [
    {
     "name": "stdout",
     "output_type": "stream",
     "text": [
      "27\n",
      "26\n"
     ]
    }
   ],
   "source": [
    "d = 10\n",
    "def add(a, b=d):\n",
    "    return a + b\n",
    "\n",
    "out = add(23, 4)\n",
    "print(out)\n",
    "\n",
    "d = 12\n",
    "out = add(23, 3)\n",
    "print(out)"
   ]
  },
  {
   "cell_type": "code",
   "execution_count": 33,
   "metadata": {},
   "outputs": [
    {
     "name": "stdout",
     "output_type": "stream",
     "text": [
      "23\n"
     ]
    }
   ],
   "source": [
    "# type of arguments\n",
    "'''\n",
    "1. Default Arguments \n",
    "2. Positional Arguments\n",
    "3. Keyword Arguments\n",
    "4. Arbitrary Positional/ optional Positional\n",
    "5. Arbitrary Keyword/ Optional Keyword\n",
    "''' \n"
   ]
  },
  {
   "cell_type": "code",
   "execution_count": 28,
   "metadata": {},
   "outputs": [],
   "source": [
    "def add(a:int, b:int)->int:\n",
    "    '''Addition of two numbers'''\n",
    "    return a + b"
   ]
  },
  {
   "cell_type": "code",
   "execution_count": 29,
   "metadata": {},
   "outputs": [
    {
     "name": "stdout",
     "output_type": "stream",
     "text": [
      "Addition of two numbers\n"
     ]
    }
   ],
   "source": [
    "print(add.__doc__)"
   ]
  },
  {
   "cell_type": "code",
   "execution_count": 24,
   "metadata": {},
   "outputs": [
    {
     "name": "stdout",
     "output_type": "stream",
     "text": [
      "6\n"
     ]
    }
   ],
   "source": [
    "out = add(2, 4)\n",
    "print(out)"
   ]
  },
  {
   "cell_type": "code",
   "execution_count": 23,
   "metadata": {},
   "outputs": [
    {
     "name": "stdout",
     "output_type": "stream",
     "text": [
      "Addition of two numbers\n"
     ]
    }
   ],
   "source": [
    "print(add.__doc__)"
   ]
  },
  {
   "cell_type": "code",
   "execution_count": 86,
   "metadata": {},
   "outputs": [],
   "source": [
    "def display_info(*val1, **dct):\n",
    "    print(dct)\n",
    "    print(val1)\n",
    "    # return f'''\n",
    "    #     Name: {dct.get('name')}\n",
    "    #     Section: {dct.get('sec')}\n",
    "    #     Roll Number: {dct.get('rolln')}\n",
    "    #     College: {dct.get('college')}\n",
    "    # '''"
   ]
  },
  {
   "cell_type": "code",
   "execution_count": 88,
   "metadata": {},
   "outputs": [
    {
     "name": "stdout",
     "output_type": "stream",
     "text": [
      "{'rolln': 34, 'section': 'CA'}\n",
      "()\n",
      "None\n"
     ]
    }
   ],
   "source": [
    "out = display_info(rolln=34, section='CA')\n",
    "print(out)"
   ]
  },
  {
   "cell_type": "code",
   "execution_count": 107,
   "metadata": {},
   "outputs": [
    {
     "name": "stdout",
     "output_type": "stream",
     "text": [
      "64\n"
     ]
    }
   ],
   "source": [
    "def optional_sum(*b, op='Add'):\n",
    "    if op == 'Add':\n",
    "        s = 0\n",
    "        for i in  b:\n",
    "            s += i\n",
    "        return s\n",
    "    elif op == 'Mul':\n",
    "        s = 1\n",
    "        for i in  b:\n",
    "            s *= i\n",
    "        return s\n",
    "\n",
    "out = optional_sum(3, 5, 56)\n",
    "print(out)"
   ]
  },
  {
   "cell_type": "code",
   "execution_count": null,
   "metadata": {},
   "outputs": [],
   "source": [
    "# type of arguments \n",
    "'''\n",
    "1. Default Arguments \n",
    "2. Positinal Arguments\n",
    "3. Keyword Arguments\n",
    "4. Arbitrary Keyword Argument/ Optional Keyword\n",
    "5. Arbitrary Positinal Argument / optional Positional\n",
    "\n",
    "\n",
    "'''"
   ]
  },
  {
   "cell_type": "code",
   "execution_count": 120,
   "metadata": {},
   "outputs": [],
   "source": [
    "def add(a:int, b:int)->int:\n",
    "    'Addition of two numbers'\n",
    "    return a + b"
   ]
  },
  {
   "cell_type": "code",
   "execution_count": 109,
   "metadata": {},
   "outputs": [
    {
     "name": "stdout",
     "output_type": "stream",
     "text": [
      "7\n"
     ]
    }
   ],
   "source": [
    "out = add\n",
    "print(out)"
   ]
  },
  {
   "cell_type": "code",
   "execution_count": 119,
   "metadata": {},
   "outputs": [
    {
     "name": "stdout",
     "output_type": "stream",
     "text": [
      "None\n"
     ]
    }
   ],
   "source": [
    "out = add.__doc__\n",
    "print(out)"
   ]
  },
  {
   "cell_type": "code",
   "execution_count": 152,
   "metadata": {},
   "outputs": [
    {
     "name": "stdout",
     "output_type": "stream",
     "text": [
      "\n",
      "    Name       : Ankit\n",
      "    Section    : None\n",
      "    Roll number: None\n",
      "    College    : None\n"
     ]
    }
   ],
   "source": [
    "def display_info(**dct):\n",
    "    data = f'''\n",
    "    Name       : {dct.get('name')}\n",
    "    Section    : {dct.get('sec')}\n",
    "    Roll number: {dct.get('rolln')}\n",
    "    College    : {dct.get('clg')}'''\n",
    "    return data\n",
    "\n",
    "out = display_info(name='Ankit')\n",
    "print(out)"
   ]
  },
  {
   "cell_type": "code",
   "execution_count": 149,
   "metadata": {},
   "outputs": [
    {
     "name": "stdout",
     "output_type": "stream",
     "text": [
      "None\n"
     ]
    }
   ],
   "source": [
    "dct = {1: 'one', 2: 'two'}\n",
    "out = dct.get(3)\n",
    "print(out)"
   ]
  },
  {
   "cell_type": "code",
   "execution_count": 31,
   "metadata": {},
   "outputs": [],
   "source": [
    "# type of arguments \n",
    "# 5. Arbitrary positional\n",
    "def optional_sum_mul(*obj, op='Add'):\n",
    "    if op == 'Add':\n",
    "        s = 0\n",
    "        for i in obj:\n",
    "            s += i\n",
    "\n",
    "        return s    \n",
    "    elif op == 'Mul':\n",
    "        s = 1\n",
    "        for i in obj:\n",
    "            s *= i\n",
    "\n",
    "        return s"
   ]
  },
  {
   "cell_type": "code",
   "execution_count": 34,
   "metadata": {},
   "outputs": [
    {
     "name": "stdout",
     "output_type": "stream",
     "text": [
      "7\n"
     ]
    }
   ],
   "source": [
    "out = optional_sum_mul(2, 5)\n",
    "print(out)"
   ]
  }
 ],
 "metadata": {
  "kernelspec": {
   "display_name": "Python 3",
   "language": "python",
   "name": "python3"
  },
  "language_info": {
   "codemirror_mode": {
    "name": "ipython",
    "version": 3
   },
   "file_extension": ".py",
   "mimetype": "text/x-python",
   "name": "python",
   "nbconvert_exporter": "python",
   "pygments_lexer": "ipython3",
   "version": "3.12.0"
  }
 },
 "nbformat": 4,
 "nbformat_minor": 2
}
