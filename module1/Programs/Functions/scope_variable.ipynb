{
 "cells": [
  {
   "cell_type": "code",
   "execution_count": 19,
   "metadata": {},
   "outputs": [
    {
     "name": "stdout",
     "output_type": "stream",
     "text": [
      "10\n",
      "3\n",
      "3\n",
      "4\n"
     ]
    }
   ],
   "source": [
    "# scope of variable : \n",
    "\n",
    "def add():\n",
    "    def fun1():\n",
    "        a = 2\n",
    "    def fun2():\n",
    "        nonlocal a\n",
    "        a = 3\n",
    "    def fun3():\n",
    "        global a\n",
    "        a = 4\n",
    "    a = 10\n",
    "    fun1()\n",
    "    print(a)\n",
    "    fun2()\n",
    "    print(a)\n",
    "    fun3()\n",
    "    print(a)\n",
    "\n",
    "\n",
    "# global scope\n",
    "a = 23\n",
    "add()\n",
    "print(a)\n"
   ]
  },
  {
   "cell_type": "code",
   "execution_count": null,
   "metadata": {},
   "outputs": [],
   "source": [
    "def display_num(val):\n",
    "    # logic here "
   ]
  },
  {
   "cell_type": "code",
   "execution_count": 10,
   "metadata": {},
   "outputs": [
    {
     "name": "stdout",
     "output_type": "stream",
     "text": [
      "100\n",
      "5\n",
      "5\n",
      "10\n"
     ]
    }
   ],
   "source": [
    "# scope of variable \n",
    "def fun():\n",
    "    def fun1():\n",
    "        a = 0\n",
    "    def fun2():\n",
    "        nonlocal a\n",
    "        a = 5\n",
    "    def fun3():\n",
    "        global a\n",
    "        a = 10\n",
    "    a = 100\n",
    "    fun1()\n",
    "    print(a)\n",
    "    fun2()\n",
    "    print(a)\n",
    "    fun3()\n",
    "    print(a)\n",
    "    \n",
    "# global scope\n",
    "a = 23\n",
    "fun()\n",
    "print(a)"
   ]
  },
  {
   "cell_type": "code",
   "execution_count": 13,
   "metadata": {},
   "outputs": [
    {
     "name": "stdout",
     "output_type": "stream",
     "text": [
      "10\n",
      "24\n",
      "24\n",
      "56\n"
     ]
    }
   ],
   "source": [
    "# scope of variable \n",
    "def add():\n",
    "    def fun1():\n",
    "        abc = 12\n",
    "    def fun2():\n",
    "        nonlocal abc\n",
    "        abc = 24\n",
    "    def fun3():\n",
    "        global abc \n",
    "        abc = 56\n",
    "    abc = 10\n",
    "    fun1()\n",
    "    print(abc)\n",
    "    fun2()\n",
    "    print(abc)\n",
    "    fun3()\n",
    "    print(abc)    \n",
    "    \n",
    "# global scope\n",
    "abc = 100\n",
    "add()\n",
    "print(abc)"
   ]
  },
  {
   "cell_type": "code",
   "execution_count": 16,
   "metadata": {},
   "outputs": [
    {
     "name": "stdout",
     "output_type": "stream",
     "text": [
      "[1, 3]\n",
      "[1, 3, 6, 8, 9]\n",
      "[6, 8, 9]\n"
     ]
    }
   ],
   "source": [
    "def intersection(arr1, arr2):\n",
    "    ls3 = [i for i in arr1 if i in arr2]\n",
    "    return ls3\n",
    "\n",
    "def union(arr1, arr2):\n",
    "    reg = []\n",
    "    for i in arr1 + arr2:\n",
    "        if i not in reg:\n",
    "            reg.append(i)\n",
    "    return reg\n",
    "\n",
    "def symmatric_difference(arr1, arr2):\n",
    "    un = union(arr1, arr2)\n",
    "    inte = intersection(arr1, arr2)\n",
    "    for i in inte:\n",
    "        un.remove(i)\n",
    "    return un \n",
    "\n",
    "\n",
    "ls1 = [1, 3, 6]\n",
    "ls2 = [3, 8, 9, 1]\n",
    "re1 = intersection(ls1, ls2)\n",
    "print(re1)  # [1, 3]\n",
    "\n",
    "re2 = union(ls1, ls2)\n",
    "print(re2)  # [1, 3, 6, 8, 9]\n",
    "\n",
    "re3 = symmatric_difference(ls1, ls2)\n",
    "print(re3)  # [6, 8, 9]\n"
   ]
  },
  {
   "cell_type": "code",
   "execution_count": 21,
   "metadata": {},
   "outputs": [
    {
     "name": "stdout",
     "output_type": "stream",
     "text": [
      "True\n"
     ]
    }
   ],
   "source": [
    "def strict_difference(ls1):\n",
    "    ls_d = []\n",
    "    for i in range(len(ls1)-1):\n",
    "        ls_d.append(abs(ls1[i] - ls1[i+1]))\n",
    "    return sorted(ls_d) == ls_d\n",
    "        \n",
    "\n",
    "# main code\n",
    "ls = [1, 4, 0, -5]\n",
    "out = strict_difference(ls)\n",
    "print(out)  # True\n"
   ]
  },
  {
   "cell_type": "code",
   "execution_count": 31,
   "metadata": {},
   "outputs": [
    {
     "name": "stdout",
     "output_type": "stream",
     "text": [
      "33\n",
      "100\n",
      "100\n",
      "200\n"
     ]
    }
   ],
   "source": [
    "# scope of variable \n",
    "def add():\n",
    "    def fun1():\n",
    "        ab = 0\n",
    "    def fun2():\n",
    "        nonlocal ab\n",
    "        ab = 100\n",
    "    def fun3():\n",
    "        global ab\n",
    "        ab = 200\n",
    "    ab = 33\n",
    "    fun1()\n",
    "    print(ab)\n",
    "    fun2()\n",
    "    print(ab)\n",
    "    fun3()\n",
    "    print(ab)       \n",
    "    \n",
    "    \n",
    "# global scope \n",
    "ab = 20\n",
    "add()\n",
    "print(ab)"
   ]
  },
  {
   "cell_type": "code",
   "execution_count": 34,
   "metadata": {},
   "outputs": [
    {
     "name": "stdout",
     "output_type": "stream",
     "text": [
      "[3, 2]\n"
     ]
    }
   ],
   "source": []
  }
 ],
 "metadata": {
  "kernelspec": {
   "display_name": "Python 3",
   "language": "python",
   "name": "python3"
  },
  "language_info": {
   "codemirror_mode": {
    "name": "ipython",
    "version": 3
   },
   "file_extension": ".py",
   "mimetype": "text/x-python",
   "name": "python",
   "nbconvert_exporter": "python",
   "pygments_lexer": "ipython3",
   "version": "3.12.0"
  }
 },
 "nbformat": 4,
 "nbformat_minor": 2
}
