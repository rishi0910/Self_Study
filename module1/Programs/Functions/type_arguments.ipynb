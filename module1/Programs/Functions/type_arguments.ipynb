{
 "cells": [
  {
   "cell_type": "code",
   "execution_count": 23,
   "metadata": {},
   "outputs": [],
   "source": [
    "def add(a:int|float, b:int)->int:\n",
    "    'this is a function for addition'\n",
    "    return a * b\n"
   ]
  },
  {
   "cell_type": "code",
   "execution_count": 25,
   "metadata": {},
   "outputs": [
    {
     "name": "stdout",
     "output_type": "stream",
     "text": [
      "hellohello\n"
     ]
    }
   ],
   "source": [
    "out = add(2, 'hello')\n",
    "print(out)"
   ]
  },
  {
   "cell_type": "code",
   "execution_count": 19,
   "metadata": {},
   "outputs": [
    {
     "name": "stdout",
     "output_type": "stream",
     "text": [
      "this is a function for addition\n"
     ]
    }
   ],
   "source": [
    "print(add.__doc__)"
   ]
  },
  {
   "cell_type": "code",
   "execution_count": 26,
   "metadata": {},
   "outputs": [
    {
     "data": {
      "text/plain": [
       "'\\n\\n\\n\\n'"
      ]
     },
     "execution_count": 26,
     "metadata": {},
     "output_type": "execute_result"
    }
   ],
   "source": [
    "'''\n",
    "1. Default Arguments\n",
    "2. Positional Arguments\n",
    "3. Keyword Arguments\n",
    "4. Arbitrary Positinal Arguments\n",
    "5. Arbitrary Keyword Arguments '''"
   ]
  },
  {
   "cell_type": "code",
   "execution_count": 39,
   "metadata": {},
   "outputs": [
    {
     "name": "stdout",
     "output_type": "stream",
     "text": [
      "11\n",
      "11\n"
     ]
    }
   ],
   "source": [
    "d = 8\n",
    "def add(a, b=d):\n",
    "    return a + b\n",
    "\n",
    "# main code\n",
    "out1 = add(3)\n",
    "print(out1)\n",
    "d = 2\n",
    "out2 = add(3)\n",
    "print(out2)"
   ]
  },
  {
   "cell_type": "code",
   "execution_count": 43,
   "metadata": {},
   "outputs": [],
   "source": [
    "# 2. Positional Arguments\n",
    "def add(a, b, c=0):\n",
    "    print(f'{a=}')\n",
    "    print(f'{b=}')\n",
    "    print(f'{c=}')"
   ]
  },
  {
   "cell_type": "code",
   "execution_count": 45,
   "metadata": {},
   "outputs": [
    {
     "name": "stdout",
     "output_type": "stream",
     "text": [
      "a=3\n",
      "b=4\n",
      "c=34\n"
     ]
    }
   ],
   "source": [
    "add(3, 4, 34)"
   ]
  },
  {
   "cell_type": "code",
   "execution_count": 47,
   "metadata": {},
   "outputs": [
    {
     "name": "stdout",
     "output_type": "stream",
     "text": [
      "a=6\n",
      "b=5\n",
      "c=3\n"
     ]
    }
   ],
   "source": [
    "# keyword arguments \n",
    "add(c=3, b=5, a=6)\n"
   ]
  },
  {
   "cell_type": "code",
   "execution_count": 62,
   "metadata": {},
   "outputs": [],
   "source": [
    "def disp_info(**dct):\n",
    "    d = f'''\n",
    "    Name: {dct.get('name')}\n",
    "    Roll Number: {dct.get('rolln')}\n",
    "    Marks: {dct.get('marks')}\n",
    "    Section: {dct.get('sec')}\n",
    "    \n",
    "    '''\n",
    "    return d\n"
   ]
  },
  {
   "cell_type": "code",
   "execution_count": 65,
   "metadata": {},
   "outputs": [
    {
     "name": "stdout",
     "output_type": "stream",
     "text": [
      "\n",
      "    Name: harish\n",
      "    Roll Number: None\n",
      "    Marks: None\n",
      "    Section: CA\n",
      "    \n",
      "    \n"
     ]
    }
   ],
   "source": [
    "out = disp_info(name='harish', sec='CA')\n",
    "print(out)"
   ]
  },
  {
   "cell_type": "code",
   "execution_count": 38,
   "metadata": {},
   "outputs": [],
   "source": [
    "def display_info(**dct):\n",
    "    return f''''\n",
    "Name       : {dct.get('name')}\n",
    "Section    : {dct.get('section')}\n",
    "Roll number: {dct.get('rolln')}\n",
    "College    : {dct.get('college')}'''"
   ]
  },
  {
   "cell_type": "code",
   "execution_count": 41,
   "metadata": {},
   "outputs": [
    {
     "name": "stdout",
     "output_type": "stream",
     "text": [
      "'\n",
      "Name       : Ravi\n",
      "Section    : None\n",
      "Roll number: 45\n",
      "College    : None\n"
     ]
    }
   ],
   "source": [
    "data = display_info(name='Ravi', rolln=45)\n",
    "print(data)"
   ]
  },
  {
   "cell_type": "code",
   "execution_count": 34,
   "metadata": {},
   "outputs": [
    {
     "name": "stdout",
     "output_type": "stream",
     "text": [
      "nahi hai\n"
     ]
    }
   ],
   "source": [
    "dct = {1: 'one', 2: 'two', 3: 'three'}\n",
    "out = dct.get(4, 'nahi hai')\n",
    "print(out)"
   ]
  },
  {
   "cell_type": "code",
   "execution_count": 98,
   "metadata": {},
   "outputs": [],
   "source": [
    "def operation(*c, ob='Add'):\n",
    "    if ob == 'Add':\n",
    "        s = 0\n",
    "        for i in c:\n",
    "            s += i\n",
    "        return s\n",
    "    elif ob == 'Mul':\n",
    "        s = 1\n",
    "        for i in c:\n",
    "            s *= i\n",
    "        return s\n",
    "    \n",
    "    # return a + b"
   ]
  },
  {
   "cell_type": "code",
   "execution_count": 102,
   "metadata": {},
   "outputs": [
    {
     "name": "stdout",
     "output_type": "stream",
     "text": [
      "None\n"
     ]
    }
   ],
   "source": [
    "# optional Positinal Arguments \n",
    "out = operation(12, 5, 3, ob='Div')\n",
    "print(out)"
   ]
  }
 ],
 "metadata": {
  "kernelspec": {
   "display_name": "Python 3",
   "language": "python",
   "name": "python3"
  },
  "language_info": {
   "codemirror_mode": {
    "name": "ipython",
    "version": 3
   },
   "file_extension": ".py",
   "mimetype": "text/x-python",
   "name": "python",
   "nbconvert_exporter": "python",
   "pygments_lexer": "ipython3",
   "version": "3.12.0"
  }
 },
 "nbformat": 4,
 "nbformat_minor": 2
}
