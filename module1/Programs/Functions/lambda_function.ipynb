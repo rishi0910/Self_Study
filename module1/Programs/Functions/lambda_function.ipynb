{
 "cells": [
  {
   "cell_type": "code",
   "execution_count": 5,
   "metadata": {},
   "outputs": [
    {
     "name": "stdout",
     "output_type": "stream",
     "text": [
      "True\n"
     ]
    }
   ],
   "source": [
    "# lambda expression in Python\n",
    "even_odd = lambda num: num % 2 == 0\n",
    "# main code \n",
    "out = even_odd(22)\n",
    "print(out) "
   ]
  },
  {
   "cell_type": "code",
   "execution_count": 9,
   "metadata": {},
   "outputs": [
    {
     "name": "stdout",
     "output_type": "stream",
     "text": [
      "8\n"
     ]
    }
   ],
   "source": [
    "# syntax\n",
    "'''\n",
    "lambda argv: return expression\n",
    "\n",
    "'''\n",
    "add = lambda a, b: a + b\n",
    "out = add(3, 5)\n",
    "print(out)"
   ]
  },
  {
   "cell_type": "code",
   "execution_count": 10,
   "metadata": {},
   "outputs": [
    {
     "name": "stdout",
     "output_type": "stream",
     "text": [
      "89.6\n"
     ]
    }
   ],
   "source": [
    "feh = lambda c:(9/5)*c + 32\n",
    "print(feh(32))"
   ]
  },
  {
   "cell_type": "code",
   "execution_count": 21,
   "metadata": {},
   "outputs": [
    {
     "name": "stdout",
     "output_type": "stream",
     "text": [
      "['ille', 'zoya', 'nitin', 'apoorv', 'venkatash']\n"
     ]
    }
   ],
   "source": [
    "# \n",
    "ls = ['zoya', 'apoorv', 'nitin', 'venkatash', 'ille']\n",
    "out = sorted(ls, key=lambda x: sum([ord(i) for i in x]))\n",
    "print(out)"
   ]
  },
  {
   "cell_type": "code",
   "execution_count": 28,
   "metadata": {},
   "outputs": [
    {
     "name": "stdout",
     "output_type": "stream",
     "text": [
      "venkatash\n"
     ]
    }
   ],
   "source": [
    "# min/max\n",
    "ls = ['zoya', 'apoorv', 'nitin', 'venkatash', 'ille']\n",
    "out = max(ls, key=lambda x: x.count('a'))\n",
    "print(out)"
   ]
  },
  {
   "cell_type": "code",
   "execution_count": 40,
   "metadata": {},
   "outputs": [
    {
     "name": "stdout",
     "output_type": "stream",
     "text": [
      "3\n"
     ]
    }
   ],
   "source": [
    "ls = [3, 5, 7, 8, 9, 3, 9, 9]\n",
    "out = ls.count(max(ls, key=ls.count))\n",
    "print(out)\n"
   ]
  },
  {
   "cell_type": "code",
   "execution_count": null,
   "metadata": {},
   "outputs": [],
   "source": [
    "# lambda expression: \n",
    "'''\n",
    "syntax:\n",
    "var = lambda agrv : return_expression\n",
    "'''"
   ]
  },
  {
   "cell_type": "code",
   "execution_count": 4,
   "metadata": {},
   "outputs": [
    {
     "name": "stdout",
     "output_type": "stream",
     "text": [
      "hello\n"
     ]
    }
   ],
   "source": [
    "add = lambda a, b : a + b\n",
    "out = add(3, 9)\n",
    "print(out)"
   ]
  },
  {
   "cell_type": "code",
   "execution_count": 8,
   "metadata": {},
   "outputs": [
    {
     "name": "stdout",
     "output_type": "stream",
     "text": [
      "98.60000000000001\n"
     ]
    }
   ],
   "source": [
    "c2f = lambda cel: 1.8 * cel + 32\n",
    "fah = c2f(37)\n",
    "print(fah)"
   ]
  },
  {
   "cell_type": "code",
   "execution_count": 15,
   "metadata": {},
   "outputs": [
    {
     "name": "stdout",
     "output_type": "stream",
     "text": [
      "['zoya', 'abhishek', 'kamal', 'om', 'manmohan']\n"
     ]
    }
   ],
   "source": [
    "# sorted()/ sort()\n",
    "ls = ['zoya', 'abhishek', 'om', 'manmohan', 'kamal' ]\n",
    "ls.sort(key=lambda x:x[-1])\n",
    "print(ls)"
   ]
  },
  {
   "cell_type": "code",
   "execution_count": 19,
   "metadata": {},
   "outputs": [
    {
     "name": "stdout",
     "output_type": "stream",
     "text": [
      "['om', 'zoya', 'kamal', 'abhishek', 'manmohan']\n"
     ]
    }
   ],
   "source": [
    "# sort the list of stgring with ascii weight\n",
    "ls = ['zoya', 'abhishek', 'om', 'manmohan', 'kamal' ]\n",
    "ls.sort(key=lambda st: sum([ord(i) for i in st]))\n",
    "print(ls)"
   ]
  },
  {
   "cell_type": "code",
   "execution_count": 21,
   "metadata": {},
   "outputs": [
    {
     "name": "stdout",
     "output_type": "stream",
     "text": [
      "manmohan\n"
     ]
    }
   ],
   "source": [
    "ls = ['zoya', 'abhishek', 'om', 'manmohan', 'kamal' ]\n",
    "out = max(ls, key=lambda x:x[-1])\n",
    "print(out)\n",
    "# exercism.org\n",
    "# hyperskill.org"
   ]
  },
  {
   "cell_type": "code",
   "execution_count": 26,
   "metadata": {},
   "outputs": [
    {
     "name": "stdout",
     "output_type": "stream",
     "text": [
      "[37.4, 41.0, 42.8, 46.4]\n"
     ]
    }
   ],
   "source": [
    "ls = [3, 5, 6, 8]\n",
    "out = list(map(lambda x:1.8*x+32, ls))\n",
    "print(out)"
   ]
  },
  {
   "cell_type": "code",
   "execution_count": 35,
   "metadata": {},
   "outputs": [
    {
     "name": "stdout",
     "output_type": "stream",
     "text": [
      "['Zoya', 'Abhishek', 'Om']\n"
     ]
    }
   ],
   "source": [
    "def fun(st):\n",
    "    return st.capitalize() == st \n",
    "ls = ['Zoya', 'Abhishek', 'Om', 'manmohan', 'kamal' ]\n",
    "out = [i for i in ls if i == i.capitalize()]\n",
    "print(out)"
   ]
  }
 ],
 "metadata": {
  "kernelspec": {
   "display_name": "Python 3",
   "language": "python",
   "name": "python3"
  },
  "language_info": {
   "codemirror_mode": {
    "name": "ipython",
    "version": 3
   },
   "file_extension": ".py",
   "mimetype": "text/x-python",
   "name": "python",
   "nbconvert_exporter": "python",
   "pygments_lexer": "ipython3",
   "version": "3.12.0"
  }
 },
 "nbformat": 4,
 "nbformat_minor": 2
}
