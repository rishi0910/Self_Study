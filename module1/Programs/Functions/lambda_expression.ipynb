{
 "cells": [
  {
   "cell_type": "code",
   "execution_count": 9,
   "metadata": {},
   "outputs": [],
   "source": [
    "# lambda expression : annonymous function \n",
    "add = lambda a, b : a + b\n"
   ]
  },
  {
   "cell_type": "code",
   "execution_count": 10,
   "metadata": {},
   "outputs": [
    {
     "name": "stdout",
     "output_type": "stream",
     "text": [
      "6\n"
     ]
    }
   ],
   "source": [
    "out = add(2, 4)\n",
    "print(out)"
   ]
  },
  {
   "cell_type": "code",
   "execution_count": 13,
   "metadata": {},
   "outputs": [
    {
     "name": "stdout",
     "output_type": "stream",
     "text": [
      "Fah value -40.0\n"
     ]
    }
   ],
   "source": [
    "# celcius to fah\n",
    "c2f = lambda cel: 1.8 * cel + 32\n",
    "val = -40\n",
    "out = c2f(val)\n",
    "print(f'Fah value {out}')"
   ]
  },
  {
   "cell_type": "code",
   "execution_count": 18,
   "metadata": {},
   "outputs": [
    {
     "name": "stdout",
     "output_type": "stream",
     "text": [
      "['zoya', 'vishal', 'brajveer', 'arit', 'mohit']\n"
     ]
    }
   ],
   "source": [
    "\n",
    "lst = ['vishal', 'arit', 'brajveer', 'zoya', 'mohit']\n",
    "lst.sort(key=lambda st: st[-1])\n",
    "print(lst)\n"
   ]
  },
  {
   "cell_type": "code",
   "execution_count": 20,
   "metadata": {},
   "outputs": [
    {
     "name": "stdout",
     "output_type": "stream",
     "text": [
      "['Vishal', 'Arit', 'Brajveer', 'Zoya', 'Mohit']\n"
     ]
    }
   ],
   "source": [
    "\n",
    "lst = ['vishal', 'arit', 'brajveer', 'zoya', 'mohit']\n",
    "out = list(map(lambda st: st.capitalize(), lst))\n",
    "print(out)"
   ]
  },
  {
   "cell_type": "code",
   "execution_count": 26,
   "metadata": {},
   "outputs": [
    {
     "name": "stdout",
     "output_type": "stream",
     "text": [
      "brajjjjveer\n"
     ]
    }
   ],
   "source": [
    "\n",
    "lst = ['vishaal', 'arita', 'brajjjjveer', 'zoya', 'mohit']\n",
    "out = max(lst, key=lambda st: st.count('j'))\n",
    "print(out)"
   ]
  },
  {
   "cell_type": "code",
   "execution_count": 31,
   "metadata": {},
   "outputs": [
    {
     "name": "stdout",
     "output_type": "stream",
     "text": [
      "[2, 34, 4, 8]\n"
     ]
    }
   ],
   "source": [
    "\n",
    " \n",
    "ls = [1, 2, 34, 4, 3, 8, 9]\n",
    "out = list(filter(lambda n: n % 2 == 0 , ls))\n",
    "print(out)\n"
   ]
  },
  {
   "cell_type": "code",
   "execution_count": 39,
   "metadata": {},
   "outputs": [
    {
     "name": "stdout",
     "output_type": "stream",
     "text": [
      "['vishal', 'mohit']\n"
     ]
    }
   ],
   "source": [
    "lst = {'vishal': 34, 'arit': 12, 'brajveer': 19, 'zoya': 20, 'mohit': 50}\n",
    "out = [i for i in lst if lst[i] >20]\n",
    "print(out)"
   ]
  }
 ],
 "metadata": {
  "kernelspec": {
   "display_name": "Python 3",
   "language": "python",
   "name": "python3"
  },
  "language_info": {
   "codemirror_mode": {
    "name": "ipython",
    "version": 3
   },
   "file_extension": ".py",
   "mimetype": "text/x-python",
   "name": "python",
   "nbconvert_exporter": "python",
   "pygments_lexer": "ipython3",
   "version": "3.12.0"
  }
 },
 "nbformat": 4,
 "nbformat_minor": 2
}
