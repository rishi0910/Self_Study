{
 "cells": [
  {
   "cell_type": "code",
   "execution_count": 2,
   "metadata": {},
   "outputs": [
    {
     "name": "stdout",
     "output_type": "stream",
     "text": [
      "(10,) <class 'tuple'>\n"
     ]
    }
   ],
   "source": [
    "# create a tuple \n",
    "t=()\n",
    "print(t,type(t))"
   ]
  },
  {
   "cell_type": "code",
   "execution_count": null,
   "metadata": {},
   "outputs": [],
   "source": [
    "# tuple with different data types\n",
    "t=(10,[],'hello')\n",
    "print(t,type(t))"
   ]
  },
  {
   "cell_type": "code",
   "execution_count": 6,
   "metadata": {},
   "outputs": [
    {
     "name": "stdout",
     "output_type": "stream",
     "text": [
      "(1, 2, 3, 4) <class 'tuple'>\n"
     ]
    }
   ],
   "source": [
    "n=tuple(map(int,input().split()))\n",
    "print(n,type(n))\n",
    "\n"
   ]
  },
  {
   "cell_type": "code",
   "execution_count": null,
   "metadata": {},
   "outputs": [],
   "source": [
    "# packing and unpacking \n",
    "a, b, *c = 10, 30"
   ]
  },
  {
   "cell_type": "code",
   "execution_count": 7,
   "metadata": {},
   "outputs": [
    {
     "name": "stdout",
     "output_type": "stream",
     "text": [
      "(3, 5, 67) 3016151772608\n",
      "(3, 5, 67, 100) 3016151555968\n"
     ]
    }
   ],
   "source": [
    "# write a Python program to add an item in a tuple\n",
    "t = (3, 5, 67)\n",
    "print(t, id(t))\n",
    "\n",
    "element = int(input('Enter the element '))\n",
    "t += element, \n",
    "\n",
    "print(t, id(t))"
   ]
  },
  {
   "cell_type": "code",
   "execution_count": 10,
   "metadata": {},
   "outputs": [
    {
     "name": "stdout",
     "output_type": "stream",
     "text": [
      "11 140718504200952\n",
      "10 140718504200920\n"
     ]
    }
   ],
   "source": [
    "a = 10 \n",
    "a = a + 1\n",
    "print(a, id(a))\n",
    "\n",
    "b = 10\n",
    "print(b, id(b))"
   ]
  },
  {
   "cell_type": "code",
   "execution_count": 25,
   "metadata": {},
   "outputs": [
    {
     "data": {
      "text/plain": [
       "'2 4 16 9'"
      ]
     },
     "execution_count": 25,
     "metadata": {},
     "output_type": "execute_result"
    }
   ],
   "source": [
    "# write a Python program to convert a tuple to a string.\n",
    "t = (2, 4, 16, 9)\n",
    "st = ' '.join(map(str, t))\n",
    "st\n",
    "# '2469'"
   ]
  },
  {
   "cell_type": "code",
   "execution_count": 29,
   "metadata": {},
   "outputs": [
    {
     "name": "stdout",
     "output_type": "stream",
     "text": [
      "10\n"
     ]
    }
   ],
   "source": [
    "st = 'helllllllllo'\n",
    "out = st.rfind('l')\n",
    "print(out)"
   ]
  },
  {
   "cell_type": "code",
   "execution_count": 11,
   "metadata": {},
   "outputs": [
    {
     "name": "stdout",
     "output_type": "stream",
     "text": [
      "('hello',) <class 'tuple'>\n"
     ]
    }
   ],
   "source": [
    "# tuple initialization\n",
    "t = ('hello',)\n",
    "print(t, type(t))"
   ]
  },
  {
   "cell_type": "code",
   "execution_count": 13,
   "metadata": {},
   "outputs": [
    {
     "name": "stdout",
     "output_type": "stream",
     "text": [
      "(3, 5, 'hello', (3+4j), [], (), {}) <class 'tuple'>\n"
     ]
    }
   ],
   "source": [
    "t = (3, 5, 'hello', 3+4j, [], (), {})\n",
    "print(t, type(t))"
   ]
  },
  {
   "cell_type": "code",
   "execution_count": 35,
   "metadata": {},
   "outputs": [
    {
     "name": "stdout",
     "output_type": "stream",
     "text": [
      "a=[]\n",
      "b=10\n"
     ]
    }
   ],
   "source": [
    "*a, b = 10,\n",
    "print(f'{a=}')\n",
    "print(f'{b=}')"
   ]
  },
  {
   "cell_type": "code",
   "execution_count": 38,
   "metadata": {},
   "outputs": [
    {
     "name": "stdout",
     "output_type": "stream",
     "text": [
      "(3, 45, 6) 2359853389632\n",
      "(3, 45, 6, 100) 2359853668592\n"
     ]
    }
   ],
   "source": [
    "# add the item in a tuple\n",
    "t = (3, 45, 6)\n",
    "print(t, id(t))\n",
    "item = eval(input('enter the item '))\n",
    "t += item,\n",
    "print(t, id(t))"
   ]
  },
  {
   "cell_type": "code",
   "execution_count": 40,
   "metadata": {},
   "outputs": [
    {
     "name": "stdout",
     "output_type": "stream",
     "text": [
      "[(4, 6, 3), ([],), (34,)]\n"
     ]
    }
   ],
   "source": [
    "st = [(), (4, 6, 3), ([],), (34, ), ()]\n",
    "print(st, id(st))\n",
    "        \n",
    "print(st, id(st))"
   ]
  },
  {
   "cell_type": "code",
   "execution_count": 48,
   "metadata": {},
   "outputs": [
    {
     "name": "stdout",
     "output_type": "stream",
     "text": [
      "['rachit']\n"
     ]
    }
   ],
   "source": [
    "st = ['rahul', 'rachit', 'om']\n",
    "for i in st:\n",
    "    st.remove(i)\n",
    "print(st)\n",
    "        \n",
    "      "
   ]
  },
  {
   "cell_type": "code",
   "execution_count": 4,
   "metadata": {},
   "outputs": [
    {
     "name": "stdout",
     "output_type": "stream",
     "text": [
      "{1: 10, 2: 5}\n"
     ]
    }
   ],
   "source": [
    "d = {1:3, 2: 5}\n",
    "d[1] = 10\n",
    "d[0] = 20\n",
    "d.popitem()\n",
    "print(d)"
   ]
  }
 ],
 "metadata": {
  "kernelspec": {
   "display_name": "Python 3",
   "language": "python",
   "name": "python3"
  },
  "language_info": {
   "codemirror_mode": {
    "name": "ipython",
    "version": 3
   },
   "file_extension": ".py",
   "mimetype": "text/x-python",
   "name": "python",
   "nbconvert_exporter": "python",
   "pygments_lexer": "ipython3",
   "version": "3.12.0"
  }
 },
 "nbformat": 4,
 "nbformat_minor": 2
}
