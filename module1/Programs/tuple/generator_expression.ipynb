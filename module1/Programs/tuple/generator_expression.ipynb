{
 "cells": [
  {
   "cell_type": "code",
   "execution_count": null,
   "metadata": {},
   "outputs": [],
   "source": [
    "# list comprehension: the consize way to create a list\n",
    "# [expression for i in seq if condition]"
   ]
  },
  {
   "cell_type": "code",
   "execution_count": 5,
   "metadata": {},
   "outputs": [
    {
     "name": "stdout",
     "output_type": "stream",
     "text": [
      "[900]\n"
     ]
    }
   ],
   "source": [
    "lst = [30, 23, 15, 67]\n",
    "out = [i**2 for i in lst if i % 2 == 0 ]\n",
    "print(out)\n",
    "# [28, 21, 13, 65]"
   ]
  },
  {
   "cell_type": "code",
   "execution_count": 6,
   "metadata": {},
   "outputs": [
    {
     "name": "stdout",
     "output_type": "stream",
     "text": [
      "[34, 56, 24]\n"
     ]
    }
   ],
   "source": [
    "# read the space separated integer array from user \n",
    "out = [int(i) for i in input().split()]   # ['34', '55', '67']\n",
    "print(out)"
   ]
  },
  {
   "cell_type": "code",
   "execution_count": 23,
   "metadata": {},
   "outputs": [
    {
     "name": "stdout",
     "output_type": "stream",
     "text": [
      "<generator object <genexpr> at 0x000002BF2C29B5E0>\n"
     ]
    }
   ],
   "source": [
    "lst = [4, 6, 8]\n",
    "out = (float(i) for i in lst)\n",
    "print(out)"
   ]
  },
  {
   "cell_type": "code",
   "execution_count": 27,
   "metadata": {},
   "outputs": [
    {
     "ename": "StopIteration",
     "evalue": "",
     "output_type": "error",
     "traceback": [
      "\u001b[1;31m---------------------------------------------------------------------------\u001b[0m",
      "\u001b[1;31mStopIteration\u001b[0m                             Traceback (most recent call last)",
      "\u001b[1;32mc:\\Users\\GLA\\Desktop\\Python\\Batch2023-24\\Programs\\tuple\\generator_expression.ipynb Cell 5\u001b[0m line \u001b[0;36m1\n\u001b[1;32m----> <a href='vscode-notebook-cell:/c%3A/Users/GLA/Desktop/Python/Batch2023-24/Programs/tuple/generator_expression.ipynb#W4sZmlsZQ%3D%3D?line=0'>1</a>\u001b[0m yh \u001b[39m=\u001b[39m \u001b[39mnext\u001b[39;49m(out)\n\u001b[0;32m      <a href='vscode-notebook-cell:/c%3A/Users/GLA/Desktop/Python/Batch2023-24/Programs/tuple/generator_expression.ipynb#W4sZmlsZQ%3D%3D?line=1'>2</a>\u001b[0m \u001b[39mprint\u001b[39m(yh)\n",
      "\u001b[1;31mStopIteration\u001b[0m: "
     ]
    }
   ],
   "source": [
    "yh = next(out)\n",
    "print(yh)"
   ]
  },
  {
   "cell_type": "code",
   "execution_count": 34,
   "metadata": {},
   "outputs": [
    {
     "name": "stdout",
     "output_type": "stream",
     "text": [
      "[(45,), ([],), (34, 6, 8), ('',)]\n"
     ]
    }
   ],
   "source": [
    "lst = [(), (), (45,), ([],), (34, 6, 8), (), ('',)]\n",
    "out = [i for i in lst if i]\n",
    "print(out)\n",
    "# [(45,), ([],), (34, 6, 8), ('',)]"
   ]
  },
  {
   "cell_type": "code",
   "execution_count": 29,
   "metadata": {},
   "outputs": [
    {
     "name": "stdout",
     "output_type": "stream",
     "text": [
      "['kartikay', 'parth']\n"
     ]
    }
   ],
   "source": [
    "names = ['pragyan', 'kartikay', 'uday', 'parth']\n",
    "for n in names:\n",
    "    names.remove(n)\n",
    "print(names)"
   ]
  },
  {
   "cell_type": "code",
   "execution_count": 42,
   "metadata": {},
   "outputs": [
    {
     "name": "stdout",
     "output_type": "stream",
     "text": [
      "pragyan\n",
      "kartikay\n",
      "uday\n",
      "parth\n",
      "[]\n"
     ]
    }
   ],
   "source": [
    "names = ['pragyan', 'kartikay', 'uday', 'parth']\n",
    "out = [i for i in names if print(i)]\n",
    "print(out)"
   ]
  },
  {
   "cell_type": "code",
   "execution_count": null,
   "metadata": {},
   "outputs": [],
   "source": []
  }
 ],
 "metadata": {
  "kernelspec": {
   "display_name": "Python 3",
   "language": "python",
   "name": "python3"
  },
  "language_info": {
   "codemirror_mode": {
    "name": "ipython",
    "version": 3
   },
   "file_extension": ".py",
   "mimetype": "text/x-python",
   "name": "python",
   "nbconvert_exporter": "python",
   "pygments_lexer": "ipython3",
   "version": "3.12.0"
  }
 },
 "nbformat": 4,
 "nbformat_minor": 2
}
