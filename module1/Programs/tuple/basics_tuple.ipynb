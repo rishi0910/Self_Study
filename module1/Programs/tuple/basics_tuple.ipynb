{
 "cells": [
  {
   "cell_type": "code",
   "execution_count": 4,
   "metadata": {},
   "outputs": [
    {
     "name": "stdout",
     "output_type": "stream",
     "text": [
      "() <class 'tuple'>\n"
     ]
    }
   ],
   "source": [
    "# How to initialize the tuple\n",
    "tp = tuple()\n",
    "print(tp, type(tp))"
   ]
  },
  {
   "cell_type": "code",
   "execution_count": 7,
   "metadata": {},
   "outputs": [
    {
     "name": "stdout",
     "output_type": "stream",
     "text": [
      "('hi', 'hello', 'hi') <class 'tuple'>\n"
     ]
    }
   ],
   "source": [
    "# initialization tuple with integers \n",
    "# tpo = (34, 6, 7, 8)\n",
    "# tpo = (2, 4.6, 3+5j, 'hello', None)\n",
    "tpo = ('hi', 'hello', 'hi')\n",
    "print(tpo, type(tpo))"
   ]
  },
  {
   "cell_type": "code",
   "execution_count": 16,
   "metadata": {},
   "outputs": [
    {
     "name": "stdout",
     "output_type": "stream",
     "text": [
      "('hello',) <class 'tuple'>\n"
     ]
    }
   ],
   "source": [
    "tp = ('hello',)\n",
    "print(tp, type(tp))"
   ]
  },
  {
   "cell_type": "code",
   "execution_count": 29,
   "metadata": {},
   "outputs": [
    {
     "name": "stdout",
     "output_type": "stream",
     "text": [
      "a=10\n",
      "b=34\n",
      "c=[10, 14]\n"
     ]
    }
   ],
   "source": [
    "a, b, *c = 10, 34, 10, 14\n",
    "print(f'{a=}')\n",
    "print(f'{b=}')\n",
    "print(f'{c=}')"
   ]
  },
  {
   "cell_type": "code",
   "execution_count": 23,
   "metadata": {},
   "outputs": [
    {
     "name": "stdout",
     "output_type": "stream",
     "text": [
      "(3,) <class 'tuple'>\n"
     ]
    }
   ],
   "source": [
    "a = 3,\n",
    "print(a, type(a)) "
   ]
  },
  {
   "cell_type": "code",
   "execution_count": 36,
   "metadata": {},
   "outputs": [
    {
     "ename": "TypeError",
     "evalue": "'tuple' object does not support item assignment",
     "output_type": "error",
     "traceback": [
      "\u001b[1;31m---------------------------------------------------------------------------\u001b[0m",
      "\u001b[1;31mTypeError\u001b[0m                                 Traceback (most recent call last)",
      "\u001b[1;32mc:\\Users\\GLA\\Desktop\\Python\\Batch2023-24\\Programs\\tuple\\basics_tuple.ipynb Cell 6\u001b[0m line \u001b[0;36m2\n\u001b[0;32m      <a href='vscode-notebook-cell:/c%3A/Users/GLA/Desktop/Python/Batch2023-24/Programs/tuple/basics_tuple.ipynb#W5sZmlsZQ%3D%3D?line=0'>1</a>\u001b[0m tp \u001b[39m=\u001b[39m (\u001b[39m4\u001b[39m, \u001b[39m6\u001b[39m, \u001b[39m7\u001b[39m)\n\u001b[1;32m----> <a href='vscode-notebook-cell:/c%3A/Users/GLA/Desktop/Python/Batch2023-24/Programs/tuple/basics_tuple.ipynb#W5sZmlsZQ%3D%3D?line=1'>2</a>\u001b[0m tp[\u001b[39m1\u001b[39;49m] \u001b[39m=\u001b[39m \u001b[39m100\u001b[39m\n\u001b[0;32m      <a href='vscode-notebook-cell:/c%3A/Users/GLA/Desktop/Python/Batch2023-24/Programs/tuple/basics_tuple.ipynb#W5sZmlsZQ%3D%3D?line=2'>3</a>\u001b[0m \u001b[39mprint\u001b[39m(tp)\n",
      "\u001b[1;31mTypeError\u001b[0m: 'tuple' object does not support item assignment"
     ]
    }
   ],
   "source": [
    "# item assignment\n",
    "tp = (4, 6, 7)\n",
    "tp[1] = 100\n",
    "print(tp)"
   ]
  },
  {
   "cell_type": "code",
   "execution_count": 37,
   "metadata": {},
   "outputs": [
    {
     "ename": "TypeError",
     "evalue": "'tuple' object doesn't support item deletion",
     "output_type": "error",
     "traceback": [
      "\u001b[1;31m---------------------------------------------------------------------------\u001b[0m",
      "\u001b[1;31mTypeError\u001b[0m                                 Traceback (most recent call last)",
      "\u001b[1;32mc:\\Users\\GLA\\Desktop\\Python\\Batch2023-24\\Programs\\tuple\\basics_tuple.ipynb Cell 7\u001b[0m line \u001b[0;36m3\n\u001b[0;32m      <a href='vscode-notebook-cell:/c%3A/Users/GLA/Desktop/Python/Batch2023-24/Programs/tuple/basics_tuple.ipynb#W6sZmlsZQ%3D%3D?line=0'>1</a>\u001b[0m \u001b[39m# item deletion\u001b[39;00m\n\u001b[0;32m      <a href='vscode-notebook-cell:/c%3A/Users/GLA/Desktop/Python/Batch2023-24/Programs/tuple/basics_tuple.ipynb#W6sZmlsZQ%3D%3D?line=1'>2</a>\u001b[0m tp \u001b[39m=\u001b[39m (\u001b[39m4\u001b[39m, \u001b[39m6\u001b[39m, \u001b[39m7\u001b[39m)\n\u001b[1;32m----> <a href='vscode-notebook-cell:/c%3A/Users/GLA/Desktop/Python/Batch2023-24/Programs/tuple/basics_tuple.ipynb#W6sZmlsZQ%3D%3D?line=2'>3</a>\u001b[0m \u001b[39mdel\u001b[39;00m tp[\u001b[39m1\u001b[39;49m]\n\u001b[0;32m      <a href='vscode-notebook-cell:/c%3A/Users/GLA/Desktop/Python/Batch2023-24/Programs/tuple/basics_tuple.ipynb#W6sZmlsZQ%3D%3D?line=3'>4</a>\u001b[0m \u001b[39mprint\u001b[39m(tp)\n",
      "\u001b[1;31mTypeError\u001b[0m: 'tuple' object doesn't support item deletion"
     ]
    }
   ],
   "source": [
    "# item deletion\n",
    "tp = (4, 6, 7)\n",
    "del tp[1]\n",
    "print(tp)"
   ]
  },
  {
   "cell_type": "code",
   "execution_count": 40,
   "metadata": {},
   "outputs": [
    {
     "name": "stdout",
     "output_type": "stream",
     "text": [
      "(34, 6, 7, 8) 2289596066016\n",
      "(34, 6, 7, 8, 100) 2289596068576\n"
     ]
    }
   ],
   "source": [
    "tp = (34, 6, 7, 8)\n",
    "print(tp, id(tp))\n",
    "item = int(input('Enter the item '))\n",
    "tp = tp + (item,) \n",
    "print(tp, id(tp))"
   ]
  },
  {
   "cell_type": "code",
   "execution_count": null,
   "metadata": {},
   "outputs": [],
   "source": [
    "# list comprehension: the consize way to create a list\n",
    "'''\n",
    "syntax:\n",
    "[expression for i in seq if condition ]\n",
    "'''"
   ]
  },
  {
   "cell_type": "code",
   "execution_count": 48,
   "metadata": {},
   "outputs": [
    {
     "name": "stdout",
     "output_type": "stream",
     "text": [
      "[]\n"
     ]
    }
   ],
   "source": [
    "# example:\n",
    "lst = [23, 5]\n",
    "out = [i**2 for i in lst if i % 2 == 0]\n",
    "print(out)"
   ]
  }
 ],
 "metadata": {
  "kernelspec": {
   "display_name": "Python 3",
   "language": "python",
   "name": "python3"
  },
  "language_info": {
   "codemirror_mode": {
    "name": "ipython",
    "version": 3
   },
   "file_extension": ".py",
   "mimetype": "text/x-python",
   "name": "python",
   "nbconvert_exporter": "python",
   "pygments_lexer": "ipython3",
   "version": "3.12.0"
  }
 },
 "nbformat": 4,
 "nbformat_minor": 2
}
