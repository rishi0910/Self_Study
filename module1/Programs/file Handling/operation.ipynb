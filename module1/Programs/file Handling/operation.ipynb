{
 "cells": [
  {
   "cell_type": "code",
   "execution_count": null,
   "metadata": {},
   "outputs": [],
   "source": [
    "# fileHandling : read, write, append ()\n",
    "'''\n",
    "1. open the file \n",
    "2. Do the operation(Read/Write)\n",
    "3. close the file \n",
    "# open the file \n",
    "file_object = open('filename', 'filemode')\n",
    "\n",
    "'''"
   ]
  },
  {
   "cell_type": "code",
   "execution_count": 17,
   "metadata": {},
   "outputs": [],
   "source": [
    "f = open(r'C:\\Users\\GLA\\Desktop\\sectionCA\\sample.txt', 'w')\n",
    "f.write(\"Hello World with write function\\n\")\n",
    "f.write('python Programming')\n",
    "f.close()"
   ]
  },
  {
   "cell_type": "code",
   "execution_count": 49,
   "metadata": {},
   "outputs": [
    {
     "name": "stdout",
     "output_type": "stream",
     "text": [
      "python Programming\n",
      "False\n"
     ]
    }
   ],
   "source": [
    "f = open(r'C:\\Users\\GLA\\Desktop\\sectionCA\\sample.txt', 'r')\n",
    "for line in  f:\n",
    "    data = next(f)\n",
    "    print(data)\n",
    "# data3 = f.readline()\n",
    "# print(data1)\n",
    "# print(data1)\n",
    "# print(data3)\n",
    "print(f.closed)"
   ]
  },
  {
   "cell_type": "code",
   "execution_count": 50,
   "metadata": {},
   "outputs": [
    {
     "name": "stdout",
     "output_type": "stream",
     "text": [
      "Hello World\n",
      "\n",
      "True\n"
     ]
    }
   ],
   "source": [
    "with open('sample.txt') as f:\n",
    "    print(f.read())\n",
    "    \n",
    "print(f.closed)"
   ]
  },
  {
   "cell_type": "code",
   "execution_count": 31,
   "metadata": {},
   "outputs": [
    {
     "name": "stdout",
     "output_type": "stream",
     "text": [
      "Hello World with write function\n",
      " 32\n"
     ]
    }
   ],
   "source": [
    "st = \"Hello World with write function\\n\"\n",
    "print(st, len(st))"
   ]
  },
  {
   "cell_type": "code",
   "execution_count": null,
   "metadata": {},
   "outputs": [],
   "source": [
    "# file handling : reading and writing operation with local file \n",
    "'''\n",
    "1. open the file \n",
    "2. do the operation (Read/Write)\n",
    "3. close the file \n",
    "\n",
    "# file open\n",
    "file_object = open('file_name(with path)', 'fileMode')\n",
    "'''\n"
   ]
  },
  {
   "cell_type": "code",
   "execution_count": 78,
   "metadata": {},
   "outputs": [],
   "source": [
    "f = open('sample.txt', 'w')\n",
    "f.write(\"Hello World\\n\")\n",
    "f.write(\"Text for File\")\n",
    "f.close()"
   ]
  },
  {
   "cell_type": "code",
   "execution_count": 82,
   "metadata": {},
   "outputs": [
    {
     "name": "stdout",
     "output_type": "stream",
     "text": [
      "Hello World\n"
     ]
    }
   ],
   "source": [
    "# file reading \n",
    "f = open('sample.txt', 'r')\n",
    "data = f.read(11)\n",
    "print(data)\n",
    "f.close()"
   ]
  },
  {
   "cell_type": "code",
   "execution_count": 83,
   "metadata": {},
   "outputs": [
    {
     "data": {
      "text/plain": [
       "'C:\\\\Users\\\\GLA\\\\Desktop\\\\sectionCD'"
      ]
     },
     "execution_count": 83,
     "metadata": {},
     "output_type": "execute_result"
    }
   ],
   "source": [
    "st = r'C:\\Users\\GLA\\Desktop\\sectionCD'\n",
    "print(st)"
   ]
  },
  {
   "cell_type": "code",
   "execution_count": 66,
   "metadata": {},
   "outputs": [
    {
     "name": "stdout",
     "output_type": "stream",
     "text": [
      "hel\\nlo\n"
     ]
    }
   ],
   "source": [
    "# file handling : reading and writing operation with local file \n",
    "'''\n",
    "steps to handle the file \n",
    "1. open the file \n",
    "2. Do the operation(Read/Write)\n",
    "3. Close the file \n",
    "\n",
    "# open the file \n",
    "file_object = open('file_name', 'file_mode')\n",
    "'''"
   ]
  },
  {
   "cell_type": "code",
   "execution_count": 21,
   "metadata": {},
   "outputs": [
    {
     "name": "stdout",
     "output_type": "stream",
     "text": [
      "1\t2\t3\t4\t5\t6\t7\t8\t9\t10\t\n",
      "2\t4\t6\t8\t10\t12\t14\t16\t18\t20\t\n",
      "3\t6\t9\t12\t15\t18\t21\t24\t27\t30\t\n",
      "4\t8\t12\t16\t20\t24\t28\t32\t36\t40\t\n",
      "5\t10\t15\t20\t25\t30\t35\t40\t45\t50\t\n",
      "6\t12\t18\t24\t30\t36\t42\t48\t54\t60\t\n",
      "7\t14\t21\t28\t35\t42\t49\t56\t63\t70\t\n",
      "8\t16\t24\t32\t40\t48\t56\t64\t72\t80\t\n",
      "9\t18\t27\t36\t45\t54\t63\t72\t81\t90\t\n",
      "10\t20\t30\t40\t50\t60\t70\t80\t90\t100\t\n"
     ]
    }
   ],
   "source": [
    "f = open(r'C:\\Users\\GLA\\Desktop\\section CB\\sample.txt', 'w')\n",
    "for i in  range(1, 11):\n",
    "    for j in range(1, 11):\n",
    "        print(i * j, end='\\t')\n",
    "        f.write(f'{i* j}\\t')\n",
    "    print()\n",
    "    f.write('\\n')\n",
    "f.close()"
   ]
  },
  {
   "cell_type": "code",
   "execution_count": 31,
   "metadata": {},
   "outputs": [
    {
     "name": "stdout",
     "output_type": "stream",
     "text": [
      "hello world\n",
      "Python Programming\n",
      "GLA University\n"
     ]
    }
   ],
   "source": [
    "# file read()\n",
    "f = open(r'C:\\Users\\GLA\\Desktop\\section CB\\Test.txt', 'r')\n",
    "data = f.read()\n",
    "print(data)\n",
    "\n",
    "f.close()"
   ]
  },
  {
   "cell_type": "code",
   "execution_count": 45,
   "metadata": {},
   "outputs": [
    {
     "name": "stdout",
     "output_type": "stream",
     "text": [
      "Python Programming\n",
      "\n"
     ]
    }
   ],
   "source": [
    "# file read()\n",
    "f = open(r'C:\\Users\\GLA\\Desktop\\section CB\\Test.txt', 'r')\n",
    "data = f.readline(12)\n",
    "# print(data)\n",
    "data2 = f.readline()\n",
    "print(data2)\n",
    "\n",
    "f.close()"
   ]
  },
  {
   "cell_type": "code",
   "execution_count": 52,
   "metadata": {},
   "outputs": [
    {
     "name": "stdout",
     "output_type": "stream",
     "text": [
      "['hello world\\n', 'Python Programming\\n']\n"
     ]
    }
   ],
   "source": [
    "# file readlines()\n",
    "f = open(r'C:\\Users\\GLA\\Desktop\\section CB\\Test.txt', 'r')\n",
    "data = f.readlines(15)\n",
    "print(data)\n",
    "# data2 = f.readline()\n",
    "# print(data2)\n",
    "\n",
    "f.close()"
   ]
  },
  {
   "cell_type": "code",
   "execution_count": 57,
   "metadata": {},
   "outputs": [],
   "source": [
    "# file readlines()\n",
    "f = open(r'C:\\Users\\GLA\\Desktop\\section CB\\Test.txt', 'a')\n",
    "f.write('\\nNext Line')\n",
    "f.close()"
   ]
  }
 ],
 "metadata": {
  "kernelspec": {
   "display_name": "Python 3",
   "language": "python",
   "name": "python3"
  },
  "language_info": {
   "codemirror_mode": {
    "name": "ipython",
    "version": 3
   },
   "file_extension": ".py",
   "mimetype": "text/x-python",
   "name": "python",
   "nbconvert_exporter": "python",
   "pygments_lexer": "ipython3",
   "version": "3.12.0"
  }
 },
 "nbformat": 4,
 "nbformat_minor": 2
}
