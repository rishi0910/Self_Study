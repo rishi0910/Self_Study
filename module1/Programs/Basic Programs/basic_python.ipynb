{
 "cells": [
  {
   "cell_type": "code",
   "execution_count": null,
   "metadata": {},
   "outputs": [],
   "source": [
    "# Python is Interpreted Language\n",
    "# Python is Dynamically Typed Language\n",
    "# Python is Object Oriented Language\n",
    "# Python is High Level Language\n",
    "# Python is General Purpose Language\n",
    "# Python is Beginner's Language\n",
    "# Python is Portable Language\n",
    "# Python is Extensible Language\n",
    "# Python is Embeddable Language\n",
    "# Python is Extensive Library\n",
    "# Python is Free and Open Source Language\n",
    "# Python is Case Sensitive Language\n",
    "# Python is a Programming Language\n",
    "# Python is a Scripting Language\n",
    "# Python is a Functional Language\n",
    "# Python is a Procedural Language\n",
    "# Python is a Modular Language\n",
    "# Python is a Structured Language"
   ]
  },
  {
   "cell_type": "code",
   "execution_count": 1,
   "metadata": {},
   "outputs": [
    {
     "name": "stdout",
     "output_type": "stream",
     "text": [
      "<class 'int'>\n"
     ]
    }
   ],
   "source": [
    "# auto declare variable\n",
    "# auto memory management\n",
    "# auto garbage collection\n",
    "\n",
    "a = 10  # based on value variable a associat with int\n",
    "print(type(a))"
   ]
  },
  {
   "cell_type": "code",
   "execution_count": 5,
   "metadata": {},
   "outputs": [
    {
     "name": "stdout",
     "output_type": "stream",
     "text": [
      "raman <class 'str'>\n"
     ]
    }
   ],
   "source": [
    "# input(): \n",
    "data = eval(input())\n",
    "print(data, type(data))"
   ]
  },
  {
   "cell_type": "code",
   "execution_count": 8,
   "metadata": {},
   "outputs": [
    {
     "name": "stdout",
     "output_type": "stream",
     "text": [
      "Value of a 23\n",
      "Value of b 23\n"
     ]
    }
   ],
   "source": [
    "# print(): use to display user information or output on consol\n",
    "\n",
    "# 1. print(obj1, obj2, obj3, ..): optional positional arguments\n",
    "a = 23\n",
    "b = 23 \n",
    "print(\"Value of a\", a)\n",
    "print(\"Value of b\", b)"
   ]
  },
  {
   "cell_type": "code",
   "execution_count": 12,
   "metadata": {},
   "outputs": [
    {
     "name": "stdout",
     "output_type": "stream",
     "text": [
      "Value of a 12 and value of b 45\n"
     ]
    }
   ],
   "source": [
    "a = 12\n",
    "b = 45\n",
    "tmp = \"Value of a {} and value of b {}\". format(a, b)\n",
    "print(tmp)"
   ]
  },
  {
   "cell_type": "code",
   "execution_count": 17,
   "metadata": {},
   "outputs": [
    {
     "name": "stdout",
     "output_type": "stream",
     "text": [
      "Value of a 12.3000 and value of b 45.00\n"
     ]
    }
   ],
   "source": [
    "a = 12.3\n",
    "b = 45.0023232\n",
    "tmp = \"Value of a {0:.4f} and value of b {1:.2f}\". format(a, b)\n",
    "print(tmp)"
   ]
  },
  {
   "cell_type": "code",
   "execution_count": 20,
   "metadata": {},
   "outputs": [
    {
     "name": "stdout",
     "output_type": "stream",
     "text": [
      "Value of a 12 and value of b 45\n"
     ]
    }
   ],
   "source": [
    "# f-tag string format\n",
    "a = 12\n",
    "b = 45\n",
    "tmp = f\"Value of a {a} and value of b {b}\"\n",
    "print(tmp)"
   ]
  },
  {
   "cell_type": "code",
   "execution_count": 21,
   "metadata": {},
   "outputs": [
    {
     "name": "stdout",
     "output_type": "stream",
     "text": [
      "Value of a 12.34 and value of b 45.23\n"
     ]
    }
   ],
   "source": [
    "# f-tag string format\n",
    "a = 12.34\n",
    "b = 45.23\n",
    "tmp = f\"Value of a {a:.2f} and value of b {b:.2f}\"\n",
    "print(tmp)"
   ]
  },
  {
   "cell_type": "code",
   "execution_count": 31,
   "metadata": {},
   "outputs": [
    {
     "name": "stdout",
     "output_type": "stream",
     "text": [
      "27.5233\n"
     ]
    }
   ],
   "source": [
    "a = 27.5233\n",
    "res = round(a, 20)\n",
    "print(res)"
   ]
  },
  {
   "cell_type": "code",
   "execution_count": null,
   "metadata": {},
   "outputs": [],
   "source": []
  }
 ],
 "metadata": {
  "kernelspec": {
   "display_name": "Python 3",
   "language": "python",
   "name": "python3"
  },
  "language_info": {
   "codemirror_mode": {
    "name": "ipython",
    "version": 3
   },
   "file_extension": ".py",
   "mimetype": "text/x-python",
   "name": "python",
   "nbconvert_exporter": "python",
   "pygments_lexer": "ipython3",
   "version": "3.10.7"
  },
  "orig_nbformat": 4
 },
 "nbformat": 4,
 "nbformat_minor": 2
}
