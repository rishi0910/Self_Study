{
 "cells": [
  {
   "cell_type": "code",
   "execution_count": null,
   "metadata": {},
   "outputs": [],
   "source": [
    "# ppractice questions based on my notes\n",
    "\n",
    "# 1. Write a function that takes a list of numbers and returns the sum of the squares of all the numbers. Try it using a for loop first, then implement it as a list comprehension.\n",
    "\n",
    "def sum_of_squares(numbers):\n",
    "    squares = [number ** 2 for number in numbers]\n",
    "    return sum(squares)\n",
    "\n",
    "print(sum_of_squares([1, 2, 3, 4, 5]))"
   ]
  },
  {
   "cell_type": "code",
   "execution_count": null,
   "metadata": {},
   "outputs": [],
   "source": []
  }
 ],
 "metadata": {
  "language_info": {
   "name": "python"
  },
  "orig_nbformat": 4
 },
 "nbformat": 4,
 "nbformat_minor": 2
}
