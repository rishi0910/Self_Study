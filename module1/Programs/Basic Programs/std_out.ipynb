{
 "cells": [
  {
   "cell_type": "code",
   "execution_count": null,
   "metadata": {},
   "outputs": [],
   "source": [
    "# stdout: \n"
   ]
  },
  {
   "cell_type": "code",
   "execution_count": null,
   "metadata": {},
   "outputs": [],
   "source": [
    "a = eval(input())  # 23\n",
    "b = eval(input())   # 20\n",
    "c = a + b\n",
    "# 1. optional positional arguments  \n",
    "'''\n",
    "print(obj1, obj2, ..., sep=' ', end='\\n')\n",
    "'''   "
   ]
  },
  {
   "cell_type": "code",
   "execution_count": 33,
   "metadata": {},
   "outputs": [
    {
     "name": "stdout",
     "output_type": "stream",
     "text": [
      "Result is\n",
      "23\n"
     ]
    }
   ],
   "source": [
    "a = 3\n",
    "b = 20\n",
    "c = a + b\n",
    "print(\"Result is\",c, sep='\\n')"
   ]
  },
  {
   "cell_type": "code",
   "execution_count": 39,
   "metadata": {},
   "outputs": [
    {
     "name": "stdout",
     "output_type": "stream",
     "text": [
      "value of a 34.0 2334.0and value of b 23\n"
     ]
    }
   ],
   "source": [
    "# 2. String format :\n",
    "''''''\n",
    "a = 23\n",
    "b = 34.0\n",
    "x = 'value of a {} and value of b {}'. format(a, b)\n",
    "print(x)"
   ]
  },
  {
   "cell_type": "code",
   "execution_count": 45,
   "metadata": {},
   "outputs": [
    {
     "name": "stdout",
     "output_type": "stream",
     "text": [
      "value of 23.456 and value of b 20.22\n"
     ]
    }
   ],
   "source": [
    "# f-tag string\n",
    "a = 23.45566\n",
    "b = 20.22223\n",
    "x = f'value of {a:.3f} and value of b {b:.2f}'\n",
    "print(x)"
   ]
  },
  {
   "cell_type": "code",
   "execution_count": 18,
   "metadata": {},
   "outputs": [],
   "source": [
    "hello = 'a'"
   ]
  },
  {
   "cell_type": "code",
   "execution_count": 19,
   "metadata": {},
   "outputs": [
    {
     "name": "stdout",
     "output_type": "stream",
     "text": [
      "a <class 'str'>\n"
     ]
    }
   ],
   "source": [
    "st = 'hello'\n",
    "out = eval(st)\n",
    "print(out, type(out))"
   ]
  },
  {
   "cell_type": "code",
   "execution_count": 21,
   "metadata": {},
   "outputs": [],
   "source": [
    "a = 'hello'\n",
    "hello = 'a'"
   ]
  },
  {
   "cell_type": "code",
   "execution_count": 23,
   "metadata": {},
   "outputs": [
    {
     "name": "stdout",
     "output_type": "stream",
     "text": [
      "hello <class 'str'>\n"
     ]
    }
   ],
   "source": [
    "re = eval(eval(a))\n",
    "print(re, type(re))"
   ]
  },
  {
   "cell_type": "code",
   "execution_count": 2,
   "metadata": {},
   "outputs": [
    {
     "name": "stdout",
     "output_type": "stream",
     "text": [
      "1\n"
     ]
    }
   ],
   "source": [
    "a = 1 + False\n",
    "print(a)"
   ]
  },
  {
   "cell_type": "code",
   "execution_count": 54,
   "metadata": {},
   "outputs": [
    {
     "name": "stdout",
     "output_type": "stream",
     "text": [
      "value of a:            23.340000\n",
      "value of b:            203434343\n"
     ]
    }
   ],
   "source": [
    "# string justification \n",
    "a = 23.34\n",
    "b = 203434343\n",
    "print(f'value of a: {a:>20.6f}')\n",
    "print(f'value of b: {b:>20}')"
   ]
  },
  {
   "cell_type": "code",
   "execution_count": null,
   "metadata": {},
   "outputs": [],
   "source": [
    "# print(): \n",
    "'''\n",
    "1. optional positional arguments \n",
    "syntax:\n",
    "print(obj1, obj2, obj3..., sep=' ', end='\\n')\n",
    "''' "
   ]
  },
  {
   "cell_type": "code",
   "execution_count": 11,
   "metadata": {},
   "outputs": [
    {
     "name": "stdout",
     "output_type": "stream",
     "text": [
      "value  of a\t10\n",
      "valueof b 20\n"
     ]
    }
   ],
   "source": [
    "a = 10\n",
    "b = 20\n",
    "print('value  of a', a, sep='\\n')\n",
    "print('valueof b',b)"
   ]
  },
  {
   "cell_type": "code",
   "execution_count": 34,
   "metadata": {},
   "outputs": [
    {
     "name": "stdout",
     "output_type": "stream",
     "text": [
      "value of a 12 and value of b 10\n"
     ]
    }
   ],
   "source": [
    "'''\n",
    "String format:\n",
    "1.  % with typed place holder \n",
    "'''\n",
    "a, b = 12, '10'\n",
    "tmp = 'value of a %d and value of b %s'%(a, b)\n",
    "print(tmp)"
   ]
  },
  {
   "cell_type": "code",
   "execution_count": 37,
   "metadata": {},
   "outputs": [
    {
     "name": "stdout",
     "output_type": "stream",
     "text": [
      "value of a 12 and value of b 34.465\n"
     ]
    }
   ],
   "source": [
    "# 2. . format method\n",
    "a, b = 12, '34.465'\n",
    "tmp = 'value of a {} and value of b {}'.format(a, b)\n",
    "print(tmp)"
   ]
  },
  {
   "cell_type": "code",
   "execution_count": 63,
   "metadata": {},
   "outputs": [
    {
     "name": "stdout",
     "output_type": "stream",
     "text": [
      "value of a                   12n\n",
      "value of b          34.46545454n\n"
     ]
    }
   ],
   "source": [
    "# 3. f-tag string\n",
    "a, b = 12, 34.46545454\n",
    "tmp = f'value of a {a:>20}n\\nvalue of b {b:>20}n'\n",
    "print(tmp)"
   ]
  },
  {
   "cell_type": "code",
   "execution_count": null,
   "metadata": {},
   "outputs": [],
   "source": [
    "# print(): \n",
    "'''\n",
    "1. optional positional argv\n",
    "print(obj1, obj2, obj3 ....., sep=' ', end='\\n')\n",
    "\n",
    "''' "
   ]
  },
  {
   "cell_type": "code",
   "execution_count": 8,
   "metadata": {},
   "outputs": [
    {
     "name": "stdout",
     "output_type": "stream",
     "text": [
      "value of a 23.\n"
     ]
    }
   ],
   "source": [
    "a = 23\n",
    "print('value of a ',a, '.', sep='')"
   ]
  },
  {
   "cell_type": "code",
   "execution_count": 14,
   "metadata": {},
   "outputs": [
    {
     "name": "stdout",
     "output_type": "stream",
     "text": [
      "value of a 10\n",
      "value of b 23.455000\n"
     ]
    }
   ],
   "source": [
    "# string format \n",
    "# 1. %format (typed place holder) \n",
    "a = '10'\n",
    "b = 23.455\n",
    "st = 'value of a %s\\nvalue of b %f'%(a, b)\n",
    "print(st)"
   ]
  },
  {
   "cell_type": "code",
   "execution_count": 24,
   "metadata": {},
   "outputs": [
    {
     "name": "stdout",
     "output_type": "stream",
     "text": [
      "value of a 10\n",
      "value of b 23\n"
     ]
    }
   ],
   "source": [
    "# 2. .format method \n",
    "a = 10\n",
    "b = 23\n",
    "st = 'value of a {}\\nvalue of b {}'\n",
    "print(st.format(a, b))"
   ]
  },
  {
   "cell_type": "code",
   "execution_count": 27,
   "metadata": {},
   "outputs": [
    {
     "name": "stdout",
     "output_type": "stream",
     "text": [
      "value of a=10\n",
      "value of b=23\n"
     ]
    }
   ],
   "source": [
    "# 3. f-tag string \n",
    "a = 10\n",
    "b = 23\n",
    "st = f'value of {a=}\\nvalue of {b=}'\n",
    "print(st)"
   ]
  },
  {
   "cell_type": "code",
   "execution_count": 32,
   "metadata": {},
   "outputs": [
    {
     "name": "stdout",
     "output_type": "stream",
     "text": [
      "value of a 10.00000\n",
      "value of b 23.000\n"
     ]
    }
   ],
   "source": [
    "a = 10\n",
    "b = 23.00045\n",
    "st = f'value of a {a:.5f}\\nvalue of b {b:.3f}'\n",
    "print(st)"
   ]
  },
  {
   "cell_type": "code",
   "execution_count": 38,
   "metadata": {},
   "outputs": [
    {
     "name": "stdout",
     "output_type": "stream",
     "text": [
      "value of a                10.00.\n",
      "value of b                23.45.\n"
     ]
    }
   ],
   "source": [
    "a = 10\n",
    "b = 23.44555\n",
    "st = f'value of a {a:>20.2f}.\\nvalue of b {b:>20.2f}.'\n",
    "print(st)"
   ]
  },
  {
   "cell_type": "code",
   "execution_count": null,
   "metadata": {},
   "outputs": [],
   "source": [
    "# print(): use to display the output on the (screen consol)\n",
    "'''\n",
    "1. optional positional arguments\n",
    "print(obj1, obj2, obj3, ..., sep=' ', end='\\n')\n",
    "'''"
   ]
  },
  {
   "cell_type": "code",
   "execution_count": 13,
   "metadata": {},
   "outputs": [
    {
     "name": "stdout",
     "output_type": "stream",
     "text": [
      "value of val1: 10 .\n",
      "value of val2:34\n"
     ]
    }
   ],
   "source": [
    "val1 = 10\n",
    "val2 = 34\n",
    "print('value of val1:',val1, '.') \n",
    "print('value of val2',val2, sep=':')"
   ]
  },
  {
   "cell_type": "code",
   "execution_count": 21,
   "metadata": {},
   "outputs": [
    {
     "name": "stdout",
     "output_type": "stream",
     "text": [
      "Hello World\n"
     ]
    }
   ],
   "source": [
    "print('Hello', end=' ')\n",
    "print('World')"
   ]
  },
  {
   "cell_type": "code",
   "execution_count": 23,
   "metadata": {},
   "outputs": [
    {
     "name": "stdout",
     "output_type": "stream",
     "text": [
      "value of a 10\n",
      "Value of b 34\n"
     ]
    }
   ],
   "source": [
    "# string format \n",
    "# 1. %format (typed place holder)\n",
    "a = 10\n",
    "b = 34\n",
    "a = 2+3j\n",
    "st = 'value of a %d\\nValue of b %d'\n",
    "print(st%(a, b))"
   ]
  },
  {
   "cell_type": "code",
   "execution_count": 28,
   "metadata": {},
   "outputs": [
    {
     "name": "stdout",
     "output_type": "stream",
     "text": [
      "value of a 23\n",
      "Value of b 34\n"
     ]
    }
   ],
   "source": [
    "'''\n",
    "2. .format method \n",
    "'''\n",
    "a = 10\n",
    "b = 34\n",
    "a = 3+2j\n",
    "a = '23'\n",
    "st = 'value of a {}\\nValue of b {}'.format(a, b)\n",
    "print(st)"
   ]
  },
  {
   "cell_type": "code",
   "execution_count": 31,
   "metadata": {},
   "outputs": [
    {
     "name": "stdout",
     "output_type": "stream",
     "text": [
      "value of a 10\n",
      "Value of b 34\n"
     ]
    }
   ],
   "source": [
    "'''\n",
    "3. f-tag string \n",
    "'''\n",
    "a = 10\n",
    "b = 34\n",
    "st = f'value of a {a}\\nValue of b {b}'\n",
    "print(st)\n"
   ]
  }
 ],
 "metadata": {
  "kernelspec": {
   "display_name": "Python 3",
   "language": "python",
   "name": "python3"
  },
  "language_info": {
   "codemirror_mode": {
    "name": "ipython",
    "version": 3
   },
   "file_extension": ".py",
   "mimetype": "text/x-python",
   "name": "python",
   "nbconvert_exporter": "python",
   "pygments_lexer": "ipython3",
   "version": "3.10.7"
  },
  "orig_nbformat": 4
 },
 "nbformat": 4,
 "nbformat_minor": 2
}
