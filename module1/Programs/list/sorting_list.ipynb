{
 "cells": [
  {
   "cell_type": "code",
   "execution_count": 4,
   "metadata": {},
   "outputs": [
    {
     "name": "stdout",
     "output_type": "stream",
     "text": [
      "[56, 34, 9, 3, 0]\n"
     ]
    }
   ],
   "source": [
    "# sort()\n",
    "ls = [3, 56, 0, 9, 34]\n",
    "ls.sort(reverse=True)\n",
    "print(ls)\n"
   ]
  },
  {
   "cell_type": "code",
   "execution_count": 7,
   "metadata": {},
   "outputs": [
    {
     "name": "stdout",
     "output_type": "stream",
     "text": [
      "['o', 'l', 'l', 'h', 'e']\n"
     ]
    }
   ],
   "source": [
    "# sorted(): \n",
    "ls = 'hello'\n",
    "n_ls = sorted(ls, reverse=True)\n",
    "print(n_ls)"
   ]
  },
  {
   "cell_type": "code",
   "execution_count": 8,
   "metadata": {},
   "outputs": [
    {
     "name": "stdout",
     "output_type": "stream",
     "text": [
      "Anagram\n"
     ]
    }
   ],
   "source": [
    "st1 = 'silent'\n",
    "st2 = 'listen'\n",
    "if sorted(st1) == sorted(st2):\n",
    "    print('Anagram')\n",
    "else:\n",
    "    print('not anagram')"
   ]
  },
  {
   "cell_type": "code",
   "execution_count": null,
   "metadata": {},
   "outputs": [],
   "source": [
    "max('hello')  ==> 'o'\n",
    "min('hello')  ==> 'e'\n",
    "len('hello')  ==> 5\n",
    "str.count('o')   ==> 1"
   ]
  },
  {
   "cell_type": "code",
   "execution_count": 21,
   "metadata": {},
   "outputs": [
    {
     "name": "stdout",
     "output_type": "stream",
     "text": [
      "['aadi', 'aryan', 'deendayal', 'gourav', 'zbhi']\n"
     ]
    }
   ],
   "source": [
    "ls = ['deendayal','aryan', 'zbhi', 'aadi', 'gourav']\n",
    "ls.sort()\n",
    "print(ls)"
   ]
  },
  {
   "cell_type": "code",
   "execution_count": 30,
   "metadata": {},
   "outputs": [
    {
     "name": "stdout",
     "output_type": "stream",
     "text": [
      "[3, 5, 6, 7]\n",
      "[5, 7, 8, 9]\n"
     ]
    }
   ],
   "source": [
    "# use multiple value in a single line \n",
    "def user_fun(x):\n",
    "    return x + 2\n",
    "ls = [3, 5, 6, 7]\n",
    "new_ls = list(map(user_fun, ls))\n",
    "print(ls)\n",
    "print(new_ls)\n",
    "\n"
   ]
  },
  {
   "cell_type": "code",
   "execution_count": 36,
   "metadata": {},
   "outputs": [
    {
     "name": "stdout",
     "output_type": "stream",
     "text": [
      "[9]\n"
     ]
    }
   ],
   "source": [
    "# list comprehension: consize way to create the list\n",
    "# [expression for i in seq if (condition)]\n",
    "ls = [ 6, 2, 8, 4, 3]\n",
    "ls2 = [i ** 2 for i in ls if i % 2 == 1]\n",
    "print(ls2 if ls2 else None)\n",
    "    \n"
   ]
  },
  {
   "cell_type": "code",
   "execution_count": 42,
   "metadata": {},
   "outputs": [
    {
     "name": "stdout",
     "output_type": "stream",
     "text": [
      "[4, 6, 7, 8, 9]\n",
      "[]\n"
     ]
    }
   ],
   "source": [
    "# copy(): return the shallow copy of list\n",
    "ls = [[4, 6], 7, 8, 9]\n",
    "dp = ls.copy()\n",
    "dp.clear()\n",
    "\n",
    "print(ls)\n",
    "print(dp)"
   ]
  },
  {
   "cell_type": "code",
   "execution_count": 53,
   "metadata": {},
   "outputs": [
    {
     "name": "stdout",
     "output_type": "stream",
     "text": [
      "[4, 6, [3, 5, 7, 100], 'hello']\n",
      "[4, 6, [3, 5, 7], 'hello']\n"
     ]
    }
   ],
   "source": [
    "ls = [4, 6, [3, 5, 7], 'hello']\n",
    "dp = eval(str(ls))\n",
    "ls[2].append(100)\n",
    "print(ls)\n",
    "print(dp)"
   ]
  },
  {
   "cell_type": "code",
   "execution_count": 56,
   "metadata": {},
   "outputs": [
    {
     "name": "stdout",
     "output_type": "stream",
     "text": [
      "[4, [3, 5, 6, 0], 7]\n",
      "[4, [3, 5, 6], 7]\n"
     ]
    }
   ],
   "source": [
    "a = [4, [3, 5, 6], 7]\n",
    "b = a.copy()\n",
    "a[1].append(0)\n",
    "print(a, b, sep='\\n')\n"
   ]
  },
  {
   "cell_type": "code",
   "execution_count": 67,
   "metadata": {},
   "outputs": [
    {
     "name": "stdout",
     "output_type": "stream",
     "text": [
      "[True, False, False, True, False, True]\n"
     ]
    }
   ],
   "source": [
    "# list comprehension: the consize way to create a list\n",
    "# [expression for i in  seq if condition]\n",
    "\n",
    "ls2 = [int(i) for i in input().split()]\n",
    "\n",
    "new_lst = []\n",
    "for i in ls2:\n",
    "    count = 0\n",
    "    for j in range(1, i+1):\n",
    "        if i % j == 0:\n",
    "            count += 1\n",
    "\n",
    "    new_lst.append(count == 2)\n",
    "print(new_lst)\n",
    "            \n"
   ]
  },
  {
   "cell_type": "code",
   "execution_count": 14,
   "metadata": {},
   "outputs": [
    {
     "name": "stdout",
     "output_type": "stream",
     "text": [
      "[[]] <class 'list'>\n"
     ]
    }
   ],
   "source": [
    "# tuple with single value \n",
    "t = [10,[]]\n",
    "del t[0]\n",
    "print(t, type(t))\n"
   ]
  },
  {
   "cell_type": "code",
   "execution_count": 17,
   "metadata": {},
   "outputs": [
    {
     "name": "stdout",
     "output_type": "stream",
     "text": [
      "(3, 5, 7, (4, 5, 7)) <class 'tuple'>\n"
     ]
    }
   ],
   "source": [
    "ts = 3, 5, 7 , (4, 5, 7)\n",
    "print(ts, type(ts))\n"
   ]
  },
  {
   "cell_type": "code",
   "execution_count": 29,
   "metadata": {},
   "outputs": [
    {
     "name": "stdout",
     "output_type": "stream",
     "text": [
      "a=23\n",
      "b=[5, 7]\n",
      "c=8\n"
     ]
    }
   ],
   "source": [
    "a, *b ,c = 23, 5, 7, 8\n",
    "print(f'{a=}')\n",
    "print(f'{b=}')\n",
    "print(f'{c=}')"
   ]
  },
  {
   "cell_type": "code",
   "execution_count": null,
   "metadata": {},
   "outputs": [],
   "source": []
  }
 ],
 "metadata": {
  "kernelspec": {
   "display_name": "Python 3",
   "language": "python",
   "name": "python3"
  },
  "language_info": {
   "codemirror_mode": {
    "name": "ipython",
    "version": 3
   },
   "file_extension": ".py",
   "mimetype": "text/x-python",
   "name": "python",
   "nbconvert_exporter": "python",
   "pygments_lexer": "ipython3",
   "version": "3.12.0"
  }
 },
 "nbformat": 4,
 "nbformat_minor": 2
}
