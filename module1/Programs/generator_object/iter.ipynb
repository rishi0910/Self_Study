{
 "cells": [
  {
   "cell_type": "code",
   "execution_count": null,
   "metadata": {},
   "outputs": [],
   "source": [
    "'''\n",
    "# Basic Python Syntax 10\n",
    "# Data Type 10\n",
    "# Operators 10\n",
    "# Flow Control Structure 10\n",
    "# list 10\n",
    "# list comprehension 10\n",
    "# string 10\n",
    "# tuple 10\n",
    "# built-in Python 10\n",
    "# \n",
    "# # coding\n",
    "# flow control structure : 5 (5marks)\n",
    "# string : 5 (7 marks)\n",
    "# list: 5 (8 marks)\n",
    "\n",
    "# '''"
   ]
  },
  {
   "cell_type": "code",
   "execution_count": 12,
   "metadata": {},
   "outputs": [
    {
     "name": "stdout",
     "output_type": "stream",
     "text": [
      "[('',), (34, 2, 4), ([],)]\n"
     ]
    }
   ],
   "source": [
    "# write a python program to remove the empty tuples from a given list of tuples \n",
    "lst = [(), (), ('',), (), (34, 2, 4), ([], ), ()]\n",
    "out = []\n",
    "for i in lst:\n",
    "    if i != ():\n",
    "        out.append(i) \n",
    "print(out)\n",
    "        \n",
    "    "
   ]
  },
  {
   "cell_type": "code",
   "execution_count": 17,
   "metadata": {},
   "outputs": [
    {
     "name": "stdout",
     "output_type": "stream",
     "text": [
      "nvsdgsdW2\n"
     ]
    }
   ],
   "source": [
    "st = 'AnvsdgsdWu2'\n",
    "out = ''\n",
    "for i in st:\n",
    "    if i in 'aeiouAEIOU':\n",
    "        pass\n",
    "    else:\n",
    "        out += i\n",
    "print(out)\n",
    "# nvsdgsdu2"
   ]
  },
  {
   "cell_type": "code",
   "execution_count": 6,
   "metadata": {},
   "outputs": [
    {
     "name": "stdout",
     "output_type": "stream",
     "text": [
      "['alok', 'aditya']\n"
     ]
    }
   ],
   "source": [
    "lst = ['yuvraj', 'alok', 'shashwat', 'aditya']\n",
    "for i in lst:\n",
    "    lst.remove(i)\n",
    "print(lst)"
   ]
  }
 ],
 "metadata": {
  "kernelspec": {
   "display_name": "Python 3",
   "language": "python",
   "name": "python3"
  },
  "language_info": {
   "codemirror_mode": {
    "name": "ipython",
    "version": 3
   },
   "file_extension": ".py",
   "mimetype": "text/x-python",
   "name": "python",
   "nbconvert_exporter": "python",
   "pygments_lexer": "ipython3",
   "version": "3.12.0"
  }
 },
 "nbformat": 4,
 "nbformat_minor": 2
}
