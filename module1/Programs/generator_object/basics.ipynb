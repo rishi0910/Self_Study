{
 "cells": [
  {
   "cell_type": "code",
   "execution_count": null,
   "metadata": {},
   "outputs": [],
   "source": [
    "'''A generator is an iterator that generates values on the fly, rather than storing them in memory. \n",
    "This makes it more efficient, especially when working with large collections of data'''"
   ]
  },
  {
   "cell_type": "code",
   "execution_count": null,
   "metadata": {},
   "outputs": [],
   "source": [
    "# In Python, a generator expression is a concise way to create a generator object. \n",
    "# It is similar to list comprehension, but instead of creating a list, it creates a generator"
   ]
  },
  {
   "cell_type": "code",
   "execution_count": 9,
   "metadata": {},
   "outputs": [
    {
     "name": "stdout",
     "output_type": "stream",
     "text": [
      "[0, 1, 2, 3, 4, 5, 6, 7, 8, 9, 10, 11, 12, 13, 14, 15, 16, 17, 18, 19]\n"
     ]
    }
   ],
   "source": [
    "l = [*[i for i in range(10)], *[i for i in range(10, 20)]]\n",
    "print(l)"
   ]
  },
  {
   "cell_type": "code",
   "execution_count": 2,
   "metadata": {},
   "outputs": [],
   "source": [
    "tp = (2, 4, 56, 7)\n"
   ]
  },
  {
   "cell_type": "code",
   "execution_count": null,
   "metadata": {},
   "outputs": [],
   "source": [
    "# generator expression: the consize way to create the generator object \n",
    "# (expression for i in lst)"
   ]
  },
  {
   "cell_type": "code",
   "execution_count": 1,
   "metadata": {},
   "outputs": [
    {
     "name": "stdout",
     "output_type": "stream",
     "text": [
      "<generator object <genexpr> at 0x00000229C3719560>\n"
     ]
    }
   ],
   "source": [
    "lst = [2, 4, 6]\n",
    "out = (float(i) for i in lst)\n",
    "print(out)\n",
    "\n"
   ]
  },
  {
   "cell_type": "code",
   "execution_count": 3,
   "metadata": {},
   "outputs": [],
   "source": [
    "for i in out:\n",
    "    print(i)\n"
   ]
  },
  {
   "cell_type": "code",
   "execution_count": 42,
   "metadata": {},
   "outputs": [
    {
     "name": "stdout",
     "output_type": "stream",
     "text": [
      "<map object at 0x0000011C0EDF5840>\n"
     ]
    }
   ],
   "source": [
    "lst = [3.3, 5.0, 6.7]\n",
    "out = map(int, lst)\n",
    "print(out)"
   ]
  },
  {
   "cell_type": "code",
   "execution_count": 43,
   "metadata": {},
   "outputs": [
    {
     "name": "stdout",
     "output_type": "stream",
     "text": [
      "data=3\n",
      "data2=[5, 6]\n"
     ]
    }
   ],
   "source": [
    "data = next(out)\n",
    "data2 = list(out)\n",
    "print(f'{data=}')\n",
    "print(f'{data2=}')"
   ]
  },
  {
   "cell_type": "code",
   "execution_count": 45,
   "metadata": {},
   "outputs": [
    {
     "name": "stdout",
     "output_type": "stream",
     "text": [
      "34\n",
      "5\n",
      "2\n",
      "56\n",
      "[]\n"
     ]
    }
   ],
   "source": [
    "lst = [34, 5, 2, 56]\n",
    "out = [i for i in lst if print(i)]\n",
    "print(out)"
   ]
  },
  {
   "cell_type": "code",
   "execution_count": 47,
   "metadata": {},
   "outputs": [
    {
     "name": "stdout",
     "output_type": "stream",
     "text": [
      "[2, 4, 33, 5, 6, 7]\n"
     ]
    }
   ],
   "source": [
    "lst1 = [33, 5, 6, 7]\n",
    "lst = [2, 4, *lst1]\n",
    "print(lst) "
   ]
  },
  {
   "cell_type": "code",
   "execution_count": 51,
   "metadata": {},
   "outputs": [
    {
     "name": "stdout",
     "output_type": "stream",
     "text": [
      "(2, 4, 33, 5, 6, 7)\n"
     ]
    }
   ],
   "source": [
    "out = *lst,\n",
    "print(out)"
   ]
  },
  {
   "cell_type": "code",
   "execution_count": 54,
   "metadata": {},
   "outputs": [
    {
     "name": "stdout",
     "output_type": "stream",
     "text": [
      "a=2\n",
      "b=[4, 5, 7]\n"
     ]
    }
   ],
   "source": [
    "a, *b = 2, 4, 5,7\n",
    "print(f'{a=}')\n",
    "print(f'{b=}')"
   ]
  }
 ],
 "metadata": {
  "kernelspec": {
   "display_name": "Python 3",
   "language": "python",
   "name": "python3"
  },
  "language_info": {
   "codemirror_mode": {
    "name": "ipython",
    "version": 3
   },
   "file_extension": ".py",
   "mimetype": "text/x-python",
   "name": "python",
   "nbconvert_exporter": "python",
   "pygments_lexer": "ipython3",
   "version": "3.12.0"
  }
 },
 "nbformat": 4,
 "nbformat_minor": 2
}
