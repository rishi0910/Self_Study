{
 "cells": [
  {
   "cell_type": "code",
   "execution_count": null,
   "metadata": {},
   "outputs": [],
   "source": [
    "'''\n",
    "*        *\n",
    "**      **\n",
    "***    ***\n",
    "****  ****\n",
    "**********\n",
    "**********\n",
    "****  ****\n",
    "***    ***\n",
    "**      **\n",
    "*        *\n",
    "\n",
    "'''"
   ]
  },
  {
   "cell_type": "code",
   "execution_count": 10,
   "metadata": {},
   "outputs": [
    {
     "name": "stdout",
     "output_type": "stream",
     "text": [
      "%                  %\n",
      "%%                %%\n",
      "%%%              %%%\n",
      "%%%%            %%%%\n",
      "%%%%%          %%%%%\n",
      "%%%%%%        %%%%%%\n",
      "%%%%%%%      %%%%%%%\n",
      "%%%%%%%%    %%%%%%%%\n",
      "%%%%%%%%%  %%%%%%%%%\n",
      "%%%%%%%%%%%%%%%%%%%%\n"
     ]
    }
   ],
   "source": [
    "rows = 10\n",
    "for i in range(1, rows+1):\n",
    "    for j in range(i):\n",
    "        print('%', end='')\n",
    "    for j in range(rows-i):\n",
    "        print(' ', end='')\n",
    "    for j in range(rows-i):\n",
    "        print(' ', end='')\n",
    "    for j in range(i):\n",
    "        print('%', end='')\n",
    "    print()"
   ]
  },
  {
   "cell_type": "code",
   "execution_count": 31,
   "metadata": {},
   "outputs": [
    {
     "name": "stdout",
     "output_type": "stream",
     "text": [
      "*                  *\n",
      "**                **\n",
      "***              ***\n",
      "****            ****\n",
      "*****          *****\n",
      "******        ******\n",
      "*******      *******\n",
      "********    ********\n",
      "*********  *********\n",
      "********************\n",
      "********************\n",
      "*********  *********\n",
      "********    ********\n",
      "*******      *******\n",
      "******        ******\n",
      "*****          *****\n",
      "****            ****\n",
      "***              ***\n",
      "**                **\n",
      "*                  *\n"
     ]
    }
   ],
   "source": [
    "rows = 10\n",
    "for i in range(1, rows+1):\n",
    "    print('*'*(i)+' '*(rows-i)+' '*(rows-i)+'*'*i)\n",
    "for i in range(1, rows+1):\n",
    "    print('*'*(rows-i+1)+' '*(i-1) + ' '*(i-1) + '*'*(rows-i+1))"
   ]
  },
  {
   "cell_type": "code",
   "execution_count": null,
   "metadata": {},
   "outputs": [],
   "source": [
    "'''\n",
    "1\n",
    "23\n",
    "456\n",
    "7890\n",
    "12345\n",
    "678901\n",
    "\n",
    "'''"
   ]
  },
  {
   "cell_type": "code",
   "execution_count": 46,
   "metadata": {},
   "outputs": [
    {
     "name": "stdout",
     "output_type": "stream",
     "text": [
      "A\n",
      "BB\n",
      "CCC\n",
      "DDDD\n",
      "EEEEE\n",
      "FFFFFF\n",
      "GGGGGGG\n",
      "HHHHHHHH\n",
      "IIIIIIIII\n",
      "JJJJJJJJJJ\n"
     ]
    }
   ],
   "source": [
    "rows = 10\n",
    "val = 65\n",
    "for i in range(1, rows+1):\n",
    "    \n",
    "    for j in range(i):\n",
    "        print(chr(val), end='')\n",
    "    val += 1\n",
    "    if val > 90:\n",
    "        val = 65\n",
    "\n",
    "    \n",
    "    print()"
   ]
  },
  {
   "cell_type": "code",
   "execution_count": 43,
   "metadata": {},
   "outputs": [
    {
     "data": {
      "text/plain": [
       "'Z'"
      ]
     },
     "execution_count": 43,
     "metadata": {},
     "output_type": "execute_result"
    }
   ],
   "source": [
    "'''\n",
    "*        *\n",
    "**      **\n",
    "***    ***\n",
    "****  ****\n",
    "**********\n",
    "\n",
    "'''"
   ]
  },
  {
   "cell_type": "code",
   "execution_count": 61,
   "metadata": {},
   "outputs": [
    {
     "name": "stdout",
     "output_type": "stream",
     "text": [
      "&                  &                  &\n",
      "&&                &&&                &&\n",
      "&&&              &&&&&              &&&\n",
      "&&&&            &&&&&&&            &&&&\n",
      "&&&&&          &&&&&&&&&          &&&&&\n",
      "&&&&&&        &&&&&&&&&&&        &&&&&&\n",
      "&&&&&&&      &&&&&&&&&&&&&      &&&&&&&\n",
      "&&&&&&&&    &&&&&&&&&&&&&&&    &&&&&&&&\n",
      "&&&&&&&&&  &&&&&&&&&&&&&&&&&  &&&&&&&&&\n",
      "&&&&&&&&&&&&&&&&&&&&&&&&&&&&&&&&&&&&&&&\n"
     ]
    }
   ],
   "source": [
    "rows = 10\n",
    "for i in range(1, rows+1):\n",
    "    for j in range(i):\n",
    "        print('&', end='')\n",
    "    for j in range(rows-i):\n",
    "        print(' ', end='')\n",
    "    for j in range(rows-i):\n",
    "        print(' ', end='')\n",
    "    for j in range(i-1):\n",
    "        print('&', end='')\n",
    "    for j in range(i):\n",
    "        print('&', end='')\n",
    "    for j in range(rows-i):\n",
    "        print(' ', end='')\n",
    "    for j in range(rows-i):\n",
    "        print(' ', end='')\n",
    "    for j in range(i):\n",
    "        print('&', end='')\n",
    "    print()"
   ]
  },
  {
   "cell_type": "code",
   "execution_count": 76,
   "metadata": {},
   "outputs": [
    {
     "name": "stdout",
     "output_type": "stream",
     "text": [
      "1                      1\n",
      "22                    22\n",
      "333                  333\n",
      "4444                4444\n",
      "55555              55555\n",
      "666666            666666\n",
      "7777777          7777777\n",
      "88888888        88888888\n",
      "999999999      999999999\n",
      "0000000000    0000000000\n",
      "11111111111  11111111111\n",
      "222222222222222222222222\n"
     ]
    }
   ],
   "source": [
    "rows = 12\n",
    "for i in range(1, rows+1):\n",
    "    print(str(i%10)*i + ' '*(rows-i)+ ' '*(rows-i)+ str(i%10)*i)"
   ]
  },
  {
   "cell_type": "code",
   "execution_count": 77,
   "metadata": {},
   "outputs": [
    {
     "data": {
      "text/plain": [
       "'\\n1\\n23\\n456\\n7890\\n12345\\n'"
      ]
     },
     "execution_count": 77,
     "metadata": {},
     "output_type": "execute_result"
    }
   ],
   "source": [
    "'''\n",
    "1\n",
    "23\n",
    "456\n",
    "7890\n",
    "12345\n",
    "'''"
   ]
  },
  {
   "cell_type": "code",
   "execution_count": 3,
   "metadata": {},
   "outputs": [
    {
     "name": "stdout",
     "output_type": "stream",
     "text": [
      "h\n",
      "e\n",
      "l\n",
      "l\n",
      "o\n"
     ]
    }
   ],
   "source": [
    "st = 'hello'\n",
    "print(*st, sep='\\n')"
   ]
  }
 ],
 "metadata": {
  "kernelspec": {
   "display_name": "Python 3",
   "language": "python",
   "name": "python3"
  },
  "language_info": {
   "codemirror_mode": {
    "name": "ipython",
    "version": 3
   },
   "file_extension": ".py",
   "mimetype": "text/x-python",
   "name": "python",
   "nbconvert_exporter": "python",
   "pygments_lexer": "ipython3",
   "version": "3.10.7"
  },
  "orig_nbformat": 4
 },
 "nbformat": 4,
 "nbformat_minor": 2
}
