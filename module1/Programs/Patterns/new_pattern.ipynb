{
 "cells": [
  {
   "cell_type": "code",
   "execution_count": null,
   "metadata": {},
   "outputs": [],
   "source": [
    "# pattern \n",
    "'''\n",
    "*\n",
    "**\n",
    "***\n",
    "****\n",
    "*****\n",
    "forward: (i)\n",
    "'''"
   ]
  },
  {
   "cell_type": "code",
   "execution_count": 7,
   "metadata": {},
   "outputs": [
    {
     "name": "stdout",
     "output_type": "stream",
     "text": [
      "*\n",
      "**\n",
      "***\n",
      "****\n",
      "*****\n",
      "******\n",
      "*******\n",
      "********\n",
      "*********\n",
      "**********\n"
     ]
    }
   ],
   "source": [
    "rows = 10\n",
    "for i in range(1, rows+1):\n",
    "    for j in range(i):\n",
    "        print('*', end='')\n",
    "\n",
    "    print()"
   ]
  },
  {
   "cell_type": "code",
   "execution_count": null,
   "metadata": {},
   "outputs": [],
   "source": [
    "'''\n",
    "****\n",
    "***\n",
    "**\n",
    "*\n",
    "backward - (rows - i + 1) \n",
    "'''"
   ]
  },
  {
   "cell_type": "code",
   "execution_count": 8,
   "metadata": {},
   "outputs": [
    {
     "name": "stdout",
     "output_type": "stream",
     "text": [
      "**********\n",
      "*********\n",
      "********\n",
      "*******\n",
      "******\n",
      "*****\n",
      "****\n",
      "***\n",
      "**\n",
      "*\n"
     ]
    }
   ],
   "source": [
    "rows = 10\n",
    "for i in range(1, rows+1):\n",
    "    for j in range(rows-i+1):\n",
    "        print('*', end='')\n",
    "    print()"
   ]
  },
  {
   "cell_type": "code",
   "execution_count": null,
   "metadata": {},
   "outputs": [],
   "source": [
    "'''\n",
    "    *\n",
    "   ***\n",
    "  *****\n",
    " *******\n",
    "*********\n",
    "'''"
   ]
  },
  {
   "cell_type": "code",
   "execution_count": 26,
   "metadata": {},
   "outputs": [
    {
     "name": "stdout",
     "output_type": "stream",
     "text": [
      "         #\n",
      "        ###\n",
      "       #####\n",
      "      #######\n",
      "     #########\n",
      "    ###########\n",
      "   #############\n",
      "  ###############\n",
      " #################\n",
      "###################\n"
     ]
    }
   ],
   "source": [
    "rows = 10\n",
    "for i in range(1, rows+1):\n",
    "    for j in range(rows-i):\n",
    "        print(' ', end='')\n",
    "    for j in range(i):\n",
    "        print('#', end='')\n",
    "    for j in range(i-1):\n",
    "        print('#', end='')\n",
    "    print()"
   ]
  },
  {
   "cell_type": "code",
   "execution_count": null,
   "metadata": {},
   "outputs": [],
   "source": [
    "'''\n",
    "*      *\n",
    "**    **\n",
    "***  ***\n",
    "********\n",
    "'''"
   ]
  },
  {
   "cell_type": "code",
   "execution_count": 31,
   "metadata": {},
   "outputs": [
    {
     "name": "stdout",
     "output_type": "stream",
     "text": [
      "*                  *\n",
      "**                **\n",
      "***              ***\n",
      "****            ****\n",
      "*****          *****\n",
      "******        ******\n",
      "*******      *******\n",
      "********    ********\n",
      "*********  *********\n",
      "********************\n"
     ]
    }
   ],
   "source": [
    "rows = 10\n",
    "for i in range(1, rows+1):\n",
    "    for j in range(i):\n",
    "        print('*', end='')\n",
    "    for j in range(rows-i):\n",
    "        print(' ', end='')\n",
    "    for j in range(rows-i):\n",
    "        print(' ', end='')\n",
    "    for j in range(i):\n",
    "        print('*', end='')\n",
    "\n",
    "    print()"
   ]
  },
  {
   "cell_type": "code",
   "execution_count": 43,
   "metadata": {},
   "outputs": [
    {
     "name": "stdout",
     "output_type": "stream",
     "text": [
      "%                  %\n",
      "%%                %%\n",
      "%%%              %%%\n",
      "%%%%            %%%%\n",
      "%%%%%          %%%%%\n",
      "%%%%%%        %%%%%%\n",
      "%%%%%%%      %%%%%%%\n",
      "%%%%%%%%    %%%%%%%%\n",
      "%%%%%%%%%  %%%%%%%%%\n",
      "%%%%%%%%%%%%%%%%%%%%\n",
      "%%%%%%%%%%%%%%%%%%%%\n",
      "%%%%%%%%%  %%%%%%%%%\n",
      "%%%%%%%%    %%%%%%%%\n",
      "%%%%%%%      %%%%%%%\n",
      "%%%%%%        %%%%%%\n",
      "%%%%%          %%%%%\n",
      "%%%%            %%%%\n",
      "%%%              %%%\n",
      "%%                %%\n",
      "%                  %\n"
     ]
    }
   ],
   "source": [
    "row = 10\n",
    "for i in range(1, rows+1):\n",
    "    print('%'*i + ' '*(rows-i)+' '*(rows-i)+'%'*i)\n",
    "for i in range(1, rows+1):\n",
    "    print('%'*(rows-i+1) + ' '*(i-1)+' '*(i-1)+'%'*(rows-i+1))"
   ]
  },
  {
   "cell_type": "code",
   "execution_count": null,
   "metadata": {},
   "outputs": [],
   "source": [
    "# \n",
    "'''\n",
    "1\n",
    "23\n",
    "456\n",
    "7890\n",
    "12345\n",
    "\n",
    "'''"
   ]
  },
  {
   "cell_type": "code",
   "execution_count": 60,
   "metadata": {},
   "outputs": [
    {
     "name": "stdout",
     "output_type": "stream",
     "text": [
      "1\n",
      "12\n",
      "123\n",
      "1234\n",
      "12345\n",
      "123456\n",
      "1234567\n",
      "12345678\n",
      "123456789\n",
      "12345678910\n"
     ]
    }
   ],
   "source": [
    "rows = 10\n",
    "\n",
    "for i in range(1, rows+1):\n",
    "    val = 1\n",
    "    for j in range(i):\n",
    "        print(j+1, end='')\n",
    "        val += 1\n",
    "       \n",
    "    print()"
   ]
  },
  {
   "cell_type": "code",
   "execution_count": 56,
   "metadata": {},
   "outputs": [
    {
     "name": "stdout",
     "output_type": "stream",
     "text": [
      "A\n",
      "AB\n",
      "ABC\n",
      "ABCD\n",
      "ABCDE\n",
      "ABCDEF\n",
      "ABCDEFG\n",
      "ABCDEFGH\n",
      "ABCDEFGHI\n",
      "ABCDEFGHIJ\n"
     ]
    }
   ],
   "source": [
    "rows = 10\n",
    "\n",
    "for i in range(1, rows+1):\n",
    "    val = 65\n",
    "    for j in range(i):\n",
    "        print(chr(val), end='')\n",
    "        val += 1\n",
    "    \n",
    "       \n",
    "    print()"
   ]
  },
  {
   "cell_type": "code",
   "execution_count": null,
   "metadata": {},
   "outputs": [],
   "source": [
    "'''\n",
    "\n",
    "      *\n",
    "     ***\n",
    "    *****\n",
    "     ***\n",
    "      *\n",
    "\n",
    "'''"
   ]
  },
  {
   "cell_type": "code",
   "execution_count": 59,
   "metadata": {},
   "outputs": [
    {
     "name": "stdout",
     "output_type": "stream",
     "text": [
      "         *\n",
      "        ***\n",
      "       *****\n",
      "      *******\n",
      "     *********\n",
      "    ***********\n",
      "   *************\n",
      "  ***************\n",
      " *****************\n",
      "*******************\n"
     ]
    }
   ],
   "source": [
    "rows = 10\n",
    "for i in range(1, rows+1):\n",
    "    for j in range(rows-i):\n",
    "        print(' ', end='')\n",
    "    for j in range(2*i-1):\n",
    "        print('*', end='')\n",
    "   \n",
    "    print()"
   ]
  },
  {
   "cell_type": "code",
   "execution_count": 54,
   "metadata": {},
   "outputs": [
    {
     "data": {
      "text/plain": [
       "'A'"
      ]
     },
     "execution_count": 54,
     "metadata": {},
     "output_type": "execute_result"
    }
   ],
   "source": [
    "chr(65)"
   ]
  },
  {
   "cell_type": "code",
   "execution_count": 64,
   "metadata": {},
   "outputs": [
    {
     "name": "stdout",
     "output_type": "stream",
     "text": [
      "hi 1\n",
      "hi 2\n",
      "hi 3\n",
      "hi 4\n",
      "hi 5\n",
      "hi 6\n",
      "hi 7\n",
      "hi 8\n",
      "hi 9\n"
     ]
    }
   ],
   "source": [
    "x = range(1, 10)\n",
    "for i in x:\n",
    "    print('hi', i)\n",
    "    x = range(1, 5)\n"
   ]
  }
 ],
 "metadata": {
  "kernelspec": {
   "display_name": "Python 3",
   "language": "python",
   "name": "python3"
  },
  "language_info": {
   "codemirror_mode": {
    "name": "ipython",
    "version": 3
   },
   "file_extension": ".py",
   "mimetype": "text/x-python",
   "name": "python",
   "nbconvert_exporter": "python",
   "pygments_lexer": "ipython3",
   "version": "3.10.7"
  },
  "orig_nbformat": 4
 },
 "nbformat": 4,
 "nbformat_minor": 2
}
