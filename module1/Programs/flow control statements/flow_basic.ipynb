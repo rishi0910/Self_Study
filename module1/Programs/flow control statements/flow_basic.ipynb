{
 "cells": [
  {
   "cell_type": "code",
   "execution_count": 14,
   "metadata": {},
   "outputs": [
    {
     "name": "stdout",
     "output_type": "stream",
     "text": [
      "bye\n"
     ]
    }
   ],
   "source": [
    "val = \"\"\n",
    "if (val ^ 0):  \n",
    "    print('hi', end=' ')\n",
    "    print('Python')\n",
    "else:\n",
    "    print('bye')"
   ]
  },
  {
   "cell_type": "code",
   "execution_count": 15,
   "metadata": {},
   "outputs": [
    {
     "name": "stdout",
     "output_type": "stream",
     "text": [
      "underflow condition\n",
      "Filled height 0.0\n",
      "Remaining Height 10.0\n"
     ]
    }
   ],
   "source": [
    "h = 10\n",
    "r = 5\n",
    "F = 15\n",
    "t = eval(input('Enter the time '))\n",
    "\n",
    "vwtr = F * t\n",
    "vtank = 3.14 * r ** 2 * h\n",
    "\n",
    "\n",
    "if vwtr == vtank:\n",
    "    print('Tank Full')\n",
    "elif vwtr > vtank:\n",
    "    print('Overflow condition')\n",
    "    print('volume', vwtr - vtank)\n",
    "else:\n",
    "    print('underflow condition')\n",
    "    ht = vwtr / (3.14 * r ** 2)\n",
    "    hr = h - ht\n",
    "    print('Filled height', ht)\n",
    "    print('Remaining Height', hr)"
   ]
  },
  {
   "cell_type": "code",
   "execution_count": 13,
   "metadata": {},
   "outputs": [
    {
     "name": "stdout",
     "output_type": "stream",
     "text": [
      "bye\n"
     ]
    }
   ],
   "source": [
    "n = 'world' * 0\n",
    "if n:\n",
    "    print('hi')\n",
    "print('bye')"
   ]
  },
  {
   "cell_type": "code",
   "execution_count": 16,
   "metadata": {},
   "outputs": [
    {
     "name": "stdout",
     "output_type": "stream",
     "text": [
      "Overflow condition\n",
      "Volume 40.0\n"
     ]
    }
   ],
   "source": [
    "h = 10\n",
    "r =5\n",
    "F = 15\n",
    "t = int(input('Enter the time '))\n",
    "vtank = 3.14 * r ** 2 * h\n",
    "vwtr = F * t\n",
    "if vtank == vwtr:\n",
    "    print('Tank Full')\n",
    "elif vtank > vwtr:\n",
    "    print('Underflow condition')\n",
    "    ht = vwtr / (3.14 * r ** 2)\n",
    "    hr = h - ht\n",
    "    print('Filled Height', ht)\n",
    "    print('Remaining height', hr)\n",
    "else:\n",
    "    print('Overflow condition') \n",
    "    print('Volume', vwtr - vtank)   "
   ]
  }
 ],
 "metadata": {
  "kernelspec": {
   "display_name": "Python 3",
   "language": "python",
   "name": "python3"
  },
  "language_info": {
   "codemirror_mode": {
    "name": "ipython",
    "version": 3
   },
   "file_extension": ".py",
   "mimetype": "text/x-python",
   "name": "python",
   "nbconvert_exporter": "python",
   "pygments_lexer": "ipython3",
   "version": "3.10.7"
  },
  "orig_nbformat": 4
 },
 "nbformat": 4,
 "nbformat_minor": 2
}
