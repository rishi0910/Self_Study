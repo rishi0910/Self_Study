{
 "cells": [
  {
   "cell_type": "code",
   "execution_count": null,
   "metadata": {},
   "outputs": [],
   "source": [
    "# flow control structure in Python \n"
   ]
  },
  {
   "cell_type": "code",
   "execution_count": 10,
   "metadata": {},
   "outputs": [
    {
     "name": "stdout",
     "output_type": "stream",
     "text": [
      "value of a 23344444444444rs\n",
      "value of b 34        rs\n"
     ]
    }
   ],
   "source": [
    "# string justification \n",
    "a = 23344444444444\n",
    "b = 34\n",
    "st1 = f'value of a {a:<10}rs'\n",
    "st2 = f'value of b {b:<10}rs'\n",
    "print(st1)\n",
    "print(st2)"
   ]
  },
  {
   "cell_type": "code",
   "execution_count": 19,
   "metadata": {},
   "outputs": [
    {
     "name": "stdout",
     "output_type": "stream",
     "text": [
      "hi\n",
      "bye\n"
     ]
    }
   ],
   "source": [
    "\n",
    "if '':\n",
    "    print('hi')\n",
    "print('bye')"
   ]
  },
  {
   "cell_type": "code",
   "execution_count": 20,
   "metadata": {},
   "outputs": [
    {
     "name": "stdout",
     "output_type": "stream",
     "text": [
      "Underflow Condition\n",
      "filled height 0.0\n",
      "Remaining Height 10.0\n"
     ]
    }
   ],
   "source": [
    "h = 10\n",
    "r = 5\n",
    "F = 15\n",
    "t = eval(input('Enter the time '))\n",
    "vwtr = F * t\n",
    "vtank = 3.14 * r ** 2 * h\n",
    "if vwtr == vtank:\n",
    "    print('Tank full ')\n",
    "elif vtank > vwtr:\n",
    "    print('Underflow Condition')\n",
    "    ht = vwtr / (3.14 * r ** 2)\n",
    "    hr = h - ht\n",
    "    print('filled height', ht)\n",
    "    print('Remaining Height', hr)\n",
    "else:\n",
    "    print('Overflow Condition')\n",
    "    print('Volume', vwtr - vtank)"
   ]
  },
  {
   "cell_type": "code",
   "execution_count": 3,
   "metadata": {},
   "outputs": [
    {
     "name": "stdout",
     "output_type": "stream",
     "text": [
      "230\n"
     ]
    }
   ],
   "source": [
    "# ternary feature in Python \n",
    "a = 230\n",
    "b = 34\n",
    "\n",
    "print(a if a > b else b)\n",
    "''''''\n"
   ]
  },
  {
   "cell_type": "code",
   "execution_count": 4,
   "metadata": {},
   "outputs": [
    {
     "name": "stdout",
     "output_type": "stream",
     "text": [
      "34.9\n"
     ]
    }
   ],
   "source": [
    "# conditional expression \n",
    "a = 23\n",
    "b = 34.9\n",
    "\n",
    "out = a if a > b else b \n",
    "print(out)  "
   ]
  },
  {
   "cell_type": "code",
   "execution_count": 8,
   "metadata": {},
   "outputs": [
    {
     "name": "stdout",
     "output_type": "stream",
     "text": [
      "can vote\n"
     ]
    }
   ],
   "source": [
    "'''\n",
    "conditional expression:\n",
    "syntax:\n",
    "expression1 if conditional_expression else expression2\n",
    "\n",
    "'''\n",
    "age =18\n",
    "re = 'can vote' if age >= 18 else 'cannt vote'\n",
    "print(re)\n"
   ]
  },
  {
   "cell_type": "code",
   "execution_count": 7,
   "metadata": {},
   "outputs": [
    {
     "name": "stdout",
     "output_type": "stream",
     "text": [
      "print()\n",
      "None\n",
      "None\n"
     ]
    }
   ],
   "source": [
    "print(print(print('print()')))\n"
   ]
  },
  {
   "cell_type": "code",
   "execution_count": 13,
   "metadata": {},
   "outputs": [
    {
     "name": "stdout",
     "output_type": "stream",
     "text": [
      "3\n"
     ]
    }
   ],
   "source": [
    "# largest number amoung three variables a, b, c\n",
    "a = 3\n",
    "b = 3\n",
    "c = 0\n",
    "out = a if a >= b and a >= c else b if b >= c and b >= a else c\n",
    "print(out)\n"
   ]
  },
  {
   "cell_type": "code",
   "execution_count": null,
   "metadata": {},
   "outputs": [],
   "source": [
    "# loop in python\n",
    "'''\n",
    "1. for loop: iteration over the sequence \n",
    "2. while loop: based on condition\n",
    "\n",
    "'''"
   ]
  },
  {
   "cell_type": "code",
   "execution_count": 51,
   "metadata": {},
   "outputs": [
    {
     "name": "stdout",
     "output_type": "stream",
     "text": [
      "9 is not prime\n"
     ]
    }
   ],
   "source": [
    "# range(start=0, stop, step=1)\n",
    "n = 9\n",
    "count = 0\n",
    "for i in range(1, n+1):\n",
    "    if n % i == 0:\n",
    "        count = count + 1\n",
    "\n",
    "if count == 2:\n",
    "    print(n, 'is prime number ')\n",
    "else:\n",
    "    print(n, 'is not prime')    \n"
   ]
  }
 ],
 "metadata": {
  "kernelspec": {
   "display_name": "Python 3",
   "language": "python",
   "name": "python3"
  },
  "language_info": {
   "codemirror_mode": {
    "name": "ipython",
    "version": 3
   },
   "file_extension": ".py",
   "mimetype": "text/x-python",
   "name": "python",
   "nbconvert_exporter": "python",
   "pygments_lexer": "ipython3",
   "version": "3.10.7"
  },
  "orig_nbformat": 4
 },
 "nbformat": 4,
 "nbformat_minor": 2
}
