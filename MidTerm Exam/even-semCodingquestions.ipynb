{
 "cells": [
  {
   "cell_type": "code",
   "execution_count": 2,
   "metadata": {},
   "outputs": [
    {
     "name": "stdout",
     "output_type": "stream",
     "text": [
      "False\n"
     ]
    }
   ],
   "source": [
    "# ParenthesisBalancer\n",
    "class ParenthesisBalancer:\n",
    "    def is_valid(self, s: str) -> bool:\n",
    "        stack = []\n",
    "        stars = []\n",
    "\n",
    "        for char in s:\n",
    "            if char == '(':\n",
    "                stack.append(char)\n",
    "            elif char == ')':\n",
    "                if stack:\n",
    "                    stack.pop()\n",
    "                elif stars:\n",
    "                    stars.pop()\n",
    "                else:\n",
    "                    return False\n",
    "            elif char == '*':\n",
    "                stars.append(char)\n",
    "\n",
    "        # Now, handling remaining stars and opening brackets\n",
    "        while stack:\n",
    "            if not stars:\n",
    "                return False\n",
    "            stack.pop()\n",
    "            stars.pop()\n",
    "\n",
    "        return True\n",
    "\n",
    "\n",
    "balancer = ParenthesisBalancer()\n",
    "st = input()  # ())*\n",
    "print(balancer.is_valid(st))   # False\n"
   ]
  },
  {
   "cell_type": "code",
   "execution_count": 5,
   "metadata": {},
   "outputs": [
    {
     "name": "stdout",
     "output_type": "stream",
     "text": [
      "[0, 1, 1, 2, 3]\n"
     ]
    }
   ],
   "source": [
    "# fibonacci series \n",
    "class Fibonacci:\n",
    "    def __init__(self, n):\n",
    "        self.n = n\n",
    "\n",
    "    def generate_series(self):\n",
    "        fib_sequence = [0, 1]\n",
    "        if self.n <= 2:\n",
    "            return fib_sequence[:self.n]\n",
    "        else:\n",
    "            for i in range(2, self.n):\n",
    "                next_fib = fib_sequence[-1] + fib_sequence[-2]\n",
    "                fib_sequence.append(next_fib)\n",
    "            return fib_sequence[:self.n]\n",
    "\n",
    "n = int(input())\n",
    "\n",
    "if n <= 0:\n",
    "    print(\"Please enter a positive integer.\")\n",
    "else:\n",
    "    fib_instance = Fibonacci(n)\n",
    "    print(fib_instance.generate_series())\n"
   ]
  },
  {
   "cell_type": "code",
   "execution_count": 6,
   "metadata": {},
   "outputs": [
    {
     "name": "stdout",
     "output_type": "stream",
     "text": [
      "Sum of maximum elements: 20\n"
     ]
    }
   ],
   "source": [
    "# sum of max element in a nested list of a list \n",
    "class MaxSumFinder:\n",
    "    def __init__(self, nested_lists):\n",
    "        self.nested_lists = nested_lists\n",
    "\n",
    "    def find_max_sum(self):\n",
    "        max_sum = 0\n",
    "        for sublist in self.nested_lists:\n",
    "                max_sum += max(sublist)\n",
    "        return max_sum\n",
    "\n",
    "# Example usage:\n",
    "# nested_lists = eval(input())\n",
    "nested_lists = [[1, 2, 3], [4, 7, 9], [5, 8, 2]]\n",
    "max_sum_finder = MaxSumFinder(nested_lists)\n",
    "print(\"Sum of maximum elements:\", max_sum_finder.find_max_sum())\n"
   ]
  }
 ],
 "metadata": {
  "kernelspec": {
   "display_name": "Python 3",
   "language": "python",
   "name": "python3"
  },
  "language_info": {
   "codemirror_mode": {
    "name": "ipython",
    "version": 3
   },
   "file_extension": ".py",
   "mimetype": "text/x-python",
   "name": "python",
   "nbconvert_exporter": "python",
   "pygments_lexer": "ipython3",
   "version": "3.12.1"
  }
 },
 "nbformat": 4,
 "nbformat_minor": 2
}
