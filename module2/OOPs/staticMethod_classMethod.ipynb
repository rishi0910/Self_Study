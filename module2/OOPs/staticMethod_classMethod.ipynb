{
 "cells": [
  {
   "cell_type": "code",
   "execution_count": 11,
   "metadata": {},
   "outputs": [
    {
     "name": "stdout",
     "output_type": "stream",
     "text": [
      "None\n",
      "None\n",
      "10\n",
      "10\n"
     ]
    }
   ],
   "source": [
    "class Math:\n",
    "  @staticmethod\n",
    "  def factorial(number):\n",
    "        Math.val = number\n",
    "        # if number == 0:\n",
    "        #     return 1\n",
    "        # else:\n",
    "        #     return number * Math.factorial(number - 1)\n",
    "\n",
    "obj1 = Math()\n",
    "obj2 = Math()\n",
    "print(obj1.factorial(5))\n",
    "print(obj2.factorial(10))\n",
    "print(obj1.val)\n",
    "print(obj2.val)\n",
    "\n",
    "# factorial = MethodTypes.factorial(5)\n",
    "# print(factorial)"
   ]
  },
  {
   "cell_type": "code",
   "execution_count": 15,
   "metadata": {},
   "outputs": [
    {
     "name": "stdout",
     "output_type": "stream",
     "text": [
      "Ragnar\n",
      "Lothbrock\n",
      "Lagertha\n",
      "Lagertha\n",
      "Lothbrock\n",
      "This is a static method\n"
     ]
    }
   ],
   "source": [
    "class MethodTypes:\n",
    "\n",
    "    name = \"Ragnar\"\n",
    "\n",
    "    def instanceMethod(self):\n",
    "        # Creates an instance atribute through keyword self\n",
    "        self.lastname = \"Lothbrock\"\n",
    "        print(self.name)\n",
    "        print(self.lastname)\n",
    "\n",
    "    @classmethod\n",
    "    def classMethod(cls):\n",
    "        # Access a class atribute through keyword cls\n",
    "        cls.name = \"Lagertha\"\n",
    "        print(cls.name)\n",
    "        obj = cls()\n",
    "        obj.instanceMethod()\n",
    "\n",
    "    @staticmethod\n",
    "    def staticMethod():\n",
    "        print(\"This is a static method\")\n",
    "\n",
    "# Creates an instance of the class\n",
    "m = MethodTypes()\n",
    "# Calls instance method\n",
    "m.instanceMethod()\n",
    "m.classMethod()\n",
    "m.staticMethod()\n",
    "\n",
    "# MethodTypes.classMethod()\n",
    "# MethodTypes.staticMethod()"
   ]
  }
 ],
 "metadata": {
  "kernelspec": {
   "display_name": "Python 3",
   "language": "python",
   "name": "python3"
  },
  "language_info": {
   "codemirror_mode": {
    "name": "ipython",
    "version": 3
   },
   "file_extension": ".py",
   "mimetype": "text/x-python",
   "name": "python",
   "nbconvert_exporter": "python",
   "pygments_lexer": "ipython3",
   "version": "3.12.1"
  }
 },
 "nbformat": 4,
 "nbformat_minor": 2
}
