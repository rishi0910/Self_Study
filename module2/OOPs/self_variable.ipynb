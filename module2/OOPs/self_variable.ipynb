{
 "cells": [
  {
   "cell_type": "code",
   "execution_count": 5,
   "metadata": {},
   "outputs": [
    {
     "name": "stdout",
     "output_type": "stream",
     "text": [
      "20\n",
      "{'a': 5, 'b': 10, 'var': 100}\n",
      "20\n"
     ]
    }
   ],
   "source": [
    "class Test:\n",
    "    var = 20\n",
    "    def __init__(self, val) -> None:\n",
    "        self.a = val\n",
    "        self.b = val * 2\n",
    "\n",
    "obj = Test(5)\n",
    "out = getattr(obj, 'var')\n",
    "print(out)\n",
    "# print(obj.a)\n",
    "# print(obj.b)\n",
    "\n",
    "setattr(obj, 'var', 100)\n",
    "\n",
    "print(obj.__dict__)\n",
    "print(Test.var)\n"
   ]
  },
  {
   "cell_type": "code",
   "execution_count": 24,
   "metadata": {},
   "outputs": [
    {
     "name": "stdout",
     "output_type": "stream",
     "text": [
      "10\n"
     ]
    }
   ],
   "source": [
    "# class variable and instance variable\n",
    "\n",
    "class Test:\n",
    "    'this is class Test'\n",
    "    var = 100\n",
    "    def __init__(self, x) -> None:\n",
    "        self.y = x\n",
    "    def update(self, x):\n",
    "        self.y = x\n",
    "\n",
    "obj1 = Test(1)\n",
    "obj2 = Test(0)\n",
    "obj1.update(10)\n",
    "print(obj1.y)\n"
   ]
  },
  {
   "cell_type": "code",
   "execution_count": 3,
   "metadata": {},
   "outputs": [],
   "source": [
    "class Base:\n",
    "    var = -100\n",
    "    def __init__(self, x):\n",
    "        self.y = x\n",
    "\n",
    "obj3 = Base(-1)\n",
    "\n"
   ]
  },
  {
   "cell_type": "code",
   "execution_count": 14,
   "metadata": {},
   "outputs": [
    {
     "name": "stdout",
     "output_type": "stream",
     "text": [
      "['__class__', '__delattr__', '__dict__', '__dir__', '__doc__', '__eq__', '__format__', '__ge__', '__getattribute__', '__getstate__', '__gt__', '__hash__', '__init__', '__init_subclass__', '__le__', '__lt__', '__module__', '__ne__', '__new__', '__reduce__', '__reduce_ex__', '__repr__', '__setattr__', '__sizeof__', '__str__', '__subclasshook__', '__weakref__', 'var', 'y']\n"
     ]
    }
   ],
   "source": [
    "print(dir(obj3))"
   ]
  },
  {
   "cell_type": "code",
   "execution_count": 25,
   "metadata": {},
   "outputs": [
    {
     "name": "stdout",
     "output_type": "stream",
     "text": [
      "this is class Test\n"
     ]
    }
   ],
   "source": [
    "print(obj2.__doc__)\n"
   ]
  },
  {
   "cell_type": "code",
   "execution_count": 12,
   "metadata": {},
   "outputs": [
    {
     "data": {
      "text/plain": [
       "True"
      ]
     },
     "execution_count": 12,
     "metadata": {},
     "output_type": "execute_result"
    }
   ],
   "source": [
    "a = 3\n",
    "out = isinstance(a, float)\n",
    "print(out)\n"
   ]
  },
  {
   "cell_type": "code",
   "execution_count": 37,
   "metadata": {},
   "outputs": [
    {
     "data": {
      "text/plain": [
       "200"
      ]
     },
     "execution_count": 37,
     "metadata": {},
     "output_type": "execute_result"
    }
   ],
   "source": [
    "obj2.m"
   ]
  },
  {
   "cell_type": "code",
   "execution_count": 39,
   "metadata": {},
   "outputs": [],
   "source": [
    "delattr(obj1, 'y')\n"
   ]
  },
  {
   "cell_type": "code",
   "execution_count": null,
   "metadata": {},
   "outputs": [],
   "source": [
    "class Test:\n",
    "    def mytask(self):\n",
    "        self.name = 'name'\n",
    "        "
   ]
  },
  {
   "cell_type": "code",
   "execution_count": 3,
   "metadata": {},
   "outputs": [
    {
     "name": "stdout",
     "output_type": "stream",
     "text": [
      "262\n"
     ]
    }
   ],
   "source": [
    "lks = [True] * 500\n",
    "\n",
    "for rolln in range(1, 51):\n",
    "    for i in range(1, 501):\n",
    "        if i % rolln == 0:\n",
    "            lks[i-1] = not lks[i-1]\n",
    "\n",
    "print(lks.count(False))\n",
    "\n"
   ]
  },
  {
   "cell_type": "code",
   "execution_count": null,
   "metadata": {},
   "outputs": [],
   "source": []
  },
  {
   "cell_type": "code",
   "execution_count": null,
   "metadata": {},
   "outputs": [],
   "source": [
    "()"
   ]
  }
 ],
 "metadata": {
  "kernelspec": {
   "display_name": "Python 3",
   "language": "python",
   "name": "python3"
  },
  "language_info": {
   "codemirror_mode": {
    "name": "ipython",
    "version": 3
   },
   "file_extension": ".py",
   "mimetype": "text/x-python",
   "name": "python",
   "nbconvert_exporter": "python",
   "pygments_lexer": "ipython3",
   "version": "3.12.1"
  }
 },
 "nbformat": 4,
 "nbformat_minor": 2
}
