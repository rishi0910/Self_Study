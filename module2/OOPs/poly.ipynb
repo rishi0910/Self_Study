{
 "cells": [
  {
   "cell_type": "code",
   "execution_count": 23,
   "metadata": {},
   "outputs": [
    {
     "name": "stdout",
     "output_type": "stream",
     "text": [
      "Amount Description\n",
      "1X100 2X50 \n",
      "last balance 300\n"
     ]
    }
   ],
   "source": [
    "# Polymorphism \n",
    "class BankAccont:\n",
    "    def __init__(self, name, balance):\n",
    "        self.name = name\n",
    "        self.balance = balance\n",
    "    def deposit(self, amount, *opt):\n",
    "            \n",
    "            self.balance += amount\n",
    "            print('Amount Description')\n",
    "            for i in opt:\n",
    "                print(i, end=' ')\n",
    "    \n",
    "\n",
    "obj1 = BankAccont('Ravi', 100)\n",
    "obj2 = BankAccont('Ravi', 100)\n",
    "obj1.deposit(200, '1X100', '2X50')\n",
    "print('\\nlast balance', obj1.balance)\n"
   ]
  },
  {
   "cell_type": "code",
   "execution_count": 14,
   "metadata": {},
   "outputs": [],
   "source": [
    "class saving(BankAccont):\n",
    "    pass\n",
    "\n",
    "class checking(BankAccont):\n",
    "    pass\n",
    "\n",
    "\n",
    "obj1 = saving('ravi', 100)\n",
    "obj2 = checking('saket', 200)"
   ]
  },
  {
   "cell_type": "code",
   "execution_count": 18,
   "metadata": {},
   "outputs": [
    {
     "data": {
      "text/plain": [
       "400"
      ]
     },
     "execution_count": 18,
     "metadata": {},
     "output_type": "execute_result"
    }
   ],
   "source": [
    "obj2.balance"
   ]
  }
 ],
 "metadata": {
  "kernelspec": {
   "display_name": "Python 3",
   "language": "python",
   "name": "python3"
  },
  "language_info": {
   "codemirror_mode": {
    "name": "ipython",
    "version": 3
   },
   "file_extension": ".py",
   "mimetype": "text/x-python",
   "name": "python",
   "nbconvert_exporter": "python",
   "pygments_lexer": "ipython3",
   "version": "3.12.1"
  }
 },
 "nbformat": 4,
 "nbformat_minor": 2
}
