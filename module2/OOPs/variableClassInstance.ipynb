{
 "cells": [
  {
   "cell_type": "code",
   "execution_count": 1,
   "metadata": {},
   "outputs": [
    {
     "name": "stdout",
     "output_type": "stream",
     "text": [
      "{'y': 20, 'z': 30, 'a': 40}\n"
     ]
    }
   ],
   "source": [
    "# class variable and instance variable\n",
    "\n",
    "# what is class variable?\n",
    "# class variable is a variable that is shared by all instances of a class\n",
    "\n",
    "# what is instance variable?\n",
    "# instance variable is a variable that is unique to each instance\n",
    "\n",
    "# class variable\n",
    "\n",
    "class Test:\n",
    "    # class variable\n",
    "    x = 10\n",
    "\n",
    "    def __init__(self):\n",
    "        # instance variable\n",
    "        self.y = 20\n",
    "\n",
    "    def m1(self):\n",
    "        # instance variable\n",
    "        self.z = 30\n",
    "\n",
    "obj = Test()\n",
    "obj.m1()\n",
    "obj.a = 40\n",
    "print(obj.__dict__)"
   ]
  },
  {
   "cell_type": "code",
   "execution_count": null,
   "metadata": {},
   "outputs": [],
   "source": [
    "# examples \n",
    "\n",
    "class Employee:\n",
    "    # class variable\n",
    "    raise_amount = 1.04\n",
    "    num_of_emps = 0\n",
    "\n",
    "    # instance variable\n",
    "    def __init__(self, first, last, pay):\n",
    "        self.first = first\n",
    "        self.last = last\n",
    "        self.pay = pay\n",
    "\n",
    "        # we don't want to change the number of employees when we create an instance\n",
    "        # so we use Employee.num_of_emps instead of self.num_of_emps\n",
    "        Employee.num_of_emps += 1\n",
    "\n",
    "    # regular method\n",
    "    def fullname(self):\n",
    "        return '{} {}'.format(self.first, self.last)\n",
    "\n",
    "    # regular method\n",
    "    def apply_raise(self):\n",
    "        # we can access class variable through class itself or instance\n",
    "        # self.raise_amount is better because we can change the raise_amount for a single instance\n",
    "        # Employee.raise_amount is better because we can change the raise_amount for all instances\n",
    "        self.pay = int(self.pay * self.raise_amount)"
   ]
  },
  {
   "cell_type": "code",
   "execution_count": 6,
   "metadata": {},
   "outputs": [
    {
     "name": "stdout",
     "output_type": "stream",
     "text": [
      "['__add__', '__class__', '__class_getitem__', '__contains__', '__delattr__', '__delitem__', '__dir__', '__doc__', '__eq__', '__format__', '__ge__', '__getattribute__', '__getitem__', '__getstate__', '__gt__', '__hash__', '__iadd__', '__imul__', '__init__', '__init_subclass__', '__iter__', '__le__', '__len__', '__lt__', '__mul__', '__ne__', '__new__', '__reduce__', '__reduce_ex__', '__repr__', '__reversed__', '__rmul__', '__setattr__', '__setitem__', '__sizeof__', '__str__', '__subclasshook__', 'append', 'clear', 'copy', 'count', 'extend', 'index', 'insert', 'pop', 'remove', 'reverse', 'sort']\n",
      "True\n"
     ]
    }
   ],
   "source": [
    "lst = [10, 23]\n",
    "\n",
    "print(dir(lst))\n",
    "print(lst.__contains__(10))"
   ]
  },
  {
   "cell_type": "code",
   "execution_count": 9,
   "metadata": {},
   "outputs": [
    {
     "name": "stdout",
     "output_type": "stream",
     "text": [
      "{'var': 20}\n"
     ]
    }
   ],
   "source": [
    "class Test:\n",
    "    x = 10\n",
    "    def add(self):\n",
    "        self.var = 20\n",
    "obj = Test()\n",
    "obj.add()\n",
    "print(obj.__dict__)"
   ]
  },
  {
   "cell_type": "code",
   "execution_count": null,
   "metadata": {},
   "outputs": [],
   "source": [
    "# class Variable : shared by all instance\n",
    "# Instance Variable: uinque to each instance "
   ]
  },
  {
   "cell_type": "code",
   "execution_count": 4,
   "metadata": {},
   "outputs": [
    {
     "name": "stdout",
     "output_type": "stream",
     "text": [
      "100\n"
     ]
    }
   ],
   "source": [
    "class Test:\n",
    "    # class Variable \n",
    "    val = 100\n",
    "    def __init__(self, a):\n",
    "        # instance variable \n",
    "        self.a = a\n",
    "obj1 = Test(20)\n",
    "obj2 = Test(30)\n",
    "print(obj1.val)\n"
   ]
  }
 ],
 "metadata": {
  "kernelspec": {
   "display_name": "Python 3",
   "language": "python",
   "name": "python3"
  },
  "language_info": {
   "codemirror_mode": {
    "name": "ipython",
    "version": 3
   },
   "file_extension": ".py",
   "mimetype": "text/x-python",
   "name": "python",
   "nbconvert_exporter": "python",
   "pygments_lexer": "ipython3",
   "version": "3.12.1"
  }
 },
 "nbformat": 4,
 "nbformat_minor": 2
}
