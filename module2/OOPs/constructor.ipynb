{
 "cells": [
  {
   "cell_type": "code",
   "execution_count": 2,
   "metadata": {},
   "outputs": [
    {
     "name": "stdout",
     "output_type": "stream",
     "text": [
      "Name :  John\n",
      "Age :  30\n",
      "Salary :  30000\n",
      "-------------\n",
      "Name :  Mike\n",
      "Age :  40\n",
      "Salary :  40000\n",
      "-------------\n",
      "Name :  NA\n",
      "Age :  0\n",
      "Salary :  0\n"
     ]
    }
   ],
   "source": [
    "# contructor and destructor\n",
    "# what is constructor?\n",
    "# constructor is a special method which is used to initialize the members of the class\n",
    "\n",
    "class Employee:\n",
    "    def __init__(self):\n",
    "        self.name = \"NA\"\n",
    "        self.age = 0\n",
    "        self.salary = 0\n",
    "    def setDetails(self, name, age, salary):\n",
    "        self.name = name\n",
    "        self.age = age\n",
    "        self.salary = salary\n",
    "    def getDetails(self):\n",
    "        print(\"Name : \", self.name)\n",
    "        print(\"Age : \", self.age)\n",
    "        print(\"Salary : \", self.salary)\n",
    "\n",
    "\n",
    "# main driven code\n",
    "emp1 = Employee()\n",
    "emp2 = Employee()\n",
    "emp3 = Employee()\n",
    "emp1.setDetails(\"John\", 30, 30000)\n",
    "emp2.setDetails(\"Mike\", 40, 40000)\n",
    "emp1.getDetails()\n",
    "print(\"-------------\")\n",
    "emp2.getDetails()\n",
    "print(\"-------------\")\n",
    "emp3.getDetails()  # use the default info as we have not set any values for emp3"
   ]
  },
  {
   "cell_type": "code",
   "execution_count": 3,
   "metadata": {},
   "outputs": [
    {
     "name": "stdout",
     "output_type": "stream",
     "text": [
      "Name :  John\n",
      "Age :  30\n",
      "Salary :  30000\n",
      "destructor called John object deleted\n",
      "-------------\n",
      "Name :  Mike\n",
      "Age :  40\n",
      "Salary :  40000\n",
      "-------------\n",
      "destructor called Mike object deleted\n",
      "Name :  John\n",
      "Age :  30\n",
      "Salary :  0\n",
      "-------------\n",
      "Name :  Mike\n",
      "Age :  40\n",
      "Salary :  0\n",
      "-------------\n"
     ]
    }
   ],
   "source": [
    "# what is destructor?\n",
    "# destructor is a special method which is used to delete the members of the class\n",
    "\n",
    "class Employee:\n",
    "    def __init__(self):\n",
    "        self.name = \"NA\"\n",
    "        self.age = 0\n",
    "        self.salary = 0\n",
    "    def setDetails(self, name, age, salary):\n",
    "        self.name = name\n",
    "        self.age = age\n",
    "        self.salary = salary\n",
    "    def getDetails(self):\n",
    "        print(\"Name : \", self.name)\n",
    "        print(\"Age : \", self.age)\n",
    "        print(\"Salary : \", self.salary)\n",
    "    def __del__(self):\n",
    "        print(f\"destructor called {self.name} object deleted\")\n",
    "\n",
    "# main driven code\n",
    "emp1 = Employee()\n",
    "emp2 = Employee()\n",
    "emp1.setDetails(\"John\", 30, 30000)\n",
    "emp2.setDetails(\"Mike\", 40, 40000)\n",
    "\n",
    "emp1.getDetails()\n",
    "\n",
    "del emp1\n",
    "print(\"-------------\")\n",
    "emp2.getDetails()\n",
    "print(\"-------------\")\n",
    "\n",
    "\n"
   ]
  },
  {
   "cell_type": "code",
   "execution_count": 6,
   "metadata": {},
   "outputs": [
    {
     "name": "stdout",
     "output_type": "stream",
     "text": [
      "Name :  John\n",
      "Age :  30\n",
      "Salary :  30000\n",
      "-------------\n",
      "Name :  Mike\n",
      "Age :  40\n",
      "Salary :  10000\n",
      "-------------\n"
     ]
    }
   ],
   "source": [
    "# what is constructor overloading?\n",
    "# constructor overloading is a concept where we can have more than one constructor in a class\n",
    "\n",
    "class Employee:\n",
    "    def __init__(self, name, age, salary):\n",
    "        self.name = name\n",
    "        self.age = age\n",
    "        self.salary = salary\n",
    "    # def __init__(self,name,age):\n",
    "    #     self.name = name\n",
    "    #     self.age = age\n",
    "    #     self.salary = 0\n",
    "    def getDetails(self):\n",
    "        print(\"Name : \", self.name)\n",
    "        print(\"Age : \", self.age)\n",
    "        print(\"Salary : \", self.salary)\n",
    "\n",
    "# main driven code\n",
    "emp1 = Employee(\"John\", 30, 30000)\n",
    "emp2 = Employee(\"Mike\", 40, 10000)\n",
    "emp1.getDetails()\n",
    "print(\"-------------\")\n",
    "emp2.getDetails()\n",
    "print(\"-------------\")"
   ]
  },
  {
   "cell_type": "code",
   "execution_count": 1,
   "metadata": {},
   "outputs": [
    {
     "name": "stdout",
     "output_type": "stream",
     "text": [
      "This is Constructor\n"
     ]
    }
   ],
   "source": [
    "# constructor \n",
    "# a special method to initilize the class members if needed \n",
    "# in Python name of the constuctor is \"__init__()\"\n",
    "class test:\n",
    "    def __init__(self):\n",
    "        print('This is Constructor')\n",
    "obj = test()"
   ]
  },
  {
   "cell_type": "code",
   "execution_count": 5,
   "metadata": {},
   "outputs": [
    {
     "name": "stdout",
     "output_type": "stream",
     "text": [
      "This is Constructor\n",
      "This is Constructor\n",
      "This is destructor\n",
      "This is destructor\n",
      "hello\n"
     ]
    }
   ],
   "source": [
    "# destructor \n",
    "# a default method use to simulate the object deletion \n",
    "\n",
    "class test:\n",
    "    def __init__(self):\n",
    "        print('This is Constructor')\n",
    "\n",
    "    def __del__(self):\n",
    "        print('This is destructor')\n",
    "obj1 = test()\n",
    "obj2 = test()\n",
    "del obj1\n",
    "print('hello')"
   ]
  },
  {
   "cell_type": "code",
   "execution_count": 6,
   "metadata": {},
   "outputs": [],
   "source": []
  },
  {
   "cell_type": "code",
   "execution_count": 11,
   "metadata": {},
   "outputs": [
    {
     "name": "stdout",
     "output_type": "stream",
     "text": [
      "10\n",
      "10\n"
     ]
    }
   ],
   "source": [
    "class Test:\n",
    "    _a = 10\n",
    "    def change(self):\n",
    "        self.ab = 10\n",
    "    def readClassvar(self):\n",
    "        return self._a   \n",
    "\n",
    "obj = Test()\n",
    "# print(_Test__a)\n",
    "print(obj.readClassvar())\n",
    "print(obj._a)\n"
   ]
  },
  {
   "cell_type": "code",
   "execution_count": null,
   "metadata": {},
   "outputs": [],
   "source": [
    "# Constructor and Destructor\n",
    "# constructor :\n",
    "# special method where we initialize the class members \n",
    "# we dont return any value from this method\n",
    "# name of the constructor in Python is \"__init__()\"\n",
    " "
   ]
  },
  {
   "cell_type": "code",
   "execution_count": 14,
   "metadata": {},
   "outputs": [
    {
     "name": "stdout",
     "output_type": "stream",
     "text": [
      "this is constructor\n"
     ]
    }
   ],
   "source": [
    "class Test:\n",
    "    def __init__(self):\n",
    "        print('this is constructor')\n",
    "obj = Test()\n"
   ]
  },
  {
   "cell_type": "code",
   "execution_count": 2,
   "metadata": {},
   "outputs": [
    {
     "name": "stdout",
     "output_type": "stream",
     "text": [
      "This is constructor\n",
      "This is constructor\n",
      "Object Created\n",
      "hello world\n",
      "This is destructor\n",
      "This is destructor\n"
     ]
    },
    {
     "ename": "NameError",
     "evalue": "name 'obj1' is not defined",
     "output_type": "error",
     "traceback": [
      "\u001b[0;31m---------------------------------------------------------------------------\u001b[0m",
      "\u001b[0;31mNameError\u001b[0m                                 Traceback (most recent call last)",
      "Cell \u001b[0;32mIn[2], line 20\u001b[0m\n\u001b[1;32m     18\u001b[0m \u001b[38;5;28;01mdel\u001b[39;00m obj1 \n\u001b[1;32m     19\u001b[0m \u001b[38;5;28;01mdel\u001b[39;00m obj2\n\u001b[0;32m---> 20\u001b[0m \u001b[43mobj1\u001b[49m\u001b[38;5;241m.\u001b[39mdisp()\n",
      "\u001b[0;31mNameError\u001b[0m: name 'obj1' is not defined"
     ]
    }
   ],
   "source": [
    "# destructor \n",
    "# special method use to simulate the object deletion \n",
    "class Test:\n",
    "    # constructor\n",
    "    def __init__(self):\n",
    "        print('This is constructor')\n",
    "    def disp(self):\n",
    "        print('hello world')\n",
    "    # destructor\n",
    "    def __del__(self):\n",
    "        print('This is destructor')\n",
    "\n",
    "obj1 = Test()\n",
    "obj2 = Test()\n",
    "\n",
    "print('Object Created')\n",
    "obj1.disp()\n",
    "obj1.disp()\n",
    "\n",
    "del obj1\n"
   ]
  },
  {
   "cell_type": "code",
   "execution_count": null,
   "metadata": {},
   "outputs": [],
   "source": [
    "def factorial(n): \n",
    "\n",
    "      if n == 0: \n",
    "\n",
    "          return 1 \n",
    "\n",
    "      else: \n",
    "\n",
    "          return n * factorial(n-1) \n",
    "\n",
    "  \n",
    "\n",
    "num = int(input(\"Enter a number: \")) \n",
    "\n",
    "print(\"Factorial of\", num, \"is\", factorial(num))"
   ]
  },
  {
   "cell_type": "code",
   "execution_count": null,
   "metadata": {},
   "outputs": [],
   "source": [
    "# Today's task\n",
    "# 1. 20 minutes learning (hyperskill.org) \n",
    "# 2. Quiz (30minutes)\n",
    "# 3. Project (Hospital Management System)\n",
    "# _23155089837"
   ]
  }
 ],
 "metadata": {
  "kernelspec": {
   "display_name": "Python 3",
   "language": "python",
   "name": "python3"
  },
  "language_info": {
   "codemirror_mode": {
    "name": "ipython",
    "version": 3
   },
   "file_extension": ".py",
   "mimetype": "text/x-python",
   "name": "python",
   "nbconvert_exporter": "python",
   "pygments_lexer": "ipython3",
   "version": "3.12.1"
  }
 },
 "nbformat": 4,
 "nbformat_minor": 2
}
