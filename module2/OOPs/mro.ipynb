{
 "cells": [
  {
   "cell_type": "code",
   "execution_count": 13,
   "metadata": {},
   "outputs": [
    {
     "name": "stdout",
     "output_type": "stream",
     "text": [
      "Hello from A\n",
      "[<class '__main__.D'>, <class '__main__.B'>, <class '__main__.A'>, <class '__main__.C'>, <class 'object'>]\n"
     ]
    }
   ],
   "source": [
    "class A:\n",
    "    def hello(self):\n",
    "        print(\"Hello from A\")\n",
    "\n",
    "class B(A):\n",
    "    pass\n",
    "    # def hello(self):\n",
    "    #     print(\"Hello from B\")\n",
    "    #     super().hello()\n",
    "    #     print('this is B')\n",
    "\n",
    "class C:\n",
    "    def hello(self):\n",
    "        print(\"Hello from C\")\n",
    "        \n",
    "\n",
    "\n",
    "class D(B, C):\n",
    "    pass\n",
    "\n",
    "d = D()\n",
    "d.hello()\n",
    "# print(D.__mro__)\n",
    "print(D.mro())\n",
    "\n"
   ]
  },
  {
   "cell_type": "code",
   "execution_count": 15,
   "metadata": {},
   "outputs": [
    {
     "name": "stdout",
     "output_type": "stream",
     "text": [
      "this is disp from B\n",
      "this is disp from C\n",
      "this is disp from A\n"
     ]
    }
   ],
   "source": [
    "class A:\n",
    "    def disp(self):\n",
    "        print('this is disp from A')\n",
    "\n",
    "class B(A):\n",
    "    def disp(self):\n",
    "        print('this is disp from B')\n",
    "        super().disp()\n",
    "\n",
    "class C(A):\n",
    "    def disp(self):\n",
    "        print('this is disp from C')\n",
    "        super().disp()\n",
    "    \n",
    "class D(B, C):\n",
    "    pass\n",
    "\n",
    "\n",
    "obj = D()\n",
    "obj.disp()\n"
   ]
  },
  {
   "cell_type": "code",
   "execution_count": 13,
   "metadata": {},
   "outputs": [
    {
     "name": "stdout",
     "output_type": "stream",
     "text": [
      "this is disp from B\n",
      "this is disp from C\n",
      "this is disp from A\n"
     ]
    },
    {
     "data": {
      "text/plain": [
       "[__main__.D, __main__.B, __main__.C, __main__.A, object]"
      ]
     },
     "execution_count": 13,
     "metadata": {},
     "output_type": "execute_result"
    }
   ],
   "source": [
    "# mro \n",
    "\n",
    "class A:\n",
    "    def disp(self):\n",
    "        print('this is disp from A')\n",
    "class B(A):\n",
    "    def disp(self):\n",
    "        print('this is disp from B')\n",
    "        super().disp()\n",
    "class C(A):\n",
    "    def disp(self):\n",
    "        print('this is disp from C')\n",
    "        super().disp()\n",
    "class D(B, C):\n",
    "    pass\n",
    "\n",
    "obj = D()\n",
    "obj.disp()\n",
    "D.mro()\n",
    "\n"
   ]
  },
  {
   "cell_type": "code",
   "execution_count": 1,
   "metadata": {},
   "outputs": [
    {
     "ename": "",
     "evalue": "",
     "output_type": "error",
     "traceback": [
      "\u001b[1;31mThe Kernel crashed while executing code in the current cell or a previous cell. \n",
      "\u001b[1;31mPlease review the code in the cell(s) to identify a possible cause of the failure. \n",
      "\u001b[1;31mClick <a href='https://aka.ms/vscodeJupyterKernelCrash'>here</a> for more info. \n",
      "\u001b[1;31mView Jupyter <a href='command:jupyter.viewOutput'>log</a> for further details."
     ]
    }
   ],
   "source": [
    "from tkinter import *\n",
    "\n",
    "Button().pack()\n",
    "\n",
    "Tk().mainloop()\n",
    "\n"
   ]
  }
 ],
 "metadata": {
  "kernelspec": {
   "display_name": "Python 3",
   "language": "python",
   "name": "python3"
  },
  "language_info": {
   "codemirror_mode": {
    "name": "ipython",
    "version": 3
   },
   "file_extension": ".py",
   "mimetype": "text/x-python",
   "name": "python",
   "nbconvert_exporter": "python",
   "pygments_lexer": "ipython3",
   "version": "3.12.1"
  }
 },
 "nbformat": 4,
 "nbformat_minor": 2
}
