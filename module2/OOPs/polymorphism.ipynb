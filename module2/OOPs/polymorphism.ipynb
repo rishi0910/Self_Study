{
 "cells": [
  {
   "cell_type": "code",
   "execution_count": null,
   "metadata": {},
   "outputs": [],
   "source": [
    "# Polymorphism is a key concept in object-oriented programming (OOP) that allows objects of \n",
    "# different types to be treated as objects of a common superclass\n",
    "# 1. Compile-Time Polymorphism (Static Binding / Early Binding):\n",
    "# a)Function Overloading   b)Operator Overloading\n",
    "\n",
    "# 2. Run-Time Polymorphism (Dynamic Binding / Late Binding):\n",
    "# a)Function Overriding"
   ]
  },
  {
   "cell_type": "code",
   "execution_count": null,
   "metadata": {},
   "outputs": [],
   "source": [
    "# Function Overloading\n",
    "# Function Overloading is defined as the process of having two or more function with same name,\n",
    "# but different in parameters. Function overloading can be considered as an example of polymorphism feature in Python.\n",
    "# Python does not support function overloading. We may overload the methods but can only use the latest defined method.\n",
    "\n",
    "# Operator Overloading\n",
    "# Operator Overloading means giving extended meaning beyond their predefined operational meaning.\n",
    "# For example operator + is used to add two integers as well as join two strings and merge two lists.\n",
    "\n",
    "# Function Overriding   \n",
    "# Function overriding means that a derived class function is redefining the base class function.\n"
   ]
  },
  {
   "cell_type": "code",
   "execution_count": null,
   "metadata": {},
   "outputs": [],
   "source": [
    "'''In Python, polymorphism is mainly achieved through run-time polymorphism (method overriding) since the language does not \n",
    "directly support function overloading or operator overloading as seen in statically-typed languages like C++ or Java. However, \n",
    "\n",
    "Python does support operator overloading through magic methods (e.g., __add__, __sub__, etc.) and function overloading \n",
    "can be emulated using default arguments or variable-length argument lists'''"
   ]
  },
  {
   "cell_type": "code",
   "execution_count": 1,
   "metadata": {},
   "outputs": [
    {
     "name": "stdout",
     "output_type": "stream",
     "text": [
      "Quack\n",
      "Hello\n"
     ]
    }
   ],
   "source": [
    "# example of polymorphism\n",
    "class Duck:\n",
    "    def sound(self):\n",
    "        print(\"Quack\")\n",
    "\n",
    "class Human:\n",
    "    def sound(self):\n",
    "        print(\"Hello\")\n",
    "\n",
    "# Duck typing example\n",
    "def make_sound(entity):\n",
    "    entity.sound()\n",
    "\n",
    "duck = Duck()\n",
    "human = Human()\n",
    "\n",
    "make_sound(duck)   # Output: \"Quack\"\n",
    "make_sound(human)  # Output: \"Hello\"\n"
   ]
  },
  {
   "cell_type": "code",
   "execution_count": 2,
   "metadata": {},
   "outputs": [
    {
     "name": "stdout",
     "output_type": "stream",
     "text": [
      "Animal speaks\n",
      "Dog barks\n",
      "Cat meows\n"
     ]
    }
   ],
   "source": [
    "class Animal:\n",
    "    def speak(self):\n",
    "        print(\"Animal speaks\")\n",
    "\n",
    "class Dog(Animal):\n",
    "    def speak(self):\n",
    "        print(\"Dog barks\")\n",
    "\n",
    "class Cat(Animal):\n",
    "    def speak(self):\n",
    "        print(\"Cat meows\")\n",
    "\n",
    "# Example of method overriding\n",
    "animal = Animal()\n",
    "animal.speak()  # Output: \"Animal speaks\"\n",
    "\n",
    "dog = Dog()\n",
    "dog.speak()     # Output: \"Dog barks\"\n",
    "\n",
    "cat = Cat()\n",
    "cat.speak()     # Output: \"Cat meows\"\n"
   ]
  }
 ],
 "metadata": {
  "kernelspec": {
   "display_name": "Python 3",
   "language": "python",
   "name": "python3"
  },
  "language_info": {
   "codemirror_mode": {
    "name": "ipython",
    "version": 3
   },
   "file_extension": ".py",
   "mimetype": "text/x-python",
   "name": "python",
   "nbconvert_exporter": "python",
   "pygments_lexer": "ipython3",
   "version": "3.12.1"
  }
 },
 "nbformat": 4,
 "nbformat_minor": 2
}
