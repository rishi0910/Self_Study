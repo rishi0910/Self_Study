{
 "cells": [
  {
   "cell_type": "code",
   "execution_count": null,
   "metadata": {},
   "outputs": [],
   "source": [
    "# # Paradigms: Ways of organizing programs.\n",
    "# Python supports multiple paradigms. These are as follows:-\n",
    "# 1) Procedural oriented paradigm\n",
    "# 2) Functional oriented paradigm\n",
    "# 3) Object-oriented paradigm"
   ]
  },
  {
   "cell_type": "code",
   "execution_count": null,
   "metadata": {},
   "outputs": [],
   "source": []
  },
  {
   "cell_type": "code",
   "execution_count": null,
   "metadata": {},
   "outputs": [],
   "source": [
    "'''The object-oriented paradigm took its shape from the initial concept of a new programming approach, while the interest in design and analysis methods came much later.\n",
    "\n",
    "The first object–oriented language was Simula (Simulation of real systems) that was developed in 1960 by researchers at the Norwegian Computing Center.\n",
    "\n",
    "In 1970, Alan Kay and his research group at Xerox PARK created a personal computer named Dynabook and the first pure object-oriented programming language (OOPL) - Smalltalk, for programming the Dynabook.\n",
    "\n",
    "In the 1980s, Grady Booch published a paper titled Object Oriented Design that mainly presented a design for the programming language, Ada. In the ensuing editions, he extended his ideas to a complete object–oriented design method.\n",
    "\n",
    "In the 1990s, Coad incorporated behavioral ideas to object-oriented methods.'''\n",
    "\n"
   ]
  },
  {
   "cell_type": "code",
   "execution_count": null,
   "metadata": {},
   "outputs": [],
   "source": [
    "# Object-Oriented Design\n",
    "# Restructuring the class data (if necessary),\n",
    "# Implementation of methods, i.e., internal data structures and algorithms,\n",
    "# Implementation of control, and\n",
    "# Implementation of associations."
   ]
  },
  {
   "cell_type": "code",
   "execution_count": 8,
   "metadata": {},
   "outputs": [],
   "source": [
    "class Person:\n",
    "    __data = 100\n",
    "    def method1(self, details):\n",
    "        self.details = details\n",
    "    def method2(self, details2):\n",
    "        self.details2 = details2\n",
    "    def display(self):\n",
    "        return self.details, self.__data, self.details2\n",
    "        "
   ]
  },
  {
   "cell_type": "code",
   "execution_count": 10,
   "metadata": {},
   "outputs": [
    {
     "name": "stdout",
     "output_type": "stream",
     "text": [
      "('i am the one', 100, 'i am not')\n"
     ]
    }
   ],
   "source": [
    "obj = Person()\n",
    "obj.method1('i am the one')\n",
    "obj.method2('i am not')\n",
    "obj.__data = 20\n",
    "print(obj.display())"
   ]
  }
 ],
 "metadata": {
  "kernelspec": {
   "display_name": "Python 3",
   "language": "python",
   "name": "python3"
  },
  "language_info": {
   "codemirror_mode": {
    "name": "ipython",
    "version": 3
   },
   "file_extension": ".py",
   "mimetype": "text/x-python",
   "name": "python",
   "nbconvert_exporter": "python",
   "pygments_lexer": "ipython3",
   "version": "3.12.1"
  }
 },
 "nbformat": 4,
 "nbformat_minor": 2
}
