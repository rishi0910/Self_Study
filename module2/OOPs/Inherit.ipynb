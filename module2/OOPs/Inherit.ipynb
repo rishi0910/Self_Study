{
 "cells": [
  {
   "cell_type": "code",
   "execution_count": 15,
   "metadata": {},
   "outputs": [],
   "source": [
    "class shape:\n",
    "    def __init__(self, height, width) -> None:\n",
    "        self.width = width\n",
    "        self.height = height\n",
    "    def area(self):\n",
    "        return self.width * self.height\n",
    "    def perimeter(self):\n",
    "        return 2 * self.width + 2 * self.height\n",
    "\n",
    "class Rectangle(shape):\n",
    "    def area(self):\n",
    "        print('Drived Area')\n",
    "        super().area()\n",
    "   \n",
    "class Square(shape):\n",
    "    def __init__(self, side) -> None:\n",
    "        super().__init__(side, side)\n",
    "    "
   ]
  },
  {
   "cell_type": "code",
   "execution_count": 16,
   "metadata": {},
   "outputs": [
    {
     "name": "stdout",
     "output_type": "stream",
     "text": [
      "30\n"
     ]
    }
   ],
   "source": [
    "sp1 = Rectangle(5, 6)\n",
    "print(sp1.area())"
   ]
  },
  {
   "cell_type": "code",
   "execution_count": 13,
   "metadata": {},
   "outputs": [],
   "source": [
    "class Rectangle(shape):\n",
    "    pass\n",
    "   \n",
    "class Square(shape):\n",
    "    def __init__(self, side):\n",
    "        "
   ]
  },
  {
   "cell_type": "code",
   "execution_count": 17,
   "metadata": {},
   "outputs": [
    {
     "name": "stdout",
     "output_type": "stream",
     "text": [
      "100\n"
     ]
    }
   ],
   "source": [
    "r1 = Square(10)\n",
    "print(r1.area())"
   ]
  },
  {
   "cell_type": "code",
   "execution_count": 7,
   "metadata": {},
   "outputs": [
    {
     "data": {
      "text/plain": [
       "9"
      ]
     },
     "execution_count": 7,
     "metadata": {},
     "output_type": "execute_result"
    }
   ],
   "source": [
    "s1 = Square(3)\n",
    "s1.area()"
   ]
  },
  {
   "cell_type": "code",
   "execution_count": 36,
   "metadata": {},
   "outputs": [],
   "source": [
    "class A:\n",
    "    def __init__(self):\n",
    "        self.a = 10\n",
    "    def disp(self):\n",
    "        print('This is disp in clas A')\n",
    "\n",
    "class B:\n",
    "    def __init__(self):\n",
    "        self.b = 100\n",
    "    def disp2(self):\n",
    "        print('this is disp2 in class B')\n",
    "\n",
    "class C(A, B):\n",
    "    def __init__(self):\n",
    "        A.__init__(self)\n",
    "        B.__init__(self)\n",
    "        self.c = 1000\n"
   ]
  },
  {
   "cell_type": "code",
   "execution_count": 37,
   "metadata": {},
   "outputs": [
    {
     "name": "stdout",
     "output_type": "stream",
     "text": [
      "This is disp in clas A\n",
      "this is disp2 in class B\n"
     ]
    }
   ],
   "source": [
    "r1 = C()\n",
    "r1.disp()\n",
    "r1.disp2()"
   ]
  }
 ],
 "metadata": {
  "kernelspec": {
   "display_name": "Python 3",
   "language": "python",
   "name": "python3"
  },
  "language_info": {
   "codemirror_mode": {
    "name": "ipython",
    "version": 3
   },
   "file_extension": ".py",
   "mimetype": "text/x-python",
   "name": "python",
   "nbconvert_exporter": "python",
   "pygments_lexer": "ipython3",
   "version": "3.12.1"
  }
 },
 "nbformat": 4,
 "nbformat_minor": 2
}
