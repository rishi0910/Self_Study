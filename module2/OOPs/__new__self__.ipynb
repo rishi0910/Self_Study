{
 "cells": [
  {
   "cell_type": "code",
   "execution_count": 2,
   "metadata": {},
   "outputs": [
    {
     "name": "stdout",
     "output_type": "stream",
     "text": [
      "Creating a new Person object\n"
     ]
    }
   ],
   "source": [
    "class Person:\n",
    "    def __new__(cls, name, age):\n",
    "        print(\"Creating a new Person object\")\n",
    "        # instance = super().__new__(cls)\n",
    "        # return instance\n",
    "\n",
    "    def __init__(self, name, age):\n",
    "        print(\"Initializing the Person object\")\n",
    "        self.name = name\n",
    "        self.age = age\n",
    "\n",
    "person = Person(\"John Doe\", 30)\n",
    "# print(f\"Person's name: {person.name}, age: {person.age}\")"
   ]
  },
  {
   "cell_type": "code",
   "execution_count": 3,
   "metadata": {},
   "outputs": [
    {
     "name": "stdout",
     "output_type": "stream",
     "text": [
      "Creating a new Person object\n"
     ]
    }
   ],
   "source": [
    "person2 = Person('ravi', 34)"
   ]
  },
  {
   "cell_type": "code",
   "execution_count": null,
   "metadata": {},
   "outputs": [],
   "source": []
  }
 ],
 "metadata": {
  "kernelspec": {
   "display_name": "Python 3",
   "language": "python",
   "name": "python3"
  },
  "language_info": {
   "codemirror_mode": {
    "name": "ipython",
    "version": 3
   },
   "file_extension": ".py",
   "mimetype": "text/x-python",
   "name": "python",
   "nbconvert_exporter": "python",
   "pygments_lexer": "ipython3",
   "version": "3.12.1"
  }
 },
 "nbformat": 4,
 "nbformat_minor": 2
}
