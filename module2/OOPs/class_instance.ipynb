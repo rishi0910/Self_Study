{
 "cells": [
  {
   "cell_type": "code",
   "execution_count": null,
   "metadata": {},
   "outputs": [],
   "source": [
    "# class variable : shared by all instance\n",
    "# instance variable: unique to each instance"
   ]
  },
  {
   "cell_type": "code",
   "execution_count": 9,
   "metadata": {},
   "outputs": [
    {
     "name": "stdout",
     "output_type": "stream",
     "text": [
      "Class Variable\n",
      "10\n",
      "10\n",
      "0\n",
      "0\n"
     ]
    }
   ],
   "source": [
    "class test:\n",
    "    # class variable \n",
    "    x = 10\n",
    "    def __init__(self, val):\n",
    "        # instance variable \n",
    "        self.ab = val\n",
    "    def update_classVar(self, val):\n",
    "        self.x = val\n",
    "obj1 = test(20)\n",
    "obj2 = test(100)\n",
    "print('Class Variable')\n",
    "print(obj1.x)\n",
    "print(obj2.x)\n",
    "obj1.update_classVar(0)\n",
    "print(obj1.x)\n",
    "print(obj2.x)\n",
    "\n",
    "# 19, 21, 39, 50, 51, 52, 64"
   ]
  }
 ],
 "metadata": {
  "kernelspec": {
   "display_name": "Python 3",
   "language": "python",
   "name": "python3"
  },
  "language_info": {
   "codemirror_mode": {
    "name": "ipython",
    "version": 3
   },
   "file_extension": ".py",
   "mimetype": "text/x-python",
   "name": "python",
   "nbconvert_exporter": "python",
   "pygments_lexer": "ipython3",
   "version": "3.12.1"
  }
 },
 "nbformat": 4,
 "nbformat_minor": 2
}
