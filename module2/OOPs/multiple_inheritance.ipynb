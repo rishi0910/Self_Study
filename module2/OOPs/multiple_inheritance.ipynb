{
 "cells": [
  {
   "cell_type": "code",
   "execution_count": 21,
   "metadata": {},
   "outputs": [],
   "source": [
    "# multiple inheritance \n",
    "class Animal:\n",
    "    def __init__(self) -> None:\n",
    "        self.a = 10\n",
    "    def disp(self):\n",
    "        print('Animal')\n",
    "class Person:\n",
    "    def __init__(self):\n",
    "        self.b = 2\n",
    "    def info(self):\n",
    "        print('Person')\n",
    "    def disp(self):\n",
    "        print('Person Animal')"
   ]
  },
  {
   "cell_type": "code",
   "execution_count": 33,
   "metadata": {},
   "outputs": [
    {
     "name": "stdout",
     "output_type": "stream",
     "text": [
      "hello\n",
      "{'a': 10, 'b': 2, 'c': 0}\n"
     ]
    }
   ],
   "source": [
    "class Sound(Animal, Person):\n",
    "    def __init__(self):\n",
    "        Animal.__init__(self)\n",
    "        Person.__init__(self)\n",
    "        self.c = 0\n",
    "    def sese(self):\n",
    "        print('Sound')\n",
    "        super(Sound, self).disp()\n",
    "\n",
    "obj = Sound()\n",
    "print(obj.__dict__)"
   ]
  },
  {
   "cell_type": "code",
   "execution_count": 2,
   "metadata": {},
   "outputs": [
    {
     "name": "stdout",
     "output_type": "stream",
     "text": [
      "Area of Rectangle with given dimensions 12 and 6 is 72\n",
      "Perimeter of Rectangle with given dimensions 12 and 6 is 36\n"
     ]
    }
   ],
   "source": [
    "class shape:\n",
    "    def __init__(self, side1, side2):\n",
    "        self.side1 = side1\n",
    "        self.side2 = side2\n",
    "    def area(self):\n",
    "        return self.side1 * self.side2\n",
    "    \n",
    "    def perimeter(self):\n",
    "        return 2 * (self.side1 + self.side2)\n",
    "class Rectangle(shape):\n",
    "    def __init__(self, length, breadth):\n",
    "        super().__init__(length, breadth)\n",
    "class Square(shape):\n",
    "    def __init__(self, side) -> None:\n",
    "        super().__init__(side, side) \n",
    "# driver code \n",
    "l = int(input('Enter the length '))\n",
    "b = int(input('Enter the Breadth '))\n",
    "rec = Rectangle(l, b)\n",
    "area = rec.area()\n",
    "peri = rec.perimeter()\n",
    "print(f'Area of Rectangle with given dimensions {l} and {b} is {area}')\n",
    "print(f'Perimeter of Rectangle with given dimensions {l} and {b} is {peri}')"
   ]
  }
 ],
 "metadata": {
  "kernelspec": {
   "display_name": "Python 3",
   "language": "python",
   "name": "python3"
  },
  "language_info": {
   "codemirror_mode": {
    "name": "ipython",
    "version": 3
   },
   "file_extension": ".py",
   "mimetype": "text/x-python",
   "name": "python",
   "nbconvert_exporter": "python",
   "pygments_lexer": "ipython3",
   "version": "3.12.1"
  }
 },
 "nbformat": 4,
 "nbformat_minor": 2
}
