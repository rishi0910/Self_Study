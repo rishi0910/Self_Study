{
 "cells": [
  {
   "cell_type": "code",
   "execution_count": 1,
   "metadata": {},
   "outputs": [
    {
     "name": "stdout",
     "output_type": "stream",
     "text": [
      "300\n",
      "red\n"
     ]
    },
    {
     "ename": "AttributeError",
     "evalue": "'Car' object has no attribute '__speed'",
     "output_type": "error",
     "traceback": [
      "\u001b[0;31m---------------------------------------------------------------------------\u001b[0m",
      "\u001b[0;31mAttributeError\u001b[0m                            Traceback (most recent call last)",
      "Cell \u001b[0;32mIn[1], line 23\u001b[0m\n\u001b[1;32m     21\u001b[0m \u001b[38;5;28mprint\u001b[39m(car1\u001b[38;5;241m.\u001b[39mget_speed())\n\u001b[1;32m     22\u001b[0m \u001b[38;5;28mprint\u001b[39m(car1\u001b[38;5;241m.\u001b[39mcolor)\n\u001b[0;32m---> 23\u001b[0m \u001b[38;5;28mprint\u001b[39m(\u001b[43mcar1\u001b[49m\u001b[38;5;241;43m.\u001b[39;49m\u001b[43m__speed\u001b[49m) \u001b[38;5;66;03m# AttributeError: 'Car' object has no attribute '__speed'\u001b[39;00m\n",
      "\u001b[0;31mAttributeError\u001b[0m: 'Car' object has no attribute '__speed'"
     ]
    }
   ],
   "source": [
    "# Encapsulation hides the internal state of an object from the outside world and only exposes the necessary functionalities through well-defined interfaces.\n",
    "# encapsulation - public, protected, private\n",
    "# public - accessible from anywhere\n",
    "# protected - accessible from within the class and its subclasses\n",
    "# private - accessible only from within the class\n",
    "\n",
    "class Car:\n",
    "    def __init__(self, speed, color):\n",
    "        self.__speed = speed # private attribute\n",
    "        self.color = color # public attribute\n",
    "\n",
    "    def set_speed(self, value):\n",
    "        self.__speed = value\n",
    "\n",
    "    def get_speed(self):\n",
    "        return self.__speed\n",
    "    \n",
    "car1 = Car(200, 'red')\n",
    "car2 = Car(250, 'blue')\n",
    "\n",
    "car1.set_speed(300)\n",
    "print(car1.get_speed())\n",
    "print(car1.color)\n",
    "print(car1.__speed) # AttributeError: 'Car' object has no attribute '__speed'\n"
   ]
  },
  {
   "cell_type": "code",
   "execution_count": null,
   "metadata": {},
   "outputs": [],
   "source": [
    "# what is the meening of encapsulation?\n",
    "# It describes the idea of bundling data and methods that work on that data within one unit, e.g., a class in Python. \n",
    "# This concept is also often used to hide the internal representation, or state, of an object from the outside.\n",
    "\n"
   ]
  },
  {
   "cell_type": "code",
   "execution_count": 5,
   "metadata": {},
   "outputs": [
    {
     "ename": "AttributeError",
     "evalue": "'test' object has no attribute '__val'",
     "output_type": "error",
     "traceback": [
      "\u001b[0;31m---------------------------------------------------------------------------\u001b[0m",
      "\u001b[0;31mAttributeError\u001b[0m                            Traceback (most recent call last)",
      "Cell \u001b[0;32mIn[5], line 6\u001b[0m\n\u001b[1;32m      3\u001b[0m         \u001b[38;5;28mself\u001b[39m\u001b[38;5;241m.\u001b[39m__val \u001b[38;5;241m=\u001b[39m val\n\u001b[1;32m      5\u001b[0m obj \u001b[38;5;241m=\u001b[39m test(\u001b[38;5;241m10\u001b[39m)\n\u001b[0;32m----> 6\u001b[0m \u001b[38;5;28mprint\u001b[39m(\u001b[43mobj\u001b[49m\u001b[38;5;241;43m.\u001b[39;49m\u001b[43m__val\u001b[49m)\n",
      "\u001b[0;31mAttributeError\u001b[0m: 'test' object has no attribute '__val'"
     ]
    }
   ],
   "source": [
    "class test:\n",
    "    __a = 0  # private class variable \n",
    "    def __init__(self, val):\n",
    "        self._val = val  # private instance variable \n",
    "    def change_val(self, new_val):\n",
    "        self._val = new_val\n",
    "\n",
    "obj = test(10)\n",
    "print(obj._val)  # error \n",
    "# obj._test__val   mungling process "
   ]
  },
  {
   "cell_type": "code",
   "execution_count": 16,
   "metadata": {},
   "outputs": [],
   "source": [
    "from abc import ABC, abstractmethod\n",
    "\n",
    "class shape(ABC):\n",
    "    @abstractmethod\n",
    "    def area(self):\n",
    "        pass\n",
    "\n",
    "    def perimeter(self):\n",
    "        pass\n",
    "\n"
   ]
  },
  {
   "cell_type": "code",
   "execution_count": 17,
   "metadata": {},
   "outputs": [
    {
     "name": "stdout",
     "output_type": "stream",
     "text": [
      "12\n"
     ]
    }
   ],
   "source": [
    "class Rectangle(shape):\n",
    "    def area(self, l, b):\n",
    "        return super().area(l, b)\n",
    "    \n",
    "class Circle(shape):\n",
    "    def area(self, r):\n",
    "        return 3.14 * r ** 2\n",
    "\n",
    "obj = Rectangle()\n",
    "print(obj.area(3, 4))\n"
   ]
  },
  {
   "cell_type": "code",
   "execution_count": 15,
   "metadata": {},
   "outputs": [
    {
     "name": "stdout",
     "output_type": "stream",
     "text": [
      "rect class \n",
      "shape class constructor\n",
      "this is area in rect\n",
      "this is area in shape\n"
     ]
    }
   ],
   "source": [
    "class shape:\n",
    "    def __init__(self):\n",
    "        print('shape class constructor')\n",
    "    def area(self):\n",
    "        print('this is area in shape')\n",
    "\n",
    "class rect(shape, test):\n",
    "    def __init__(self):\n",
    "        print('rect class ')\n",
    "        shape.__init__(self)\n",
    "    def area(self):\n",
    "        print('this is area in rect')\n",
    "        shape.area(self)\n",
    "        test.area(self)\n",
    "\n",
    "    def peri(self):\n",
    "        print('perimeter in rect')\n",
    "\n",
    "obj1 = rect()\n",
    "obj1.area()\n"
   ]
  },
  {
   "cell_type": "code",
   "execution_count": 27,
   "metadata": {},
   "outputs": [
    {
     "name": "stdout",
     "output_type": "stream",
     "text": [
      "10 1000\n"
     ]
    }
   ],
   "source": [
    "class A:\n",
    "    def __init__(self, a):\n",
    "        self.a = 10\n",
    "class B:\n",
    "    def __init__(self):\n",
    "        self.b = 100\n",
    "\n",
    "class C(A, B):\n",
    "    def __init__(self) -> None:\n",
    "        self.c = 1000\n",
    "        super(C, self).__init__()\n",
    "\n",
    "obj = C()\n",
    "print(obj.a, obj.c)\n",
    "    "
   ]
  },
  {
   "cell_type": "code",
   "execution_count": 33,
   "metadata": {},
   "outputs": [
    {
     "name": "stdout",
     "output_type": "stream",
     "text": [
      "100\n",
      "23\n"
     ]
    }
   ],
   "source": [
    "class test:\n",
    "    def __init__(self) :\n",
    "        self.__val = 100\n",
    "    def read_val(self):\n",
    "        return self.__val\n",
    "    \n",
    "    def change_val(self, new_val):\n",
    "        self.__val = new_val\n",
    "obj = test()\n",
    "print(obj.read_val()) \n",
    "obj.change_val(23)\n",
    "print(obj.read_val()) "
   ]
  }
 ],
 "metadata": {
  "kernelspec": {
   "display_name": "Python 3",
   "language": "python",
   "name": "python3"
  },
  "language_info": {
   "codemirror_mode": {
    "name": "ipython",
    "version": 3
   },
   "file_extension": ".py",
   "mimetype": "text/x-python",
   "name": "python",
   "nbconvert_exporter": "python",
   "pygments_lexer": "ipython3",
   "version": "3.12.1"
  }
 },
 "nbformat": 4,
 "nbformat_minor": 2
}
