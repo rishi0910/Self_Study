{
 "cells": [
  {
   "cell_type": "code",
   "execution_count": null,
   "metadata": {},
   "outputs": [],
   "source": [
    "# Object-Oriented Programming (OOP) is a programming paradigm centered around the concept of objects, \n",
    "# which can contain data (attributes or properties) and code (methods or functions). \n",
    "# OOP is based on several key principles that help in organizing and structuring code in a more modular, \n",
    "# reusable, and efficient way."
   ]
  },
  {
   "cell_type": "code",
   "execution_count": null,
   "metadata": {},
   "outputs": [],
   "source": [
    "# Key Concepts in OOP:\n",
    "\n",
    "# Classes: \n",
    "# Classes serve as blueprints or templates(define structure) for creating objects. \n",
    "# They define the properties (attributes) and behaviors (methods) that objects will have.\n",
    "\n",
    "# Objects: \n",
    "# Objects are instances of classes. They represent individual entities(real-world entity) that possess \n",
    "# characteristics (attributes) and can perform actions (methods) defined in their class.\n",
    "\n",
    "# Attributes: \n",
    "# Attributes, also known as properties or fields, are variables that store data within an object. \n",
    "# These attributes define the object's state.\n",
    "\n",
    "# Methods: Methods are functions or procedures associated with objects. \n",
    "# They represent the actions or behaviors that objects can perform."
   ]
  },
  {
   "cell_type": "code",
   "execution_count": 22,
   "metadata": {},
   "outputs": [],
   "source": [
    "class person:\n",
    "    def __init__(self):\n",
    "        self.name = 'NA'\n",
    "        self.salary = 'NA'\n",
    "        self.age = 'NA'\n",
    "    def setDetails(self, name, salary, age):\n",
    "        self.name = name\n",
    "        self.salary = salary\n",
    "        self.age = age\n",
    "    def getDetails(self):\n",
    "        return f'''Name: {self.name}\n",
    "Salary: {self.salary}\n",
    "Age: {self.age}'''\n",
    "    \n",
    "\n",
    "# object creation \n",
    "obj1 = person()\n",
    "obj2 = person()\n",
    "obj1.setDetails('ravi', 12000, 30)\n",
    "obj2.setDetails('saket', 14100, 24)\n"
   ]
  },
  {
   "cell_type": "code",
   "execution_count": 19,
   "metadata": {},
   "outputs": [
    {
     "name": "stdout",
     "output_type": "stream",
     "text": [
      "Name: saket\n",
      "Salary: 14100\n",
      "Age: 24\n"
     ]
    }
   ],
   "source": [
    "out = obj2.getDetails()\n",
    "print(out)"
   ]
  },
  {
   "cell_type": "code",
   "execution_count": 25,
   "metadata": {},
   "outputs": [
    {
     "name": "stdout",
     "output_type": "stream",
     "text": [
      "Name: NA\n",
      "Salary: NA\n",
      "Age: NA\n"
     ]
    }
   ],
   "source": [
    "obj3 = person()\n",
    "print(obj3.getDetails())"
   ]
  },
  {
   "cell_type": "code",
   "execution_count": 6,
   "metadata": {},
   "outputs": [],
   "source": [
    "\n"
   ]
  },
  {
   "cell_type": "code",
   "execution_count": null,
   "metadata": {},
   "outputs": [],
   "source": [
    "# Object-Oriented Programming\n",
    "# Object-oriented programming (OOP) is a programming paradigm based upon objects (having both data and methods) \n",
    "# that aims to incorporate the advantages of modularity and reusability.\n",
    "# The important features of object–oriented programming are −\n",
    "\n",
    "# Bottom–up approach in program design\n",
    "# Programs organized around objects, grouped in classes\n",
    "# Focus on data with methods to operate upon object’s data\n",
    "# Interaction between objects through functions\n",
    "# Reusability of design through creation of new classes by adding features to existing classes"
   ]
  },
  {
   "cell_type": "code",
   "execution_count": 20,
   "metadata": {},
   "outputs": [],
   "source": [
    "class Person:\n",
    "    # attribute\n",
    "    # methods \n",
    "    dept = 'civil'\n",
    "    def getDetails(self):\n",
    "        print('name', self.name)\n",
    "        print('salary', self.salary)\n",
    "        print('age', self.age)\n",
    "        print('department', self.dept)\n",
    "    def setDetails(self, name, salary, age):\n",
    "        self.name = name\n",
    "        self.salary = salary\n",
    "        self.age = age\n",
    "        \n"
   ]
  },
  {
   "cell_type": "code",
   "execution_count": 21,
   "metadata": {},
   "outputs": [],
   "source": [
    "# how to create the object in Python \n",
    "obj1 = Person()\n",
    "obj2 = Person()\n",
    "obj1.setDetails('ravi', 120000, 18)\n",
    "obj2.setDetails('saket', 1200, 12)\n"
   ]
  },
  {
   "cell_type": "code",
   "execution_count": 23,
   "metadata": {},
   "outputs": [
    {
     "name": "stdout",
     "output_type": "stream",
     "text": [
      "name saket\n",
      "salary 1200\n",
      "age 12\n",
      "department civil\n"
     ]
    }
   ],
   "source": [
    "obj2.getDetails()\n"
   ]
  },
  {
   "cell_type": "code",
   "execution_count": 10,
   "metadata": {},
   "outputs": [
    {
     "name": "stdout",
     "output_type": "stream",
     "text": [
      "Name: saket\n",
      "Salary:1200\n",
      "Age:12\n"
     ]
    }
   ],
   "source": [
    "obj2 = Person()\n",
    "obj2.details('saket', 1200, 12)\n"
   ]
  },
  {
   "cell_type": "code",
   "execution_count": 11,
   "metadata": {},
   "outputs": [],
   "source": [
    "class tmp:\n",
    "    pass\n"
   ]
  },
  {
   "cell_type": "code",
   "execution_count": 12,
   "metadata": {},
   "outputs": [
    {
     "name": "stdout",
     "output_type": "stream",
     "text": [
      "saket\n"
     ]
    }
   ],
   "source": [
    "obj = tmp()\n",
    "obj.name = 'saket'\n",
    "print(obj.name)"
   ]
  },
  {
   "cell_type": "code",
   "execution_count": null,
   "metadata": {},
   "outputs": [],
   "source": [
    "class SUV(Car): \n",
    "    def __init__(self, make, model): \n",
    "        super().__init__(make, model) \n",
    "        self.category = \"SUV\""
   ]
  },
  {
   "cell_type": "code",
   "execution_count": 3,
   "metadata": {},
   "outputs": [
    {
     "name": "stdout",
     "output_type": "stream",
     "text": [
      "0\n",
      "() <class 'tuple'>\n"
     ]
    }
   ],
   "source": [
    "var = tuple()\n",
    "data = var.count(3)\n",
    "print(data)\n",
    "print(var, type(var))"
   ]
  },
  {
   "cell_type": "code",
   "execution_count": 33,
   "metadata": {},
   "outputs": [],
   "source": [
    "class Person:\n",
    "    def setDetails(self, name, salary, age):\n",
    "        self.name = name\n",
    "        self.salary = salary\n",
    "        self.age = age\n",
    "    def getDetails(self):\n",
    "        return f'Name: {self.name}\\nSalary: {self.salary}\\nAge: {self.age}'\n",
    "    def __add__(self, obj2):\n",
    "        return 'hello'\n",
    "    def __str__(self):\n",
    "        return 'Object Represation'"
   ]
  },
  {
   "cell_type": "code",
   "execution_count": 34,
   "metadata": {},
   "outputs": [],
   "source": [
    "var1 = Person()\n",
    "var2 = Person()\n",
    "var1.setDetails('ravi', 12000, 30)\n",
    "var2.setDetails('saket', 14090, 24)\n"
   ]
  },
  {
   "cell_type": "code",
   "execution_count": 35,
   "metadata": {},
   "outputs": [
    {
     "name": "stdout",
     "output_type": "stream",
     "text": [
      "Object Represation\n"
     ]
    }
   ],
   "source": [
    "\n",
    "print(var1)"
   ]
  },
  {
   "cell_type": "code",
   "execution_count": 14,
   "metadata": {},
   "outputs": [],
   "source": [
    "class tmp:\n",
    "    pass"
   ]
  },
  {
   "cell_type": "code",
   "execution_count": 16,
   "metadata": {},
   "outputs": [
    {
     "name": "stdout",
     "output_type": "stream",
     "text": [
      "100\n"
     ]
    }
   ],
   "source": [
    "obj = tmp()\n",
    "obj.value = 100\n",
    "print(tmp.value)"
   ]
  },
  {
   "cell_type": "code",
   "execution_count": null,
   "metadata": {},
   "outputs": [],
   "source": [
    "class Calculator:\n",
    "    def __init__(self):\n",
    "        pass\n",
    "\n",
    "    def add(self, num1, num2):\n",
    "        return num1 + num2\n",
    "\n",
    "    def subtract(self, num1, num2):\n",
    "        return num1 - num2\n",
    "\n",
    "    def multiply(self, num1, num2):\n",
    "        return num1 * num2\n",
    "\n",
    "    def divide(self, num1, num2):\n",
    "        if num2 != 0:\n",
    "            return num1 / num2\n",
    "        else:\n",
    "            return \"Error: Division by zero.\"\n",
    "\n",
    "# Example Usage:\n",
    "calc = Calculator()\n",
    "print(\"Addition:\", calc.add(5, 3))\n",
    "print(\"Subtraction:\", calc.subtract(8, 2))\n",
    "print(\"Multiplication:\", calc.multiply(4, 6))\n",
    "print(\"Division:\", calc.divide(10, 2))\n"
   ]
  },
  {
   "cell_type": "code",
   "execution_count": 11,
   "metadata": {},
   "outputs": [],
   "source": [
    "def add(a:int|float, b:int)->int|float:\n",
    "    'this is for addition of two number values'\n",
    "    return a + b\n"
   ]
  },
  {
   "cell_type": "code",
   "execution_count": 12,
   "metadata": {},
   "outputs": [
    {
     "name": "stdout",
     "output_type": "stream",
     "text": [
      "this is for addition of two number values\n"
     ]
    }
   ],
   "source": [
    "out = add.__doc__\n",
    "print(out)\n"
   ]
  },
  {
   "cell_type": "code",
   "execution_count": 2,
   "metadata": {},
   "outputs": [
    {
     "name": "stdout",
     "output_type": "stream",
     "text": [
      "1000.0\n"
     ]
    }
   ],
   "source": [
    "a = eval('1e3')\n",
    "print(a)"
   ]
  }
 ],
 "metadata": {
  "kernelspec": {
   "display_name": "Python 3",
   "language": "python",
   "name": "python3"
  },
  "language_info": {
   "codemirror_mode": {
    "name": "ipython",
    "version": 3
   },
   "file_extension": ".py",
   "mimetype": "text/x-python",
   "name": "python",
   "nbconvert_exporter": "python",
   "pygments_lexer": "ipython3",
   "version": "3.12.1"
  }
 },
 "nbformat": 4,
 "nbformat_minor": 2
}
