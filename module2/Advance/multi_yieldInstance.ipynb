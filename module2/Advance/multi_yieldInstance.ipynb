{
 "cells": [
  {
   "cell_type": "code",
   "execution_count": 1,
   "metadata": {},
   "outputs": [
    {
     "name": "stdout",
     "output_type": "stream",
     "text": [
      "<__main__.SingletonTwist object at 0x10350a180>\n",
      "<__main__.SingletonTwist object at 0x10350a360>\n",
      "<__main__.SingletonTwist object at 0x10350a360>\n",
      "<__main__.SingletonTwist object at 0x10350a180>\n",
      "<__main__.SingletonTwist object at 0x10350a360>\n"
     ]
    }
   ],
   "source": [
    "class SingletonTwist:\n",
    "    _instance1 = None\n",
    "    _instance2 = None\n",
    "    _is_even_call = False\n",
    "\n",
    "    def __new__(cls):\n",
    "        if not cls._instance1:\n",
    "            cls._instance1 = super(SingletonTwist, cls).__new__(cls)\n",
    "            return cls._instance1\n",
    "        elif not cls._instance2:\n",
    "            cls._instance2 = super(SingletonTwist, cls).__new__(cls)\n",
    "            return cls._instance2\n",
    "        else:\n",
    "            if cls._is_even_call:\n",
    "                cls._is_even_call = False\n",
    "                return cls._instance1\n",
    "            else:\n",
    "                cls._is_even_call = True\n",
    "                return cls._instance2\n",
    "\n",
    "\n",
    "# Test the implementation\n",
    "if __name__ == \"__main__\":\n",
    "    instance1 = SingletonTwist()\n",
    "    print(instance1)\n",
    "\n",
    "    instance2 = SingletonTwist()\n",
    "    print(instance2)\n",
    "\n",
    "    instance3 = SingletonTwist()\n",
    "    print(instance3)\n",
    "\n",
    "    instance4 = SingletonTwist()\n",
    "    print(instance4)\n",
    "\n",
    "    instance5 = SingletonTwist()\n",
    "    print(instance5)\n"
   ]
  },
  {
   "cell_type": "code",
   "execution_count": null,
   "metadata": {},
   "outputs": [],
   "source": []
  }
 ],
 "metadata": {
  "kernelspec": {
   "display_name": "Python 3",
   "language": "python",
   "name": "python3"
  },
  "language_info": {
   "codemirror_mode": {
    "name": "ipython",
    "version": 3
   },
   "file_extension": ".py",
   "mimetype": "text/x-python",
   "name": "python",
   "nbconvert_exporter": "python",
   "pygments_lexer": "ipython3",
   "version": "3.12.1"
  }
 },
 "nbformat": 4,
 "nbformat_minor": 2
}
