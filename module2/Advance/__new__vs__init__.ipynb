{
 "cells": [
  {
   "cell_type": "code",
   "execution_count": 14,
   "metadata": {},
   "outputs": [
    {
     "name": "stdout",
     "output_type": "stream",
     "text": [
      "Creating instance\n",
      "Init is called\n",
      "<__main__.A object at 0x105c02f60> <class '__main__.A'>\n"
     ]
    }
   ],
   "source": [
    "# __new__ vs __init__ \n",
    "'''__new__ is the first step of instance creation. It's called first, and is responsible for \n",
    "returning a new instance of your class. \n",
    "In contrast, __init__ doesn't return anything; it's only responsible for initializing the instance after \n",
    "it's been created.'''\n",
    "class A:\n",
    "    def __new__(cls):\n",
    "        print(\"Creating instance\")\n",
    "        return super().__new__(cls)\n",
    "        # return super(A, cls).__init__(cls)\n",
    "        # return 'hello world'\n",
    "    def __init__(self):\n",
    "        print(\"Init is called\")\n",
    "\n",
    "# Creating instance\n",
    "a = A()\n",
    "print(a, type(a))"
   ]
  },
  {
   "cell_type": "code",
   "execution_count": 25,
   "metadata": {},
   "outputs": [
    {
     "name": "stdout",
     "output_type": "stream",
     "text": [
      "Creating instance\n",
      "Init is called\n",
      "Creating instance\n"
     ]
    }
   ],
   "source": [
    "class Test:\n",
    "    def __new__(cls):\n",
    "        print(\"Creating instance\")\n",
    "        return super().__new__(cls)\n",
    "    def __init__(self):\n",
    "        print(\"Init is called\")\n",
    "\n",
    "# Creating instance\n",
    "a = Test()\n",
    "# print(a, type(a))\n",
    "# a.__init__()\n",
    "ty = a.__new__(Test)\n",
    "# print('\\n',ty, type(ty))"
   ]
  }
 ],
 "metadata": {
  "kernelspec": {
   "display_name": "Python 3",
   "language": "python",
   "name": "python3"
  },
  "language_info": {
   "codemirror_mode": {
    "name": "ipython",
    "version": 3
   },
   "file_extension": ".py",
   "mimetype": "text/x-python",
   "name": "python",
   "nbconvert_exporter": "python",
   "pygments_lexer": "ipython3",
   "version": "3.12.1"
  }
 },
 "nbformat": 4,
 "nbformat_minor": 2
}
