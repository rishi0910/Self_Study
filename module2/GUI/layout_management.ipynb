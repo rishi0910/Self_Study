{
 "cells": [
  {
   "cell_type": "code",
   "execution_count": 2,
   "metadata": {},
   "outputs": [
    {
     "name": "stdout",
     "output_type": "stream",
     "text": [
      "\n"
     ]
    }
   ],
   "source": [
    "'''\n",
    "Layout management is the process of arranging widgets on a Tkinter window in Python. \n",
    "There are three layout managers in Tkinter: pack, place, and grid. The pack() method is used to arrange widgets \n",
    "in a horizontal or vertical stack'''\n",
    "print()"
   ]
  },
  {
   "cell_type": "code",
   "execution_count": null,
   "metadata": {},
   "outputs": [],
   "source": [
    "# pack()\n",
    "'''\n",
    "The pack() method is used to arrange widgets in a horizontal or vertical stack.\n",
    "The grid() method arranges widgets in a grid, similar to rows and columns.\n",
    "The place() method allows you to specify the exact x and y coordinates for widget placement.\n",
    "'''"
   ]
  },
  {
   "cell_type": "code",
   "execution_count": null,
   "metadata": {},
   "outputs": [],
   "source": [
    "# Write a Python program to create a Tkinter window with three labels arranged vertically using the \n",
    "# Pack geometry manager.\n",
    "\n",
    "import tkinter as tk\n",
    "# Create the main Tkinter window\n",
    "parent = tk.Tk()\n",
    "parent.title(\"Vertical Labels with Pack\")\n",
    "# Create three label widgets\n",
    "label1 = tk.Label(parent, text=\"Python\", padx=10, pady=5)\n",
    "label2 = tk.Label(parent, text=\"Java\", padx=10, pady=5)\n",
    "label3 = tk.Label(parent, text=\"C++\", padx=10, pady=5)\n",
    "# Use the Pack geometry manager to arrange labels vertically\n",
    "label1.pack(side=\"top\")\n",
    "label2.pack(side=\"top\")\n",
    "label3.pack(side=\"top\")\n",
    "# Run the Tkinter main loop\n",
    "parent.mainloop()"
   ]
  }
 ],
 "metadata": {
  "kernelspec": {
   "display_name": "Python 3",
   "language": "python",
   "name": "python3"
  },
  "language_info": {
   "codemirror_mode": {
    "name": "ipython",
    "version": 3
   },
   "file_extension": ".py",
   "mimetype": "text/x-python",
   "name": "python",
   "nbconvert_exporter": "python",
   "pygments_lexer": "ipython3",
   "version": "3.12.1"
  }
 },
 "nbformat": 4,
 "nbformat_minor": 2
}
