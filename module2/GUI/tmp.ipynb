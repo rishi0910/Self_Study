{
 "cells": [
  {
   "cell_type": "code",
   "execution_count": null,
   "metadata": {},
   "outputs": [],
   "source": [
    "# BMI Calculator "
   ]
  },
  {
   "cell_type": "code",
   "execution_count": 3,
   "metadata": {},
   "outputs": [
    {
     "name": "stdout",
     "output_type": "stream",
     "text": [
      "33\n"
     ]
    }
   ],
   "source": [
    "a = 23\n",
    "def add():\n",
    "    global a\n",
    "    a += 10\n",
    "\n",
    "add()\n",
    "print(a)"
   ]
  },
  {
   "cell_type": "code",
   "execution_count": 8,
   "metadata": {},
   "outputs": [],
   "source": [
    "def recurs_traversing(st, ln=0):\n",
    "    if ln == len(st):\n",
    "        return\n",
    "    st = st[ln:]\n",
    "    ln += 1\n",
    "   \n",
    "    print(st)\n",
    "    recurs_traversing(st, ln+1)"
   ]
  },
  {
   "cell_type": "code",
   "execution_count": 10,
   "metadata": {},
   "outputs": [
    {
     "name": "stdout",
     "output_type": "stream",
     "text": [
      "a\n",
      "ab\n",
      "abc\n",
      "ac\n",
      "b\n",
      "bc\n",
      "c\n"
     ]
    }
   ],
   "source": [
    "# combination of string char with recursion \n",
    "\n",
    "def combination(st, ln=0, res=\"\"):\n",
    "    if ln == len(st):\n",
    "        return\n",
    "    res += st[ln]\n",
    "    print(res)\n",
    "    combination(st, ln+1, res)\n",
    "    res = res[:-1]\n",
    "    combination(st, ln+1, res)\n",
    "\n",
    "combination(\"abc\")"
   ]
  },
  {
   "cell_type": "code",
   "execution_count": 11,
   "metadata": {},
   "outputs": [
    {
     "name": "stdout",
     "output_type": "stream",
     "text": [
      "a\n",
      "ab\n",
      "abc\n",
      "ac\n",
      "b\n",
      "bc\n",
      "c\n"
     ]
    }
   ],
   "source": [
    "# substring of string with recursion\n",
    "\n",
    "def substring(st, ln=0, res=\"\"):\n",
    "    if ln == len(st):\n",
    "        return\n",
    "    res += st[ln]\n",
    "    print(res)\n",
    "    substring(st, ln+1, res)\n",
    "    substring(st, ln+1, res[:-1])\n",
    "\n",
    "substring(\"abc\")"
   ]
  },
  {
   "cell_type": "code",
   "execution_count": 12,
   "metadata": {},
   "outputs": [
    {
     "name": "stdout",
     "output_type": "stream",
     "text": [
      "a\n",
      "ab\n",
      "abc\n",
      "abc\n",
      "ab\n",
      "abc\n",
      "abc\n"
     ]
    }
   ],
   "source": [
    "# contiguous substring of string with recursion\n",
    "\n",
    "def contiguous_substring(st, ln=0, res=\"\"):\n",
    "    if ln == len(st):\n",
    "        return\n",
    "    res += st[ln]\n",
    "    print(res)\n",
    "    contiguous_substring(st, ln+1, res)\n",
    "    contiguous_substring(st[1:], ln, res)\n",
    "\n",
    "contiguous_substring(\"abc\")"
   ]
  },
  {
   "cell_type": "code",
   "execution_count": 13,
   "metadata": {},
   "outputs": [
    {
     "name": "stdout",
     "output_type": "stream",
     "text": [
      "a\n",
      "ab\n",
      "abc\n",
      "abc\n",
      "ab\n",
      "abc\n",
      "abc\n"
     ]
    }
   ],
   "source": [
    "# non replicating contiguous substring of string with recursion\n",
    "\n",
    "def non_replicating_contiguous_substring(st, ln=0, res=\"\"):\n",
    "    if ln == len(st):\n",
    "        return\n",
    "    res += st[ln]\n",
    "    print(res)\n",
    "    non_replicating_contiguous_substring(st, ln+1, res)\n",
    "    non_replicating_contiguous_substring(st[1:], ln, res)\n",
    "\n",
    "non_replicating_contiguous_substring(\"abc\")"
   ]
  },
  {
   "cell_type": "code",
   "execution_count": null,
   "metadata": {},
   "outputs": [],
   "source": [
    "# replicating contiguous substring of string with recursion\n",
    "\n",
    "def replicating_contiguous_substring(st, ln=0, res=\"\"):\n",
    "    if ln == len(st):\n",
    "        return\n",
    "    res += st[ln]\n",
    "    print(res)\n",
    "    replicating_contiguous_substring(st, ln+1, res)\n",
    "    replicating_contiguous_substring(st, ln, res)\n",
    "\n",
    "replicating_contiguous_substring(\"abc\")"
   ]
  },
  {
   "cell_type": "code",
   "execution_count": 3,
   "metadata": {},
   "outputs": [
    {
     "name": "stdout",
     "output_type": "stream",
     "text": [
      "3 31\n"
     ]
    }
   ],
   "source": [
    "# sum of two prime numbers equal to given number\n",
    "\n",
    "def is_prime(n):\n",
    "    for i in range(2, n//2+1):\n",
    "        if n % i == 0:\n",
    "            return False\n",
    "    return True\n",
    "\n",
    "def sum_of_prime(n):\n",
    "    for i in range(2, n//2+1):\n",
    "        if is_prime(i) and is_prime(n-i):\n",
    "            print(i, n-i)\n",
    "            return\n",
    "    print(\"Not found\")\n",
    "\n",
    "sum_of_prime(34)"
   ]
  },
  {
   "cell_type": "code",
   "execution_count": 4,
   "metadata": {},
   "outputs": [
    {
     "name": "stdout",
     "output_type": "stream",
     "text": [
      "a\n",
      "ab\n",
      "abc\n",
      "abc\n",
      "ab\n",
      "abc\n",
      "abc\n"
     ]
    }
   ],
   "source": [
    "# substring of string using recursion with combination forward \n",
    "\n",
    "def substring(st, ln=0, res=\"\"):\n",
    "    if ln == len(st):\n",
    "        return\n",
    "    res += st[ln]\n",
    "    print(res)\n",
    "    substring(st, ln+1, res)\n",
    "    substring(st[1:], ln, res)\n",
    "\n",
    "substring(\"abc\")"
   ]
  }
 ],
 "metadata": {
  "kernelspec": {
   "display_name": "Python 3",
   "language": "python",
   "name": "python3"
  },
  "language_info": {
   "codemirror_mode": {
    "name": "ipython",
    "version": 3
   },
   "file_extension": ".py",
   "mimetype": "text/x-python",
   "name": "python",
   "nbconvert_exporter": "python",
   "pygments_lexer": "ipython3",
   "version": "3.12.1"
  }
 },
 "nbformat": 4,
 "nbformat_minor": 2
}
