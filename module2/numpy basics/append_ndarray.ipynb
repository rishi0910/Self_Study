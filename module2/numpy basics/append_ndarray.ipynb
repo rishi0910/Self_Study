{
 "cells": [
  {
   "cell_type": "code",
   "execution_count": 4,
   "metadata": {},
   "outputs": [
    {
     "name": "stdout",
     "output_type": "stream",
     "text": [
      "[1 2 3] 4433403536\n",
      "[1 2 3 4] 4516906352\n",
      "[1 2 3 5 6] 4516905968\n"
     ]
    }
   ],
   "source": [
    "# Append in ndarray \n",
    "# 1-D\n",
    "\n",
    "import numpy as np\n",
    "\n",
    "# Create an initial array\n",
    "arr = np.array([1, 2, 3])\n",
    "print(arr, id(arr))\n",
    "\n",
    "# Append a single value\n",
    "arr2 = np.append(arr, 4)\n",
    "print(arr2, id(arr2))  # Output: [1 2 3 4]\n",
    "arr2[0] = 100\n",
    "# Append multiple values\n",
    "arr = np.append(arr, [5, 6])\n",
    "print(arr, id(arr))  # Output: [1 2 3 4 5 6]\n"
   ]
  },
  {
   "cell_type": "code",
   "execution_count": 9,
   "metadata": {},
   "outputs": [
    {
     "name": "stdout",
     "output_type": "stream",
     "text": [
      "[[1 2 3]\n",
      " [4 5 6]\n",
      " [7 8 9]]\n",
      "[[ 1  2  3 10]\n",
      " [ 4  5  6 11]\n",
      " [ 7  8  9  0]]\n"
     ]
    }
   ],
   "source": [
    "# 2-D\n",
    "# Create a 2D array\n",
    "arr_2d = np.array([[1, 2, 3], [4, 5, 6]])\n",
    "\n",
    "# Append a row\n",
    "new_row = np.array([[7, 8, 9]])\n",
    "arr_2d = np.append(arr_2d, new_row, axis=0)\n",
    "print(arr_2d)\n",
    "# Output:\n",
    "# [[1 2 3]\n",
    "#  [4 5 6]\n",
    "#  [7 8 9]]\n",
    "\n",
    "# Append a column\n",
    "new_column = np.array([[10], [11], [0]])\n",
    "arr_2d = np.append(arr_2d, new_column, axis=1)\n",
    "print(arr_2d)\n",
    "# Output:\n",
    "# [[ 1  2  3 10]\n",
    "#  [ 4  5  6 11]\n",
    "#  [ 7  8  9  0]]\n"
   ]
  },
  {
   "cell_type": "code",
   "execution_count": 1,
   "metadata": {},
   "outputs": [],
   "source": [
    "import numpy as np"
   ]
  },
  {
   "cell_type": "code",
   "execution_count": 8,
   "metadata": {},
   "outputs": [
    {
     "name": "stdout",
     "output_type": "stream",
     "text": [
      "arr=[[4], [5, 3]]\n",
      "lst=[[2, 4], [5, 3]]\n"
     ]
    }
   ],
   "source": [
    "lst = [[2, 4], [5, 3]]\n",
    "\n",
    "arr = lst.copy()\n",
    "del arr[0][0]\n",
    "\n",
    "print(f'{arr=}')\n",
    "print(f'{lst=}')"
   ]
  },
  {
   "cell_type": "code",
   "execution_count": 15,
   "metadata": {},
   "outputs": [
    {
     "name": "stdout",
     "output_type": "stream",
     "text": [
      "[100   4   5   3]\n"
     ]
    }
   ],
   "source": [
    "lst = [[2, 4], [5, 3]]\n",
    "arr = np.array(lst)\n",
    "# out = arr.flatten()\n",
    "out = np.ravel(arr)\n",
    "arr[0][0] = 100\n",
    "print(out)\n",
    "\n",
    "# [2, 4, 5, 3]"
   ]
  },
  {
   "cell_type": "code",
   "execution_count": 10,
   "metadata": {},
   "outputs": [
    {
     "name": "stdout",
     "output_type": "stream",
     "text": [
      "[False  True  True]\n",
      "[[   0    2 1998]\n",
      " [  12    0 1212]\n",
      " [  21    0    0]\n",
      " [   7    0 2019]]\n"
     ]
    }
   ],
   "source": [
    "import numpy as np\n",
    "\n",
    "array = np.array([[0, 2, 1998],\n",
    "                  [12, 0, 1212],\n",
    "                  [21, 0, 0],\n",
    "                  [7, 0, 2019]])\n",
    "\n",
    "print(array.astype(bool)[0])\n",
    "print(array)"
   ]
  },
  {
   "cell_type": "code",
   "execution_count": 11,
   "metadata": {},
   "outputs": [
    {
     "name": "stdout",
     "output_type": "stream",
     "text": [
      "[[ True False False]\n",
      " [False  True False]\n",
      " [False  True  True]\n",
      " [False  True False]]\n",
      "[   0    2 1998]\n"
     ]
    }
   ],
   "source": [
    "import numpy as np\n",
    "\n",
    "array = np.array([[0, 2, 1998],\n",
    "                  [12, 0, 1212],\n",
    "                  [21, 0, 0],\n",
    "                  [7, 0, 2019]])\n",
    "\n",
    "print(array == 0)\n",
    "print(array[0])"
   ]
  }
 ],
 "metadata": {
  "kernelspec": {
   "display_name": "base",
   "language": "python",
   "name": "python3"
  },
  "language_info": {
   "codemirror_mode": {
    "name": "ipython",
    "version": 3
   },
   "file_extension": ".py",
   "mimetype": "text/x-python",
   "name": "python",
   "nbconvert_exporter": "python",
   "pygments_lexer": "ipython3",
   "version": "3.11.5"
  }
 },
 "nbformat": 4,
 "nbformat_minor": 2
}
