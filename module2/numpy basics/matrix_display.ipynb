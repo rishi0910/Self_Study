{
 "cells": [
  {
   "cell_type": "code",
   "execution_count": 24,
   "metadata": {},
   "outputs": [
    {
     "name": "stdout",
     "output_type": "stream",
     "text": [
      "[3, 6, 4, 44, 22]\n"
     ]
    }
   ],
   "source": [
    "# Matrix : Mathematical Concept where we arrange the elements (numbers) in the form of row and column\n",
    "\n",
    "# how to read the list from user \n",
    "\n",
    "# 2 3  4  5  6\n",
    "lst = list(map(int, input().split()))\n",
    "print(lst)"
   ]
  },
  {
   "cell_type": "code",
   "execution_count": 27,
   "metadata": {},
   "outputs": [
    {
     "name": "stdout",
     "output_type": "stream",
     "text": [
      "2\n"
     ]
    }
   ],
   "source": [
    "# dimension in a list\n",
    "\n",
    "lst = [[[1], [2]], [[3], [5]]]\n",
    "ele = lst[0][1][0]\n",
    "print(ele)"
   ]
  },
  {
   "cell_type": "code",
   "execution_count": 23,
   "metadata": {},
   "outputs": [
    {
     "name": "stdout",
     "output_type": "stream",
     "text": [
      "hell\tworld\n"
     ]
    }
   ],
   "source": [
    "st = 'hell\\tworld'\n",
    "print(st)"
   ]
  },
  {
   "cell_type": "code",
   "execution_count": 19,
   "metadata": {},
   "outputs": [
    {
     "name": "stdout",
     "output_type": "stream",
     "text": [
      "value of a\t100\n",
      "val\t\t200\n"
     ]
    }
   ],
   "source": [
    "print('value of a', 100, sep='\\t')\n"
   ]
  },
  {
   "cell_type": "code",
   "execution_count": null,
   "metadata": {},
   "outputs": [],
   "source": [
    "'''\n",
    "3 4 5 6 7\n",
    "3 2\n",
    "\n",
    "\n",
    "invalid dimensions\n",
    "\n",
    "'''"
   ]
  },
  {
   "cell_type": "code",
   "execution_count": null,
   "metadata": {},
   "outputs": [],
   "source": [
    "class array:\n",
    "    def __init__(self, lst) -> None:\n",
    "        self.lst = lst\n",
    "    def validity(self, m, n):\n",
    "        return len(self.lst) == m * n\n",
    "    def reshape(self, m, n):\n",
    "        self.M = []\n",
    "        y=0\n",
    "        for i in range(m):\n",
    "            temp=[]\n",
    "            for j in range(n):\n",
    "                temp.append(self.lst[y])\n",
    "                y+=1\n",
    "            self.M.append(temp)\n",
    "\n",
    "    def display_matrix(self):\n",
    "        for i in self.M:\n",
    "            print(*i)\n",
    "\n",
    "lst = list(map(int, input().split()))\n",
    "row, column = list(map(int, input().split()))\n",
    "arr = array(lst)\n",
    "\n",
    "if arr.validity(row, column):\n",
    "    arr.reshape(row, column)\n",
    "    arr.display_matrix()\n",
    "\n",
    "else:\n",
    "    print('Invalid Matrix')"
   ]
  },
  {
   "cell_type": "code",
   "execution_count": 41,
   "metadata": {},
   "outputs": [
    {
     "name": "stdout",
     "output_type": "stream",
     "text": [
      "[[2, 4], [6, 9], [2, 10]]\n"
     ]
    }
   ],
   "source": [
    "lst = [2, 4, 6, 9, 2, 10]\n",
    "m, n = 3, 2\n",
    "\n",
    "M = eval(str([[0]*n]*m))\n",
    "g = 0\n",
    "for i in range(m):\n",
    "    for j in range(n):\n",
    "        M[i][j] = lst[g]\n",
    "        g += 1\n",
    "\n",
    "print(M)"
   ]
  },
  {
   "cell_type": "code",
   "execution_count": 56,
   "metadata": {},
   "outputs": [
    {
     "name": "stdout",
     "output_type": "stream",
     "text": [
      "2 4 6\n"
     ]
    }
   ],
   "source": [
    "x = [2, 4, 6]\n",
    "print(*x)"
   ]
  },
  {
   "cell_type": "code",
   "execution_count": 40,
   "metadata": {},
   "outputs": [
    {
     "name": "stdout",
     "output_type": "stream",
     "text": [
      "[[100], [100], [100]]\n"
     ]
    }
   ],
   "source": [
    "ls = [[]]*3\n",
    "ls[0].append(100)\n",
    "print(ls)"
   ]
  },
  {
   "cell_type": "code",
   "execution_count": 7,
   "metadata": {},
   "outputs": [],
   "source": [
    "import numpy as np\n",
    "import time"
   ]
  },
  {
   "cell_type": "code",
   "execution_count": 19,
   "metadata": {},
   "outputs": [
    {
     "name": "stdout",
     "output_type": "stream",
     "text": [
      "numpy time 0.0011630058288574219\n",
      "list time 0.0003771781921386719\n"
     ]
    }
   ],
   "source": [
    "arr = np.array(range(100000))\n",
    "lst = list(range(100000))\n",
    "\n",
    "# numpy time \n",
    "strt = time.time()\n",
    "arr_mod = arr * 2\n",
    "stop = time.time()\n",
    "print('numpy time', stop-strt)\n",
    "\n",
    "# list time \n",
    "strt = time.time()\n",
    "# arr_mod = [i * 2 for i in lst] \n",
    "arr_mod = lst * 2\n",
    "stop = time.time()\n",
    "print('list time', stop-strt)\n",
    "\n"
   ]
  },
  {
   "cell_type": "code",
   "execution_count": 6,
   "metadata": {},
   "outputs": [
    {
     "name": "stdout",
     "output_type": "stream",
     "text": [
      "Numpy Time: 0.0034101009368896484\n",
      "Python List Time: 0.032691240310668945\n"
     ]
    }
   ],
   "source": [
    "import numpy as np\n",
    "import time\n",
    "\n",
    "# Create two arrays/lists with 1 million elements\n",
    "array_np = np.random.rand(1000000)\n",
    "list_py = list(array_np)\n",
    "\n",
    "# Perform element-wise multiplication using numpy\n",
    "start_time_np = time.time()\n",
    "result_np = array_np * 2\n",
    "end_time_np = time.time()\n",
    "numpy_time = end_time_np - start_time_np\n",
    "\n",
    "# Perform element-wise multiplication using Python lists\n",
    "start_time_py = time.time()\n",
    "result_py = [x * 2 for x in list_py]\n",
    "end_time_py = time.time()\n",
    "python_time = end_time_py - start_time_py\n",
    "\n",
    "print(\"Numpy Time:\", numpy_time)\n",
    "print(\"Python List Time:\", python_time)\n"
   ]
  }
 ],
 "metadata": {
  "kernelspec": {
   "display_name": "base",
   "language": "python",
   "name": "python3"
  },
  "language_info": {
   "codemirror_mode": {
    "name": "ipython",
    "version": 3
   },
   "file_extension": ".py",
   "mimetype": "text/x-python",
   "name": "python",
   "nbconvert_exporter": "python",
   "pygments_lexer": "ipython3",
   "version": "3.11.5"
  }
 },
 "nbformat": 4,
 "nbformat_minor": 2
}
