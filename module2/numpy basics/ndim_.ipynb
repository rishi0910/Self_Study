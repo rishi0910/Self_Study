{
 "cells": [
  {
   "cell_type": "code",
   "execution_count": 1,
   "metadata": {},
   "outputs": [],
   "source": [
    "# numpy \n",
    "\n",
    "import numpy as np"
   ]
  },
  {
   "cell_type": "code",
   "execution_count": 5,
   "metadata": {},
   "outputs": [
    {
     "name": "stdout",
     "output_type": "stream",
     "text": [
      "[2 4 6 8 9] 1\n"
     ]
    }
   ],
   "source": [
    "# array (): to convert the any seq into array \n",
    "\n",
    "# example 1 \n",
    "lst = [2, 4, 6, 8, 9]\n",
    "arr = np.array(lst)\n",
    "print(arr, arr.ndim)"
   ]
  },
  {
   "cell_type": "code",
   "execution_count": 6,
   "metadata": {},
   "outputs": [
    {
     "name": "stdout",
     "output_type": "stream",
     "text": [
      "[[2 4 6]\n",
      " [0 1 3]]\n",
      "(2, 3)\n",
      "2\n"
     ]
    }
   ],
   "source": [
    "# example 2\n",
    "lst = [[2, 4, 6], [0, 1, 3]]\n",
    "arr = np.array(lst)\n",
    "print(arr)\n",
    "print(arr.shape)\n",
    "print(arr.ndim)"
   ]
  },
  {
   "cell_type": "code",
   "execution_count": 18,
   "metadata": {},
   "outputs": [
    {
     "name": "stdout",
     "output_type": "stream",
     "text": [
      "[[2 0 0]\n",
      " [1 3 0]]\n"
     ]
    }
   ],
   "source": [
    "arr1 = np.array([3, 2, 4, 6, 8, 0])\n",
    "arr2 = np.array([1, 2, 4, 5, 5, 0])\n",
    "\n",
    "# arr1.shape = (3, 2)\n",
    "# arr1.shape = (3, 2)\n",
    "\n",
    "m1 = arr1.reshape((2, 3))\n",
    "m2 = arr2.reshape((2, 3))\n",
    "\n",
    "m = np.subtract(m1, m2)\n",
    "\n",
    "print(m)\n",
    "# print(out)"
   ]
  },
  {
   "cell_type": "code",
   "execution_count": 20,
   "metadata": {},
   "outputs": [
    {
     "name": "stdout",
     "output_type": "stream",
     "text": [
      "[[1. 0. 0. 0.]\n",
      " [0. 1. 0. 0.]\n",
      " [0. 0. 1. 0.]\n",
      " [0. 0. 0. 1.]]\n"
     ]
    }
   ],
   "source": [
    "import numpy as np \n",
    "\n",
    "m, n = list(map(int, input().split()))\n",
    "arr = np.eye(m, n)\n",
    "print(arr)\n"
   ]
  }
 ],
 "metadata": {
  "kernelspec": {
   "display_name": "base",
   "language": "python",
   "name": "python3"
  },
  "language_info": {
   "codemirror_mode": {
    "name": "ipython",
    "version": 3
   },
   "file_extension": ".py",
   "mimetype": "text/x-python",
   "name": "python",
   "nbconvert_exporter": "python",
   "pygments_lexer": "ipython3",
   "version": "3.11.5"
  }
 },
 "nbformat": 4,
 "nbformat_minor": 2
}
