{
 "cells": [
  {
   "cell_type": "code",
   "execution_count": 2,
   "metadata": {},
   "outputs": [],
   "source": [
    "# Addition of matrix \n",
    "import numpy as np\n",
    "import time"
   ]
  },
  {
   "cell_type": "code",
   "execution_count": 75,
   "metadata": {},
   "outputs": [],
   "source": [
    "class array:\n",
    "    def __init__(self, lst) -> None:\n",
    "        self.lst = lst\n",
    "\n",
    "    def reshape(self, m, n):\n",
    "        M = []\n",
    "        tmp = []\n",
    "        for i in self.lst:\n",
    "            tmp.append(i)\n",
    "            if len(tmp) == n:\n",
    "                M.append(tmp)\n",
    "                tmp = []\n",
    "        self.lst = M\n",
    "\n",
    "    def __add__(self, other):\n",
    "        r1 = len(self.lst)\n",
    "        c1 = len(self.lst[0]) \n",
    "        r2 = len(other.lst)\n",
    "        c2 = len(other.lst[0])\n",
    "        if (r1, c1) == (r2, c2):\n",
    "            M = eval(str([[0]*c1] * r1))\n",
    "            for i in range(r1):\n",
    "                for j in range(c1):\n",
    "                    M[i][j] = self.lst[i][j] + other.lst[i][j]\n",
    "            return M\n",
    "        else:\n",
    "            return 'Invalid Operation' "
   ]
  },
  {
   "cell_type": "code",
   "execution_count": 76,
   "metadata": {},
   "outputs": [
    {
     "name": "stdout",
     "output_type": "stream",
     "text": [
      "[[4, 9, 6], [8, 8, 1]]\n"
     ]
    }
   ],
   "source": [
    "\n",
    "arr1 = array([2, 5, 0, 0, 7, 1])\n",
    "arr2 = array([2, 4, 6, 8, 1, 0])\n",
    "arr1.reshape(2, 3)\n",
    "arr2.reshape(2, 3)\n",
    "\n",
    "out = arr1 + arr2\n",
    "\n",
    "print(out)"
   ]
  },
  {
   "cell_type": "code",
   "execution_count": 22,
   "metadata": {},
   "outputs": [],
   "source": [
    "data = range(100000)\n",
    "arr = np.array(data)\n",
    "lst = list(data)"
   ]
  },
  {
   "cell_type": "code",
   "execution_count": 23,
   "metadata": {},
   "outputs": [
    {
     "name": "stdout",
     "output_type": "stream",
     "text": [
      "list time 0.0020041465759277344\n",
      "Array time 0.0008070468902587891\n"
     ]
    }
   ],
   "source": [
    "strt = time.time()\n",
    "out = [i*2 for i in lst]\n",
    "stop = time.time()\n",
    "print('list time', stop-strt)\n",
    "\n",
    "\n",
    "strt = time.time()\n",
    "out = arr * 2\n",
    "stop = time.time()\n",
    "print('Array time', stop-strt)"
   ]
  },
  {
   "cell_type": "code",
   "execution_count": null,
   "metadata": {},
   "outputs": [],
   "source": [
    "# Question 1: check wheather list is flatten or nested \n",
    "# Question 2: Convert Given nested list into flatten list\n",
    "\n",
    "'''\n",
    "input:\n",
    "[[2, 4], 10, [[[[10]]]], 0, [3]]\n",
    "\n",
    "output:\n",
    "[2, 4, 10, 10, 0, 3]\n",
    "'''\n",
    "\n",
    "\n",
    "\n"
   ]
  },
  {
   "cell_type": "code",
   "execution_count": 5,
   "metadata": {},
   "outputs": [
    {
     "name": "stdout",
     "output_type": "stream",
     "text": [
      "<class 'numpy.ndarray'>\n"
     ]
    }
   ],
   "source": [
    "import numpy as np\n",
    "\n",
    "def custom_sum(arg1, arg2):\n",
    "    if isinstance(arg1, np.ndarray) and isinstance(arg2, np.ndarray):\n",
    "        print(arg1 + arg2)\n",
    "    elif isinstance(arg1, list) and isinstance(arg2, list):\n",
    "        print('Both arguments are lists, not arrays')\n",
    "    else:\n",
    "        print('')\n",
    "\n",
    "# logic here \n",
    "        "
   ]
  },
  {
   "cell_type": "code",
   "execution_count": 8,
   "metadata": {},
   "outputs": [
    {
     "name": "stdout",
     "output_type": "stream",
     "text": [
      "[[1. 2.]\n",
      " [3. 4.]\n",
      " [5. 6.]]\n"
     ]
    }
   ],
   "source": [
    "import numpy as np\n",
    "mat = np.array([[1,2],[3,4],[5,6]]).astype(float)\n",
    "arr = np.ravel(mat)\n",
    "print(mat)"
   ]
  },
  {
   "cell_type": "code",
   "execution_count": 20,
   "metadata": {},
   "outputs": [
    {
     "name": "stdout",
     "output_type": "stream",
     "text": [
      "\n",
      "Orignal\n",
      "[[1 2 3]\n",
      " [4 5 6]] 4934718960\n",
      "\n",
      "Flatten\n",
      "[  1 200   3   4   5   6] 4911513008\n",
      "\n",
      "Ravel Copy\n",
      "[100   2   3   4   5   6] 4934718768\n",
      "\n",
      "Orignal\n",
      "[[100   2   3]\n",
      " [  4   5   6]] 4934718960\n"
     ]
    }
   ],
   "source": [
    "import numpy as np\n",
    "\n",
    "# Create a 2D array\n",
    "arr = np.array([[1, 2, 3],\n",
    "                [4, 5, 6]])\n",
    "\n",
    "# orignal\n",
    "print('\\nOrignal') \n",
    "print(arr, id(arr))\n",
    "\n",
    "# Using flatten()\n",
    "flattened_copy = arr.flatten()\n",
    "print('\\nFlatten')\n",
    "flattened_copy[1] = 200\n",
    "print(flattened_copy, id(flattened_copy))\n",
    "\n",
    "ravel_copy = np.ravel(arr)\n",
    "print('\\nRavel Copy')\n",
    "ravel_copy[0] = 100\n",
    "print(ravel_copy, id(ravel_copy)) \n",
    "\n",
    "print('\\nOrignal') \n",
    "print(arr, id(arr))"
   ]
  }
 ],
 "metadata": {
  "kernelspec": {
   "display_name": "base",
   "language": "python",
   "name": "python3"
  },
  "language_info": {
   "codemirror_mode": {
    "name": "ipython",
    "version": 3
   },
   "file_extension": ".py",
   "mimetype": "text/x-python",
   "name": "python",
   "nbconvert_exporter": "python",
   "pygments_lexer": "ipython3",
   "version": "3.11.5"
  }
 },
 "nbformat": 4,
 "nbformat_minor": 2
}
