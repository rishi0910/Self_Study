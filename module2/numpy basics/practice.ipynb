{
 "cells": [
  {
   "cell_type": "code",
   "execution_count": 1,
   "metadata": {},
   "outputs": [],
   "source": [
    "# numpy : Numerical Python\n",
    "import numpy as np"
   ]
  },
  {
   "cell_type": "code",
   "execution_count": 2,
   "metadata": {},
   "outputs": [
    {
     "name": "stdout",
     "output_type": "stream",
     "text": [
      "List [2, 4, 65, 12, 6, 89]\n",
      "Array [ 2  4 65 12  6 89]\n"
     ]
    }
   ],
   "source": [
    "# 1. array(object, ndim=None, dtype=None) \n",
    "\n",
    "lst = [2, 4, 65, 12, 6, 89]\n",
    "arr = np.array(lst)\n",
    "\n",
    "print('List', lst)\n",
    "print('Array', arr)"
   ]
  }
 ],
 "metadata": {
  "kernelspec": {
   "display_name": "base",
   "language": "python",
   "name": "python3"
  },
  "language_info": {
   "codemirror_mode": {
    "name": "ipython",
    "version": 3
   },
   "file_extension": ".py",
   "mimetype": "text/x-python",
   "name": "python",
   "nbconvert_exporter": "python",
   "pygments_lexer": "ipython3",
   "version": "3.11.5"
  }
 },
 "nbformat": 4,
 "nbformat_minor": 2
}
