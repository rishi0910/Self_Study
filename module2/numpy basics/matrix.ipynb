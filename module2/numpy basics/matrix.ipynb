{
 "cells": [
  {
   "cell_type": "code",
   "execution_count": 1,
   "metadata": {},
   "outputs": [
    {
     "name": "stdout",
     "output_type": "stream",
     "text": [
      "[3, 4, 5, 7, 8]\n"
     ]
    }
   ],
   "source": [
    "# Matrix: A mathematcal concept where elements (numbers) arranged in the form of row and column \n",
    "\n",
    "# how to list from user ?\n",
    "lst = list(map(int, input().split()))\n",
    "print(lst)\n"
   ]
  },
  {
   "cell_type": "code",
   "execution_count": 26,
   "metadata": {},
   "outputs": [
    {
     "name": "stdout",
     "output_type": "stream",
     "text": [
      "3 5\n",
      "6 8\n"
     ]
    }
   ],
   "source": [
    "# dimensions in array (list)\n",
    "\n",
    "lst = [[3, 5], [6, 8]]\n",
    "for i in lst:\n",
    "    print(*i)"
   ]
  },
  {
   "cell_type": "code",
   "execution_count": 24,
   "metadata": {},
   "outputs": [
    {
     "name": "stdout",
     "output_type": "stream",
     "text": [
      "h\n",
      "e\n",
      "l\n",
      "l\n",
      "o\n"
     ]
    }
   ],
   "source": [
    "x = 'hello'\n",
    "print(*x, sep='\\n')"
   ]
  },
  {
   "cell_type": "code",
   "execution_count": null,
   "metadata": {},
   "outputs": [],
   "source": [
    "'''\n",
    "3 4 5 6 8 3\n",
    "2 3\n",
    "\n",
    "3 4 \n",
    "5 6\n",
    "8 3\n",
    "\n",
    "'''"
   ]
  },
  {
   "cell_type": "code",
   "execution_count": null,
   "metadata": {},
   "outputs": [],
   "source": [
    "class matrix:\n",
    "    def __init__(self, arr) -> None:\n",
    "        self.arr = arr\n",
    "\n",
    "    def validity(self, m, n):\n",
    "        return len(self.arr) == m * n \n",
    "    \n",
    "    def create_matrix(self, m, n):\n",
    "        self.m = []\n",
    "        pass\n",
    "    def disp_matrix(self):\n",
    "        for i in self.m:\n",
    "            print(*i)\n",
    "lst = list(map(int, input().split()))\n",
    "row, column = list(map(int, input().split()))\n",
    "m = matrix(lst)\n",
    "# print(m.validity(row, column))\n",
    "if m.validity(row, column):\n",
    "    m.create_matrix(row, column)\n",
    "    m.disp_matrix()\n",
    "else:\n",
    "    print('Invalid Dimensions')\n",
    "    "
   ]
  },
  {
   "cell_type": "code",
   "execution_count": 2,
   "metadata": {},
   "outputs": [
    {
     "name": "stdout",
     "output_type": "stream",
     "text": [
      "[4, 7, 9, 4, 5, 7]\n"
     ]
    }
   ],
   "source": [
    "# Matrix: Mathematical concept where the elements (numbers) are arranged in the form of row and colums \n",
    "\n",
    "# 4 5 67 3\n",
    "lst = list(map(int, input().split()))\n",
    "print(lst)\n"
   ]
  },
  {
   "cell_type": "code",
   "execution_count": 30,
   "metadata": {},
   "outputs": [
    {
     "name": "stdout",
     "output_type": "stream",
     "text": [
      "3\n",
      "4\n",
      "7\n",
      "9\n",
      "7\n",
      "[None, None, None, None, None]\n"
     ]
    }
   ],
   "source": [
    "'''\n",
    "23 5 7 3 5 7\n",
    "3 2\n",
    "\n",
    "\n",
    "23 5\n",
    "7 3\n",
    "5 7\n",
    "\n",
    "'''"
   ]
  },
  {
   "cell_type": "code",
   "execution_count": 33,
   "metadata": {},
   "outputs": [
    {
     "data": {
      "text/plain": [
       "['✨', '㉕', '✲', '❥']"
      ]
     },
     "execution_count": 33,
     "metadata": {},
     "output_type": "execute_result"
    }
   ],
   "source": [
    "list(map(chr, [10024, 12885, 10034, 10085]))"
   ]
  },
  {
   "cell_type": "code",
   "execution_count": 19,
   "metadata": {},
   "outputs": [
    {
     "name": "stdout",
     "output_type": "stream",
     "text": [
      "1.0\n",
      "5.0\n"
     ]
    }
   ],
   "source": [
    "# data = list(out)\n",
    "for i in out:\n",
    "    next(out)\n",
    "    print(i)"
   ]
  },
  {
   "cell_type": "code",
   "execution_count": 37,
   "metadata": {},
   "outputs": [
    {
     "name": "stdout",
     "output_type": "stream",
     "text": [
      "b'i\\xf0\\x9f\\x8c\\xb7u'\n"
     ]
    }
   ],
   "source": [
    "st = 'i🌷u'\n",
    "data = st.encode('utf')\n",
    "print(data)\n",
    "\n",
    "\n"
   ]
  },
  {
   "cell_type": "code",
   "execution_count": 41,
   "metadata": {},
   "outputs": [
    {
     "name": "stdout",
     "output_type": "stream",
     "text": [
      "i🌷u\n"
     ]
    }
   ],
   "source": [
    "data = b'i\\xf0\\x9f\\x8c\\xb7u'\n",
    "out = data.decode('utf', errors='replace')\n",
    "print(out)"
   ]
  },
  {
   "cell_type": "code",
   "execution_count": null,
   "metadata": {},
   "outputs": [],
   "source": [
    "class array:\n",
    "    def __init__(self, ls) -> None:\n",
    "        self.ls = ls\n",
    "    def validity(self, m, n):\n",
    "        return len(self.ls) == m * n\n",
    "\n",
    "# driver code \n",
    "\n",
    "lst = list(map(int, input().split()))\n",
    "row, column = list(map(int, input().split()))\n",
    "arr = array(lst)\n",
    "if arr.validity(row, column):\n",
    "    pass\n",
    "else:\n",
    "    print('Invalid Dimensions')"
   ]
  }
 ],
 "metadata": {
  "kernelspec": {
   "display_name": "base",
   "language": "python",
   "name": "python3"
  },
  "language_info": {
   "codemirror_mode": {
    "name": "ipython",
    "version": 3
   },
   "file_extension": ".py",
   "mimetype": "text/x-python",
   "name": "python",
   "nbconvert_exporter": "python",
   "pygments_lexer": "ipython3",
   "version": "3.11.5"
  }
 },
 "nbformat": 4,
 "nbformat_minor": 2
}
