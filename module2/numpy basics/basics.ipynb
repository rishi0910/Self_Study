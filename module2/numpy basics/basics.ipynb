{
 "cells": [
  {
   "cell_type": "code",
   "execution_count": 1,
   "metadata": {},
   "outputs": [],
   "source": [
    "# import numpy \n",
    "import numpy as np"
   ]
  },
  {
   "cell_type": "code",
   "execution_count": 10,
   "metadata": {},
   "outputs": [
    {
     "name": "stdout",
     "output_type": "stream",
     "text": [
      "[12 30 12 60]\n"
     ]
    }
   ],
   "source": [
    "lst1 = [12, 30, 12, 60]\n",
    "arr1 = np.array(lst1)\n",
    "print(arr1)"
   ]
  },
  {
   "cell_type": "code",
   "execution_count": 15,
   "metadata": {},
   "outputs": [
    {
     "name": "stdout",
     "output_type": "stream",
     "text": [
      "[ 6  2  4 18]\n"
     ]
    }
   ],
   "source": [
    "lst2 = [6, 2, 4, 18]\n",
    "arr2 = np.array(lst2)\n",
    "print(arr2)\n"
   ]
  },
  {
   "cell_type": "code",
   "execution_count": 16,
   "metadata": {},
   "outputs": [
    {
     "data": {
      "text/plain": [
       "array([18, 32, 16, 78])"
      ]
     },
     "execution_count": 16,
     "metadata": {},
     "output_type": "execute_result"
    }
   ],
   "source": [
    "arr1 + arr2"
   ]
  },
  {
   "cell_type": "code",
   "execution_count": null,
   "metadata": {},
   "outputs": [],
   "source": [
    "# list (array )\n",
    "# 1-D Array \n",
    "# 2-D Array \n"
   ]
  },
  {
   "cell_type": "code",
   "execution_count": 5,
   "metadata": {},
   "outputs": [
    {
     "data": {
      "text/plain": [
       "[1]"
      ]
     },
     "execution_count": 5,
     "metadata": {},
     "output_type": "execute_result"
    }
   ],
   "source": [
    "# covert 1d array (list) to matrix (2-d array ) \n",
    "lst = [1, 3, 5, 6, 7, 2]\n",
    "row, column = 2, 3\n",
    "\n",
    "'''\n",
    "input\n",
    "2 3 4 5 6 1\n",
    "2 3\n",
    "\n",
    "output\n",
    "2 3 4\n",
    "5 6 7\n",
    "'''\n",
    "\n",
    "# output\n",
    "'''\n",
    "[[1, 3, 5],\n",
    " [6, 7, 2]]\n",
    "'''"
   ]
  },
  {
   "cell_type": "code",
   "execution_count": 37,
   "metadata": {},
   "outputs": [
    {
     "name": "stdout",
     "output_type": "stream",
     "text": [
      "2 3 4\n",
      "6 7 3\n"
     ]
    }
   ],
   "source": [
    "class designMatrix:\n",
    "    def __init__(self,lst):\n",
    "        self.lst=lst\n",
    "        \n",
    "    def validity(self,m,n):\n",
    "        return len(self.lst) == m*n\n",
    "    \n",
    "    def create_matrix(self, m, n):\n",
    "        count = 0\n",
    "        matrix = []\n",
    "        tmp = []\n",
    "        for i in self.lst:\n",
    "            tmp.append(i)\n",
    "            count += 1\n",
    "            if count == n:\n",
    "                matrix.append(tmp)\n",
    "                tmp = []\n",
    "                count = 0\n",
    "        self.matrix = matrix\n",
    "    def disp_matrix(self):\n",
    "        for i in self.matrix:\n",
    "            print(*i)\n",
    "\n",
    "# st = list(map(int,input().split()))  # \n",
    "lst = [2, 3, 4,  6, 7, 3]\n",
    "# m, n = input().split() # 2 3\n",
    "m, n = 2, 3\n",
    "\n",
    "mat = designMatrix(lst)\n",
    "if mat.validity(m, n):\n",
    "    mat.create_matrix(m, n)\n",
    "    mat.disp_matrix()\n",
    "else:\n",
    "    print('Invalid Dimensions')\n"
   ]
  },
  {
   "cell_type": "code",
   "execution_count": 35,
   "metadata": {},
   "outputs": [
    {
     "name": "stdout",
     "output_type": "stream",
     "text": [
      "2 4 5\n"
     ]
    }
   ],
   "source": [
    "x = [2, 4, 5]\n",
    "print(*x)"
   ]
  },
  {
   "cell_type": "code",
   "execution_count": 18,
   "metadata": {},
   "outputs": [
    {
     "name": "stdout",
     "output_type": "stream",
     "text": [
      "[0 1 2 3 4 5 6 7 8 9]\n"
     ]
    }
   ],
   "source": [
    "import numpy as np\n",
    "seq = range(10)\n",
    "\n",
    "arr = np.array(seq)\n",
    "print(arr)"
   ]
  },
  {
   "cell_type": "code",
   "execution_count": 34,
   "metadata": {},
   "outputs": [
    {
     "name": "stdout",
     "output_type": "stream",
     "text": [
      "[-1  6  0]\n"
     ]
    },
    {
     "name": "stderr",
     "output_type": "stream",
     "text": [
      "/var/folders/06/l2mnydqj6nx1z9h45l9pgry40000gn/T/ipykernel_1492/404637884.py:2: DeprecationWarning: NumPy will stop allowing conversion of out-of-bound Python integers to integer arrays.  The conversion of 256 to int8 will fail in the future.\n",
      "For the old behavior, usually:\n",
      "    np.array(value).astype(dtype)`\n",
      "will give the desired result (the cast overflows).\n",
      "  data = np.array(ls, dtype='int8')\n"
     ]
    }
   ],
   "source": [
    "ls = [-1, 6, 256]\n",
    "data = np.array(ls, dtype='int8')\n",
    "print(data)\n"
   ]
  },
  {
   "cell_type": "code",
   "execution_count": null,
   "metadata": {},
   "outputs": [],
   "source": [
    "'''\n",
    "3 2\n",
    "23 4 34 5 2 5 7\n",
    "\n",
    "\n",
    "False\n",
    "'''"
   ]
  },
  {
   "cell_type": "code",
   "execution_count": 23,
   "metadata": {},
   "outputs": [],
   "source": [
    "import numpy as np\n",
    "import time"
   ]
  },
  {
   "cell_type": "code",
   "execution_count": 22,
   "metadata": {},
   "outputs": [],
   "source": [
    "out = range(100000)\n",
    "lst = list(out)\n",
    "arr = np.array(out)\n",
    "\n",
    "# array()"
   ]
  },
  {
   "cell_type": "code",
   "execution_count": 37,
   "metadata": {},
   "outputs": [
    {
     "name": "stdout",
     "output_type": "stream",
     "text": [
      "list_time 0.0031328201293945312\n",
      "array_time 0.001087188720703125\n"
     ]
    }
   ],
   "source": [
    "start = time.time()\n",
    "lst_out = [i*2 for i in lst]\n",
    "stop = time.time()\n",
    "dur = stop - start\n",
    "print('list_time', dur)\n",
    "\n",
    "start = time.time()\n",
    "lst_out = arr * 2\n",
    "stop = time.time()\n",
    "dur = stop - start\n",
    "print('array_time', dur)"
   ]
  },
  {
   "cell_type": "code",
   "execution_count": 21,
   "metadata": {},
   "outputs": [
    {
     "name": "stdout",
     "output_type": "stream",
     "text": [
      "[  10 -126  126    4] <class 'numpy.ndarray'>\n",
      "[10, 130, -130, 4] <class 'list'>\n"
     ]
    },
    {
     "name": "stderr",
     "output_type": "stream",
     "text": [
      "/var/folders/06/l2mnydqj6nx1z9h45l9pgry40000gn/T/ipykernel_1197/915106353.py:2: DeprecationWarning: NumPy will stop allowing conversion of out-of-bound Python integers to integer arrays.  The conversion of 130 to int8 will fail in the future.\n",
      "For the old behavior, usually:\n",
      "    np.array(value).astype(dtype)`\n",
      "will give the desired result (the cast overflows).\n",
      "  arr = np.array(lx, dtype='int8')\n",
      "/var/folders/06/l2mnydqj6nx1z9h45l9pgry40000gn/T/ipykernel_1197/915106353.py:2: DeprecationWarning: NumPy will stop allowing conversion of out-of-bound Python integers to integer arrays.  The conversion of -130 to int8 will fail in the future.\n",
      "For the old behavior, usually:\n",
      "    np.array(value).astype(dtype)`\n",
      "will give the desired result (the cast overflows).\n",
      "  arr = np.array(lx, dtype='int8')\n"
     ]
    }
   ],
   "source": [
    "lx = [10, 130, -130, 4]\n",
    "arr = np.array(lx, dtype='int8')\n",
    "print(arr, type(arr))\n",
    "print(lx, type(lx))"
   ]
  },
  {
   "cell_type": "code",
   "execution_count": 48,
   "metadata": {},
   "outputs": [
    {
     "name": "stdout",
     "output_type": "stream",
     "text": [
      "[[3 5 7]\n",
      " [8 9 2]\n",
      " [1 0 7]]\n"
     ]
    }
   ],
   "source": [
    "ls = [3, 5, 7, 8, 9, 2, 1, 0, 7]\n",
    "arr = np.array(ls).reshape(3, 3)\n",
    "print(arr)"
   ]
  },
  {
   "cell_type": "code",
   "execution_count": 8,
   "metadata": {},
   "outputs": [
    {
     "data": {
      "image/png": "[encoded data removed]",
      "text/plain": [
       "<Figure size 640x480 with 1 Axes>"
      ]
     },
     "metadata": {},
     "output_type": "display_data"
    }
   ],
   "source": [
    "import matplotlib.pyplot as plt\n",
    "import numpy as np\n",
    "arr = np.arange(0, 10, .1)\n",
    "sin_data = np.sin(arr)\n",
    "\n",
    "\n",
    "# print(arr)\n",
    "\n",
    "plt.plot(arr, sin_data)\n",
    "plt.show()"
   ]
  },
  {
   "cell_type": "code",
   "execution_count": 16,
   "metadata": {},
   "outputs": [
    {
     "name": "stdout",
     "output_type": "stream",
     "text": [
      "[[ 1  2  3  4]\n",
      " [ 5  6  7  8]\n",
      " [ 9 10 11 12]]\n",
      "[10 26 42]\n"
     ]
    }
   ],
   "source": [
    "arr = np.arange(1, 13).reshape(3, 4)\n",
    "print(arr)\n",
    "out = np.sum(arr, axis=1)\n",
    "print(out)"
   ]
  },
  {
   "cell_type": "code",
   "execution_count": 7,
   "metadata": {},
   "outputs": [],
   "source": [
    "import numpy as np \n",
    "import time"
   ]
  },
  {
   "cell_type": "code",
   "execution_count": 19,
   "metadata": {},
   "outputs": [],
   "source": [
    "seq = range(10000000)\n",
    "lst = list(seq)\n",
    "arr = np.array(seq)"
   ]
  },
  {
   "cell_type": "code",
   "execution_count": 20,
   "metadata": {},
   "outputs": [
    {
     "name": "stdout",
     "output_type": "stream",
     "text": [
      "list time 0.21520686149597168\n",
      "array time 0.06713581085205078\n"
     ]
    }
   ],
   "source": [
    "start = time.time()\n",
    "re = [i*2 for i in lst]\n",
    "stop = time.time()\n",
    "duration = stop - start\n",
    "print('list time', duration)\n",
    "\n",
    "start = time.time()\n",
    "re = arr * 2\n",
    "stop = time.time()\n",
    "duration = stop - start\n",
    "print('array time', duration)"
   ]
  },
  {
   "cell_type": "code",
   "execution_count": 45,
   "metadata": {},
   "outputs": [
    {
     "name": "stdout",
     "output_type": "stream",
     "text": [
      "list [-128, 128]\n",
      "array [-128 -128]\n"
     ]
    },
    {
     "name": "stderr",
     "output_type": "stream",
     "text": [
      "/var/folders/06/l2mnydqj6nx1z9h45l9pgry40000gn/T/ipykernel_1054/3134406580.py:3: DeprecationWarning: NumPy will stop allowing conversion of out-of-bound Python integers to integer arrays.  The conversion of 128 to int8 will fail in the future.\n",
      "For the old behavior, usually:\n",
      "    np.array(value).astype(dtype)`\n",
      "will give the desired result (the cast overflows).\n",
      "  arr = np.array(lst, dtype='int8')\n"
     ]
    }
   ],
   "source": [
    "lst = [-128, 128]\n",
    "# array(object, dtype=None, ndmin=0)\n",
    "arr = np.array(lst, dtype='int8')\n",
    "print('list', lst)\n",
    "print('array', arr)"
   ]
  },
  {
   "cell_type": "code",
   "execution_count": 5,
   "metadata": {},
   "outputs": [
    {
     "ename": "IndexError",
     "evalue": "list index out of range",
     "output_type": "error",
     "traceback": [
      "\u001b[0;31m---------------------------------------------------------------------------\u001b[0m",
      "\u001b[0;31mIndexError\u001b[0m                                Traceback (most recent call last)",
      "Cell \u001b[0;32mIn[5], line 22\u001b[0m\n\u001b[1;32m     20\u001b[0m \u001b[38;5;66;03m# Example usage\u001b[39;00m\n\u001b[1;32m     21\u001b[0m nums \u001b[38;5;241m=\u001b[39m [\u001b[38;5;241m10\u001b[39m, \u001b[38;5;241m3\u001b[39m, \u001b[38;5;241m4\u001b[39m,\u001b[38;5;241m4\u001b[39m, \u001b[38;5;241m2\u001b[39m, \u001b[38;5;241m2\u001b[39m, \u001b[38;5;241m4\u001b[39m, \u001b[38;5;241m4\u001b[39m]\n\u001b[0;32m---> 22\u001b[0m \u001b[38;5;28mprint\u001b[39m(\u001b[38;5;124m\"\u001b[39m\u001b[38;5;124mDuplicate:\u001b[39m\u001b[38;5;124m\"\u001b[39m, find_duplicate(nums))\n",
      "Cell \u001b[0;32mIn[5], line 7\u001b[0m, in \u001b[0;36mfind_duplicate\u001b[0;34m(nums)\u001b[0m\n\u001b[1;32m      5\u001b[0m \u001b[38;5;66;03m# Move slow and fast pointers until they meet\u001b[39;00m\n\u001b[1;32m      6\u001b[0m \u001b[38;5;28;01mwhile\u001b[39;00m \u001b[38;5;28;01mTrue\u001b[39;00m:\n\u001b[0;32m----> 7\u001b[0m     slow \u001b[38;5;241m=\u001b[39m nums[slow]\n\u001b[1;32m      8\u001b[0m     fast \u001b[38;5;241m=\u001b[39m nums[nums[fast]]\n\u001b[1;32m      9\u001b[0m     \u001b[38;5;28;01mif\u001b[39;00m slow \u001b[38;5;241m==\u001b[39m fast:\n",
      "\u001b[0;31mIndexError\u001b[0m: list index out of range"
     ]
    }
   ],
   "source": [
    "def find_duplicate(nums):\n",
    "    slow = nums[0]\n",
    "    fast = nums[0]\n",
    "\n",
    "    # Move slow and fast pointers until they meet\n",
    "    while True:\n",
    "        slow = nums[slow]\n",
    "        fast = nums[nums[fast]]\n",
    "        if slow == fast:\n",
    "            break\n",
    "\n",
    "    # Reset one pointer and move both at the same speed until they meet again\n",
    "    slow = nums[0]\n",
    "    while slow != fast:\n",
    "        slow = nums[slow]\n",
    "        fast = nums[fast]\n",
    "\n",
    "    return slow\n",
    "\n",
    "# Example usage\n",
    "nums = [10, 3, 4,4, 2, 2, 4, 4]\n",
    "print(\"Duplicate:\", find_duplicate(nums))\n"
   ]
  },
  {
   "cell_type": "code",
   "execution_count": 4,
   "metadata": {},
   "outputs": [
    {
     "name": "stdout",
     "output_type": "stream",
     "text": [
      "Mean Grade: 85.86666666666666\n",
      "Median Grade: 87.0\n",
      "Standard Deviation: 5.987394165151388\n",
      "Variance: 35.84888888888889\n"
     ]
    },
    {
     "data": {
      "image/png": "[encoded data removed]",
      "text/plain": [
       "<Figure size 800x600 with 1 Axes>"
      ]
     },
     "metadata": {},
     "output_type": "display_data"
    }
   ],
   "source": [
    "import numpy as np\n",
    "import matplotlib.pyplot as plt\n",
    "\n",
    "# Sample student grades data (replace with your own dataset)\n",
    "student_grades = np.array([85, 90, 88, 72, 93, 82, 78, 85, 95, 88, 90, 79, 84, 92, 87])\n",
    "\n",
    "# Calculate basic statistics\n",
    "mean_grade = np.mean(student_grades)\n",
    "median_grade = np.median(student_grades)\n",
    "std_deviation = np.std(student_grades)\n",
    "variance = np.var(student_grades)\n",
    "\n",
    "# Print statistics\n",
    "print(\"Mean Grade:\", mean_grade)\n",
    "print(\"Median Grade:\", median_grade)\n",
    "print(\"Standard Deviation:\", std_deviation)\n",
    "print(\"Variance:\", variance)\n",
    "\n",
    "# Visualize data with a histogram\n",
    "plt.figure(figsize=(8, 6))\n",
    "plt.hist(student_grades, bins=10, color='skyblue', edgecolor='black')\n",
    "plt.axvline(mean_grade, color='red', linestyle='dashed', linewidth=1, label='Mean')\n",
    "plt.xlabel('Grades')\n",
    "plt.ylabel('Frequency')\n",
    "plt.title('Student Grades Histogram')\n",
    "plt.legend()\n",
    "plt.grid(True)\n",
    "plt.show()\n"
   ]
  }
 ],
 "metadata": {
  "kernelspec": {
   "display_name": "base",
   "language": "python",
   "name": "python3"
  },
  "language_info": {
   "codemirror_mode": {
    "name": "ipython",
    "version": 3
   },
   "file_extension": ".py",
   "mimetype": "text/x-python",
   "name": "python",
   "nbconvert_exporter": "python",
   "pygments_lexer": "ipython3",
   "version": "3.11.5"
  }
 },
 "nbformat": 4,
 "nbformat_minor": 2
}
