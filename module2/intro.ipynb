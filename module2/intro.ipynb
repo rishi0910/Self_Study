{
 "cells": [
  {
   "cell_type": "code",
   "execution_count": 1,
   "metadata": {},
   "outputs": [
    {
     "name": "stdout",
     "output_type": "stream",
     "text": [
      "<class 'list'>\n"
     ]
    }
   ],
   "source": [
    "lst = list()\n",
    "print(type(lst))"
   ]
  },
  {
   "cell_type": "code",
   "execution_count": 2,
   "metadata": {},
   "outputs": [
    {
     "name": "stdout",
     "output_type": "stream",
     "text": [
      "[2]\n"
     ]
    }
   ],
   "source": [
    "lst.append(2)\n",
    "print(lst)"
   ]
  },
  {
   "cell_type": "code",
   "execution_count": 3,
   "metadata": {},
   "outputs": [
    {
     "name": "stdout",
     "output_type": "stream",
     "text": [
      "[100]\n"
     ]
    }
   ],
   "source": [
    "lst2 = list()\n",
    "lst2.append(100)\n",
    "print(lst2)"
   ]
  },
  {
   "cell_type": "code",
   "execution_count": 1,
   "metadata": {},
   "outputs": [],
   "source": [
    "class Person:\n",
    "    def append(self, name):\n",
    "        self.name = name\n",
    "    def __str__(self):\n",
    "        return self.name\n",
    "    def __add__(self, obj):\n",
    "        return 'Operation Done'"
   ]
  },
  {
   "cell_type": "code",
   "execution_count": 3,
   "metadata": {},
   "outputs": [
    {
     "name": "stdout",
     "output_type": "stream",
     "text": [
      "ravi\n"
     ]
    }
   ],
   "source": [
    "obj1 = Person()\n",
    "obj1.append('ravi')\n",
    "print(obj1)"
   ]
  },
  {
   "cell_type": "code",
   "execution_count": 5,
   "metadata": {},
   "outputs": [
    {
     "name": "stdout",
     "output_type": "stream",
     "text": [
      "ravi\n"
     ]
    }
   ],
   "source": [
    "print(obj1)"
   ]
  },
  {
   "cell_type": "code",
   "execution_count": 24,
   "metadata": {},
   "outputs": [
    {
     "name": "stdout",
     "output_type": "stream",
     "text": [
      "saket\n"
     ]
    }
   ],
   "source": [
    "obj2 = Person()\n",
    "obj2.append('saket')\n",
    "print(obj2)"
   ]
  },
  {
   "cell_type": "code",
   "execution_count": 1,
   "metadata": {},
   "outputs": [],
   "source": [
    "import numpy as np"
   ]
  },
  {
   "cell_type": "code",
   "execution_count": 2,
   "metadata": {},
   "outputs": [],
   "source": [
    "rr = np.array([1, 2, 3, 4, 5])"
   ]
  },
  {
   "cell_type": "code",
   "execution_count": 11,
   "metadata": {},
   "outputs": [
    {
     "name": "stdout",
     "output_type": "stream",
     "text": [
      "(3,)\n"
     ]
    }
   ],
   "source": [
    "if 1:\n",
    "    import numpy as np \n",
    "\n",
    "    a = np.array([[1, 2, 3], [4, 5, 6]]) \n",
    "\n",
    "    b = np.sum(a, axis=0) \n",
    "\n",
    "    print(b.shape) "
   ]
  },
  {
   "cell_type": "code",
   "execution_count": 53,
   "metadata": {},
   "outputs": [
    {
     "name": "stdout",
     "output_type": "stream",
     "text": [
      "programming is awesome \n",
      " 40\n",
      "apple banana cherry\n",
      " 40\n",
      "programming is fun\n",
      " 32\n",
      "hello world\n",
      " 20\n",
      "algorithm python code\n",
      " 48\n",
      "openai gpt chatbot\n",
      " 38\n",
      "test cases debugging\n",
      " 36\n",
      "challenge difficult hard\n",
      " 62\n",
      "problem solving algorithm\n",
      " 46\n",
      "coding interview skills\n",
      " 48\n",
      "example illustration explanation\n",
      " 78\n",
      "programming language syntax\n",
      " 56\n",
      "debugging code errors\n",
      " 48\n",
      "complexity difficulty challenge\n",
      " 77\n",
      "python java javascript\n",
      " 46\n",
      "algorithm data structures\n",
      " 46\n",
      "programming logic problem\n",
      " 46\n",
      "interview preparation practice\n",
      " 67\n",
      "coding competition contest\n",
      " 54\n",
      "challenge problem solving\n",
      " 55\n",
      "programming is fun and challenging\n",
      " 60\n",
      "python is a popular programming language\n",
      " 76\n",
      "algorithm complexity is often misunderstood\n",
      " 101\n",
      "coding competitions require practice and dedication\n",
      " 98\n",
      "debugging code errors can be time-consuming\n",
      " 86\n",
      "problem solving skills are essential for programmers\n",
      " 92\n",
      "interview preparation demands thorough understanding\n",
      " 107\n",
      "data structures play a crucial role in algorithms\n",
      " 92\n",
      "machine learning algorithms are used for various tasks\n",
      " 98\n",
      "natural language processing is an important field in AI\n",
      " 103\n"
     ]
    }
   ],
   "source": [
    "def score_words(words):\n",
    "    def calculate_word_score(word):\n",
    "        vowels = set('aeiou')\n",
    "        num_vowels = len([char for char in word if char in vowels])\n",
    "        num_consonants = len(word) - num_vowels\n",
    "        if num_vowels % 2 == 0 and num_consonants % 2 == 0:\n",
    "            return len(word) * 3\n",
    "        elif num_vowels % 2 != 0 or num_consonants % 2 != 0:\n",
    "            return len(word) * 2\n",
    "        else:\n",
    "            return len(word)\n",
    "\n",
    "    total_score = 0\n",
    "    for word in words:\n",
    "        total_score += calculate_word_score(word)\n",
    "    return total_score\n",
    "\n",
    "# Example usage:\n",
    "data = '''programming is awesome : 40\n",
    "apple banana cherry: 40\n",
    "programming is fun: 32\n",
    "hello world: 20\n",
    "algorithm python code: 48\n",
    "openai gpt chatbot: 38\n",
    "test cases debugging: 36\n",
    "challenge difficult hard: 62\n",
    "problem solving algorithm: 46\n",
    "coding interview skills: 48\n",
    "example illustration explanation: 78\n",
    "programming language syntax: 56\n",
    "debugging code errors: 48\n",
    "complexity difficulty challenge: 77\n",
    "python java javascript: 46\n",
    "algorithm data structures: 46\n",
    "programming logic problem: 46\n",
    "interview preparation practice: 67\n",
    "coding competition contest: 54\n",
    "challenge problem solving: 55\n",
    "programming is fun and challenging: 60\n",
    "python is a popular programming language: 76\n",
    "algorithm complexity is often misunderstood: 101\n",
    "coding competitions require practice and dedication: 98\n",
    "debugging code errors can be time-consuming: 86\n",
    "problem solving skills are essential for programmers: 92\n",
    "interview preparation demands thorough understanding: 107\n",
    "data structures play a crucial role in algorithms: 92\n",
    "machine learning algorithms are used for various tasks: 98\n",
    "natural language processing is an important field in AI: 103'''.split('\\n')\n",
    "\n",
    "for dt in data:\n",
    "    for a in dt.split(':'):\n",
    "        print(a)\n",
    "\n"
   ]
  },
  {
   "cell_type": "code",
   "execution_count": 34,
   "metadata": {},
   "outputs": [
    {
     "name": "stdout",
     "output_type": "stream",
     "text": [
      "programming is awesome : 40\n",
      "apple banana cherry: 40\n",
      "programming is fun: 32\n",
      "hello world: 20\n",
      "algorithm python code: 48\n",
      "openai gpt chatbot: 38\n",
      "test cases debugging: 36\n",
      "challenge difficult hard: 62\n",
      "problem solving algorithm: 46\n",
      "coding interview skills: 48\n",
      "example illustration explanation: 78\n",
      "programming language syntax: 56\n",
      "debugging code errors: 48\n",
      "complexity difficulty challenge: 77\n",
      "python java javascript: 46\n",
      "algorithm data structures: 46\n",
      "programming logic problem: 46\n",
      "interview preparation practice: 67\n",
      "coding competition contest: 54\n",
      "challenge problem solving: 55\n",
      "programming is fun and challenging: 60\n",
      "python is a popular programming language: 76\n",
      "algorithm complexity is often misunderstood: 101\n",
      "coding competitions require practice and dedication: 98\n",
      "debugging code errors can be time-consuming: 86\n",
      "problem solving skills are essential for programmers: 92\n",
      "interview preparation demands thorough understanding: 107\n",
      "data structures play a crucial role in algorithms: 92\n",
      "machine learning algorithms are used for various tasks: 98\n",
      "natural language processing is an important field in AI: 103\n"
     ]
    }
   ],
   "source": [
    "def score_words(words):\n",
    "    score = 0\n",
    "    vowels = 'aeiouy'\n",
    "    for word in words:\n",
    "        vowel_count = 0\n",
    "        consonant_count = 0\n",
    "        distinct_vowels = set()\n",
    "        for letter in word:\n",
    "            if letter in vowels:\n",
    "                vowel_count += 1\n",
    "                distinct_vowels.add(letter)\n",
    "            else:\n",
    "                consonant_count += 1\n",
    "        if len(distinct_vowels) % 2 == 0 and consonant_count % 2 == 0:\n",
    "            score += len(word) * 3\n",
    "        elif len(distinct_vowels) % 2 != 0 or consonant_count % 2 != 0:\n",
    "            score += len(word) * 2\n",
    "        else:\n",
    "            score += len(word)\n",
    "    return score\n",
    "\n",
    "# Test cases\n",
    "test_cases = [\n",
    "    \"programming is awesome \",\n",
    "    \"apple banana cherry\",\n",
    "    \"programming is fun\",\n",
    "    \"hello world\",\n",
    "    \"algorithm python code\",\n",
    "    \"openai gpt chatbot\",\n",
    "    \"test cases debugging\",\n",
    "    \"challenge difficult hard\",\n",
    "    \"problem solving algorithm\",\n",
    "    \"coding interview skills\",\n",
    "    \"example illustration explanation\",\n",
    "    \"programming language syntax\",\n",
    "    \"debugging code errors\",\n",
    "    \"complexity difficulty challenge\",\n",
    "    \"python java javascript\",\n",
    "    \"algorithm data structures\",\n",
    "    \"programming logic problem\",\n",
    "    \"interview preparation practice\",\n",
    "    \"coding competition contest\",\n",
    "    \"challenge problem solving\",\n",
    "    \"programming is fun and challenging\",\n",
    "    \"python is a popular programming language\",\n",
    "    \"algorithm complexity is often misunderstood\",\n",
    "    \"coding competitions require practice and dedication\",\n",
    "    \"debugging code errors can be time-consuming\",\n",
    "    \"problem solving skills are essential for programmers\",\n",
    "    \"interview preparation demands thorough understanding\",\n",
    "    \"data structures play a crucial role in algorithms\",\n",
    "    \"machine learning algorithms are used for various tasks\",\n",
    "    \"natural language processing is an important field in AI\"\n",
    "]\n",
    "\n",
    "for i, test_case in enumerate(test_cases, start=1):\n",
    "    words = test_case.split()\n",
    "    print(f\"{test_case}: {score_words(words)}\")\n"
   ]
  },
  {
   "cell_type": "code",
   "execution_count": 4,
   "metadata": {},
   "outputs": [
    {
     "name": "stdout",
     "output_type": "stream",
     "text": [
      "['City', 'Population']\n"
     ]
    }
   ],
   "source": [
    "if 1:\n",
    "      import pandas as pd \n",
    "\n",
    "  \n",
    "\n",
    "      data = {'City': ['New York', 'Los Angeles', 'Chicago'], \n",
    "\n",
    "              'Population': [8.6, 4.0, 2.7]} \n",
    "\n",
    "      df = pd.DataFrame(data) \n",
    "\n",
    "      print(df.columns.tolist())  "
   ]
  },
  {
   "cell_type": "code",
   "execution_count": null,
   "metadata": {},
   "outputs": [],
   "source": [
    "class Solution(object):\n",
    "    def divide(self, dividend, divisor):\n",
    "        \"\"\"\n",
    "        :type dividend: int\n",
    "        :type divisor: int\n",
    "        :rtype: int\n",
    "        \"\"\"\n",
    "        if abs(divisor) == 1:\n",
    "            dividend = divisor * dividend\n",
    "            if dividend > 2**31 - 1:\n",
    "                return 2**31 - 1\n",
    "\n",
    "            if dividend < -2**31:\n",
    "                return -2**31\n",
    "\n",
    "            return dividend\n",
    "\n",
    "        quotient = 0\n",
    "        sign = 1\n",
    "        if dividend * divisor < 0:\n",
    "            sign = -1\n",
    "\n",
    "        if dividend < 0: dividend = -dividend\n",
    "        if divisor < 0: divisor = -divisor\n",
    "\n",
    "        i = 1\n",
    "        sum_all = 0\n",
    "        while sum_all <= dividend:\n",
    "            if dividend - sum_all < divisor * i:\n",
    "                i = 1\n",
    "            quotient += i\n",
    "            sum_all += divisor * i\n",
    "            i += 1\n",
    "\n",
    "        return (quotient - 1) * sign"
   ]
  }
 ],
 "metadata": {
  "kernelspec": {
   "display_name": "Python 3",
   "language": "python",
   "name": "python3"
  },
  "language_info": {
   "codemirror_mode": {
    "name": "ipython",
    "version": 3
   },
   "file_extension": ".py",
   "mimetype": "text/x-python",
   "name": "python",
   "nbconvert_exporter": "python",
   "pygments_lexer": "ipython3",
   "version": "3.11.5"
  }
 },
 "nbformat": 4,
 "nbformat_minor": 2
}
