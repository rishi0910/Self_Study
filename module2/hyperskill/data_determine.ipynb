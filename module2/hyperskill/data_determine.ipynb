{
 "cells": [
  {
   "cell_type": "code",
   "execution_count": null,
   "metadata": {},
   "outputs": [],
   "source": [
    "var = 'hello'  or '123'  or '34.5'\n",
    "'''\n",
    "hello\n",
    "hello!\n",
    "\n",
    "123\n",
    "125\n",
    "\n",
    "34.5\n",
    "69.0\n",
    "\n",
    "'''"
   ]
  },
  {
   "cell_type": "code",
   "execution_count": 8,
   "metadata": {},
   "outputs": [
    {
     "name": "stdout",
     "output_type": "stream",
     "text": [
      "47.0\n"
     ]
    }
   ],
   "source": [
    "def modify_value(var):\n",
    "    # write logic here \n",
    "    if var.isdigit():\n",
    "        return int(var) +2\n",
    "    elif var.isalpha():\n",
    "        return f\"{var}!\"\n",
    "    else:\n",
    "        return float(var)*2\n",
    "\n",
    "value = \"23.5\"\n",
    "out = modify_value(value)\n",
    "print(out)"
   ]
  },
  {
   "cell_type": "code",
   "execution_count": 9,
   "metadata": {},
   "outputs": [],
   "source": [
    "class bank:\n",
    "    def __init__(self,account_holder,initial_balance=0):\n",
    "        self.account_holder=account_holder\n",
    "        self.initial_balance=initial_balance\n",
    "    \n",
    "    def deposit(self,Deposited_amount):\n",
    "        self.Deposited_amount=Deposited_amount\n",
    "        if Deposited_amount>0:\n",
    "            self.initial_balance+= Deposited_amount\n",
    "            print(\"Total Balance\",self.initial_balance)\n",
    "            print(\"Amount Deposited\",self.Deposited_amount)\n",
    "        else:\n",
    "            print(\"Invalid Amount\")\n",
    "\n",
    "    def withdraw(self,withdraw_amount):\n",
    "        self.withdraw_amount=withdraw_amount\n",
    "        if withdraw_amount >= initial_balance:\n",
    "            initial_balance -= withdraw_amount\n",
    "            print(\"Total Balance\",self.initial_balance)\n",
    "            print(\"Amount Withdraw\",withdraw_amount)\n",
    "        else:\n",
    "            print(\"Insufficent Amount\")\n",
    "    def check_balance(self):\n",
    "        print(\"Balance\",self.initial_balance)"
   ]
  },
  {
   "cell_type": "code",
   "execution_count": null,
   "metadata": {},
   "outputs": [],
   "source": [
    "# main code \n",
    "account_holder = input('Enter the name of account holder ')\n",
    "amount = eval(input('Enter the initial Amount '))\n",
    "\n",
    "account1 = bank(account_holder, amount)\n",
    "print('Account successfully opened ')\n",
    "\n",
    "while 1:\n",
    "    print('Bank Manegement Menu ')\n",
    "    print('''\n",
    "1> Deposit\n",
    "2> Withdraw\n",
    "3> Check Balance\n",
    "4> Last Transections\n",
    "5> Exit    \n",
    "''')\n",
    "    choice = input('choose the option 1/2/3/4 ')\n",
    "    if choice == '4':\n",
    "        print()\n",
    "        break \n"
   ]
  }
 ],
 "metadata": {
  "kernelspec": {
   "display_name": "Python 3",
   "language": "python",
   "name": "python3"
  },
  "language_info": {
   "codemirror_mode": {
    "name": "ipython",
    "version": 3
   },
   "file_extension": ".py",
   "mimetype": "text/x-python",
   "name": "python",
   "nbconvert_exporter": "python",
   "pygments_lexer": "ipython3",
   "version": "3.12.1"
  }
 },
 "nbformat": 4,
 "nbformat_minor": 2
}
