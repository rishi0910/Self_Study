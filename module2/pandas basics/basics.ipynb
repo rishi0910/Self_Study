{
 "cells": [
  {
   "cell_type": "code",
   "execution_count": 1,
   "metadata": {},
   "outputs": [],
   "source": [
    "# pandas : data visualization tool \n",
    "import pandas as pd"
   ]
  },
  {
   "cell_type": "code",
   "execution_count": null,
   "metadata": {},
   "outputs": [],
   "source": []
  },
  {
   "cell_type": "markdown",
   "metadata": {},
   "source": [
    "Indexing with Pandas involves accessing specific rows and columns of a DataFrame or Series. Here are some common ways to do indexing in Pandas:\n",
    "\n",
    "1. **Accessing Columns**: You can access a column in a DataFrame using square brackets or dot notation.\n",
    "\n",
    "    ```python\n",
    "    df['Column_Name']\n",
    "    df.Column_Name\n",
    "    ```\n",
    "\n",
    "2. **Accessing Rows by Label**: You can use `.loc[]` to access rows by their label (index).\n",
    "\n",
    "    ```python\n",
    "    df.loc['Label']\n",
    "    ```\n",
    "\n",
    "3. **Accessing Rows by Integer Location**: You can use `.iloc[]` to access rows by their integer location.\n",
    "\n",
    "    ```python\n",
    "    df.iloc[integer_location]\n",
    "    ```\n",
    "\n",
    "4. **Accessing Specific Cells**: You can access a specific cell by specifying both the row and column.\n",
    "\n",
    "    ```python\n",
    "    df.loc['Label', 'Column_Name']\n",
    "    ```\n",
    "\n",
    "5. **Boolean Indexing**: You can use boolean conditions to filter rows based on certain criteria.\n",
    "\n",
    "    ```python\n",
    "    df[df['Column_Name'] > 10]\n",
    "    ```\n",
    "\n",
    "6. **Chained Indexing**: You can chain indexing operations together.\n",
    "\n",
    "    ```python\n",
    "    df.loc['Label']['Column_Name']\n",
    "    ```\n"
   ]
  },
  {
   "cell_type": "code",
   "execution_count": 3,
   "metadata": {},
   "outputs": [
    {
     "name": "stdout",
     "output_type": "stream",
     "text": [
      "a    10.0\n",
      "b    12.0\n",
      "c    11.0\n",
      "d    12.5\n",
      "e    15.0\n",
      "dtype: float64\n"
     ]
    }
   ],
   "source": [
    "series = pd.Series([10, 12, 11, 12.5, 15], index=list('abcde'))\n",
    "print(series)"
   ]
  },
  {
   "cell_type": "code",
   "execution_count": 5,
   "metadata": {},
   "outputs": [
    {
     "name": "stdout",
     "output_type": "stream",
     "text": [
      "       name  marks\n",
      "0      ravi     10\n",
      "1  subhansh     18\n",
      "2     saket      8\n"
     ]
    }
   ],
   "source": [
    "df = pd.DataFrame([('ravi', 10), ('subhansh', 18), ('saket', 8)], columns=['name', 'marks'])\n",
    "print(df)"
   ]
  },
  {
   "cell_type": "code",
   "execution_count": 13,
   "metadata": {},
   "outputs": [
    {
     "name": "stdout",
     "output_type": "stream",
     "text": [
      "      Peak                         Film  Year               Director  \\\n",
      "Rank                                                                   \n",
      "1        1                       Dangal  2016          Nitesh Tiwari   \n",
      "2        1  Baahubali 2: The Conclusion  2017        S. S. Rajamouli   \n",
      "3        3            Bajrangi Bhaijaan  2015             Kabir Khan   \n",
      "4        3             Secret Superstar  2017         Advait Chandan   \n",
      "5        1                           PK  2014        Rajkumar Hirani   \n",
      "6        5                          2.0  2018              S.Shankar   \n",
      "7        2     Baahubali: The Beginning  2015        S. S. Rajamouli   \n",
      "8        4                       Sultan  2016        Ali Abbas Zafar   \n",
      "9        8                        Sanju  2018        Rajkumar Hirani   \n",
      "10       7                    Padmaavat  2018  Sanjay Leela Bhansali   \n",
      "11       8              Tiger Zinda Hai  2017        Ali Abbas Zafar   \n",
      "12       1                      Dhoom 3  2013  Vijay Krishna Acharya   \n",
      "13       9                          War  2019        Siddharth Anand   \n",
      "14       1                     3 Idiots  2009        Rajkumar Hirani   \n",
      "15      14                    Andhadhun  2018        Sriram Raghavan   \n",
      "16      16                        Saaho  2019                Sujeeth   \n",
      "17       6         Prem Ratan Dhan Payo  2015     Sooraj R. Barjatya   \n",
      "18       2              Chennai Express  2013           Rohit Shetty   \n",
      "19       4                         Kick  2014       Sajid Nadiadwala   \n",
      "20      17                       Simmba  2018           Rohit Shetty   \n",
      "21       5               Happy New Year  2014             Farah Khan   \n",
      "22       8                     Krrish 3  2013          Rakesh Roshan   \n",
      "23      10                      Dilwale  2015           Rohit Shetty   \n",
      "24      21                  Kabir Singh  2019          Sandeep Vanga   \n",
      "25      25                      Tanhaji  2020                Om Raut   \n",
      "\n",
      "                                               Producer Language  \\\n",
      "Rank                                                               \n",
      "1     Aamir Khan Productions  UTV Motion Pictures  W...    Hindi   \n",
      "2                                      Arka Media Works   Telugu   \n",
      "3     Salman Khan Films  Kabir Khan Films  Eros Inte...    Hindi   \n",
      "4                                Aamir Khan Productions    Hindi   \n",
      "5             Vinod Chopra Films  Rajkumar Hirani Films    Hindi   \n",
      "6                                      Lyca Productions    Tamil   \n",
      "7                                      Arka Media Works   Telugu   \n",
      "8                                        Yash Raj Films    Hindi   \n",
      "9               Rajkumar Hirani FilmsVinod Chopra Films    Hindi   \n",
      "10       Bhansali Productions Viacom 18 Motion Pictures    Hindi   \n",
      "11                                       Yash Raj Films    Hindi   \n",
      "12                                       Yash Raj Films    Hindi   \n",
      "13                                       Yash Raj Films    Hindi   \n",
      "14                                   Vinod Chopra Films    Hindi   \n",
      "15          Viacom 18 Motion Pictures Matchbox Pictures    Hindi   \n",
      "16                               UV Creations  T-Series   Telugu   \n",
      "17                Fox Star Studios  Rajshri Productions    Hindi   \n",
      "18                           Red Chillies Entertainment    Hindi   \n",
      "19                                  Nadiadwala Grandson    Hindi   \n",
      "20           Reliance Entertainment  Dharma Productions    Hindi   \n",
      "21                           Red Chillies Entertainment    Hindi   \n",
      "22                       Filmkraft Productions Pvt. Ltd    Hindi   \n",
      "23    Red Chillies Entertainment Rohit Shetty Produc...    Hindi   \n",
      "24                              Cine1 Studios  T-Series    Hindi   \n",
      "25                            Ajay Devgn FFilmsT-Series    Hindi   \n",
      "\n",
      "      Worldwide_Gross_INR(Crore)  Worldwide_Gross_USD(Million)  \n",
      "Rank                                                            \n",
      "1                        2024.00                        311.00  \n",
      "2                        1810.00                        278.00  \n",
      "3                         969.06                        150.00  \n",
      "4                         966.86                        154.00  \n",
      "5                         832.00                        120.00  \n",
      "6                         800.00                        123.00  \n",
      "7                         650.00                        101.00  \n",
      "8                         623.33                         96.00  \n",
      "9                         586.85                         90.12  \n",
      "10                        585.00                         90.00  \n",
      "11                        565.10                         87.32  \n",
      "12                        556.00                        101.00  \n",
      "13                        475.50                         67.00  \n",
      "14                        460.00                         88.00  \n",
      "15                        456.89                         64.00  \n",
      "16                        433.06                         61.00  \n",
      "17                        432.00                         67.00  \n",
      "18                        423.00                         72.19  \n",
      "19                        402.00                         66.00  \n",
      "20                        400.00                         61.00  \n",
      "21                        397.21                         65.08  \n",
      "22                        393.37                         61.00  \n",
      "23                        376.85                         58.00  \n",
      "24                        367.68                         56.00  \n",
      "25                        366.36                         56.00  \n"
     ]
    }
   ],
   "source": [
    "movies = pd.read_csv(r'/Users/amirkhan/Python Development/python academic/Batch2023-24/module2/pandas basics/Bollywood_movies.csv', index_col='Rank')\n",
    "print(movies)"
   ]
  },
  {
   "cell_type": "code",
   "execution_count": 15,
   "metadata": {},
   "outputs": [
    {
     "name": "stdout",
     "output_type": "stream",
     "text": [
      "                             Film               Director\n",
      "Rank                                                    \n",
      "1                          Dangal          Nitesh Tiwari\n",
      "2     Baahubali 2: The Conclusion        S. S. Rajamouli\n",
      "3               Bajrangi Bhaijaan             Kabir Khan\n",
      "4                Secret Superstar         Advait Chandan\n",
      "5                              PK        Rajkumar Hirani\n",
      "6                             2.0              S.Shankar\n",
      "7        Baahubali: The Beginning        S. S. Rajamouli\n",
      "8                          Sultan        Ali Abbas Zafar\n",
      "9                           Sanju        Rajkumar Hirani\n",
      "10                      Padmaavat  Sanjay Leela Bhansali\n",
      "11                Tiger Zinda Hai        Ali Abbas Zafar\n",
      "12                        Dhoom 3  Vijay Krishna Acharya\n",
      "13                            War        Siddharth Anand\n",
      "14                       3 Idiots        Rajkumar Hirani\n",
      "15                      Andhadhun        Sriram Raghavan\n",
      "16                          Saaho                Sujeeth\n",
      "17           Prem Ratan Dhan Payo     Sooraj R. Barjatya\n",
      "18                Chennai Express           Rohit Shetty\n",
      "19                           Kick       Sajid Nadiadwala\n",
      "20                         Simmba           Rohit Shetty\n",
      "21                 Happy New Year             Farah Khan\n",
      "22                       Krrish 3          Rakesh Roshan\n",
      "23                        Dilwale           Rohit Shetty\n",
      "24                    Kabir Singh          Sandeep Vanga\n",
      "25                        Tanhaji                Om Raut <class 'pandas.core.frame.DataFrame'>\n"
     ]
    }
   ],
   "source": [
    "# indexing \n",
    "data = movies[['Film', 'Director']]\n",
    "print(data, type(data))"
   ]
  },
  {
   "cell_type": "code",
   "execution_count": 19,
   "metadata": {},
   "outputs": [
    {
     "data": {
      "text/html": [
       "<div>\n",
       "<style scoped>\n",
       "    .dataframe tbody tr th:only-of-type {\n",
       "        vertical-align: middle;\n",
       "    }\n",
       "\n",
       "    .dataframe tbody tr th {\n",
       "        vertical-align: top;\n",
       "    }\n",
       "\n",
       "    .dataframe thead th {\n",
       "        text-align: right;\n",
       "    }\n",
       "</style>\n",
       "<table border=\"1\" class=\"dataframe\">\n",
       "  <thead>\n",
       "    <tr style=\"text-align: right;\">\n",
       "      <th></th>\n",
       "      <th>Film</th>\n",
       "      <th>Year</th>\n",
       "    </tr>\n",
       "    <tr>\n",
       "      <th>Rank</th>\n",
       "      <th></th>\n",
       "      <th></th>\n",
       "    </tr>\n",
       "  </thead>\n",
       "  <tbody>\n",
       "    <tr>\n",
       "      <th>1</th>\n",
       "      <td>Dangal</td>\n",
       "      <td>2016</td>\n",
       "    </tr>\n",
       "    <tr>\n",
       "      <th>2</th>\n",
       "      <td>Baahubali 2: The Conclusion</td>\n",
       "      <td>2017</td>\n",
       "    </tr>\n",
       "    <tr>\n",
       "      <th>3</th>\n",
       "      <td>Bajrangi Bhaijaan</td>\n",
       "      <td>2015</td>\n",
       "    </tr>\n",
       "    <tr>\n",
       "      <th>4</th>\n",
       "      <td>Secret Superstar</td>\n",
       "      <td>2017</td>\n",
       "    </tr>\n",
       "    <tr>\n",
       "      <th>5</th>\n",
       "      <td>PK</td>\n",
       "      <td>2014</td>\n",
       "    </tr>\n",
       "    <tr>\n",
       "      <th>6</th>\n",
       "      <td>2.0</td>\n",
       "      <td>2018</td>\n",
       "    </tr>\n",
       "    <tr>\n",
       "      <th>7</th>\n",
       "      <td>Baahubali: The Beginning</td>\n",
       "      <td>2015</td>\n",
       "    </tr>\n",
       "    <tr>\n",
       "      <th>8</th>\n",
       "      <td>Sultan</td>\n",
       "      <td>2016</td>\n",
       "    </tr>\n",
       "    <tr>\n",
       "      <th>9</th>\n",
       "      <td>Sanju</td>\n",
       "      <td>2018</td>\n",
       "    </tr>\n",
       "    <tr>\n",
       "      <th>10</th>\n",
       "      <td>Padmaavat</td>\n",
       "      <td>2018</td>\n",
       "    </tr>\n",
       "    <tr>\n",
       "      <th>11</th>\n",
       "      <td>Tiger Zinda Hai</td>\n",
       "      <td>2017</td>\n",
       "    </tr>\n",
       "    <tr>\n",
       "      <th>12</th>\n",
       "      <td>Dhoom 3</td>\n",
       "      <td>2013</td>\n",
       "    </tr>\n",
       "    <tr>\n",
       "      <th>13</th>\n",
       "      <td>War</td>\n",
       "      <td>2019</td>\n",
       "    </tr>\n",
       "    <tr>\n",
       "      <th>14</th>\n",
       "      <td>3 Idiots</td>\n",
       "      <td>2009</td>\n",
       "    </tr>\n",
       "    <tr>\n",
       "      <th>15</th>\n",
       "      <td>Andhadhun</td>\n",
       "      <td>2018</td>\n",
       "    </tr>\n",
       "    <tr>\n",
       "      <th>16</th>\n",
       "      <td>Saaho</td>\n",
       "      <td>2019</td>\n",
       "    </tr>\n",
       "    <tr>\n",
       "      <th>17</th>\n",
       "      <td>Prem Ratan Dhan Payo</td>\n",
       "      <td>2015</td>\n",
       "    </tr>\n",
       "    <tr>\n",
       "      <th>18</th>\n",
       "      <td>Chennai Express</td>\n",
       "      <td>2013</td>\n",
       "    </tr>\n",
       "    <tr>\n",
       "      <th>19</th>\n",
       "      <td>Kick</td>\n",
       "      <td>2014</td>\n",
       "    </tr>\n",
       "    <tr>\n",
       "      <th>20</th>\n",
       "      <td>Simmba</td>\n",
       "      <td>2018</td>\n",
       "    </tr>\n",
       "    <tr>\n",
       "      <th>21</th>\n",
       "      <td>Happy New Year</td>\n",
       "      <td>2014</td>\n",
       "    </tr>\n",
       "    <tr>\n",
       "      <th>22</th>\n",
       "      <td>Krrish 3</td>\n",
       "      <td>2013</td>\n",
       "    </tr>\n",
       "    <tr>\n",
       "      <th>23</th>\n",
       "      <td>Dilwale</td>\n",
       "      <td>2015</td>\n",
       "    </tr>\n",
       "    <tr>\n",
       "      <th>24</th>\n",
       "      <td>Kabir Singh</td>\n",
       "      <td>2019</td>\n",
       "    </tr>\n",
       "    <tr>\n",
       "      <th>25</th>\n",
       "      <td>Tanhaji</td>\n",
       "      <td>2020</td>\n",
       "    </tr>\n",
       "  </tbody>\n",
       "</table>\n",
       "</div>"
      ],
      "text/plain": [
       "                             Film  Year\n",
       "Rank                                   \n",
       "1                          Dangal  2016\n",
       "2     Baahubali 2: The Conclusion  2017\n",
       "3               Bajrangi Bhaijaan  2015\n",
       "4                Secret Superstar  2017\n",
       "5                              PK  2014\n",
       "6                             2.0  2018\n",
       "7        Baahubali: The Beginning  2015\n",
       "8                          Sultan  2016\n",
       "9                           Sanju  2018\n",
       "10                      Padmaavat  2018\n",
       "11                Tiger Zinda Hai  2017\n",
       "12                        Dhoom 3  2013\n",
       "13                            War  2019\n",
       "14                       3 Idiots  2009\n",
       "15                      Andhadhun  2018\n",
       "16                          Saaho  2019\n",
       "17           Prem Ratan Dhan Payo  2015\n",
       "18                Chennai Express  2013\n",
       "19                           Kick  2014\n",
       "20                         Simmba  2018\n",
       "21                 Happy New Year  2014\n",
       "22                       Krrish 3  2013\n",
       "23                        Dilwale  2015\n",
       "24                    Kabir Singh  2019\n",
       "25                        Tanhaji  2020"
      ]
     },
     "execution_count": 19,
     "metadata": {},
     "output_type": "execute_result"
    }
   ],
   "source": [
    "movies.loc[:, ['Film', 'Year']]"
   ]
  },
  {
   "cell_type": "code",
   "execution_count": 36,
   "metadata": {},
   "outputs": [
    {
     "data": {
      "text/html": [
       "<div>\n",
       "<style scoped>\n",
       "    .dataframe tbody tr th:only-of-type {\n",
       "        vertical-align: middle;\n",
       "    }\n",
       "\n",
       "    .dataframe tbody tr th {\n",
       "        vertical-align: top;\n",
       "    }\n",
       "\n",
       "    .dataframe thead th {\n",
       "        text-align: right;\n",
       "    }\n",
       "</style>\n",
       "<table border=\"1\" class=\"dataframe\">\n",
       "  <thead>\n",
       "    <tr style=\"text-align: right;\">\n",
       "      <th></th>\n",
       "      <th>Film</th>\n",
       "      <th>Producer</th>\n",
       "      <th>Year</th>\n",
       "    </tr>\n",
       "    <tr>\n",
       "      <th>Rank</th>\n",
       "      <th></th>\n",
       "      <th></th>\n",
       "      <th></th>\n",
       "    </tr>\n",
       "  </thead>\n",
       "  <tbody>\n",
       "    <tr>\n",
       "      <th>2</th>\n",
       "      <td>Baahubali 2: The Conclusion</td>\n",
       "      <td>Arka Media Works</td>\n",
       "      <td>2017</td>\n",
       "    </tr>\n",
       "    <tr>\n",
       "      <th>4</th>\n",
       "      <td>Secret Superstar</td>\n",
       "      <td>Aamir Khan Productions</td>\n",
       "      <td>2017</td>\n",
       "    </tr>\n",
       "    <tr>\n",
       "      <th>6</th>\n",
       "      <td>2.0</td>\n",
       "      <td>Lyca Productions</td>\n",
       "      <td>2018</td>\n",
       "    </tr>\n",
       "    <tr>\n",
       "      <th>9</th>\n",
       "      <td>Sanju</td>\n",
       "      <td>Rajkumar Hirani FilmsVinod Chopra Films</td>\n",
       "      <td>2018</td>\n",
       "    </tr>\n",
       "    <tr>\n",
       "      <th>10</th>\n",
       "      <td>Padmaavat</td>\n",
       "      <td>Bhansali Productions Viacom 18 Motion Pictures</td>\n",
       "      <td>2018</td>\n",
       "    </tr>\n",
       "    <tr>\n",
       "      <th>11</th>\n",
       "      <td>Tiger Zinda Hai</td>\n",
       "      <td>Yash Raj Films</td>\n",
       "      <td>2017</td>\n",
       "    </tr>\n",
       "    <tr>\n",
       "      <th>13</th>\n",
       "      <td>War</td>\n",
       "      <td>Yash Raj Films</td>\n",
       "      <td>2019</td>\n",
       "    </tr>\n",
       "    <tr>\n",
       "      <th>15</th>\n",
       "      <td>Andhadhun</td>\n",
       "      <td>Viacom 18 Motion Pictures Matchbox Pictures</td>\n",
       "      <td>2018</td>\n",
       "    </tr>\n",
       "    <tr>\n",
       "      <th>16</th>\n",
       "      <td>Saaho</td>\n",
       "      <td>UV Creations  T-Series</td>\n",
       "      <td>2019</td>\n",
       "    </tr>\n",
       "    <tr>\n",
       "      <th>20</th>\n",
       "      <td>Simmba</td>\n",
       "      <td>Reliance Entertainment  Dharma Productions</td>\n",
       "      <td>2018</td>\n",
       "    </tr>\n",
       "    <tr>\n",
       "      <th>24</th>\n",
       "      <td>Kabir Singh</td>\n",
       "      <td>Cine1 Studios  T-Series</td>\n",
       "      <td>2019</td>\n",
       "    </tr>\n",
       "    <tr>\n",
       "      <th>25</th>\n",
       "      <td>Tanhaji</td>\n",
       "      <td>Ajay Devgn FFilmsT-Series</td>\n",
       "      <td>2020</td>\n",
       "    </tr>\n",
       "  </tbody>\n",
       "</table>\n",
       "</div>"
      ],
      "text/plain": [
       "                             Film  \\\n",
       "Rank                                \n",
       "2     Baahubali 2: The Conclusion   \n",
       "4                Secret Superstar   \n",
       "6                             2.0   \n",
       "9                           Sanju   \n",
       "10                      Padmaavat   \n",
       "11                Tiger Zinda Hai   \n",
       "13                            War   \n",
       "15                      Andhadhun   \n",
       "16                          Saaho   \n",
       "20                         Simmba   \n",
       "24                    Kabir Singh   \n",
       "25                        Tanhaji   \n",
       "\n",
       "                                            Producer  Year  \n",
       "Rank                                                        \n",
       "2                                   Arka Media Works  2017  \n",
       "4                             Aamir Khan Productions  2017  \n",
       "6                                   Lyca Productions  2018  \n",
       "9            Rajkumar Hirani FilmsVinod Chopra Films  2018  \n",
       "10    Bhansali Productions Viacom 18 Motion Pictures  2018  \n",
       "11                                    Yash Raj Films  2017  \n",
       "13                                    Yash Raj Films  2019  \n",
       "15       Viacom 18 Motion Pictures Matchbox Pictures  2018  \n",
       "16                            UV Creations  T-Series  2019  \n",
       "20        Reliance Entertainment  Dharma Productions  2018  \n",
       "24                           Cine1 Studios  T-Series  2019  \n",
       "25                         Ajay Devgn FFilmsT-Series  2020  "
      ]
     },
     "execution_count": 36,
     "metadata": {},
     "output_type": "execute_result"
    }
   ],
   "source": [
    "movies.loc[movies['Year'] > 2016, ['Film', 'Producer', 'Year']]"
   ]
  },
  {
   "cell_type": "code",
   "execution_count": 33,
   "metadata": {},
   "outputs": [
    {
     "name": "stdout",
     "output_type": "stream",
     "text": [
      "[ True False False False False False False]\n"
     ]
    }
   ],
   "source": [
    "import numpy as np\n",
    "\n",
    "ar = np.array([10, 5, 3, 11, 12, 8, 6])\n",
    "print(ar == 10)"
   ]
  },
  {
   "cell_type": "code",
   "execution_count": 1,
   "metadata": {},
   "outputs": [],
   "source": [
    "import pandas as pd"
   ]
  },
  {
   "cell_type": "code",
   "execution_count": 40,
   "metadata": {},
   "outputs": [
    {
     "name": "stdout",
     "output_type": "stream",
     "text": [
      "   one  two\n",
      "0  1.0  2.0\n",
      "1  1.0  2.0\n",
      "2  0.0  0.0\n"
     ]
    }
   ],
   "source": [
    "df = pd.DataFrame([[1, 2], [1.0, 2.0], [0, 0]], columns=['one', 'two'])\n",
    "print(df)"
   ]
  },
  {
   "cell_type": "code",
   "execution_count": 6,
   "metadata": {},
   "outputs": [
    {
     "data": {
      "text/html": [
       "<div>\n",
       "<style scoped>\n",
       "    .dataframe tbody tr th:only-of-type {\n",
       "        vertical-align: middle;\n",
       "    }\n",
       "\n",
       "    .dataframe tbody tr th {\n",
       "        vertical-align: top;\n",
       "    }\n",
       "\n",
       "    .dataframe thead th {\n",
       "        text-align: right;\n",
       "    }\n",
       "</style>\n",
       "<table border=\"1\" class=\"dataframe\">\n",
       "  <thead>\n",
       "    <tr style=\"text-align: right;\">\n",
       "      <th></th>\n",
       "      <th>one</th>\n",
       "      <th>two</th>\n",
       "    </tr>\n",
       "  </thead>\n",
       "  <tbody>\n",
       "    <tr>\n",
       "      <th>0</th>\n",
       "      <td>1.0</td>\n",
       "      <td>2.0</td>\n",
       "    </tr>\n",
       "    <tr>\n",
       "      <th>1</th>\n",
       "      <td>1.0</td>\n",
       "      <td>2.0</td>\n",
       "    </tr>\n",
       "  </tbody>\n",
       "</table>\n",
       "</div>"
      ],
      "text/plain": [
       "   one  two\n",
       "0  1.0  2.0\n",
       "1  1.0  2.0"
      ]
     },
     "execution_count": 6,
     "metadata": {},
     "output_type": "execute_result"
    }
   ],
   "source": [
    "df[['one']]  # valid\n",
    "df[['one', 'two']]  # valid"
   ]
  },
  {
   "cell_type": "code",
   "execution_count": 16,
   "metadata": {},
   "outputs": [
    {
     "data": {
      "text/html": [
       "<div>\n",
       "<style scoped>\n",
       "    .dataframe tbody tr th:only-of-type {\n",
       "        vertical-align: middle;\n",
       "    }\n",
       "\n",
       "    .dataframe tbody tr th {\n",
       "        vertical-align: top;\n",
       "    }\n",
       "\n",
       "    .dataframe thead th {\n",
       "        text-align: right;\n",
       "    }\n",
       "</style>\n",
       "<table border=\"1\" class=\"dataframe\">\n",
       "  <thead>\n",
       "    <tr style=\"text-align: right;\">\n",
       "      <th></th>\n",
       "      <th>one</th>\n",
       "      <th>two</th>\n",
       "    </tr>\n",
       "  </thead>\n",
       "  <tbody>\n",
       "    <tr>\n",
       "      <th>0</th>\n",
       "      <td>1.0</td>\n",
       "      <td>2.0</td>\n",
       "    </tr>\n",
       "    <tr>\n",
       "      <th>1</th>\n",
       "      <td>1.0</td>\n",
       "      <td>2.0</td>\n",
       "    </tr>\n",
       "  </tbody>\n",
       "</table>\n",
       "</div>"
      ],
      "text/plain": [
       "   one  two\n",
       "0  1.0  2.0\n",
       "1  1.0  2.0"
      ]
     },
     "execution_count": 16,
     "metadata": {},
     "output_type": "execute_result"
    }
   ],
   "source": [
    "df.loc[0:10]  # no error if last match not found in continuety "
   ]
  },
  {
   "cell_type": "code",
   "execution_count": 13,
   "metadata": {},
   "outputs": [
    {
     "data": {
      "text/plain": [
       "one    1.0\n",
       "two    2.0\n",
       "Name: 0, dtype: float64"
      ]
     },
     "execution_count": 13,
     "metadata": {},
     "output_type": "execute_result"
    }
   ],
   "source": [
    "df.loc[0, 'one':'two']"
   ]
  },
  {
   "cell_type": "code",
   "execution_count": 49,
   "metadata": {},
   "outputs": [
    {
     "name": "stdout",
     "output_type": "stream",
     "text": [
      "one <class 'str'>\n",
      "two <class 'str'>\n"
     ]
    }
   ],
   "source": [
    "for i in df.items():\n",
    "    print(i[0], type(i[0]))"
   ]
  },
  {
   "cell_type": "code",
   "execution_count": 53,
   "metadata": {},
   "outputs": [
    {
     "name": "stdout",
     "output_type": "stream",
     "text": [
      "one    1.0\n",
      "two    2.0\n",
      "Name: 0, dtype: float64 <class 'pandas.core.series.Series'>\n",
      "one    1.0\n",
      "two    2.0\n",
      "Name: 1, dtype: float64 <class 'pandas.core.series.Series'>\n",
      "one    0.0\n",
      "two    0.0\n",
      "Name: 2, dtype: float64 <class 'pandas.core.series.Series'>\n"
     ]
    }
   ],
   "source": [
    "for i in df.iterrows():\n",
    "    print(i[1], type(i[1]))"
   ]
  },
  {
   "cell_type": "code",
   "execution_count": 14,
   "metadata": {},
   "outputs": [
    {
     "data": {
      "text/html": [
       "<div>\n",
       "<style scoped>\n",
       "    .dataframe tbody tr th:only-of-type {\n",
       "        vertical-align: middle;\n",
       "    }\n",
       "\n",
       "    .dataframe tbody tr th {\n",
       "        vertical-align: top;\n",
       "    }\n",
       "\n",
       "    .dataframe thead th {\n",
       "        text-align: right;\n",
       "    }\n",
       "</style>\n",
       "<table border=\"1\" class=\"dataframe\">\n",
       "  <thead>\n",
       "    <tr style=\"text-align: right;\">\n",
       "      <th></th>\n",
       "      <th>one</th>\n",
       "      <th>two</th>\n",
       "    </tr>\n",
       "  </thead>\n",
       "  <tbody>\n",
       "  </tbody>\n",
       "</table>\n",
       "</div>"
      ],
      "text/plain": [
       "Empty DataFrame\n",
       "Columns: [one, two]\n",
       "Index: []"
      ]
     },
     "execution_count": 14,
     "metadata": {},
     "output_type": "execute_result"
    }
   ],
   "source": [
    "df.loc['one':'three']"
   ]
  },
  {
   "cell_type": "code",
   "execution_count": 9,
   "metadata": {},
   "outputs": [
    {
     "data": {
      "text/html": [
       "<div>\n",
       "<style scoped>\n",
       "    .dataframe tbody tr th:only-of-type {\n",
       "        vertical-align: middle;\n",
       "    }\n",
       "\n",
       "    .dataframe tbody tr th {\n",
       "        vertical-align: top;\n",
       "    }\n",
       "\n",
       "    .dataframe thead th {\n",
       "        text-align: right;\n",
       "    }\n",
       "</style>\n",
       "<table border=\"1\" class=\"dataframe\">\n",
       "  <thead>\n",
       "    <tr style=\"text-align: right;\">\n",
       "      <th></th>\n",
       "      <th>one</th>\n",
       "      <th>two</th>\n",
       "    </tr>\n",
       "  </thead>\n",
       "  <tbody>\n",
       "    <tr>\n",
       "      <th>0</th>\n",
       "      <td>1.0</td>\n",
       "      <td>2.0</td>\n",
       "    </tr>\n",
       "    <tr>\n",
       "      <th>1</th>\n",
       "      <td>1.0</td>\n",
       "      <td>2.0</td>\n",
       "    </tr>\n",
       "  </tbody>\n",
       "</table>\n",
       "</div>"
      ],
      "text/plain": [
       "   one  two\n",
       "0  1.0  2.0\n",
       "1  1.0  2.0"
      ]
     },
     "execution_count": 9,
     "metadata": {},
     "output_type": "execute_result"
    }
   ],
   "source": [
    "df.loc[0:1]"
   ]
  },
  {
   "cell_type": "code",
   "execution_count": 21,
   "metadata": {},
   "outputs": [
    {
     "data": {
      "text/html": [
       "<div>\n",
       "<style scoped>\n",
       "    .dataframe tbody tr th:only-of-type {\n",
       "        vertical-align: middle;\n",
       "    }\n",
       "\n",
       "    .dataframe tbody tr th {\n",
       "        vertical-align: top;\n",
       "    }\n",
       "\n",
       "    .dataframe thead th {\n",
       "        text-align: right;\n",
       "    }\n",
       "</style>\n",
       "<table border=\"1\" class=\"dataframe\">\n",
       "  <thead>\n",
       "    <tr style=\"text-align: right;\">\n",
       "      <th></th>\n",
       "      <th>one</th>\n",
       "      <th>two</th>\n",
       "    </tr>\n",
       "  </thead>\n",
       "  <tbody>\n",
       "    <tr>\n",
       "      <th>0</th>\n",
       "      <td>1.0</td>\n",
       "      <td>2.0</td>\n",
       "    </tr>\n",
       "    <tr>\n",
       "      <th>1</th>\n",
       "      <td>1.0</td>\n",
       "      <td>2.0</td>\n",
       "    </tr>\n",
       "  </tbody>\n",
       "</table>\n",
       "</div>"
      ],
      "text/plain": [
       "   one  two\n",
       "0  1.0  2.0\n",
       "1  1.0  2.0"
      ]
     },
     "execution_count": 21,
     "metadata": {},
     "output_type": "execute_result"
    }
   ],
   "source": [
    "df.loc[0:1]"
   ]
  },
  {
   "cell_type": "code",
   "execution_count": 22,
   "metadata": {},
   "outputs": [
    {
     "data": {
      "text/plain": [
       "RangeIndex(start=0, stop=2, step=1)"
      ]
     },
     "execution_count": 22,
     "metadata": {},
     "output_type": "execute_result"
    }
   ],
   "source": [
    "df.index"
   ]
  },
  {
   "cell_type": "code",
   "execution_count": 23,
   "metadata": {},
   "outputs": [
    {
     "name": "stdout",
     "output_type": "stream",
     "text": [
      "   one  two\n",
      "3  1.0  2.0\n",
      "2  1.0  2.0\n"
     ]
    }
   ],
   "source": [
    "df = pd.DataFrame([[1, 2], [1.0, 2.0]], columns=['one', 'two'], index=[3, 2])\n",
    "print(df)"
   ]
  },
  {
   "cell_type": "code",
   "execution_count": 26,
   "metadata": {},
   "outputs": [
    {
     "data": {
      "text/plain": [
       "Index([3, 2], dtype='int64')"
      ]
     },
     "execution_count": 26,
     "metadata": {},
     "output_type": "execute_result"
    }
   ],
   "source": [
    "df.index"
   ]
  },
  {
   "cell_type": "code",
   "execution_count": 55,
   "metadata": {},
   "outputs": [
    {
     "name": "stdout",
     "output_type": "stream",
     "text": [
      "              Name            Team  Number Position   Age Height  Weight  \\\n",
      "0    Avery Bradley  Boston Celtics     0.0       PG  25.0    6-2   180.0   \n",
      "1      Jae Crowder  Boston Celtics    99.0       SF  25.0    6-6   235.0   \n",
      "2     John Holland  Boston Celtics    30.0       SG  27.0    6-5   205.0   \n",
      "3      R.J. Hunter  Boston Celtics    28.0       SG  22.0    6-5   185.0   \n",
      "4    Jonas Jerebko  Boston Celtics     8.0       PF  29.0   6-10   231.0   \n",
      "..             ...             ...     ...      ...   ...    ...     ...   \n",
      "453   Shelvin Mack       Utah Jazz     8.0       PG  26.0    6-3   203.0   \n",
      "454      Raul Neto       Utah Jazz    25.0       PG  24.0    6-1   179.0   \n",
      "455   Tibor Pleiss       Utah Jazz    21.0        C  26.0    7-3   256.0   \n",
      "456    Jeff Withey       Utah Jazz    24.0        C  26.0    7-0   231.0   \n",
      "457            NaN             NaN     NaN      NaN   NaN    NaN     NaN   \n",
      "\n",
      "               College     Salary  \n",
      "0                Texas  7730337.0  \n",
      "1            Marquette  6796117.0  \n",
      "2    Boston University        NaN  \n",
      "3        Georgia State  1148640.0  \n",
      "4                  NaN  5000000.0  \n",
      "..                 ...        ...  \n",
      "453             Butler  2433333.0  \n",
      "454                NaN   900000.0  \n",
      "455                NaN  2900000.0  \n",
      "456             Kansas   947276.0  \n",
      "457                NaN        NaN  \n",
      "\n",
      "[458 rows x 9 columns]\n"
     ]
    }
   ],
   "source": [
    "path = r'/Users/amirkhan/Python Development/python academic/Batch2023-24/module2/pandas basics/'\n",
    "df = pd.read_csv(path + 'nba-2.csv')\n",
    "print(df)"
   ]
  },
  {
   "cell_type": "code",
   "execution_count": 56,
   "metadata": {},
   "outputs": [
    {
     "data": {
      "text/plain": [
       "2          John Holland\n",
       "3           R.J. Hunter\n",
       "12          Evan Turner\n",
       "13          James Young\n",
       "15     Bojan Bogdanovic\n",
       "             ...       \n",
       "433    Gerald Henderson\n",
       "437       C.J. McCollum\n",
       "438        Luis Montero\n",
       "444          Alec Burks\n",
       "449         Rodney Hood\n",
       "Name: Name, Length: 102, dtype: object"
      ]
     },
     "execution_count": 56,
     "metadata": {},
     "output_type": "execute_result"
    }
   ],
   "source": [
    "df.loc[df['Position']=='SG', 'Name']"
   ]
  },
  {
   "cell_type": "code",
   "execution_count": 37,
   "metadata": {},
   "outputs": [
    {
     "name": "stdout",
     "output_type": "stream",
     "text": [
      "Name\n",
      "Team\n",
      "Number\n",
      "Position\n",
      "Age\n",
      "Height\n",
      "Weight\n",
      "College\n",
      "Salary\n",
      "458\n"
     ]
    }
   ],
   "source": [
    "for i in df:\n",
    "    print(i)\n",
    "\n",
    "print(len(df))"
   ]
  },
  {
   "cell_type": "code",
   "execution_count": 62,
   "metadata": {},
   "outputs": [
    {
     "data": {
      "text/plain": [
       "0      25.0\n",
       "1      25.0\n",
       "2      27.0\n",
       "3      22.0\n",
       "6      21.0\n",
       "       ... \n",
       "451    26.0\n",
       "453    26.0\n",
       "454    24.0\n",
       "455    26.0\n",
       "456    26.0\n",
       "Name: Age, Length: 255, dtype: float64"
      ]
     },
     "execution_count": 62,
     "metadata": {},
     "output_type": "execute_result"
    }
   ],
   "source": [
    "df.loc[(df['Age'] > 20) & (df['Age'] < 28), 'Age']"
   ]
  },
  {
   "cell_type": "code",
   "execution_count": null,
   "metadata": {},
   "outputs": [],
   "source": []
  }
 ],
 "metadata": {
  "kernelspec": {
   "display_name": "base",
   "language": "python",
   "name": "python3"
  },
  "language_info": {
   "codemirror_mode": {
    "name": "ipython",
    "version": 3
   },
   "file_extension": ".py",
   "mimetype": "text/x-python",
   "name": "python",
   "nbconvert_exporter": "python",
   "pygments_lexer": "ipython3",
   "version": "3.11.5"
  }
 },
 "nbformat": 4,
 "nbformat_minor": 2
}
