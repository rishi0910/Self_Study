{
 "cells": [
  {
   "cell_type": "code",
   "execution_count": 48,
   "metadata": {},
   "outputs": [
    {
     "name": "stdout",
     "output_type": "stream",
     "text": [
      "[[2 4] [6 1] [6 2]]\n"
     ]
    }
   ],
   "source": [
    "# matrix \n",
    "class array:\n",
    "    def __init__(self, lst):\n",
    "        self.lst = lst\n",
    "        \n",
    "    def __str__(self):\n",
    "        st = str(self.lst).replace(',', '')\n",
    "        return st\n",
    "    def __add__(self, other):\n",
    "        adder = []\n",
    "        if len(self.lst) == len(other.lst):\n",
    "            for i in range(len(self.lst)):\n",
    "                adder.append(self.lst[i]+other.lst[i])\n",
    "            return array(adder)\n",
    "        else:\n",
    "            return \"Length is not same\"\n",
    "    def reshape(self, m, n):\n",
    "        M = []\n",
    "        tmp = []\n",
    "        for i in self.lst:\n",
    "            tmp.append(i)\n",
    "            if len(tmp) == n:\n",
    "                M.append(tmp)\n",
    "                tmp = []\n",
    "        return array(M)\n",
    "\n",
    "arr1 = array([2, 4, 6, 1, 6, 2])\n",
    "arr2 = array([4, 7, 9, 0, 2, 0])\n",
    "out = arr1.reshape(3, 2)\n",
    "print(out)\n",
    "\n"
   ]
  },
  {
   "cell_type": "code",
   "execution_count": 11,
   "metadata": {},
   "outputs": [],
   "source": [
    "import numpy as np\n",
    "import time \n",
    "data = range(100000)\n",
    "arr1 = np.array(data)\n",
    "lst1 = list(data)"
   ]
  },
  {
   "cell_type": "code",
   "execution_count": 42,
   "metadata": {},
   "outputs": [
    {
     "ename": "ValueError",
     "evalue": "operands could not be broadcast together with shapes (3,) (2,) ",
     "output_type": "error",
     "traceback": [
      "\u001b[0;31m---------------------------------------------------------------------------\u001b[0m",
      "\u001b[0;31mValueError\u001b[0m                                Traceback (most recent call last)",
      "Cell \u001b[0;32mIn[42], line 3\u001b[0m\n\u001b[1;32m      1\u001b[0m arr1 \u001b[38;5;241m=\u001b[39m np\u001b[38;5;241m.\u001b[39marray([\u001b[38;5;241m10\u001b[39m, \u001b[38;5;241m4\u001b[39m, \u001b[38;5;241m6\u001b[39m])\n\u001b[1;32m      2\u001b[0m arr2 \u001b[38;5;241m=\u001b[39m np\u001b[38;5;241m.\u001b[39marray([\u001b[38;5;241m2\u001b[39m, \u001b[38;5;241m5\u001b[39m])\n\u001b[0;32m----> 3\u001b[0m \u001b[38;5;28mprint\u001b[39m(arr1\u001b[38;5;241m+\u001b[39marr2)\n",
      "\u001b[0;31mValueError\u001b[0m: operands could not be broadcast together with shapes (3,) (2,) "
     ]
    }
   ],
   "source": [
    "arr1 = np.array([10, 4, 6])\n",
    "arr2 = np.array([2, 5])\n",
    "print(arr1+arr2)"
   ]
  },
  {
   "cell_type": "code",
   "execution_count": 28,
   "metadata": {},
   "outputs": [
    {
     "name": "stdout",
     "output_type": "stream",
     "text": [
      "List time 0.003103017807006836\n",
      "array time 0.0006363391876220703\n"
     ]
    }
   ],
   "source": [
    "strt = time.time()\n",
    "list_data = [i*2 for i in lst1]\n",
    "stop = time.time()\n",
    "print('List time', stop-strt)\n",
    "\n",
    "strt = time.time()\n",
    "arr_data = arr1 * 2\n",
    "stop = time.time()\n",
    "print('array time', stop-strt)"
   ]
  },
  {
   "cell_type": "code",
   "execution_count": 8,
   "metadata": {},
   "outputs": [
    {
     "name": "stdout",
     "output_type": "stream",
     "text": [
      "[  1 300   5   2   8   0] <class 'numpy.ndarray'>\n",
      "False\n"
     ]
    }
   ],
   "source": [
    "import numpy as np\n",
    "\n",
    "\n",
    "ls = [1, 300, 5, 2, 8, 0]\n",
    "arr = np.array(ls)\n",
    "print(arr, type(arr))\n",
    "print(isinstance(ls, np.ndarray))"
   ]
  }
 ],
 "metadata": {
  "kernelspec": {
   "display_name": "base",
   "language": "python",
   "name": "python3"
  },
  "language_info": {
   "codemirror_mode": {
    "name": "ipython",
    "version": 3
   },
   "file_extension": ".py",
   "mimetype": "text/x-python",
   "name": "python",
   "nbconvert_exporter": "python",
   "pygments_lexer": "ipython3",
   "version": "3.11.5"
  }
 },
 "nbformat": 4,
 "nbformat_minor": 2
}
