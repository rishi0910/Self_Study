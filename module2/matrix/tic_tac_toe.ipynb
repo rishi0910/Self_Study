{
 "cells": [
  {
   "cell_type": "code",
   "execution_count": 1,
   "metadata": {},
   "outputs": [
    {
     "name": "stdout",
     "output_type": "stream",
     "text": [
      "\n",
      "|   |   |   |\n",
      "|   |   |   |\n",
      "|   |   |   |\n",
      "\n",
      "Your turn player 1\n",
      "\n",
      "|   | X |   |\n",
      "|   |   |   |\n",
      "|   |   |   |\n",
      "\n",
      "Your turn player 2\n",
      "\n",
      "|   | X | O |\n",
      "|   |   |   |\n",
      "|   |   |   |\n",
      "\n",
      "Your turn player 1\n",
      "\n",
      "That space is taken!\n",
      "\n",
      "|   | X | O |\n",
      "|   |   |   |\n",
      "|   |   |   |\n",
      "\n",
      "Your turn player 2\n",
      "\n",
      "| O | X | O |\n",
      "|   |   |   |\n",
      "|   |   |   |\n",
      "\n",
      "Your turn player 1\n"
     ]
    },
    {
     "ename": "ValueError",
     "evalue": "invalid literal for int() with base 10: ''",
     "output_type": "error",
     "traceback": [
      "\u001b[0;31m---------------------------------------------------------------------------\u001b[0m",
      "\u001b[0;31mValueError\u001b[0m                                Traceback (most recent call last)",
      "Cell \u001b[0;32mIn[1], line 47\u001b[0m\n\u001b[1;32m     45\u001b[0m \u001b[38;5;28;01mwhile\u001b[39;00m \u001b[38;5;28;01mTrue\u001b[39;00m:  \n\u001b[1;32m     46\u001b[0m     print_board()  \n\u001b[0;32m---> 47\u001b[0m     player_move(\u001b[38;5;124m'\u001b[39m\u001b[38;5;124mX\u001b[39m\u001b[38;5;124m'\u001b[39m)  \n\u001b[1;32m     48\u001b[0m     print_board()  \n\u001b[1;32m     49\u001b[0m     \u001b[38;5;28;01mif\u001b[39;00m is_victory(\u001b[38;5;124m'\u001b[39m\u001b[38;5;124mX\u001b[39m\u001b[38;5;124m'\u001b[39m):  \n",
      "Cell \u001b[0;32mIn[1], line 19\u001b[0m, in \u001b[0;36mplayer_move\u001b[0;34m(icon)\u001b[0m\n\u001b[1;32m     17\u001b[0m     number \u001b[38;5;241m=\u001b[39m \u001b[38;5;241m2\u001b[39m  \n\u001b[1;32m     18\u001b[0m \u001b[38;5;28mprint\u001b[39m(\u001b[38;5;124m'\u001b[39m\u001b[38;5;124mYour turn player \u001b[39m\u001b[38;5;132;01m{}\u001b[39;00m\u001b[38;5;124m'\u001b[39m\u001b[38;5;241m.\u001b[39mformat(number))  \n\u001b[0;32m---> 19\u001b[0m choice \u001b[38;5;241m=\u001b[39m \u001b[38;5;28mint\u001b[39m(\u001b[38;5;28minput\u001b[39m(\u001b[38;5;124m'\u001b[39m\u001b[38;5;124mEnter your move (1-9): \u001b[39m\u001b[38;5;124m'\u001b[39m)\u001b[38;5;241m.\u001b[39mstrip())  \n\u001b[1;32m     20\u001b[0m \u001b[38;5;28;01mif\u001b[39;00m board[choice \u001b[38;5;241m-\u001b[39m \u001b[38;5;241m1\u001b[39m] \u001b[38;5;241m==\u001b[39m \u001b[38;5;124m'\u001b[39m\u001b[38;5;124m \u001b[39m\u001b[38;5;124m'\u001b[39m:  \n\u001b[1;32m     21\u001b[0m     board[choice \u001b[38;5;241m-\u001b[39m \u001b[38;5;241m1\u001b[39m] \u001b[38;5;241m=\u001b[39m icon  \n",
      "\u001b[0;31mValueError\u001b[0m: invalid literal for int() with base 10: ''"
     ]
    }
   ],
   "source": [
    "board = [' ' for x in range(9)]  \n",
    "  \n",
    "def print_board():  \n",
    "    row1 = '| {} | {} | {} |'.format(board[0], board[1], board[2])  \n",
    "    row2 = '| {} | {} | {} |'.format(board[3], board[4], board[5])  \n",
    "    row3 = '| {} | {} | {} |'.format(board[6], board[7], board[8])  \n",
    "    print()  \n",
    "    print(row1)  \n",
    "    print(row2)  \n",
    "    print(row3)  \n",
    "    print()  \n",
    "  \n",
    "def player_move(icon):  \n",
    "    if icon == 'X':  \n",
    "        number = 1  \n",
    "    elif icon == 'O':  \n",
    "        number = 2  \n",
    "    print('Your turn player {}'.format(number))  \n",
    "    choice = int(input('Enter your move (1-9): ').strip())  \n",
    "    if board[choice - 1] == ' ':  \n",
    "        board[choice - 1] = icon  \n",
    "    else:  \n",
    "        print()  \n",
    "        print('That space is taken!')  \n",
    "  \n",
    "def is_victory(icon):  \n",
    "    if (board[0] == icon and board[1] == icon and board[2] == icon) or \\\n",
    "       (board[3] == icon and board[4] == icon and board[5] == icon) or \\\n",
    "       (board[6] == icon and board[7] == icon and board[8] == icon) or \\\n",
    "       (board[0] == icon and board[3] == icon and board[6] == icon) or \\\n",
    "       (board[1] == icon and board[4] == icon and board[7] == icon) or \\\n",
    "       (board[2] == icon and board[5] == icon and board[8] == icon) or \\\n",
    "       (board[0] == icon and board[4] == icon and board[8] == icon) or \\\n",
    "       (board[2] == icon and board[4] == icon and board[6] == icon):  \n",
    "        return True  \n",
    "    else:  \n",
    "        return False  \n",
    "  \n",
    "def is_draw():  \n",
    "    if ' ' not in board:  \n",
    "        return True  \n",
    "    else:  \n",
    "        return False  \n",
    "  \n",
    "while True:  \n",
    "    print_board()  \n",
    "    player_move('X')  \n",
    "    print_board()  \n",
    "    if is_victory('X'):  \n",
    "        print('X Wins! Congratulations!')  \n",
    "        break  \n",
    "    elif is_draw():  \n",
    "        print('The game is a draw!')  \n",
    "        break  \n",
    "    player_move('O')  \n",
    "    if is_victory('O'):  \n",
    "        print_board()  \n",
    "        print('O Wins! Congratulations!')  \n",
    "        break  \n",
    "    elif is_draw():  \n",
    "        print('The game is a draw!')  \n",
    "        break"
   ]
  },
  {
   "cell_type": "code",
   "execution_count": 5,
   "metadata": {},
   "outputs": [
    {
     "name": "stdout",
     "output_type": "stream",
     "text": [
      "[[0, 0, 100], [0, 0], [0, 0]]\n"
     ]
    }
   ],
   "source": [
    "ls = eval(str([[0] * 2] * 3))\n",
    "ls[0].append(100)\n",
    "print(repr(ls))"
   ]
  },
  {
   "cell_type": "code",
   "execution_count": 10,
   "metadata": {},
   "outputs": [
    {
     "data": {
      "text/plain": [
       "5"
      ]
     },
     "execution_count": 10,
     "metadata": {},
     "output_type": "execute_result"
    }
   ],
   "source": [
    "# nested to flatten of any order \n",
    "\n",
    "'''\n",
    "nested list\n",
    "[2, [4, 6, [0]], [[[[3]]]], 10, [], [], 0]\n",
    "\n",
    "flatten list\n",
    "[2, 4, 6, 0, 3, 10, 0]\n",
    "'''"
   ]
  },
  {
   "cell_type": "code",
   "execution_count": 21,
   "metadata": {},
   "outputs": [
    {
     "name": "stdout",
     "output_type": "stream",
     "text": [
      "[2, 4, 6, 0, 3, 10, 0]\n"
     ]
    }
   ],
   "source": [
    "class flatten1:\n",
    "    def __init__(self, lst):\n",
    "        self.lst = lst\n",
    "\n",
    "    def flatten(self):\n",
    "        data = [i for i in self.lst if i or i == 0]\n",
    "      \n",
    "        stri = str(data).replace('[', \"\").replace(']', \"\")\n",
    "        print(list(eval(stri)))\n",
    "\n",
    "\n",
    "arr1 = flatten1([2, [4, 6, [0]], [[[[3]]]], 10, [], [], 0])\n",
    "arr1.flatten()"
   ]
  }
 ],
 "metadata": {
  "kernelspec": {
   "display_name": "base",
   "language": "python",
   "name": "python3"
  },
  "language_info": {
   "codemirror_mode": {
    "name": "ipython",
    "version": 3
   },
   "file_extension": ".py",
   "mimetype": "text/x-python",
   "name": "python",
   "nbconvert_exporter": "python",
   "pygments_lexer": "ipython3",
   "version": "3.11.5"
  }
 },
 "nbformat": 4,
 "nbformat_minor": 2
}
