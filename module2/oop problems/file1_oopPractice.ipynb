{
 "cells": [
  {
   "cell_type": "code",
   "execution_count": 1,
   "metadata": {},
   "outputs": [
    {
     "name": "stdout",
     "output_type": "stream",
     "text": [
      "Area of Rectangle with given dimensions 23 and 2 is 46\n",
      "Perimeter of Rectangle with given dimensions 23 and 2 is 50\n"
     ]
    }
   ],
   "source": [
    "# Question 1\n",
    "class shape:\n",
    "    def __init__(self, side1, side2):\n",
    "        self.side1 = side1\n",
    "        self.side2 = side2\n",
    "    def area(self):\n",
    "        return self.side1 * self.side2\n",
    "    \n",
    "    def perimeter(self):\n",
    "        return 2 * (self.side1 + self.side2)\n",
    "class Rectangle(shape):\n",
    "    def __init__(self, length, breadth):\n",
    "        super().__init__(length, breadth)\n",
    "class Square(shape):\n",
    "    def __init__(self, side) -> None:\n",
    "        super().__init__(side, side) \n",
    "# driver code \n",
    "l = int(input('Enter the length '))\n",
    "b = int(input('Enter the Breadth '))\n",
    "rec = Rectangle(l, b)\n",
    "area = rec.area()\n",
    "peri = rec.perimeter()\n",
    "print(f'Area of Rectangle with given dimensions {l} and {b} is {area}')\n",
    "print(f'Perimeter of Rectangle with given dimensions {l} and {b} is {peri}')"
   ]
  },
  {
   "cell_type": "code",
   "execution_count": 3,
   "metadata": {},
   "outputs": [
    {
     "name": "stdout",
     "output_type": "stream",
     "text": [
      "Name: NA\n",
      "Age:NA\n",
      "Grade:NA\n"
     ]
    }
   ],
   "source": [
    "# Question 2\n",
    "class Student:\n",
    "    def __init__(self):\n",
    "        self.name = 'NA'\n",
    "        self.age = 'NA'\n",
    "        self.grade = 'NA'\n",
    "    def setDetails(self, name, age, grade):\n",
    "        self.name = name\n",
    "        self.age = age\n",
    "        self.grade = grade\n",
    "    def getDetails(self):\n",
    "        return f'Name: {self.name}\\nAge:{self.age}\\nGrade:{self.grade}'\n",
    "# main code \n",
    "student1 = Student()\n",
    "# student1.setDetails('ravi', 23, 'A+')\n",
    "student_details = student1.getDetails()\n",
    "print(student_details)\n"
   ]
  },
  {
   "cell_type": "code",
   "execution_count": 4,
   "metadata": {},
   "outputs": [
    {
     "name": "stdout",
     "output_type": "stream",
     "text": [
      "Calculated Grade A\n",
      "Name: NA\n",
      "Age:NA\n",
      "Grade:NA\n"
     ]
    }
   ],
   "source": [
    "# Question 2\n",
    "class Student:\n",
    "    def __init__(self):\n",
    "        self.name = 'NA'\n",
    "        self.age = 'NA'\n",
    "        self.grade = 'NA'\n",
    "    def setDetails(self, name, age, grade):\n",
    "        self.name = name\n",
    "        self.age = age\n",
    "        self.grade = grade\n",
    "    def getDetails(self):\n",
    "        return f'Name: {self.name}\\nAge:{self.age}\\nGrade:{self.grade}'\n",
    "    def calculate_grade(self, marks_perc):\n",
    "        if marks_perc >90 and marks_perc<=100:\n",
    "         return \"O\"\n",
    "        elif marks_perc >80 and marks_perc<=90:\n",
    "            return \"A+\"\n",
    "        elif marks_perc>70 and marks_perc<=80:\n",
    "            return \"A\"\n",
    "        elif marks_perc >60 and marks_perc<=70:\n",
    "            return \"B+\" \n",
    "        elif marks_perc>50 and marks_perc<=60:\n",
    "            return \"B\"\n",
    "        elif marks_perc>40 and marks_perc <= 50:\n",
    "            return 'C'\n",
    "    \n",
    "# main code \n",
    "student1 = Student()\n",
    "grade = student1.calculate_grade(71.6)\n",
    "# student1.setDetails('ravi', 23, 'A+')\n",
    "student_details = student1.getDetails()\n",
    "print('Calculated Grade', grade)\n",
    "print(student_details)"
   ]
  },
  {
   "cell_type": "code",
   "execution_count": null,
   "metadata": {},
   "outputs": [],
   "source": []
  }
 ],
 "metadata": {
  "kernelspec": {
   "display_name": "Python 3",
   "language": "python",
   "name": "python3"
  },
  "language_info": {
   "codemirror_mode": {
    "name": "ipython",
    "version": 3
   },
   "file_extension": ".py",
   "mimetype": "text/x-python",
   "name": "python",
   "nbconvert_exporter": "python",
   "pygments_lexer": "ipython3",
   "version": "3.12.1"
  }
 },
 "nbformat": 4,
 "nbformat_minor": 2
}
