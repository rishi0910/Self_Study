{
 "cells": [
  {
   "cell_type": "code",
   "execution_count": 2,
   "metadata": {},
   "outputs": [
    {
     "name": "stdout",
     "output_type": "stream",
     "text": [
      "0\n"
     ]
    }
   ],
   "source": [
    "# Binary Bits 1\n",
    "a, b = input().split()   # reading 2 space separated values given in single line  \n",
    "a = int(a)\n",
    "b = int(b)\n",
    "k = int(input())  # read thersold \n",
    "\n",
    "# logical section \n",
    "re1 = a & b  # bitwise and \n",
    "re2 = a | b  # bitwise or \n",
    "re3 = a ^ b  # bitwise xor\n",
    "\n",
    "# filter avoid the value greater than thersold \n",
    "re1 *= re1 < k\n",
    "re2 *= re2 < k\n",
    "re3 *= re3 < k\n",
    "\n",
    "# display largest value amoung three re1, re2 and re3 \n",
    "re = max(re1, re2, re3)\n",
    "print(re)\n",
    "\n",
    "\n"
   ]
  },
  {
   "cell_type": "code",
   "execution_count": 5,
   "metadata": {},
   "outputs": [
    {
     "name": "stdout",
     "output_type": "stream",
     "text": [
      "7\n"
     ]
    }
   ],
   "source": [
    "# detest of threes\n",
    "pos = int(input())\n",
    "i = 1\n",
    "count = 0\n",
    "while True:\n",
    "    if i % 3 != 0 and i % 10 != 3:\n",
    "        count += 1\n",
    "        if count == pos:\n",
    "            print(i)\n",
    "            break\n",
    "    i += 1"
   ]
  },
  {
   "cell_type": "code",
   "execution_count": 8,
   "metadata": {},
   "outputs": [
    {
     "name": "stdout",
     "output_type": "stream",
     "text": [
      "0 4\n"
     ]
    }
   ],
   "source": [
    "# Positive Integer Pairs\n",
    "P = int(input())\n",
    "X = int(input())\n",
    "\n",
    "for i in range( P//2):\n",
    "    j = P - i\n",
    "    if i ^ j == X:\n",
    "        print(i, j)"
   ]
  },
  {
   "cell_type": "code",
   "execution_count": 28,
   "metadata": {},
   "outputs": [
    {
     "name": "stdout",
     "output_type": "stream",
     "text": [
      "   0\n",
      "   1\n",
      "  10\n",
      "  11\n",
      " 100\n",
      " 101\n",
      " 110\n",
      " 111\n",
      "1000\n",
      "1001\n",
      "1010\n"
     ]
    }
   ],
   "source": [
    "# Binary Burj Khalifa\n",
    "n = int(input())\n",
    "w = len(bin(n)) - 2\n",
    "for i in range(n+1):\n",
    "    d = bin(i)[2:]\n",
    "    print(f'{d:>{w}}')"
   ]
  },
  {
   "cell_type": "code",
   "execution_count": 29,
   "metadata": {},
   "outputs": [
    {
     "name": "stdout",
     "output_type": "stream",
     "text": [
      "salman Win\n"
     ]
    }
   ],
   "source": [
    "# Rock,scissors,Paper Game\n",
    "name1 = input()\n",
    "name2 = input()\n",
    "choice1 = input()\n",
    "choice2 = input()\n",
    "choices = ['Rock', 'Paper', 'Scissor']\n",
    "if choice1  == 'Rock' and choice2 == 'Scissor' or choice1  == 'Paper' and choice2 == 'Rock' or choice1  == 'Scissor' and choice2 == 'Paper':\n",
    "    print(name1, 'Win')\n",
    "else:\n",
    "    print(name2, 'Win')"
   ]
  }
 ],
 "metadata": {
  "kernelspec": {
   "display_name": "Python 3",
   "language": "python",
   "name": "python3"
  },
  "language_info": {
   "codemirror_mode": {
    "name": "ipython",
    "version": 3
   },
   "file_extension": ".py",
   "mimetype": "text/x-python",
   "name": "python",
   "nbconvert_exporter": "python",
   "pygments_lexer": "ipython3",
   "version": "3.10.7"
  },
  "orig_nbformat": 4
 },
 "nbformat": 4,
 "nbformat_minor": 2
}
