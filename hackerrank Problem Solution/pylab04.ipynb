{
 "cells": [
  {
   "cell_type": "code",
   "execution_count": 2,
   "metadata": {},
   "outputs": [
    {
     "name": "stdout",
     "output_type": "stream",
     "text": [
      "1 0 1 0 1 0\n"
     ]
    }
   ],
   "source": [
    "# Even Odd Array\n",
    "n = int(input(\"Enter the number of elements in the array: \"))\n",
    "arr = list(map(int, input().split()))\n",
    "\n",
    "even_odd_list = [i%2 for i in arr]\n",
    "print(*even_odd_list)\n"
   ]
  },
  {
   "cell_type": "code",
   "execution_count": 4,
   "metadata": {},
   "outputs": [
    {
     "name": "stdout",
     "output_type": "stream",
     "text": [
      "['Hello world', 'online Data', 'Gla University']\n",
      "[False, False, True]\n"
     ]
    }
   ],
   "source": [
    "# List String Title\n",
    "lst = eval(input('Enter the list '))\n",
    "print(lst)\n",
    "lst = [i.istitle() for i in lst]\n",
    "print(lst)"
   ]
  },
  {
   "cell_type": "code",
   "execution_count": 10,
   "metadata": {},
   "outputs": [
    {
     "name": "stdout",
     "output_type": "stream",
     "text": [
      "['ravi', 'shalini', 'kamal', 'joya', 'ravi', 'lalit', 'ravi', 'shalini', 'karati', 'shalini']\n",
      "[('shalini', 3), ('lalit', 1), ('kamal', 1), ('karati', 1), ('ravi', 3), ('joya', 1)]\n",
      "[('ravi', 3), ('shalini', 3), ('joya', 1), ('kamal', 1), ('karati', 1), ('lalit', 1)]\n",
      "ravi\n"
     ]
    }
   ],
   "source": [
    "# badminton tournaments series\n",
    "# ravi,kamal,joya,lalit,joya,shalini,karati,joya,kamal\n",
    "# joya\n",
    "lst = input().split(',')\n",
    "print(lst)\n",
    "\n",
    "counter_lst = [(i, lst.count(i)) for i in set(lst)]\n",
    "print(counter_lst)\n",
    "\n",
    "counter_lst.sort()\n",
    "counter_lst.sort(key=lambda x: x[1], reverse=True)\n",
    "print(counter_lst)\n",
    "\n",
    "print(counter_lst[0][0])"
   ]
  },
  {
   "cell_type": "code",
   "execution_count": 11,
   "metadata": {},
   "outputs": [
    {
     "name": "stdout",
     "output_type": "stream",
     "text": [
      "1\n"
     ]
    }
   ],
   "source": [
    "# Max is Better\n",
    "t = int(input())\n",
    "d = 0\n",
    "for _ in range(t):\n",
    "    n = int(input())\n",
    "    lst = list(map(int, input().split()))\n",
    "    for i in range(n-1):\n",
    "        t2 = abs(lst[i] - lst[i+1])\n",
    "        d = max(t2, d)\n",
    "    print(d)"
   ]
  },
  {
   "cell_type": "code",
   "execution_count": null,
   "metadata": {},
   "outputs": [],
   "source": [
    "# prime sorted\n",
    "# \"200022494\"\n",
    "\n",
    "def prime(num):\n",
    "    num = int(num)\n",
    "    if num <= 1:\n",
    "        return '9'\n",
    "    for i in range(2, num):\n",
    "        if num % i == 0:\n",
    "            return '9'\n",
    "    else:\n",
    "        return str(num)\n",
    "    \n",
    "st = input()[1:-1]\n",
    "re = sorted(st, key=prime)\n",
    "re = ''.join(re)\n",
    "print(f'\"{re}\"')"
   ]
  },
  {
   "cell_type": "code",
   "execution_count": 14,
   "metadata": {},
   "outputs": [
    {
     "name": "stdout",
     "output_type": "stream",
     "text": [
      "[('blue', 'lube'), ('teal', 'late')]\n",
      "2\n"
     ]
    }
   ],
   "source": [
    "# list of anagram\n",
    "lst1 = ['blue', 'silver', 'tan', 'ruby', 'teal']\n",
    "lst2 = ['bore', 'lube', 'vets', 'late', 'taco']\n",
    "\n",
    "def anagram(s1, s2):\n",
    "    return sorted(s1) == sorted(s2)\n",
    "\n",
    "lst = [(i, j) for i in lst1 for j in lst2 if anagram(i, j)]\n",
    "print(lst)\n",
    "print(len(lst))"
   ]
  }
 ],
 "metadata": {
  "kernelspec": {
   "display_name": "Python 3",
   "language": "python",
   "name": "python3"
  },
  "language_info": {
   "codemirror_mode": {
    "name": "ipython",
    "version": 3
   },
   "file_extension": ".py",
   "mimetype": "text/x-python",
   "name": "python",
   "nbconvert_exporter": "python",
   "pygments_lexer": "ipython3",
   "version": "3.10.7"
  },
  "orig_nbformat": 4
 },
 "nbformat": 4,
 "nbformat_minor": 2
}
