{
 "cells": [
  {
   "cell_type": "code",
   "execution_count": 2,
   "metadata": {},
   "outputs": [
    {
     "name": "stdout",
     "output_type": "stream",
     "text": [
      "p y t h o n h e l l o p y t h o n h e l l o\n"
     ]
    }
   ],
   "source": [
    "# Gully Boy Boht Hard Question\n",
    "st = input()\n",
    "node = int(input())\n",
    "rp = int(input())\n",
    "\n",
    "re = st[node:] + st[:node]  # complete string with circular shift\n",
    "re = re.replace(' ', '')  # remove spaces\n",
    "re = re * rp  # repeat string\n",
    "\n",
    "print(*re)"
   ]
  },
  {
   "cell_type": "code",
   "execution_count": 4,
   "metadata": {},
   "outputs": [
    {
     "name": "stdout",
     "output_type": "stream",
     "text": [
      "ehpl\n"
     ]
    }
   ],
   "source": [
    "# Adjacent characters\n",
    "st = input()\n",
    "s = ''\n",
    "if len(st) % 2 == 0:\n",
    "    for i in range(0, len(st), 2):\n",
    "        s += st[i + 1] + st[i]\n",
    "    print(s)\n",
    "else:\n",
    "  print('Odd length string')\n"
   ]
  },
  {
   "cell_type": "code",
   "execution_count": 6,
   "metadata": {},
   "outputs": [
    {
     "name": "stdout",
     "output_type": "stream",
     "text": [
      "Invalid\n"
     ]
    }
   ],
   "source": [
    "# Invalid Parentheses\n",
    "st = input()\n",
    "count = 0\n",
    "for i in range(len(st)):\n",
    "    if st[i] == '(':\n",
    "        count += 1\n",
    "    elif st[i] == ')':\n",
    "        count -= 1\n",
    "    if count < 0:\n",
    "        print('Invalid')\n",
    "        break\n",
    "if count == 0:\n",
    "    print('Valid')"
   ]
  },
  {
   "cell_type": "code",
   "execution_count": 9,
   "metadata": {},
   "outputs": [
    {
     "name": "stdout",
     "output_type": "stream",
     "text": [
      "0000\n",
      "0001\n",
      "0010\n",
      "0011\n",
      "0100\n",
      "0101\n",
      "0110\n",
      "0111\n",
      "1000\n",
      "1001\n",
      "1010\n",
      "1011\n",
      "1100\n",
      "1101\n",
      "1110\n",
      "1111\n",
      "8\n"
     ]
    }
   ],
   "source": [
    "# Binary string with consecutive 1’s\n",
    "st = int(input())\n",
    "count = 0\n",
    "for i in range(2**st):\n",
    "    s = bin(i)[2:]\n",
    "    print(s.zfill(st))\n",
    "    if '11' in s:\n",
    "        count += 1\n",
    "print(count)\n"
   ]
  },
  {
   "cell_type": "code",
   "execution_count": 14,
   "metadata": {},
   "outputs": [
    {
     "name": "stdout",
     "output_type": "stream",
     "text": [
      "         A\n",
      "        A A\n",
      "       A A A\n",
      "      A A A A\n",
      "     A A A A A\n",
      "    A A A A A A\n",
      "   A A A A A A A\n",
      "  A A A A A A A A\n",
      " A A A A A A A A A\n",
      "A A A A A A A A A A\n"
     ]
    }
   ],
   "source": [
    "# pattern char 'A'\n",
    "rows = int(input())\n",
    "for i in range(1, rows + 1):\n",
    "    for j in range(rows-i):\n",
    "        print(' ', end='')\n",
    "    for j in range(2 * i - 1):\n",
    "        if j % 2 == 0:\n",
    "            print('A', end='')\n",
    "        else:\n",
    "            print(' ', end='')    \n",
    "    print()"
   ]
  },
  {
   "cell_type": "code",
   "execution_count": 16,
   "metadata": {},
   "outputs": [
    {
     "name": "stdout",
     "output_type": "stream",
     "text": [
      "         A\n",
      "        A A\n",
      "       A   A\n",
      "      AAAAAAA\n",
      "     A       A\n",
      "    A         A\n",
      "   A           A\n",
      "  A             A\n",
      " A               A\n",
      "A                 A\n"
     ]
    }
   ],
   "source": [
    "# # pattern char 'A'  # hackerrank\n",
    "rows = int(input())\n",
    "pos = int(input())\n",
    "for i in range(1, rows + 1):\n",
    "    for j in range(rows-i):\n",
    "        print(' ', end='')\n",
    "    for j in range(2 * i - 1):\n",
    "        if j == 0 or j == 2 * i - 2 or i == pos:\n",
    "            print('A', end='')\n",
    "        else:\n",
    "            print(' ', end='')    \n",
    "    print()"
   ]
  }
 ],
 "metadata": {
  "kernelspec": {
   "display_name": "Python 3",
   "language": "python",
   "name": "python3"
  },
  "language_info": {
   "codemirror_mode": {
    "name": "ipython",
    "version": 3
   },
   "file_extension": ".py",
   "mimetype": "text/x-python",
   "name": "python",
   "nbconvert_exporter": "python",
   "pygments_lexer": "ipython3",
   "version": "3.10.7"
  },
  "orig_nbformat": 4
 },
 "nbformat": 4,
 "nbformat_minor": 2
}
