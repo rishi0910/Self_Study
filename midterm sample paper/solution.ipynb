{
 "cells": [
  {
   "cell_type": "code",
   "execution_count": 5,
   "metadata": {},
   "outputs": [
    {
     "name": "stdout",
     "output_type": "stream",
     "text": [
      "Sum of the numbers divisible by 2 and 3 upto n is 6\n"
     ]
    }
   ],
   "source": [
    "# sum of the numbers divisible by 2 and 3 upto n\n",
    "\n",
    "n = int(input(\"Enter the value of n: \"))\n",
    "sum = 0\n",
    "for i in range(1, n+1):\n",
    "    if i % 2 == 0 and i % 3 == 0:\n",
    "        sum += i\n",
    "print(\"Sum of the numbers divisible by 2 and 3 upto n is\", sum)"
   ]
  },
  {
   "cell_type": "code",
   "execution_count": 7,
   "metadata": {},
   "outputs": [
    {
     "name": "stdout",
     "output_type": "stream",
     "text": [
      "Number of vowels in the string is 5\n"
     ]
    }
   ],
   "source": [
    "# number of vowels in a string\n",
    "\n",
    "string = input(\"Enter a string: \")\n",
    "count = 0\n",
    "for i in string:\n",
    "    if i in \"aeiouAEIOU\":\n",
    "        count += 1\n",
    "print(\"Number of vowels in the string is\", count)"
   ]
  },
  {
   "cell_type": "code",
   "execution_count": 8,
   "metadata": {},
   "outputs": [
    {
     "name": "stdout",
     "output_type": "stream",
     "text": [
      "Odd numbers in the list are 1 9 25 49\n"
     ]
    }
   ],
   "source": [
    "# filter out even numbers from a list and display the odd numbers with their squares\n",
    "\n",
    "list1 = list(map(int, input(\"Enter the elements of the list: \").split()))\n",
    "list2 = []\n",
    "for i in list1:\n",
    "    if i % 2 != 0:\n",
    "        list2.append(i**2)\n",
    "if len(list2) == 0:\n",
    "    print(\"There are no odd numbers in the list\")\n",
    "else:\n",
    "    print(\"Odd numbers in the list are\", *list2)\n",
    "\n"
   ]
  },
  {
   "cell_type": "code",
   "execution_count": 10,
   "metadata": {},
   "outputs": [
    {
     "name": "stdout",
     "output_type": "stream",
     "text": [
      "[]\n"
     ]
    }
   ],
   "source": [
    "# Sample list of integers\n",
    "original_list = [1, 2, 3, 4, 5, 6]\n",
    "original_list = list(map(int, input(\"Enter the elements of the list: \").split()))\n",
    "\n",
    "# Square each element and filter out even squared numbers\n",
    "result_list = [x ** 2 for x in original_list if (x ** 2) % 2 != 0]\n",
    "\n",
    "# Print the resulting list in a single line\n",
    "print(result_list)\n"
   ]
  }
 ],
 "metadata": {
  "kernelspec": {
   "display_name": "Python 3",
   "language": "python",
   "name": "python3"
  },
  "language_info": {
   "codemirror_mode": {
    "name": "ipython",
    "version": 3
   },
   "file_extension": ".py",
   "mimetype": "text/x-python",
   "name": "python",
   "nbconvert_exporter": "python",
   "pygments_lexer": "ipython3",
   "version": "3.12.0"
  }
 },
 "nbformat": 4,
 "nbformat_minor": 2
}
